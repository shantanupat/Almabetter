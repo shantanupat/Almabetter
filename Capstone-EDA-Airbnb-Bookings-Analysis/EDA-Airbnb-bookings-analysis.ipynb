{
  "nbformat": 4,
  "nbformat_minor": 0,
  "metadata": {
    "colab": {
      "private_outputs": true,
      "provenance": [],
      "collapsed_sections": [
        "dauF4eBmngu3",
        "0wOQAZs5pc--",
        "448CDAPjqfQr",
        "KSlN3yHqYklG",
        "-JiQyfWJYklI",
        "EM7whBJCYoAo",
        "RoGjAbkUYoAp",
        "4Of9eVA-YrdM",
        "y-Ehk30pYrdP",
        "bamQiAODYuh1",
        "qYpmQ266Yuh3",
        "OH-pJp9IphqM",
        "Seke61FWphqN",
        "PIIx-8_IphqN",
        "b0JNsNcRphqO",
        "BZR9WyysphqO",
        "rFu4xreNphqO",
        "YJ55k-q6phqO",
        "lssrdh5qphqQ",
        "U2RJ9gkRphqQ",
        "JMzcOPDDphqR",
        "x-EpHcCOp1ci",
        "PVzmfK_Ep1ck",
        "n3dbpmDWp1ck",
        "M7G43BXep1ck",
        "Ag9LCva-p1cl",
        "zz2E7fMoaiNm",
        "XvlTKneoa284",
        "DLmP_UA6l6cv",
        "KE0AL0-znAjd",
        "91HQrrwAtj7Q",
        "NC_X3p0fY2L0",
        "22aHeOlLveiV",
        "JcMwzZxoAimU",
        "8G2x9gOozGDZ",
        "gCX9965dhzqZ"
      ]
    },
    "kernelspec": {
      "name": "python3",
      "display_name": "Python 3"
    },
    "language_info": {
      "name": "python"
    }
  },
  "cells": [
    {
      "cell_type": "markdown",
      "source": [
        "# **Project Name**  - Airbnb Bookings Analysis"
      ],
      "metadata": {
        "id": "vncDsAP0Gaoa"
      }
    },
    {
      "cell_type": "markdown",
      "source": [
        "##### **Project Type**    - **Exploratory Data Analysis (EDA)**\n",
        "##### **Contribution**    - **Individual**\n",
        "##### **Name -**          - **Shantanu Kumar Pati**\n"
      ],
      "metadata": {
        "id": "beRrZCGUAJYm"
      }
    },
    {
      "cell_type": "markdown",
      "source": [
        "# **Project Summary -**\n",
        "\n",
        "\n",
        "*   The purpose of the analysis: understanding the factors that influence Airbnb prices in New York City, or identifying patterns of all variables and Our analysis provides useful information for travelers and hosts in the city and also provides some best insights for Airbnb business.\n",
        "\n",
        "*   This project involved exploring and cleaning a dataset to prepare it for analysis. The data exploration process involved identifying and understanding the characteristics of the data, such as the data types, missing values, and distributions of values. The data cleaning process involved identifying and addressing any issues or inconsistencies in the data, such as errors, missing values, or duplicate records and remove outliers.\n",
        "\n",
        "*   Through this process, we were able to identify and fix any issues with the data, and ensure that it was ready for further analysis. This is an important step in any data analysis project, as it allows us to work with high-quality data and avoid any potential biases or errors that could affect the results. The clean and prepared data can now be used to answer specific research.\n",
        "\n",
        "*   Once the data has been cleaned and prepared, now begin exploring and summarizing it with describe the data and creating visualizations, and identifying patterns and trends in the data. in explore the data, may develop the relationships between different variables or the underlying causes of certain patterns or trends and other methods.\n",
        "\n",
        "*   using data visualization to explore and understand patterns in Airbnb data. We created various graphs and charts to visualize the data, and wrote observations and insights below each one to help us better understand the data and identify useful insights and patterns.\n",
        "\n",
        "*   Through this process, we were able to uncover trends and relationships in the data that would have been difficult to identify through raw data alone, for example factors affecting prices and availability. We found that minimum nights, number of reviews, and host listing count are important for determining prices, and that availability varies significantly across neighborhoods. Our analysis provides useful information for travelers and hosts in the city.\n",
        "\n",
        "*   The observations and insights we identified through this process will be useful for future analysis and decision-making related to Airbnb. and also Our analysis provides useful information for travelers and hosts in the city."
      ],
      "metadata": {
        "id": "FJNUwmbgGyua"
      }
    },
    {
      "cell_type": "markdown",
      "source": [
        "Write the summary here within 500-600 words."
      ],
      "metadata": {
        "id": "F6v_1wHtG2nS"
      }
    },
    {
      "cell_type": "markdown",
      "source": [
        "# **GitHub Link -**"
      ],
      "metadata": {
        "id": "w6K7xa23Elo4"
      }
    },
    {
      "cell_type": "markdown",
      "source": [
        "https://github.com/shantanupat/Almabetter/tree/main/Capstone-EDA-Airbnb-Bookings-Analysis"
      ],
      "metadata": {
        "id": "h1o69JH3Eqqn"
      }
    },
    {
      "cell_type": "markdown",
      "source": [
        "# **Problem Statement**\n"
      ],
      "metadata": {
        "id": "yQaldy8SH6Dl"
      }
    },
    {
      "cell_type": "markdown",
      "source": [
        "**Problem Statement**\n",
        "1.   What are the most popular neighborhoods for Airbnb rentals in New York City?\n",
        "2.   How do prices and availability vary by neighborhood?\n",
        "\n",
        "3.   How has the Airbnb market in New York City changed over time? Have there been any significant trends in terms of the number of listings, prices, or occupancy rates?\n",
        "4.   Are there any patterns or trends in terms of the types of properties that are being rented out on Airbnb in New York City? Are certain types of properties more popular or more expensive than others?\n",
        "\n",
        "5.   Are there any factors that seem to be correlated with the prices of Airbnb rentals in New York City?\n",
        "\n",
        "6.   Whihc are the best area in New York City for a host to buy property at a good price rate and in an area with high traffic ?\n",
        "\n",
        "7.   How do the lengths of stay for Airbnb rentals in New York City vary by neighborhood? Do certain neighborhoods tend to attract longer or shorter stays?\n",
        "\n",
        "8.   How do the ratings of Airbnb rentals in New York City compare to their prices? Are higher-priced rentals more likely to have higher ratings?\n",
        "\n",
        "9.   Find the total numbers of Reviews and Maximum Reviews by Each Neighborhood Group.\n",
        "\n",
        "10.   Find Most reviewed room type in Neighborhood groups per month.\n",
        "\n",
        "11.   Find Best location listing/property location for travelers.\n",
        "\n",
        "12.   Find also best location listing/property location for Hosts.\n",
        "\n",
        "13.   Find Price variations in NYC Neighborhood groups.\n",
        "\n",
        "there is a lot of problem statements and we have to finds information and insights through different different problem statements so now lets start..."
      ],
      "metadata": {
        "id": "DpeJGUA3kjGy"
      }
    },
    {
      "cell_type": "markdown",
      "source": [
        "#### **Define Your Business Objective?**"
      ],
      "metadata": {
        "id": "PH-0ReGfmX4f"
      }
    },
    {
      "cell_type": "markdown",
      "source": [
        "Answer Here."
      ],
      "metadata": {
        "id": "PhDvGCAqmjP1"
      }
    },
    {
      "cell_type": "markdown",
      "source": [
        "# **General Guidelines** : -  "
      ],
      "metadata": {
        "id": "mDgbUHAGgjLW"
      }
    },
    {
      "cell_type": "markdown",
      "source": [
        "1.   Well-structured, formatted, and commented code is required.\n",
        "2.   Exception Handling, Production Grade Code & Deployment Ready Code will be a plus. Those students will be awarded some additional credits.\n",
        "     \n",
        "     The additional credits will have advantages over other students during Star Student selection.\n",
        "       \n",
        "             [ Note: - Deployment Ready Code is defined as, the whole .ipynb notebook should be executable in one go\n",
        "                       without a single error logged. ]\n",
        "\n",
        "3.   Each and every logic should have proper comments.\n",
        "4. You may add as many number of charts you want. Make Sure for each and every chart the following format should be answered.\n",
        "        \n",
        "\n",
        "```\n",
        "# Chart visualization code\n",
        "```\n",
        "            \n",
        "\n",
        "*   Why did you pick the specific chart?\n",
        "*   What is/are the insight(s) found from the chart?\n",
        "* Will the gained insights help creating a positive business impact?\n",
        "Are there any insights that lead to negative growth? Justify with specific reason.\n",
        "\n",
        "5. You have to create at least 20 logical & meaningful charts having important insights.\n",
        "\n",
        "\n",
        "[ Hints : - Do the Vizualization in  a structured way while following \"UBM\" Rule.\n",
        "\n",
        "U - Univariate Analysis,\n",
        "\n",
        "B - Bivariate Analysis (Numerical - Categorical, Numerical - Numerical, Categorical - Categorical)\n",
        "\n",
        "M - Multivariate Analysis\n",
        " ]\n",
        "\n",
        "\n",
        "\n"
      ],
      "metadata": {
        "id": "ZrxVaUj-hHfC"
      }
    },
    {
      "cell_type": "markdown",
      "source": [
        "# ***Let's Begin !***"
      ],
      "metadata": {
        "id": "O_i_v8NEhb9l"
      }
    },
    {
      "cell_type": "markdown",
      "source": [
        "## ***1. Know Your Data***"
      ],
      "metadata": {
        "id": "HhfV-JJviCcP"
      }
    },
    {
      "cell_type": "markdown",
      "source": [
        "### Import Libraries"
      ],
      "metadata": {
        "id": "Y3lxredqlCYt"
      }
    },
    {
      "cell_type": "code",
      "source": [
        "# Import Libraries\n",
        "import numpy as np\n",
        "import pandas as pd\n",
        "import matplotlib.pyplot as plt     #for visualization\n",
        "%matplotlib inline\n",
        "import seaborn as sns               #for visualization\n",
        "# !pip install missingno            # Install Missingno library if not available\n",
        "import missingno as msno            # Missingno is a Python library that helps you to visualize missing values in a pandas dataframe.\n",
        "import warnings\n",
        "warnings.filterwarnings('ignore')"
      ],
      "metadata": {
        "id": "M8Vqi-pPk-HR"
      },
      "execution_count": null,
      "outputs": []
    },
    {
      "cell_type": "markdown",
      "source": [
        "### Dataset Loading"
      ],
      "metadata": {
        "id": "3RnN4peoiCZX"
      }
    },
    {
      "cell_type": "code",
      "source": [
        "# Load Dataset\n",
        "from google.colab import drive\n",
        "drive.mount('/content/drive')\n",
        "\n",
        "Airbnb_df = pd.read_csv('/content/drive/MyDrive/AlmaBetter/Module2/Capstone Projects/EDA-Airbnb-bookings-analysis.csv')\n"
      ],
      "metadata": {
        "id": "4CkvbW_SlZ_R"
      },
      "execution_count": null,
      "outputs": []
    },
    {
      "cell_type": "markdown",
      "source": [
        "### Dataset First View"
      ],
      "metadata": {
        "id": "x71ZqKXriCWQ"
      }
    },
    {
      "cell_type": "code",
      "source": [
        "# Dataset First Look\n",
        "Airbnb_df.head()"
      ],
      "metadata": {
        "id": "LWNFOSvLl09H"
      },
      "execution_count": null,
      "outputs": []
    },
    {
      "cell_type": "markdown",
      "source": [
        "### Dataset Rows & Columns count"
      ],
      "metadata": {
        "id": "7hBIi_osiCS2"
      }
    },
    {
      "cell_type": "code",
      "source": [
        "# Dataset Rows & Columns count\n",
        "# rows = Airbnb_df.count()[0]\n",
        "# rows = len(Airbnb_df.index)\n",
        "# rows = Airbnb_df.shape[0]\n",
        "# rows = len(Airbnb_df.axes[0])\n",
        "# columns = Airbnb_df[Airbnb_df.columns[0]].count()\n",
        "# columns = len(Airbnb_df.columns)\n",
        "# columns = Airbnb_df.shape[1]\n",
        "# columns = len(Airbnb_df.axes[1])\n",
        "#\n",
        "rows, columns = Airbnb_df.shape\n",
        "print('rows=',rows , ' and ', 'columns=',columns)"
      ],
      "metadata": {
        "id": "Kllu7SJgmLij"
      },
      "execution_count": null,
      "outputs": []
    },
    {
      "cell_type": "markdown",
      "source": [
        "### Dataset Information"
      ],
      "metadata": {
        "id": "JlHwYmJAmNHm"
      }
    },
    {
      "cell_type": "code",
      "source": [
        "# Dataset Info\n",
        "Airbnb_df.info()"
      ],
      "metadata": {
        "id": "e9hRXRi6meOf"
      },
      "execution_count": null,
      "outputs": []
    },
    {
      "cell_type": "markdown",
      "source": [
        "**So, name, neighbourhood_group, neighbourhood and room_type fall into categorical variable category.**\n",
        "\n",
        "**While host_id, latitude, longitude, price, minimum_nights, number_of_reviews, last_review, reviews_per_month, calculated_host_listings_count, availability_365 are numerical variables**"
      ],
      "metadata": {
        "id": "jOuxfAXT2x4z"
      }
    },
    {
      "cell_type": "markdown",
      "source": [
        "#### Duplicate Values"
      ],
      "metadata": {
        "id": "35m5QtbWiB9F"
      }
    },
    {
      "cell_type": "code",
      "source": [
        "# Dataset Duplicate Value Count\n",
        "# Airbnb_df.duplicated(keep=False).sum()\n",
        "\n",
        "# check duplicate rows in dataset\n",
        "Airbnb_df = Airbnb_df.drop_duplicates()\n",
        "Airbnb_df.count()\n",
        "\n",
        "# Airbnb_df.value_counts(dropna=False, sort=False).reset_index(name='Unique count').head()"
      ],
      "metadata": {
        "id": "1sLdpKYkmox0"
      },
      "execution_count": null,
      "outputs": []
    },
    {
      "cell_type": "markdown",
      "source": [
        "***so, there is no duplicate rows in Dataset***"
      ],
      "metadata": {
        "id": "gJ6krpJXvI6c"
      }
    },
    {
      "cell_type": "markdown",
      "source": [
        "#### Missing Values/Null Values"
      ],
      "metadata": {
        "id": "PoPl-ycgm1ru"
      }
    },
    {
      "cell_type": "code",
      "source": [
        "# Missing Values/Null Values Count\n",
        "# Airbnb_df.isna().sum()\n",
        "# Airbnb_df.isnull()\n",
        "\n",
        "# Count missing values in the dataset\n",
        "# print(Airbnb_df.isnull().values.sum())\n",
        "\n",
        "print(\" \\nCount total NaN at each column in a DataFrame : \\n\\n\",\n",
        "      Airbnb_df.isnull().sum())"
      ],
      "metadata": {
        "id": "GgHWkxvamxVg"
      },
      "execution_count": null,
      "outputs": []
    },
    {
      "cell_type": "markdown",
      "source": [
        "**host_name** and **listing_name** are not that much of null values"
      ],
      "metadata": {
        "id": "__JJhaMlvVwF"
      }
    },
    {
      "cell_type": "code",
      "source": [
        "# Visualizing the missing values\n",
        "# How we should deal with missing values is highly context-dependent:\n",
        "# 1. Maybe remove all the rows with missing values?\n",
        "# 2. Maybe drop an entire feature that has too many missing values?\n",
        "# 3. Maybe fill in the missing values in a clever way?\n",
        "# The first step should always be to understand what is missing and why it is missing.\n",
        "# To start this discovery, there is nothing better than to obtain a good visualization of the missing values!\n",
        "\n",
        "# Missingno library offers a very nice way to visualize the distribution of NaN values. Missingno is a Python library and compatible with Pandas.\n",
        "# It is difficult to visualize the missing values with pandas. The only thing you can really do is to use the pandas method .info() to get a summary of\n",
        "# the missing values:\n",
        "# Airbnb_df.info()\n",
        "# The method .info() is great for checking out the data types of the different features. However, it is not great for getting a visual picture\n",
        "# of what is missing for the different features. You will use missingno for this\n",
        "\n",
        "# Check is there any missing values across each column\n",
        "# Airbnb_df.isnull().any()\n",
        "\n",
        "\n",
        "# Gives a bar chart of the missing values\n",
        "msno.bar(Airbnb_df)\n",
        "\n",
        "# Here you can immediately see that the last_review and reviews_per_month missing values in 10052 each.\n",
        "# A closer look also reveals that the name, and host_name are very less missing values (name in 16 and host_name in 21)."
      ],
      "metadata": {
        "id": "3q5wnI3om9sJ"
      },
      "execution_count": null,
      "outputs": []
    },
    {
      "cell_type": "code",
      "source": [
        "# Matrix Plots\n",
        "# Another utility visualization that missingno provides is the matrix plot by using the matrix() function:\n",
        "# Gives positional information of the missing values\n",
        "msno.matrix(Airbnb_df)\n",
        "\n",
        "# From the matrix plot, you can see where the missing values are located."
      ],
      "metadata": {
        "id": "CZ1j-3qy5_Cm"
      },
      "execution_count": null,
      "outputs": []
    },
    {
      "cell_type": "code",
      "source": [
        "# Heatmaps\n",
        "# A final visualization you can use is the heatmap. It can sometimes reveal interesting connections between missing values of different features.\n",
        "# To get a heatmap, we can simply use the function heatmap() in the missingno library:\n",
        "\n",
        "# Gives a heatmap of how missing values are related\n",
        "msno.heatmap(Airbnb_df)"
      ],
      "metadata": {
        "id": "MzbDEQ716kUO"
      },
      "execution_count": null,
      "outputs": []
    },
    {
      "cell_type": "markdown",
      "source": [
        "☝️ There are only four features present in the heatmap. This is because there are only four features that are missing values. All the other features are discarded from the plot.\n",
        "\n"
      ],
      "metadata": {
        "id": "sjy6_9PB7MQV"
      }
    },
    {
      "cell_type": "markdown",
      "source": [
        "### What did you know about your dataset?"
      ],
      "metadata": {
        "id": "H0kj-8xxnORC"
      }
    },
    {
      "cell_type": "markdown",
      "source": [
        "##**About the Dataset – Airbnb Bookings**\n",
        "\n",
        "*   This Airbnb dataset contains nearly 49,000  observations in the neighbourhood of Brooklyn, Manhattan, Queens, Bronx, and Staten Island, with 16 columns of data.\n",
        "\n",
        "*   The Data includes both categorical and numeric values, providing a diverse range of information about the listings.\n",
        "\n",
        "*   This Dataset may be useful for analyzing trends and patterns in the Airbnb market in Brooklyn, Manhattan, Queens, Bronx, and Staten Island and also gain insights into the preferences and behavior of Airbnb users in the area.\n",
        "\n",
        "*   This dataset contains information about Airbnb bookings in New York City and is last updated till *08 July 2019*. By analyzing this data, you may be able to understand the trends and patterns of Airbnb use in the NYC."
      ],
      "metadata": {
        "id": "gfoNAAC-nUe_"
      }
    },
    {
      "cell_type": "markdown",
      "source": [
        "## ***2. Understanding Your Variables***"
      ],
      "metadata": {
        "id": "nA9Y7ga8ng1Z"
      }
    },
    {
      "cell_type": "code",
      "source": [
        "# Dataset Columns\n",
        "#checking what are the variables here:\n",
        "Airbnb_df.columns"
      ],
      "metadata": {
        "id": "j7xfkqrt5Ag5"
      },
      "execution_count": null,
      "outputs": []
    },
    {
      "cell_type": "code",
      "source": [
        "# Dataset Describe\n",
        "# describe the DataFrame\n",
        "Airbnb_df.describe()"
      ],
      "metadata": {
        "id": "DnOaZdaE5Q5t"
      },
      "execution_count": null,
      "outputs": []
    },
    {
      "cell_type": "markdown",
      "source": [
        "### Variables Description"
      ],
      "metadata": {
        "id": "PBTbrJXOngz2"
      }
    },
    {
      "cell_type": "markdown",
      "source": [
        "##Understaning the given Variables\n",
        "1.   **id** :- This is a unique identifier for each listing in the dataset. *Data type - int64*\n",
        "2.   **name** :- This is the name or title of the listing, as it appears on the Airbnb website. *Data type - Object*\n",
        "3.   **host_id** :-  This is a unique identifier for each host in the dataset. *Data type - int64*\n",
        "4.   **host_name** :- This is the name of the host as it appears on the Airbnb website. *Data type - Object*\n",
        "5.   **neighbourhood_group** :-  This is a grouping of neighborhoods in New York City, such as Manhattan or Brooklyn. *Data type - Object*\n",
        "6.   **neighbourhood** :- This is the specific neighborhood in which the listing is located. *Data type - Object*\n",
        "7.   **latitude** :- This is the geographic latitude of the listing. *Data type - float64*\n",
        "8.   **longitude** :- This is the geographic longitude of the listing. *Data type - float64*\n",
        "9.   **room_type** :- This is the type of room or property being offered, such as an entire home, private room, shared room. *Data type - Object*\n",
        "10.   **price** :- This is the nightly price for the listing, in US dollars. *Data type - int64*\n",
        "11.   **minimum_nights** :- This is the minimum number of nights that a guest must stay at the listing. *Data type - int64*\n",
        "12.   **number_of_reviews** :-  This is the total number of reviews that the listing has received. *Data type - int64*\n",
        "13.   **last_review** :- This is the date of the last review received and this is in YYYY-MM-DD format. *Data type - Object*\n",
        "14.   **reviews_per_month** :-  This is the average number of reviews that the listing receives per month. *Data type - float64*\n",
        "15.   **calculated_host_listings_count** :-  This is the total number of listings that the host has on Airbnb. *Data type - int64*\n",
        "16.   **availability_365**:- This is the number of days in the next 365 days that the listing is available for booking. *Data type - int64*"
      ],
      "metadata": {
        "id": "ISvwyuByW5ih"
      }
    },
    {
      "cell_type": "markdown",
      "source": [
        "### Check Unique Values for each variable."
      ],
      "metadata": {
        "id": "u3PMJOP6ngxN"
      }
    },
    {
      "cell_type": "code",
      "source": [
        "# Check Unique Values for each variable.\n",
        "# all the listing ids are different and each listings are different here.\n",
        "Airbnb_df['id'].nunique()"
      ],
      "metadata": {
        "id": "zms12Yq5n-jE"
      },
      "execution_count": null,
      "outputs": []
    },
    {
      "cell_type": "code",
      "source": [
        "# so there are 221 unique neighborhood in Dataset\n",
        "Airbnb_df['neighbourhood'].unique()"
      ],
      "metadata": {
        "id": "_ytdPmHWwIQU"
      },
      "execution_count": null,
      "outputs": []
    },
    {
      "cell_type": "code",
      "source": [
        "#and total 5 unique neighborhood_group in Dataset - Brooklyn, Manhattan, Queens, Bronx, and Staten Island\n",
        "Airbnb_df['neighbourhood_group'].nunique()"
      ],
      "metadata": {
        "id": "dk88u2smwKPT"
      },
      "execution_count": null,
      "outputs": []
    },
    {
      "cell_type": "code",
      "source": [
        "#so total 11452 different hosts in Airbnb-NYC\n",
        "Airbnb_df['host_name'].nunique()"
      ],
      "metadata": {
        "id": "tVLo0PAFwU9W"
      },
      "execution_count": null,
      "outputs": []
    },
    {
      "cell_type": "code",
      "source": [
        "# most of the listing/property are different in Dataset\n",
        "Airbnb_df['name'].nunique()"
      ],
      "metadata": {
        "id": "Iuz6ej0EwcJR"
      },
      "execution_count": null,
      "outputs": []
    },
    {
      "cell_type": "markdown",
      "source": [
        "**Note -** so i think few listings/property with same names has different hosts in different areas/neighbourhoods of a neighbourhood_group"
      ],
      "metadata": {
        "id": "lsvbaF_3wmmu"
      }
    },
    {
      "cell_type": "code",
      "source": [
        "Airbnb_df[Airbnb_df['host_name']=='David']['name'].nunique()\n",
        "\n",
        "# so here same host David operates different 402 listing/property"
      ],
      "metadata": {
        "id": "4h-AoF4UwpeF"
      },
      "execution_count": null,
      "outputs": []
    },
    {
      "cell_type": "code",
      "source": [
        "Airbnb_df[Airbnb_df['name']==Airbnb_df['host_name']].head()\n",
        "\n",
        "# there are few listings where the listing/property name and the host have same names"
      ],
      "metadata": {
        "id": "D-QVOmuNw1cS"
      },
      "execution_count": null,
      "outputs": []
    },
    {
      "cell_type": "code",
      "source": [
        "Airbnb_df.loc[(Airbnb_df['neighbourhood_group']=='Queens') & (Airbnb_df['host_name']=='Alex')].head(4)\n",
        "\n",
        "# Same host have hosted different listing/property in different or same neighbourhood in same neighbourhood groups\n",
        "# like Alex hosted different listings in most of different neighbourhood and there are same also in queens neighbourhood_group!\n"
      ],
      "metadata": {
        "id": "4DFKdFKVxXQT"
      },
      "execution_count": null,
      "outputs": []
    },
    {
      "cell_type": "markdown",
      "source": [
        "## 3. ***Data Wrangling***"
      ],
      "metadata": {
        "id": "dauF4eBmngu3"
      }
    },
    {
      "cell_type": "markdown",
      "source": [
        "### Data Wrangling Code"
      ],
      "metadata": {
        "id": "bKJF3rekwFvQ"
      }
    },
    {
      "cell_type": "markdown",
      "source": [
        "### What all manipulations have you done and insights you found?"
      ],
      "metadata": {
        "id": "MSa1f5Uengrz"
      }
    },
    {
      "cell_type": "markdown",
      "source": [
        "**1. Lets first rename few columns for better understanding of variables**"
      ],
      "metadata": {
        "id": "0wcde9Yo1yYA"
      }
    },
    {
      "cell_type": "markdown",
      "source": [
        "Answer Here."
      ],
      "metadata": {
        "id": "LbyXE7I1olp8"
      }
    },
    {
      "cell_type": "code",
      "source": [
        "# Write your code to make your dataset analysis ready.\n",
        "\n",
        "Airbnb_df.columns\n",
        "\n",
        "rename_col = {'id':'listing_id','name':'listing_name', 'calculated_host_listings_count':'host_listings_count'}\n",
        "\n",
        "# use a pandas function to rename the current function\n",
        "Airbnb_df = Airbnb_df.rename(columns = rename_col)\n",
        "Airbnb_df.head(2)"
      ],
      "metadata": {
        "id": "wk-9a2fpoLcV"
      },
      "execution_count": null,
      "outputs": []
    },
    {
      "cell_type": "markdown",
      "source": [
        "**2. Lets checking null values of each columns**"
      ],
      "metadata": {
        "id": "Z4mo3pyd1Ypp"
      }
    },
    {
      "cell_type": "code",
      "source": [
        "# checking null values of each columns\n",
        "Airbnb_df.isnull().sum()"
      ],
      "metadata": {
        "id": "ccVbLEo30t6N"
      },
      "execution_count": null,
      "outputs": []
    },
    {
      "cell_type": "markdown",
      "source": [
        "**host_name** and **listing_name** are not that much of null values, so first we are good to fill those with some substitutes in both the columns first."
      ],
      "metadata": {
        "id": "_uySVczs13KS"
      }
    },
    {
      "cell_type": "code",
      "source": [
        "# We will use the the fillna() method to replaces the NULL values with some substitutes in both the columns first - 'unknown' and 'no_name'.\n",
        "Airbnb_df['listing_name'].fillna('unknown',inplace=True)\n",
        "Airbnb_df['host_name'].fillna('no_name',inplace=True)"
      ],
      "metadata": {
        "id": "kUABbMtl1_lz"
      },
      "execution_count": null,
      "outputs": []
    },
    {
      "cell_type": "code",
      "source": [
        "#so the null values are removed\n",
        "Airbnb_df[['host_name','listing_name']].isnull().sum()"
      ],
      "metadata": {
        "id": "X8bI3JxD2Nc_"
      },
      "execution_count": null,
      "outputs": []
    },
    {
      "cell_type": "markdown",
      "source": [
        "Now, the columns **last_review** and **reviews_per_month** have total 10052 null values each.\n",
        "\n",
        "**last_review** column is not required for our analysis as compared to **number_of_reviews** & **reviews_per_month**. We're good to drop this column.\n",
        "\n",
        "**listing_id** also not that much of important for our analysis but i dont remove because of **listing_id** and **listing_name** is pair and removing listing_id it still wont make much difference."
      ],
      "metadata": {
        "id": "rgC-gTOE2WrA"
      }
    },
    {
      "cell_type": "code",
      "source": [
        "#removing last_review column beacause of not that much important\n",
        "Airbnb_df = Airbnb_df.drop(['last_review'], axis=1)"
      ],
      "metadata": {
        "id": "psyySy472vIc"
      },
      "execution_count": null,
      "outputs": []
    },
    {
      "cell_type": "markdown",
      "source": [
        "**3. Describe the Dataset and removing outliers**"
      ],
      "metadata": {
        "id": "VmKv69ne-48v"
      }
    },
    {
      "cell_type": "code",
      "source": [
        "# describe the DataFrame\n",
        "Airbnb_df.describe()"
      ],
      "metadata": {
        "id": "VU6R1K1V_Icw"
      },
      "execution_count": null,
      "outputs": []
    },
    {
      "cell_type": "markdown",
      "source": [
        "**Note - price column is very important so we have to find big outliers in important columns first.**"
      ],
      "metadata": {
        "id": "Cxlitl9S_Q8M"
      }
    },
    {
      "cell_type": "code",
      "source": [
        "sns.boxplot(x = Airbnb_df['price'])\n",
        "\n",
        "plt.show()"
      ],
      "metadata": {
        "id": "CAna4s0j_UR_"
      },
      "execution_count": null,
      "outputs": []
    },
    {
      "cell_type": "code",
      "source": [
        "# writing a outlier function for removing outliers in important columns.\n",
        "def iqr_technique(DFcolumn):\n",
        "  Q1 = np.percentile(DFcolumn, 25)\n",
        "  Q3 = np.percentile(DFcolumn, 75)\n",
        "  IQR = Q3 - Q1\n",
        "  lower_range = Q1 - (1.5 * IQR)\n",
        "  upper_range = Q3 + (1.5 * IQR)                        # interquantile range\n",
        "\n",
        "  return lower_range,upper_range"
      ],
      "metadata": {
        "id": "pIS3pxp1_bqh"
      },
      "execution_count": null,
      "outputs": []
    },
    {
      "cell_type": "code",
      "source": [
        "lower_bound,upper_bound = iqr_technique(Airbnb_df['price'])\n",
        "# print(lower_bound,upper_bound)\n",
        "Airbnb_df = Airbnb_df[(Airbnb_df.price>lower_bound) & (Airbnb_df.price<upper_bound)]"
      ],
      "metadata": {
        "id": "1HKnbzpF_f9q"
      },
      "execution_count": null,
      "outputs": []
    },
    {
      "cell_type": "code",
      "source": [
        "# so the outliers are removed from price column now check with boxplot and also check shape of new Dataframe!\n",
        "\n",
        "sns.boxplot(x = Airbnb_df['price'])\n",
        "print(Airbnb_df.shape)"
      ],
      "metadata": {
        "id": "ufi718hL_vEX"
      },
      "execution_count": null,
      "outputs": []
    },
    {
      "cell_type": "code",
      "source": [
        "# so here outliers are removed, see the new max price\n",
        "print(Airbnb_df['price'].max())"
      ],
      "metadata": {
        "id": "DChBuj40_4_5"
      },
      "execution_count": null,
      "outputs": []
    },
    {
      "cell_type": "markdown",
      "source": [
        "## ***4. Data Vizualization, Storytelling & Experimenting with charts : Understand the relationships between variables***"
      ],
      "metadata": {
        "id": "GF8Ens_Soomf"
      }
    },
    {
      "cell_type": "markdown",
      "source": [
        "#### Chart 1 - Distribution Of Airbnb Bookings Price Range Using Histogram"
      ],
      "metadata": {
        "id": "0wOQAZs5pc--"
      }
    },
    {
      "cell_type": "code",
      "source": [
        "# Create a figure with a custom size\n",
        "plt.figure(figsize=(12, 5))\n",
        "\n",
        "# Set the seaborn theme to darkgrid\n",
        "sns.set_theme(style='whitegrid')\n",
        "\n",
        "# Create a histogram of the 'price' column of the Airbnb_df dataframe\n",
        "# using sns distplot function and specifying the color as red\n",
        "sns.distplot(Airbnb_df['price'],color=\"teal\")\n",
        "\n",
        "# Add labels to the x-axis and y-axis\n",
        "plt.xlabel('Price', fontsize=12)\n",
        "plt.ylabel('Density', fontsize=12)\n",
        "\n",
        "# Add a title to the plot\n",
        "plt.title('Distribution of Airbnb Prices',fontsize=15)"
      ],
      "metadata": {
        "id": "7v_ESjsspbW7"
      },
      "execution_count": null,
      "outputs": []
    },
    {
      "cell_type": "markdown",
      "source": [
        "##### 1. Why did you pick the specific chart?"
      ],
      "metadata": {
        "id": "K5QZ13OEpz2H"
      }
    },
    {
      "cell_type": "markdown",
      "source": [
        "Price column is very important so we have to find big outliers in important columns first."
      ],
      "metadata": {
        "id": "XESiWehPqBRc"
      }
    },
    {
      "cell_type": "markdown",
      "source": [
        "##### 2. What is/are the insight(s) found from the chart?"
      ],
      "metadata": {
        "id": "lQ7QKXXCp7Bj"
      }
    },
    {
      "cell_type": "markdown",
      "source": [
        "*   The range of prices being charged on Airbnb appears to be from **20 to 330 dollars** , with the majority of listings falling in the price range of **50 to 150 dollars.**\n",
        "\n",
        "*   The distribution of prices appears to have a peak in the **50 to 150 dollars range**, with a relatively lower density of listings in higher and lower price ranges.\n",
        "\n",
        "*   There may be fewer listings available at prices above **250 dollars**, as\n",
        "the density of listings drops significantly in this range."
      ],
      "metadata": {
        "id": "C_j1G7yiqdRP"
      }
    },
    {
      "cell_type": "markdown",
      "source": [
        "##### 3. Will the gained insights help creating a positive business impact?\n",
        "Are there any insights that lead to negative growth? Justify with specific reason."
      ],
      "metadata": {
        "id": "448CDAPjqfQr"
      }
    },
    {
      "cell_type": "markdown",
      "source": [
        "Answer Here"
      ],
      "metadata": {
        "id": "3cspy4FjqxJW"
      }
    },
    {
      "cell_type": "markdown",
      "source": [
        "#### Chart - 2 - Total Listing/Property count in Each Neighborhood Group using Count plot"
      ],
      "metadata": {
        "id": "KSlN3yHqYklG"
      }
    },
    {
      "cell_type": "code",
      "source": [
        "# Chart - 2 visualization code\n",
        "# Count the number of listings in each neighborhood group and store the result in a Pandas series\n",
        "counts = Airbnb_df['neighbourhood_group'].value_counts()\n",
        "\n",
        "# Reset the index of the series so that the neighborhood groups become columns in the resulting dataframe\n",
        "Top_Neighborhood_group = counts.reset_index()\n",
        "\n",
        "# Rename the columns of the dataframe to be more descriptive\n",
        "Top_Neighborhood_group.columns = ['Neighborhood_Groups', 'Listing_Counts']\n",
        "\n",
        "# # display the resulting DataFrame\n",
        "Top_Neighborhood_group\n"
      ],
      "metadata": {
        "id": "R4YgtaqtYklH"
      },
      "execution_count": null,
      "outputs": []
    },
    {
      "cell_type": "code",
      "source": [
        "# Set the figure size\n",
        "plt.figure(figsize=(12, 8))\n",
        "\n",
        "# Create a countplot of the neighbourhood group data\n",
        "sns.countplot(Airbnb_df,x=Airbnb_df['neighbourhood_group'])\n",
        "\n",
        "# Set the title of the plot\n",
        "plt.title('Neighbourhood_group Listing Counts in NYC', fontsize=15)\n",
        "\n",
        "# Set the x-axis label\n",
        "plt.xlabel('Neighbourhood_Group', fontsize=14)\n",
        "\n",
        "# Set the y-axis label\n",
        "plt.ylabel('total listings counts', fontsize=14)\n",
        "\n"
      ],
      "metadata": {
        "id": "lNZF8NWDHwqj"
      },
      "execution_count": null,
      "outputs": []
    },
    {
      "cell_type": "markdown",
      "source": [
        "##### 1. Why did you pick the specific chart?"
      ],
      "metadata": {
        "id": "t6dVpIINYklI"
      }
    },
    {
      "cell_type": "markdown",
      "source": [
        "The seaborn countplot is used to represent the occurrence(counts) of the neighbourhood group data present in the categorical variable. It uses the concept of a bar chart for the visual depiction."
      ],
      "metadata": {
        "id": "5aaW0BYyYklI"
      }
    },
    {
      "cell_type": "markdown",
      "source": [
        "##### 2. What is/are the insight(s) found from the chart?"
      ],
      "metadata": {
        "id": "ijmpgYnKYklI"
      }
    },
    {
      "cell_type": "markdown",
      "source": [
        "*   Brooklyn and Manhattan have the highest number of listings on Airbnb, with over 19,000 listings each.\n",
        "\n",
        "*   Queens and the Bronx have significantly fewer listings compared to Manhattan and Brooklyn, with 5,535 and 1,063 listings, respectively\n",
        "\n",
        "*   Staten Island has the fewest number of listings, with only 362.\n",
        "\n",
        "*   The distribution of listings across the different neighborhood groups is skewed, with a concentration of listings in Manhattan and Brooklyn.\n",
        "\n",
        "*   Despite being larger in size, the neighborhoods in Queens, the Bronx, and Staten Island have fewer listings on Airbnb compared to Manhattan, which has a smaller geographical area.\n",
        "\n",
        "*   This could suggest that the demand for Airbnb rentals is higher in Manhattan compared to the other neighborhoods, leading to a higher concentration of listings in this area.\n",
        "\n",
        "*   Alternatively, it could be that the supply of listings is higher in Manhattan due to a higher number of homeowners or property owners in this neighborhood who are willing to list their properties on Airbnb."
      ],
      "metadata": {
        "id": "PSx9atu2YklI"
      }
    },
    {
      "cell_type": "markdown",
      "source": [
        "##### 3. Will the gained insights help creating a positive business impact?\n",
        "Are there any insights that lead to negative growth? Justify with specific reason."
      ],
      "metadata": {
        "id": "-JiQyfWJYklI"
      }
    },
    {
      "cell_type": "markdown",
      "source": [
        "Answer Here"
      ],
      "metadata": {
        "id": "BcBbebzrYklV"
      }
    },
    {
      "cell_type": "markdown",
      "source": [
        "#### Chart - 3 - Average Price Of Each Neighborhood Group using Point Plot"
      ],
      "metadata": {
        "id": "EM7whBJCYoAo"
      }
    },
    {
      "cell_type": "code",
      "source": [
        "# Chart - 3 visualization code\n",
        "# Group the Airbnb dataset by neighborhood group and calculate the mean of each group\n",
        "grouped = Airbnb_df.groupby(\"neighbourhood_group\").mean()\n",
        "\n",
        "# Reset the index of the grouped dataframe so that the neighborhood group becomes a column\n",
        "neighbourhood_group_avg_price = grouped.reset_index()\n",
        "\n",
        "# Rename the \"price\" column to \"avg_price\"\n",
        "neighbourhood_group_avg_price = round(neighbourhood_group_avg_price.rename(columns={\"price\": \"avg_price\"}),2)\n",
        "\n",
        "# Select only the \"neighbourhood_group\" and \"avg_price\" columns\n",
        "neighbourhood_group_avg_price[['neighbourhood_group', 'avg_price']].head()\n"
      ],
      "metadata": {
        "id": "t6GMdE67YoAp"
      },
      "execution_count": null,
      "outputs": []
    },
    {
      "cell_type": "code",
      "source": [
        "#import mean function from the statistics module\n",
        "from statistics import mean\n",
        "\n",
        "# Create the point plot\n",
        "sns.pointplot(x = 'neighbourhood_group', y='price', data=Airbnb_df, estimator = np.mean)\n",
        "\n",
        "# Add axis labels and a title\n",
        "plt.xlabel('Neighbourhood Group',fontsize=14)\n",
        "plt.ylabel('Average Price',fontsize=14)\n",
        "plt.title('Average Price by Neighbourhood Group',fontsize=15)"
      ],
      "metadata": {
        "id": "MJ8R3l3wdVFD"
      },
      "execution_count": null,
      "outputs": []
    },
    {
      "cell_type": "markdown",
      "source": [
        "##### 1. Why did you pick the specific chart?"
      ],
      "metadata": {
        "id": "fge-S5ZAYoAp"
      }
    },
    {
      "cell_type": "markdown",
      "source": [
        "A point plot represents an estimate of central tendency for a numeric variable (price) by the position of the dot and provides some indication of the uncertainty around that estimate using error bars.\n",
        "\n",
        "Point plots can be more useful than bar plots for focusing comparisons between different levels of one or more categorical variables. They are particularly adept at showing interactions: how the relationship between levels of one categorical variable changes across levels of a second categorical variable. The lines that join each point from the same hue level allow interactions to be judged by differences in slope, which is easier for the eyes than comparing the heights of several groups of points or bars."
      ],
      "metadata": {
        "id": "5dBItgRVYoAp"
      }
    },
    {
      "cell_type": "markdown",
      "source": [
        "##### 2. What is/are the insight(s) found from the chart?"
      ],
      "metadata": {
        "id": "85gYPyotYoAp"
      }
    },
    {
      "cell_type": "markdown",
      "source": [
        "*   The average price of a listing in New York City varies significantly across different neighborhoods, with **Manhattan having the highest 146 dollars/day  average price** and **the Bronx having the lowest near 77 dollars/day.**\n",
        "\n",
        "*   In second graph price distribution is very high in Manhattan and Brooklyn.\n",
        "but Manhattan have more varity in price range, you can see in second stripplot.\n",
        "\n",
        "*   The average price increases as you move from the outer boroughs (Bronx, Brooklyn, Queens, and Staten Island) towards the center of the city (Manhattan).\n",
        "\n",
        "*   The average price in queens and Staten Island is relatively similar, despite being in different parts of the city.\n",
        "\n",
        "*   The data suggests that the overall cost of living in New York City is higher in the center of the city (Manhattan) compared to the outer boroughs. This is likely due to the fact that Manhattan is the most densely populated and commercially important borough, and therefore has higher demand for housing in the centrally located neighborhoods"
      ],
      "metadata": {
        "id": "4jstXR6OYoAp"
      }
    },
    {
      "cell_type": "code",
      "source": [
        "sns.stripplot(\n",
        "    data=Airbnb_df, x = 'neighbourhood_group', y='price', hue=\"neighbourhood_group\",\n",
        "    dodge=True, alpha=.2, legend=False,\n",
        ")"
      ],
      "metadata": {
        "id": "lvtF9lZ8fXCb"
      },
      "execution_count": null,
      "outputs": []
    },
    {
      "cell_type": "markdown",
      "source": [
        "##### 3. Will the gained insights help creating a positive business impact?\n",
        "Are there any insights that lead to negative growth? Justify with specific reason."
      ],
      "metadata": {
        "id": "RoGjAbkUYoAp"
      }
    },
    {
      "cell_type": "markdown",
      "source": [
        "Answer Here"
      ],
      "metadata": {
        "id": "zfJ8IqMcYoAp"
      }
    },
    {
      "cell_type": "markdown",
      "source": [
        "#### Chart - 4 - Price Distribution Of Each Neighborhood Group using Violin Plot"
      ],
      "metadata": {
        "id": "4Of9eVA-YrdM"
      }
    },
    {
      "cell_type": "code",
      "source": [
        "# Create the violin plot for price distribution in each Neighbourhood_groups\n",
        "\n",
        "ax= sns.violinplot(x='neighbourhood_group',y='price',data= Airbnb_df)\n"
      ],
      "metadata": {
        "id": "irlUoxc8YrdO"
      },
      "execution_count": null,
      "outputs": []
    },
    {
      "cell_type": "markdown",
      "source": [
        "##### 1. Why did you pick the specific chart?"
      ],
      "metadata": {
        "id": "iky9q4vBYrdO"
      }
    },
    {
      "cell_type": "markdown",
      "source": [
        "A violin plot is a hybrid of a box plot and a kernel density plot, which shows peaks in the data. It is used to visualize the distribution of numerical data. The density displays the no of listings while the length defines the range of price. Violin plots depict summary statistics and the density of each variable."
      ],
      "metadata": {
        "id": "aJRCwT6DYrdO"
      }
    },
    {
      "cell_type": "markdown",
      "source": [
        "##### 2. What is/are the insight(s) found from the chart?"
      ],
      "metadata": {
        "id": "F6T5p64dYrdO"
      }
    },
    {
      "cell_type": "markdown",
      "source": [
        "*   price distribution is very high in Manhattan and Brooklyn. but Manhattan have more Diversity in price range, you can see in violin plot.\n",
        "\n",
        "*   Queens and Bronx have same price distribution but in Queens area more distribution in \\$50 to \\$100 but diversity in price is not like Manhattan and Brooklyn.\n"
      ],
      "metadata": {
        "id": "Xx8WAJvtYrdO"
      }
    },
    {
      "cell_type": "markdown",
      "source": [
        "##### 3. Will the gained insights help creating a positive business impact?\n",
        "Are there any insights that lead to negative growth? Justify with specific reason."
      ],
      "metadata": {
        "id": "y-Ehk30pYrdP"
      }
    },
    {
      "cell_type": "markdown",
      "source": [
        "Answer Here"
      ],
      "metadata": {
        "id": "jLNxxz7MYrdP"
      }
    },
    {
      "cell_type": "markdown",
      "source": [
        "#### Chart - 5 - Top Neighborhoods by Listing/property using Bar plot"
      ],
      "metadata": {
        "id": "bamQiAODYuh1"
      }
    },
    {
      "cell_type": "code",
      "source": [
        "# create a new DataFrame that displays the top 10 neighborhoods in the Airbnb NYC dataset based on the number of listings in each neighborhood\n",
        "Top_Neighborhoods = Airbnb_df['neighbourhood'].value_counts()[:10].reset_index()\n",
        "\n",
        "# rename the columns of the resulting DataFrame to 'Top_Neighborhoods' and 'Listing_Counts'\n",
        "Top_Neighborhoods.columns = ['Top_Neighborhoods', 'Listing_Counts']\n",
        "\n",
        "# display the resulting DataFrame\n",
        "Top_Neighborhoods"
      ],
      "metadata": {
        "id": "TIJwrbroYuh3"
      },
      "execution_count": null,
      "outputs": []
    },
    {
      "cell_type": "code",
      "source": [
        "# Get the top 10 neighborhoods by listing count\n",
        "top_10_neigbourhoods = Airbnb_df['neighbourhood'].value_counts().nlargest(10)\n",
        "\n",
        "# Create a list of colors to use for the bars\n",
        "colors = [\"#b30000\",\"#fd7f6f\", \"#f46a9b\", \"#ef9b20\", \"#edbf33\", \"#ede15b\", \"#bdcf32\", \"#87bc45\", \"#27aeef\", \"#b33dc6\"]\n",
        "\n",
        "\n",
        "# Create a bar plot of the top 10 neighborhoods using the specified colors\n",
        "top_10_neigbourhoods.plot(kind='bar', figsize=(15, 6), color = colors)\n",
        "\n",
        "# Set the x-axis label\n",
        "plt.xlabel('Neighbourhood', fontsize=12)\n",
        "\n",
        "# Set the y-axis label\n",
        "plt.ylabel('Total Listing Counts', fontsize=12)\n",
        "\n",
        "# Set the title of the plot\n",
        "plt.title('Listings by Top Neighborhoods in NYC', fontsize=13)\n"
      ],
      "metadata": {
        "id": "IxsiZFopnEAd"
      },
      "execution_count": null,
      "outputs": []
    },
    {
      "cell_type": "markdown",
      "source": [
        "##### 1. Why did you pick the specific chart?"
      ],
      "metadata": {
        "id": "QHF8YVU7Yuh3"
      }
    },
    {
      "cell_type": "markdown",
      "source": [
        "A bar chart plots numeric values for levels of a categorical feature as bars. Top Neighborhoods are plotted on x-axis, and Total Listing Counts are plotted on y-axis. Each neighborhoods categorical value claims one bar, and the length of each bar corresponds to the bar's value as Total Listing Counts."
      ],
      "metadata": {
        "id": "dcxuIMRPYuh3"
      }
    },
    {
      "cell_type": "markdown",
      "source": [
        "##### 2. What is/are the insight(s) found from the chart?"
      ],
      "metadata": {
        "id": "GwzvFGzlYuh3"
      }
    },
    {
      "cell_type": "markdown",
      "source": [
        "*   The top neighborhoods in New York City in terms of listing counts are Williamsburg, Bedford-Stuyvesant, Harlem, Bushwick, and the Upper West Side.\n",
        "\n",
        "*   The top neighborhoods are primarily located in Brooklyn and Manhattan. This may be due to the fact that these boroughs have a higher overall population and a higher demand for housing.\n",
        "\n",
        "*   The number of listings alone may not be indicative of the overall demand for housing in a particular neighborhood, as other factors such as the cost of living and the availability of housing may also play a role."
      ],
      "metadata": {
        "id": "uyqkiB8YYuh3"
      }
    },
    {
      "cell_type": "markdown",
      "source": [
        "##### 3. Will the gained insights help creating a positive business impact?\n",
        "Are there any insights that lead to negative growth? Justify with specific reason."
      ],
      "metadata": {
        "id": "qYpmQ266Yuh3"
      }
    },
    {
      "cell_type": "markdown",
      "source": [
        "Answer Here"
      ],
      "metadata": {
        "id": "_WtzZ_hCYuh4"
      }
    },
    {
      "cell_type": "markdown",
      "source": [
        "#### Chart - 6 - Top Hosts With More Listing/Property using Bar chart"
      ],
      "metadata": {
        "id": "OH-pJp9IphqM"
      }
    },
    {
      "cell_type": "code",
      "source": [
        "# create a new DataFrame that displays the top 10 hosts in the Airbnb NYC dataset based on the number of listings each host has\n",
        "top_10_hosts = Airbnb_df['host_name'].value_counts()[:10].reset_index()\n",
        "\n",
        "# rename the columns of the resulting DataFrame to 'host_name' and 'Total_listings'\n",
        "top_10_hosts.columns = ['host_name', 'Total_listings']\n",
        "\n",
        "# display the resulting DataFrame\n",
        "top_10_hosts"
      ],
      "metadata": {
        "id": "kuRf4wtuphqN"
      },
      "execution_count": null,
      "outputs": []
    },
    {
      "cell_type": "code",
      "source": [
        "# Get the top 10 hosts by listing count\n",
        "top_hosts = Airbnb_df['host_name'].value_counts()[:10]\n",
        "\n",
        "# Create a bar plot of the top 10 hosts\n",
        "top_hosts.plot(kind='bar', color='teal', figsize=(18, 7))\n",
        "\n",
        "# Set the x-axis label\n",
        "plt.xlabel('top10_hosts', fontsize=14)\n",
        "\n",
        "# Set the y-axis label\n",
        "plt.ylabel('total_NYC_listings', fontsize=14)\n",
        "\n",
        "# Set the title of the plot\n",
        "plt.title('top 10 hosts on the basis of no of listings in entire NYC!', fontsize=15)"
      ],
      "metadata": {
        "id": "_aq6wQqBtEAP"
      },
      "execution_count": null,
      "outputs": []
    },
    {
      "cell_type": "markdown",
      "source": [
        "##### 1. Why did you pick the specific chart?"
      ],
      "metadata": {
        "id": "bbFf2-_FphqN"
      }
    },
    {
      "cell_type": "markdown",
      "source": [
        "The purpose of a bar graph is to convey relational information quickly in a visual manner. The bars display the value for a particular category (host_name) of data.  Here it is easier to compare top 10 host name with their count of listings in NYC."
      ],
      "metadata": {
        "id": "loh7H2nzphqN"
      }
    },
    {
      "cell_type": "markdown",
      "source": [
        "##### 2. What is/are the insight(s) found from the chart?"
      ],
      "metadata": {
        "id": "_ouA3fa0phqN"
      }
    },
    {
      "cell_type": "markdown",
      "source": [
        "*   The top three hosts in terms of total listings are Michael, David, and John, who have 376, 362, and 270 listings, respectively.\n",
        "\n",
        "*   There is a relatively large gap between the top two hosts and the rest of the hosts. For example, john has 270 listings, which is significantly fewer than Michael's 383 listings.\n",
        "\n",
        "*   In this top 10 list Mike has 181 listings, which is significantly fewer than\n",
        "Michael's 383 listings. This could indicate that there is a lot of variation in the success of different hosts on Airbnb.\n",
        "\n",
        "*   There are relatively few hosts with a large number of listings. This could indicate that the Airbnb market is relatively competitive, with a small number of hosts dominating a large portion of the market."
      ],
      "metadata": {
        "id": "VECbqPI7phqN"
      }
    },
    {
      "cell_type": "markdown",
      "source": [
        "##### 3. Will the gained insights help creating a positive business impact?\n",
        "Are there any insights that lead to negative growth? Justify with specific reason."
      ],
      "metadata": {
        "id": "Seke61FWphqN"
      }
    },
    {
      "cell_type": "markdown",
      "source": [
        "Answer Here"
      ],
      "metadata": {
        "id": "DW4_bGpfphqN"
      }
    },
    {
      "cell_type": "markdown",
      "source": [
        "#### Chart - 7 - Number Of Active Hosts Per Neighborhood Group/ Location Using Line Chart"
      ],
      "metadata": {
        "id": "PIIx-8_IphqN"
      }
    },
    {
      "cell_type": "code",
      "source": [
        "# create a new DataFrame that displays the number of hosts in each neighborhood group in the Airbnb NYC dataset\n",
        "hosts_per_location = Airbnb_df.groupby('neighbourhood_group')['listing_id'].count().reset_index()\n",
        "\n",
        "# rename the columns of the resulting DataFrame to 'Neighbourhood_Groups' and 'Host_counts'\n",
        "hosts_per_location.columns = ['Neighbourhood_Groups', 'Host_counts']\n",
        "\n",
        "# display the resulting DataFrame\n",
        "hosts_per_location"
      ],
      "metadata": {
        "id": "lqAIGUfyphqO"
      },
      "execution_count": null,
      "outputs": []
    },
    {
      "cell_type": "code",
      "source": [
        "# Group the data by neighbourhood_group and count the number of listings for each group\n",
        "hosts_per_location = Airbnb_df.groupby('neighbourhood_group')['listing_id'].count()\n",
        "\n",
        "# Get the list of neighbourhood_group names\n",
        "locations = hosts_per_location.index\n",
        "\n",
        "# Get the list of host counts for each neighbourhood_group\n",
        "host_counts = hosts_per_location.values\n",
        "\n",
        "# Set the figure size\n",
        "plt.figure(figsize=(12, 5))\n",
        "\n",
        "# Create the line chart with some experiments using marker function\n",
        "plt.plot(locations, host_counts, marker='o', ms=12, mew=4, mec='r')\n",
        "\n",
        "# Add a title and labels to the x-axis and y-axis\n",
        "plt.title('Number of Active Hosts per Location', fontsize='13')\n",
        "plt.xlabel('Location', fontsize='12')\n",
        "plt.ylabel('Number of Active Hosts', fontsize='12')\n",
        "\n",
        "# Show the plot\n",
        "plt.show()"
      ],
      "metadata": {
        "id": "VUQF2aPVwg3v"
      },
      "execution_count": null,
      "outputs": []
    },
    {
      "cell_type": "markdown",
      "source": [
        "##### 1. Why did you pick the specific chart?"
      ],
      "metadata": {
        "id": "t27r6nlMphqO"
      }
    },
    {
      "cell_type": "markdown",
      "source": [
        "Line graphs are useful in that they show count data variables clearly and can help to make predictions about the results of data not yet recorded. They can also be used to display several dependent variables/ locations against one independent variable/ count of listing."
      ],
      "metadata": {
        "id": "iv6ro40sphqO"
      }
    },
    {
      "cell_type": "markdown",
      "source": [
        "##### 2. What is/are the insight(s) found from the chart?"
      ],
      "metadata": {
        "id": "r2jJGEOYphqO"
      }
    },
    {
      "cell_type": "markdown",
      "source": [
        "*   Brooklyn has the largest number of hosts with 19191, Manhattan has the second largest number of hosts with 18826.\n",
        "\n",
        "* After that Queens with 5535 and the Bronx with 1063. while Staten Island has the fewest with 362.\n",
        "\n",
        "*   Brooklyn and Manhattan have the largest number of hosts, with more than double the number of hosts in Queens and more than 18 times the number of hosts in the Bronx."
      ],
      "metadata": {
        "id": "Po6ZPi4hphqO"
      }
    },
    {
      "cell_type": "markdown",
      "source": [
        "##### 3. Will the gained insights help creating a positive business impact?\n",
        "Are there any insights that lead to negative growth? Justify with specific reason."
      ],
      "metadata": {
        "id": "b0JNsNcRphqO"
      }
    },
    {
      "cell_type": "markdown",
      "source": [
        "Answer Here"
      ],
      "metadata": {
        "id": "xvSq8iUTphqO"
      }
    },
    {
      "cell_type": "markdown",
      "source": [
        "#### Chart - 8 - Average Minimum Price In Neighborhoods using Scatter and Bar chart"
      ],
      "metadata": {
        "id": "BZR9WyysphqO"
      }
    },
    {
      "cell_type": "code",
      "source": [
        "# create a new DataFrame that displays the average price of Airbnb rentals in each neighborhood\n",
        "neighbourhood_avg_price = Airbnb_df.groupby(\"neighbourhood\").mean().reset_index().rename(columns={\"price\": \"avg_price\"})[['neighbourhood', 'avg_price']]\n",
        "\n",
        "# select the top 10 neighborhoods with the lowest average prices\n",
        "neighbourhood_avg_price = neighbourhood_avg_price.sort_values(\"avg_price\").head(10)\n",
        "\n",
        "# join the resulting DataFrame with the 'neighbourhood_group' column from the Airbnb NYC dataset, dropping any duplicate entries\n",
        "neighbourhood_avg_price_sorted_with_group = neighbourhood_avg_price.join(Airbnb_df[['neighbourhood', 'neighbourhood_group']].drop_duplicates().set_index('neighbourhood'),\n",
        "                                                                         on='neighbourhood')\n",
        "# Display the resulting data\n",
        "display(neighbourhood_avg_price_sorted_with_group.style.hide_index())"
      ],
      "metadata": {
        "id": "TdPTWpAVphqO"
      },
      "execution_count": null,
      "outputs": []
    },
    {
      "cell_type": "code",
      "source": [
        "neighbourhood_avg_price = (Airbnb_df.groupby(\"neighbourhood\").mean().reset_index().rename(columns={\"price\": \"avg_price\"}))[['neighbourhood', 'avg_price']]\n",
        "neighbourhood_avg_price = (neighbourhood_avg_price.sort_values(\"avg_price\"))\n",
        "\n",
        "# Group the data by neighborhood and calculate the average price\n",
        "neighbourhood_avg_price = Airbnb_df.groupby(\"neighbourhood\")[\"price\"].mean()\n",
        "\n",
        "# Create a new DataFrame with the average price for each neighborhood\n",
        "neighbourhood_prices = pd.DataFrame({\"neighbourhood\": neighbourhood_avg_price.index, \"avg_price\": neighbourhood_avg_price.values})\n",
        "\n",
        "# Merge the average price data with the original DataFrame#trying to find where the coordinates belong from the latitude and longitude\n",
        "df = Airbnb_df.merge(neighbourhood_prices, on=\"neighbourhood\")\n",
        "\n",
        "# Create the scattermapbox plot\n",
        "fig = df.plot.scatter(x=\"longitude\", y=\"latitude\", c=\"avg_price\", title=\"Average Airbnb Price by Neighborhoods in New York City\", figsize=(12,6), cmap=\"plasma\")\n",
        "fig"
      ],
      "metadata": {
        "id": "N5ZWO1cayhKz"
      },
      "execution_count": null,
      "outputs": []
    },
    {
      "cell_type": "code",
      "source": [
        "# Extract the values from the dataset\n",
        "neighborhoods = neighbourhood_avg_price_sorted_with_group['neighbourhood']\n",
        "prices = neighbourhood_avg_price_sorted_with_group['avg_price']\n",
        "\n",
        "# Create the bar plot\n",
        "plt.figure(figsize=(15,5))\n",
        "plt.bar(neighborhoods, prices,width=0.5, color = 'orchid')\n",
        "plt.xlabel('Neighborhood')\n",
        "plt.ylabel('Average Price')\n",
        "plt.title('Average Price by Neighborhood')\n",
        "\n",
        "# Show the plot\n",
        "plt.show()\n"
      ],
      "metadata": {
        "id": "selVGUx8yvEq"
      },
      "execution_count": null,
      "outputs": []
    },
    {
      "cell_type": "markdown",
      "source": [
        "##### 1. Why did you pick the specific chart?"
      ],
      "metadata": {
        "id": "jj7wYXLtphqO"
      }
    },
    {
      "cell_type": "markdown",
      "source": [
        "The purpose of a bar graph is to convey relational information quickly in a visual manner. The bars display the value for a particular category (neighborhoods) of data.  Here it is easier to compare top 10 host name with their listings price in NYC.\n",
        "Scattered graphs showing us the distribution of listing price across the latitude and longitude.  "
      ],
      "metadata": {
        "id": "Ob8u6rCTphqO"
      }
    },
    {
      "cell_type": "markdown",
      "source": [
        "##### 2. What is/are the insight(s) found from the chart?"
      ],
      "metadata": {
        "id": "eZrbJ2SmphqO"
      }
    },
    {
      "cell_type": "markdown",
      "source": [
        "* All of the neighborhoods listed are located in the outer boroughs of New York City (Bronx, Queens, and Staten Island). This suggests that these neighborhoods may have a lower overall cost of living compared to neighborhoods in Manhattan and Brooklyn.\n",
        "\n",
        "*  Most of these neighborhoods are located in the Bronx and Staten Island. These boroughs tend to have a lower overall cost of living compared to Manhattan and Brooklyn.\n",
        "\n",
        "*  These neighborhoods may be attractive to renters or buyers looking for more affordable housing options in the New York City area."
      ],
      "metadata": {
        "id": "mZtgC_hjphqO"
      }
    },
    {
      "cell_type": "markdown",
      "source": [
        "##### 3. Will the gained insights help creating a positive business impact?\n",
        "Are there any insights that lead to negative growth? Justify with specific reason."
      ],
      "metadata": {
        "id": "rFu4xreNphqO"
      }
    },
    {
      "cell_type": "markdown",
      "source": [
        "Answer Here"
      ],
      "metadata": {
        "id": "ey_0qi68phqO"
      }
    },
    {
      "cell_type": "markdown",
      "source": [
        "#### Chart - 9 - Total Counts Of Each Room Type using Pie Chart"
      ],
      "metadata": {
        "id": "YJ55k-q6phqO"
      }
    },
    {
      "cell_type": "code",
      "source": [
        "# create a new DataFrame that displays the number of listings of each room type in the Airbnb NYC dataset\n",
        "top_room_type = Airbnb_df['room_type'].value_counts().reset_index()\n",
        "\n",
        "# rename the columns of the resulting DataFrame to 'Room_Type' and 'Total_counts'\n",
        "top_room_type.columns = ['Room_Type', 'Total_counts']\n",
        "\n",
        "# display the resulting DataFrame\n",
        "top_room_type\n"
      ],
      "metadata": {
        "id": "B2aS4O1ophqO"
      },
      "execution_count": null,
      "outputs": []
    },
    {
      "cell_type": "code",
      "source": [
        "# Set the figure size\n",
        "plt.figure(figsize=(10, 6))\n",
        "\n",
        "# Get the room type counts\n",
        "room_type_counts = Airbnb_df['room_type'].value_counts()\n",
        "\n",
        "# Set the labels and sizes for the pie chart\n",
        "labels = room_type_counts.index\n",
        "sizes = room_type_counts.values\n",
        "\n",
        "# Create the pie chart\n",
        "plt.pie(sizes, labels=labels, autopct='%1.1f%%')\n",
        "\n",
        "# Add a legend to the chart\n",
        "plt.legend(title='Room Type', bbox_to_anchor=(0.8, 0, 0.5, 1), fontsize='12')\n",
        "\n",
        "# Show the plot\n",
        "plt.show()"
      ],
      "metadata": {
        "id": "yC6LZ8W0-Vca"
      },
      "execution_count": null,
      "outputs": []
    },
    {
      "cell_type": "markdown",
      "source": [
        "##### 1. Why did you pick the specific chart?"
      ],
      "metadata": {
        "id": "gCFgpxoyphqP"
      }
    },
    {
      "cell_type": "markdown",
      "source": [
        "Pie charts make sense to show a parts-to-whole relationship for categorical data - Room Type. The slices in the pie typically represent percentages of the total listing. With categorical data, the sample is often divided into groups and the responses have a defined order."
      ],
      "metadata": {
        "id": "TVxDimi2phqP"
      }
    },
    {
      "cell_type": "markdown",
      "source": [
        "##### 2. What is/are the insight(s) found from the chart?"
      ],
      "metadata": {
        "id": "OVtJsKN_phqQ"
      }
    },
    {
      "cell_type": "markdown",
      "source": [
        "*  The majority of listings on Airbnb are for entire homes or apartments, with 21929 listings, followed by private rooms with 21915 listings, and shared rooms with 1133 listings.\n",
        "\n",
        "*  There is a significant difference in the number of listings for each room type. For example, there are almost 20 times as many listings for entire homes or apartments as there are for shared rooms.\n",
        "\n",
        "*  The data suggests that travelers using Airbnb have a wide range of accommodation options to choose from, including private rooms and entire homes or apartments"
      ],
      "metadata": {
        "id": "ngGi97qjphqQ"
      }
    },
    {
      "cell_type": "markdown",
      "source": [
        "##### 3. Will the gained insights help creating a positive business impact?\n",
        "Are there any insights that lead to negative growth? Justify with specific reason."
      ],
      "metadata": {
        "id": "lssrdh5qphqQ"
      }
    },
    {
      "cell_type": "markdown",
      "source": [
        "Answer Here"
      ],
      "metadata": {
        "id": "tBpY5ekJphqQ"
      }
    },
    {
      "cell_type": "markdown",
      "source": [
        "#### Chart - 10 - Stay counts by Minimum Nights using Bar chart"
      ],
      "metadata": {
        "id": "U2RJ9gkRphqQ"
      }
    },
    {
      "cell_type": "code",
      "source": [
        "# Group the DataFrame by the minimum_nights column and count the number of rows in each group\n",
        "min_nights_count = Airbnb_df.groupby('minimum_nights').size().reset_index(name = 'count')\n",
        "\n",
        "# Sort the resulting DataFrame in descending order by the count column\n",
        "min_nights_count = min_nights_count.sort_values('count', ascending=False)\n",
        "\n",
        "# Select the top 10 rows\n",
        "min_nights_count = min_nights_count.head(15)\n",
        "\n",
        "# Reset the index\n",
        "min_nights_count = min_nights_count.reset_index(drop=True)\n",
        "\n",
        "# Display the resulting DataFrame\n",
        "min_nights_count"
      ],
      "metadata": {
        "id": "GM7a4YP4phqQ"
      },
      "execution_count": null,
      "outputs": []
    },
    {
      "cell_type": "code",
      "source": [
        "# Extract the minimum_nights and count columns from the DataFrame\n",
        "minimum_nights = min_nights_count['minimum_nights']\n",
        "count = min_nights_count['count']\n",
        "\n",
        "# Set the figure size\n",
        "plt.figure(figsize=(12, 4))\n",
        "\n",
        "# Create the bar plot\n",
        "plt.bar(minimum_nights, count)\n",
        "\n",
        "# Add axis labels and a title\n",
        "plt.xlabel('Minimum Nights', fontsize='14')\n",
        "plt.ylabel('Count', fontsize='14')\n",
        "plt.title('Stay Requirement by Minimum Nights', fontsize='15')\n",
        "\n",
        "# Show the plot\n",
        "plt.show()"
      ],
      "metadata": {
        "id": "JWEJtvG0kRMV"
      },
      "execution_count": null,
      "outputs": []
    },
    {
      "cell_type": "markdown",
      "source": [
        "##### 1. Why did you pick the specific chart?"
      ],
      "metadata": {
        "id": "1M8mcRywphqQ"
      }
    },
    {
      "cell_type": "markdown",
      "source": [
        "The purpose of a bar graph is to convey relational information quickly in a visual manner. The bars display the value for a particular category (Minimum nights stay) of data.  Here it is easier to compare top 10 host name with their count of listings in NYC."
      ],
      "metadata": {
        "id": "8agQvks0phqQ"
      }
    },
    {
      "cell_type": "markdown",
      "source": [
        "##### 2. What is/are the insight(s) found from the chart?"
      ],
      "metadata": {
        "id": "tgIPom80phqQ"
      }
    },
    {
      "cell_type": "markdown",
      "source": [
        "*   The majority of listings on Airbnb have a minimum stay requirement of 1 or 2 nights, with 12067 and 11080 listings, respectively.\n",
        "\n",
        "*   The number of listings with a minimum stay requirement decreases as the length of stay increases, with 7375 listings requiring a minimum stay of 3 nights, and so on.\n",
        "\n",
        "*   There are relatively few listings with a minimum stay requirement of 30 nights or more, with 3489 and 189 listings, respectively."
      ],
      "metadata": {
        "id": "Qp13pnNzphqQ"
      }
    },
    {
      "cell_type": "markdown",
      "source": [
        "##### 3. Will the gained insights help creating a positive business impact?\n",
        "Are there any insights that lead to negative growth? Justify with specific reason."
      ],
      "metadata": {
        "id": "JMzcOPDDphqR"
      }
    },
    {
      "cell_type": "markdown",
      "source": [
        "Answer Here"
      ],
      "metadata": {
        "id": "R4Ka1PC2phqR"
      }
    },
    {
      "cell_type": "markdown",
      "source": [
        "#### Chart - 11 - Total Reviews by Each Neighborhood Group using Pie Chart"
      ],
      "metadata": {
        "id": "x-EpHcCOp1ci"
      }
    },
    {
      "cell_type": "code",
      "source": [
        "# Group the data by neighborhood group and calculate the total number of reviews\n",
        "reviews_by_neighbourhood_group = Airbnb_df.groupby(\"neighbourhood_group\")[\"number_of_reviews\"].sum()\n",
        "\n",
        "# Create a pie chart\n",
        "plt.pie(reviews_by_neighbourhood_group, labels=reviews_by_neighbourhood_group.index, autopct='%1.1f%%')\n",
        "plt.title(\"Number of Reviews by Neighborhood Group in New York City\", fontsize='13')\n",
        "\n",
        "# Display the chart\n",
        "plt.show()"
      ],
      "metadata": {
        "id": "mAQTIvtqp1cj"
      },
      "execution_count": null,
      "outputs": []
    },
    {
      "cell_type": "markdown",
      "source": [
        "##### 1. Why did you pick the specific chart?"
      ],
      "metadata": {
        "id": "X_VqEhTip1ck"
      }
    },
    {
      "cell_type": "markdown",
      "source": [
        "Pie charts make sense to show a parts-to-whole relationship for categorical data - Neighborhood Group. The slices in the pie typically represent percentages of the total number of reviews. With categorical data, the sample is often divided into groups and the responses have a defined order."
      ],
      "metadata": {
        "id": "-vsMzt_np1ck"
      }
    },
    {
      "cell_type": "markdown",
      "source": [
        "##### 2. What is/are the insight(s) found from the chart?"
      ],
      "metadata": {
        "id": "8zGJKyg5p1ck"
      }
    },
    {
      "cell_type": "markdown",
      "source": [
        "*   Brooklyn has the largest share of total reviews on Airbnb, with 43.3%, followed by Manhattan with 38.9%.\n",
        "\n",
        "* Queens has the third largest share of total reviews, with 14.2%, followed by the Bronx with 2.6% and Staten Island with 1.0%.\n",
        "\n",
        "*   The data suggests that Airbnb is more popular in Brooklyn and Manhattan compared to the other neighborhood groups.\n",
        "\n",
        "*   Despite having fewer listings, Brooklyn has more reviews on Airbnb compared to Manhattan. This could indicate that Airbnb users in Brooklyn are more likely to leave reviews, or that the listings in Brooklyn are more popular or successful in generating positive reviews. It is worth noting that there could be a number of other factors that could contribute to this difference in reviews, such as the quality of the listings or the characteristics of the travelers who use Airbnb in these areas.\n"
      ],
      "metadata": {
        "id": "ZYdMsrqVp1ck"
      }
    },
    {
      "cell_type": "markdown",
      "source": [
        "##### 3. Will the gained insights help creating a positive business impact?\n",
        "Are there any insights that lead to negative growth? Justify with specific reason."
      ],
      "metadata": {
        "id": "PVzmfK_Ep1ck"
      }
    },
    {
      "cell_type": "markdown",
      "source": [
        "Answer Here"
      ],
      "metadata": {
        "id": "druuKYZpp1ck"
      }
    },
    {
      "cell_type": "markdown",
      "source": [
        "#### Chart - 12 - Number of Max. Reviews by Each Neighborhood Group using Pie Chart"
      ],
      "metadata": {
        "id": "n3dbpmDWp1ck"
      }
    },
    {
      "cell_type": "code",
      "source": [
        "# Group the Airbnb data by neighbourhood group\n",
        "reviews_by_neighbourhood_group = Airbnb_df.groupby(\"neighbourhood_group\")[\"number_of_reviews\"].max()\n",
        "\n",
        "# Create a pie chart to visualize the distribution of maximum number of reviews among different neighbourhood groups\n",
        "plt.pie(reviews_by_neighbourhood_group, labels=reviews_by_neighbourhood_group.index, autopct='%1.1f%%')\n",
        "\n",
        "# Add a title to the chart\n",
        "plt.title(\"Number of maximum Reviews by Neighborhood Group in NYC\", fontsize='13')\n",
        "\n",
        "# Display the chart\n",
        "plt.show()"
      ],
      "metadata": {
        "id": "bwevp1tKp1ck"
      },
      "execution_count": null,
      "outputs": []
    },
    {
      "cell_type": "markdown",
      "source": [
        "##### 1. Why did you pick the specific chart?"
      ],
      "metadata": {
        "id": "ylSl6qgtp1ck"
      }
    },
    {
      "cell_type": "markdown",
      "source": [
        "Pie charts make sense to show a parts-to-whole relationship for categorical data - Neighborhood Group. The slices in the pie typically represent percentages of the max number of reviews. With categorical data, the sample is often divided into groups and the responses have a defined order."
      ],
      "metadata": {
        "id": "m2xqNkiQp1ck"
      }
    },
    {
      "cell_type": "markdown",
      "source": [
        "##### 2. What is/are the insight(s) found from the chart?"
      ],
      "metadata": {
        "id": "ZWILFDl5p1ck"
      }
    },
    {
      "cell_type": "markdown",
      "source": [
        "*   Queens and Manhattan seem to be the most popular neighborhoods for reviewing, as they have both high number of maximum reviews.\n",
        "\n",
        "*   Queens has the highest percentage of reviews at 26.5%, but it has the third highest number of listings, behind Manhattan and Brooklyn. This suggests that Queens may be a particularly popular destination for tourists or visitors, even though it has fewer listings compared to Manhattan and Brooklyn.\n",
        "\n",
        "*   Manhattan and Brooklyn also have a high percentage of reviews, at 25.5% & 20.5%. This indicates that it is a popular destination for tourists or visitors as well. (number of listings higher than queens)\n",
        "\n",
        "*   Overall, this data suggests that Queens, Manhattan, and Brooklyn are the most popular neighborhoods for tourists or visitors, based on the high number of reviews they receive."
      ],
      "metadata": {
        "id": "x-lUsV2mp1ck"
      }
    },
    {
      "cell_type": "markdown",
      "source": [
        "##### 3. Will the gained insights help creating a positive business impact?\n",
        "Are there any insights that lead to negative growth? Justify with specific reason."
      ],
      "metadata": {
        "id": "M7G43BXep1ck"
      }
    },
    {
      "cell_type": "markdown",
      "source": [
        "Answer Here"
      ],
      "metadata": {
        "id": "5wwDJXsLp1cl"
      }
    },
    {
      "cell_type": "markdown",
      "source": [
        "#### Chart - 13 - Most reviewed room type per month in neighbourhood groups"
      ],
      "metadata": {
        "id": "Ag9LCva-p1cl"
      }
    },
    {
      "cell_type": "code",
      "source": [
        "# create a figure with a default size of (10, 8)\n",
        "f, ax = plt.subplots(figsize=(10, 8))\n",
        "\n",
        "# create a stripplot that displays the number of reviews per month for each room type in the Airbnb NYC dataset\n",
        "ax = sns.stripplot(x='room_type', y='reviews_per_month', hue='neighbourhood_group', dodge=True, data=Airbnb_df, palette='Set1')\n",
        "\n",
        "# set the title of the plot\n",
        "ax.set_title('Most Reviewed room_types in each Neighbourhood Groups', fontsize='13')"
      ],
      "metadata": {
        "id": "EUfxeq9-p1cl"
      },
      "execution_count": null,
      "outputs": []
    },
    {
      "cell_type": "markdown",
      "source": [
        "##### 1. Why did you pick the specific chart?"
      ],
      "metadata": {
        "id": "E6MkPsBcp1cl"
      }
    },
    {
      "cell_type": "markdown",
      "source": [
        "I am using the Seaborn’s stripplot to simply plotting of the total_reviews_month data points with jitter using stripplot. One of the biggest benefits of stripplot is we can actually see the original data and its distributions, instead of just the summary."
      ],
      "metadata": {
        "id": "V22bRsFWp1cl"
      }
    },
    {
      "cell_type": "markdown",
      "source": [
        "##### 2. What is/are the insight(s) found from the chart?"
      ],
      "metadata": {
        "id": "2cELzS2fp1cl"
      }
    },
    {
      "cell_type": "markdown",
      "source": [
        "*   We can see that Private room recieved the most no of reviews/month where Manhattan had the highest reviews received for Private rooms with more than 50 reviews/month, followed by Manhattan in the chase.\n",
        "\n",
        "*   Manhattan & Queens got the most no of reviews for Entire home/apt room type.\n",
        "\n",
        "*   There were less reviews recieved from shared rooms as compared to other room types and it was from Staten Island followed by Bronx."
      ],
      "metadata": {
        "id": "ozQPc2_Ip1cl"
      }
    },
    {
      "cell_type": "markdown",
      "source": [
        "##### 3. Will the gained insights help creating a positive business impact?\n",
        "Are there any insights that lead to negative growth? Justify with specific reason."
      ],
      "metadata": {
        "id": "3MPXvC8up1cl"
      }
    },
    {
      "cell_type": "markdown",
      "source": [
        "Answer Here"
      ],
      "metadata": {
        "id": "GL8l1tdLp1cl"
      }
    },
    {
      "cell_type": "markdown",
      "source": [
        "#### Chart - 14 - Count Of Each Room Types In Entire NYC Using Multiple Bar Plot"
      ],
      "metadata": {
        "id": "zz2E7fMoaiNm"
      }
    },
    {
      "cell_type": "code",
      "source": [
        "# Now analysis Room types count in Neighbourhood groups in NYC\n",
        "\n",
        "# Set the size of the plot\n",
        "plt.rcParams['figure.figsize'] = (10, 5)\n",
        "\n",
        "# Create a countplot using seaborn\n",
        "ax = sns.countplot(y='room_type', hue='neighbourhood_group', data=Airbnb_df, palette='bright')\n",
        "\n",
        "# Calculate the total number of room_type values\n",
        "total = len(Airbnb_df['room_type'])\n",
        "\n",
        "# Add percentage labels to each bar in the plot\n",
        "for p in ax.patches:\n",
        "        percentage = '{:.1f}%'.format(100 * p.get_width()/total)\n",
        "        x = p.get_x() + p.get_width() + 0.02\n",
        "        y = p.get_y() + p.get_height()/2\n",
        "        ax.annotate(percentage, (x, y))\n",
        "\n",
        "# Add a title to the plot\n",
        "plt.title('count of each room types in entire NYC', fontsize='15')\n",
        "\n",
        "# Add a label to the x-axis\n",
        "plt.xlabel('Room counts', fontsize='14')\n",
        "\n",
        "# Rotate the x-tick labels\n",
        "plt.xticks(rotation=90)\n",
        "\n",
        "# Add a label to the y-axis\n",
        "plt.ylabel('Rooms', fontsize='14')\n",
        "\n",
        "# Display the plot\n",
        "plt.show()"
      ],
      "metadata": {
        "id": "CSzyR52Fa0-K"
      },
      "execution_count": null,
      "outputs": []
    },
    {
      "cell_type": "markdown",
      "source": [
        "##### 1. Why did you pick the specific chart?"
      ],
      "metadata": {
        "id": "XvlTKneoa284"
      }
    },
    {
      "cell_type": "markdown",
      "source": [
        "The countplot is used to represent the each room types(counts) of the observation present in the neighbourhood_group. It uses the concept of a bar chart for the visual depiction."
      ],
      "metadata": {
        "id": "yUIDRSngd7qb"
      }
    },
    {
      "cell_type": "markdown",
      "source": [
        "##### 2. What is/are the insight(s) found from the chart?"
      ],
      "metadata": {
        "id": "fGbZ7cQEbBhY"
      }
    },
    {
      "cell_type": "markdown",
      "source": [
        "* Manhattan has more listed properties with Entire home/apt around 23.8% of total listed properties followed by Brooklyn with around 19.4%.\n",
        "\n",
        "*   Private rooms are more in Brooklyn as in 22.4% of the total listed properties followed by Manhattan with 17.1% of them. While 7.4% of private rooms are from Queens.\n",
        "\n",
        "*   Very few of the total listed have shared rooms listed on Airbnb where there's negligible or almost very rare shared rooms in Staten Island and Bronx.\n",
        "\n",
        "*   We can infer that Brooklyn,Queens,Bronx has more private room types while Manhattan which has the highest no of listings in entire NYC has more Entire home/apt room types.\n"
      ],
      "metadata": {
        "id": "j1L75vtld9hh"
      }
    },
    {
      "cell_type": "markdown",
      "source": [
        "##### 3. Will the gained insights help creating a positive business impact?\n",
        "Are there any insights that lead to negative growth? Justify with specific reason."
      ],
      "metadata": {
        "id": "veLFwTDqbHDm"
      }
    },
    {
      "cell_type": "markdown",
      "source": [],
      "metadata": {
        "id": "55snipRvd_Vu"
      }
    },
    {
      "cell_type": "markdown",
      "source": [
        "#### Chart - 15 - Use latitude and longitude in scatterplot map and find neighbourhood_groups and Room types in map"
      ],
      "metadata": {
        "id": "DLmP_UA6l6cv"
      }
    },
    {
      "cell_type": "code",
      "source": [
        "#trying to find where the coordinates belong from the latitude and longitude\n",
        "\n",
        "# set the default figure size for the seaborn library\n",
        "sns.set(rc={\"figure.figsize\": (10, 8)})\n",
        "\n",
        "# create a scatter plot that displays the longitude and latitude of the listings in the Airbnb NYC dataset\n",
        "ax = sns.scatterplot(data=Airbnb_df, x=\"longitude\", y=\"latitude\", hue='neighbourhood_group', palette='bright')\n",
        "\n",
        "# set the title of the plot\n",
        "ax.set_title('Location Co-ordinates', fontsize='14')"
      ],
      "metadata": {
        "id": "xXGe4mRal-k4"
      },
      "execution_count": null,
      "outputs": []
    },
    {
      "cell_type": "code",
      "source": [
        "# Let's observe the type of room_types\n",
        "\n",
        "# set the default figure size for the seaborn library\n",
        "sns.set(rc={\"figure.figsize\": (10, 8)})\n",
        "\n",
        "# create a scatter plot that displays the longitude and latitude of the listings in the Airbnb NYC dataset with room_types.\n",
        "ax = sns.scatterplot(x=Airbnb_df.longitude, y=Airbnb_df.latitude, hue=Airbnb_df.room_type, palette='muted')\n",
        "\n",
        "# set the title of the plot\n",
        "ax.set_title('Distribution of type of rooms across NYC', fontsize='14')\n"
      ],
      "metadata": {
        "id": "bvTrGAbPmrmI"
      },
      "execution_count": null,
      "outputs": []
    },
    {
      "cell_type": "markdown",
      "source": [
        "#### Chart - 16 - Price variations in NYC Neighbourhood groups using Scatter plot"
      ],
      "metadata": {
        "id": "KE0AL0-znAjd"
      }
    },
    {
      "cell_type": "code",
      "source": [
        "# Let's have an idea of the price variations in neighborhood_groups\n",
        "\n",
        "# create a scatter plot that displays the longitude and latitude of the listings in the Airbnb NYC dataset, with the color of each point indicating the price of the listing\n",
        "lat_long = Airbnb_df.plot(kind='scatter', x='longitude', y='latitude', label='price_variations', c='price',\n",
        "                  cmap=plt.get_cmap('jet'), colorbar=True, alpha=0.4, figsize=(10, 8))\n",
        "\n",
        "# add a legend to the plot\n",
        "lat_long.legend()"
      ],
      "metadata": {
        "id": "hBZ5iEIwnGgx"
      },
      "execution_count": null,
      "outputs": []
    },
    {
      "cell_type": "markdown",
      "source": [
        "##### 1. Why did you pick the specific chart?"
      ],
      "metadata": {
        "id": "vwAnZ3rXnnBl"
      }
    },
    {
      "cell_type": "markdown",
      "source": [
        "Scatter plots' primary uses are to observe and show relationships between two numeric variables. Here I am trying to display the relation between Lat&Long of the properties listed and Price"
      ],
      "metadata": {
        "id": "M_GPOSp5nxHI"
      }
    },
    {
      "cell_type": "markdown",
      "source": [
        "##### 2. What is/are the insight(s) found from the chart?"
      ],
      "metadata": {
        "id": "3C9nKhmqnfT_"
      }
    },
    {
      "cell_type": "markdown",
      "source": [
        "*   The range of prices for accommodations in Manhattan is particularly high, indicating that it is the most expensive place to stay in NYC due to its various attractive amenities, as shown in the attached image.\n",
        "\n",
        "*   they are likely to attract a lot of tourists or visitors because of more valuable things to visit so price is higher than other neighbourhood groups.\n",
        "\n",
        "*   Travelers are likely to spent more days in this area because of popular amenities, high concentration of tourist attractions and public transports."
      ],
      "metadata": {
        "id": "hpY2U_0LniQM"
      }
    },
    {
      "cell_type": "markdown",
      "source": [
        "#### Chart - 17 - Find Best Location Listing/Property Location For Travelers and Hosts"
      ],
      "metadata": {
        "id": "91HQrrwAtj7Q"
      }
    },
    {
      "cell_type": "markdown",
      "source": [
        "![NYC.jpeg](data:image/jpeg;base64,/9j/4AAQSkZJRgABAQEAYABgAAD/4RHeRXhpZgAATU0AKgAAAAgADwEOAAIAAAAVAAAIzgEaAAUAAAABAAAI5AEbAAUAAAABAAAI7AEoAAMAAAABAAIAAAExAAIAAAAQAAAI9AE7AAIAAAASAAAJBEdGAAMAAAABAAUAAEdJAAMAAAABAGMAAIKYAAIAAAASAAAJFodpAAQAAAABAAAJKJybAAEAAAAqAAARSJycAAEAAAAaAAARcpydAAEAAAAkAAARjJyfAAEAAAAmAAARsOocAAcAAAgMAAAAwgAAAAAc6gAAAAgAAAAAAAAAAAAAAAAAAAAAAAAAAAAAAAAAAAAAAAAAAAAAAAAAAAAAAAAAAAAAAAAAAAAAAAAAAAAAAAAAAAAAAAAAAAAAAAAAAAAAAAAAAAAAAAAAAAAAAAAAAAAAAAAAAAAAAAAAAAAAAAAAAAAAAAAAAAAAAAAAAAAAAAAAAAAAAAAAAAAAAAAAAAAAAAAAAAAAAAAAAAAAAAAAAAAAAAAAAAAAAAAAAAAAAAAAAAAAAAAAAAAAAAAAAAAAAAAAAAAAAAAAAAAAAAAAAAAAAAAAAAAAAAAAAAAAAAAAAAAAAAAAAAAAAAAAAAAAAAAAAAAAAAAAAAAAAAAAAAAAAAAAAAAAAAAAAAAAAAAAAAAAAAAAAAAAAAAAAAAAAAAAAAAAAAAAAAAAAAAAAAAAAAAAAAAAAAAAAAAAAAAAAAAAAAAAAAAAAAAAAAAAAAAAAAAAAAAAAAAAAAAAAAAAAAAAAAAAAAAAAAAAAAAAAAAAAAAAAAAAAAAAAAAAAAAAAAAAAAAAAAAAAAAAAAAAAAAAAAAAAAAAAAAAAAAAAAAAAAAAAAAAAAAAAAAAAAAAAAAAAAAAAAAAAAAAAAAAAAAAAAAAAAAAAAAAAAAAAAAAAAAAAAAAAAAAAAAAAAAAAAAAAAAAAAAAAAAAAAAAAAAAAAAAAAAAAAAAAAAAAAAAAAAAAAAAAAAAAAAAAAAAAAAAAAAAAAAAAAAAAAAAAAAAAAAAAAAAAAAAAAAAAAAAAAAAAAAAAAAAAAAAAAAAAAAAAAAAAAAAAAAAAAAAAAAAAAAAAAAAAAAAAAAAAAAAAAAAAAAAAAAAAAAAAAAAAAAAAAAAAAAAAAAAAAAAAAAAAAAAAAAAAAAAAAAAAAAAAAAAAAAAAAAAAAAAAAAAAAAAAAAAAAAAAAAAAAAAAAAAAAAAAAAAAAAAAAAAAAAAAAAAAAAAAAAAAAAAAAAAAAAAAAAAAAAAAAAAAAAAAAAAAAAAAAAAAAAAAAAAAAAAAAAAAAAAAAAAAAAAAAAAAAAAAAAAAAAAAAAAAAAAAAAAAAAAAAAAAAAAAAAAAAAAAAAAAAAAAAAAAAAAAAAAAAAAAAAAAAAAAAAAAAAAAAAAAAAAAAAAAAAAAAAAAAAAAAAAAAAAAAAAAAAAAAAAAAAAAAAAAAAAAAAAAAAAAAAAAAAAAAAAAAAAAAAAAAAAAAAAAAAAAAAAAAAAAAAAAAAAAAAAAAAAAAAAAAAAAAAAAAAAAAAAAAAAAAAAAAAAAAAAAAAAAAAAAAAAAAAAAAAAAAAAAAAAAAAAAAAAAAAAAAAAAAAAAAAAAAAAAAAAAAAAAAAAAAAAAAAAAAAAAAAAAAAAAAAAAAAAAAAAAAAAAAAAAAAAAAAAAAAAAAAAAAAAAAAAAAAAAAAAAAAAAAAAAAAAAAAAAAAAAAAAAAAAAAAAAAAAAAAAAAAAAAAAAAAAAAAAAAAAAAAAAAAAAAAAAAAAAAAAAAAAAAAAAAAAAAAAAAAAAAAAAAAAAAAAAAAAAAAAAAAAAAAAAAAAAAAAAAAAAAAAAAAAAAAAAAAAAAAAAAAAAAAAAAAAAAAAAAAAAAAAAAAAAAAAAAAAAAAAAAAAAAAAAAAAAAAAAAAAAAAAAAAAAAAAAAAAAAAAAAAAAAAAAAAAAAAAAAAAAAAAAAAAAAAAAAAAAAAAAAAAAAAAAAAAAAAAAAAAAAAAAAAAAAAAAAAAAAAAAAAAAAAAAAAAAAAAAAAAAAAAAAAAAAAAAAAAAAAAAAAAAAAAAAAAAAAAAAAAAAAAAAAAAAAAAAAAAAAAAAAAAAAAAAAAAAAAAAAAAAAAAAAAAAAAAAAAAAAAAAAAAAAAAAAAAAAAAAAAAAAAAAAAAAAAAAAAAAAAAAAAAAAAAAAAAAAAAAAAAAAAAAAAAAAAAAAAAAAAAAAAAAAAAAAAAAAAAAAAAAAAAAAAAAAAAAAAAAAAAAAAAAAAAAAAAAAAAAAAAAAAAAAAAAAAAAAAAAAAAAAAAAAAAAAAAAAAAAAAAAAAAAAAAAAAAAAAAAAAAAAAAAAAAAAAAAAAAAAAAAAAAAAAAAAAAAAAAAAAAAAAAAAAAAAAAAAAAAAAAAAAAAAAAAAAAAAAAAAAAAAAAAAAAAAAAAAAAAAAAAAAAAAAAAAAAAAAAAAAAAAAAAAAAAAAAAAAAAAAAAAAAAAAAAAAAAAAAAAAAAAAAAAAAAAAAAAAAAAAAAAAAAAAAAAAAAAAAAAAAAAAAAAAAAAAAAAAAAAAAAAAAAAAAAAAAAAAAAAAAAAAAAAAAAAAAAAAAAAAAAAAAAAAAAAAAAAAAAAAAAAAAAAAAAAAAAAAAAAAAAAAAAAAAAAAAAAAAAAAAAAAAAAAAAAAAAAAAAAAAAAAAAAAAAAAAAAAAAAAAAAAAAAAAAAAAAAAAAAAAAAAAAAAAAAAAAAAAAAAAAAAAAAAAAAAAAAAAAAAAAAAAAAAAAAAAAAAAAAAAAAAAAAAAAAAAAAAAAAAAAAAAAAAAAAAAAAAAAAAAAAAAAAAAAAAAAAAAAAAAAAAAAAAAAAAAAAAAAAAAAAAAAAAAAAAAAAAAAAAAAAAAAAAAAAAAAAAAAAAAAAAAAAAAAAAAAAAAAAAAAAAAAAAAAAAAAAAAAAAAAAAAAAAAAAAAAAAAAAAAAAAAAAAAAAAAAAAAAAAAAAAAAAAAAAAAAAAAAAAAAAAAAAAAAAAAAAAAAAAAAAAAAAAAAAAAE1hcCBvZiBOZXcgWW9yayBDaXR5AAAAAABgAAAAAQAAAGAAAAABcGFpbnQubmV0IDQuMS4xAE9udGhld29ybGRtYXAuY29tAE9udGhld29ybGRtYXAuY29tAAAB6hwABwAACAwAAAk6AAAAABzqAAAACAAAAAAAAAAAAAAAAAAAAAAAAAAAAAAAAAAAAAAAAAAAAAAAAAAAAAAAAAAAAAAAAAAAAAAAAAAAAAAAAAAAAAAAAAAAAAAAAAAAAAAAAAAAAAAAAAAAAAAAAAAAAAAAAAAAAAAAAAAAAAAAAAAAAAAAAAAAAAAAAAAAAAAAAAAAAAAAAAAAAAAAAAAAAAAAAAAAAAAAAAAAAAAAAAAAAAAAAAAAAAAAAAAAAAAAAAAAAAAAAAAAAAAAAAAAAAAAAAAAAAAAAAAAAAAAAAAAAAAAAAAAAAAAAAAAAAAAAAAAAAAAAAAAAAAAAAAAAAAAAAAAAAAAAAAAAAAAAAAAAAAAAAAAAAAAAAAAAAAAAAAAAAAAAAAAAAAAAAAAAAAAAAAAAAAAAAAAAAAAAAAAAAAAAAAAAAAAAAAAAAAAAAAAAAAAAAAAAAAAAAAAAAAAAAAAAAAAAAAAAAAAAAAAAAAAAAAAAAAAAAAAAAAAAAAAAAAAAAAAAAAAAAAAAAAAAAAAAAAAAAAAAAAAAAAAAAAAAAAAAAAAAAAAAAAAAAAAAAAAAAAAAAAAAAAAAAAAAAAAAAAAAAAAAAAAAAAAAAAAAAAAAAAAAAAAAAAAAAAAAAAAAAAAAAAAAAAAAAAAAAAAAAAAAAAAAAAAAAAAAAAAAAAAAAAAAAAAAAAAAAAAAAAAAAAAAAAAAAAAAAAAAAAAAAAAAAAAAAAAAAAAAAAAAAAAAAAAAAAAAAAAAAAAAAAAAAAAAAAAAAAAAAAAAAAAAAAAAAAAAAAAAAAAAAAAAAAAAAAAAAAAAAAAAAAAAAAAAAAAAAAAAAAAAAAAAAAAAAAAAAAAAAAAAAAAAAAAAAAAAAAAAAAAAAAAAAAAAAAAAAAAAAAAAAAAAAAAAAAAAAAAAAAAAAAAAAAAAAAAAAAAAAAAAAAAAAAAAAAAAAAAAAAAAAAAAAAAAAAAAAAAAAAAAAAAAAAAAAAAAAAAAAAAAAAAAAAAAAAAAAAAAAAAAAAAAAAAAAAAAAAAAAAAAAAAAAAAAAAAAAAAAAAAAAAAAAAAAAAAAAAAAAAAAAAAAAAAAAAAAAAAAAAAAAAAAAAAAAAAAAAAAAAAAAAAAAAAAAAAAAAAAAAAAAAAAAAAAAAAAAAAAAAAAAAAAAAAAAAAAAAAAAAAAAAAAAAAAAAAAAAAAAAAAAAAAAAAAAAAAAAAAAAAAAAAAAAAAAAAAAAAAAAAAAAAAAAAAAAAAAAAAAAAAAAAAAAAAAAAAAAAAAAAAAAAAAAAAAAAAAAAAAAAAAAAAAAAAAAAAAAAAAAAAAAAAAAAAAAAAAAAAAAAAAAAAAAAAAAAAAAAAAAAAAAAAAAAAAAAAAAAAAAAAAAAAAAAAAAAAAAAAAAAAAAAAAAAAAAAAAAAAAAAAAAAAAAAAAAAAAAAAAAAAAAAAAAAAAAAAAAAAAAAAAAAAAAAAAAAAAAAAAAAAAAAAAAAAAAAAAAAAAAAAAAAAAAAAAAAAAAAAAAAAAAAAAAAAAAAAAAAAAAAAAAAAAAAAAAAAAAAAAAAAAAAAAAAAAAAAAAAAAAAAAAAAAAAAAAAAAAAAAAAAAAAAAAAAAAAAAAAAAAAAAAAAAAAAAAAAAAAAAAAAAAAAAAAAAAAAAAAAAAAAAAAAAAAAAAAAAAAAAAAAAAAAAAAAAAAAAAAAAAAAAAAAAAAAAAAAAAAAAAAAAAAAAAAAAAAAAAAAAAAAAAAAAAAAAAAAAAAAAAAAAAAAAAAAAAAAAAAAAAAAAAAAAAAAAAAAAAAAAAAAAAAAAAAAAAAAAAAAAAAAAAAAAAAAAAAAAAAAAAAAAAAAAAAAAAAAAAAAAAAAAAAAAAAAAAAAAAAAAAAAAAAAAAAAAAAAAAAAAAAAAAAAAAAAAAAAAAAAAAAAAAAAAAAAAAAAAAAAAAAAAAAAAAAAAAAAAAAAAAAAAAAAAAAAAAAAAAAAAAAAAAAAAAAAAAAAAAAAAAAAAAAAAAAAAAAAAAAAAAAAAAAAAAAAAAAAAAAAAAAAAAAAAAAAAAAAAAAAAAAAAAAAAAAAAAAAAAAAAAAAAAAAAAAAAAAAAAAAAAAAAAAAAAAAAAAAAAAAAAAAAAAAAAAAAAAAAAAAAAAAAAAAAAAAAAAAAAAAAAAAAAAAAAAAAAAAAAAAAAAAAAAAAAAAAAAAAAAAAAAAAAAAAAAAAAAAAAAAAAAAAAAAAAAAAAAAAAAAAAAAAAAAAAAAAAAAAAAAAAAAAAAAAAAAAAAAAAAAAAAAAAAAAAAAAAAAAAAAAAAAAAAAAAAAAAAAAAAAAAAAAAAAAAAAAAAAAAAAAAAAAAAAAAAAAAAAAAAAAAAAAAAAAAAAAAAAAAAAAAAAAAAAAAAAAAAAAAAAAAAAAAAAAAAAAAAAAAAAAAAAAAAAAAAAAAAAAAAAAAAAAAAAAAAAAAAAAAAAAAAAAAAAAAAAAAAAAAAAAAAAAAAAAAAAAAAAAAAAAAAAAAAAAAAAAAAAAAAAAAAAAAAAAAAAAAAAAAAAAAAAAAAAAAAAAAAAAAAAAAAAAAAAAAAAAAAAAAAAAAAAAAAAAAAAAAAAAAAAAAAAAAAAAAAAAAAAAAAAAAAAAAAAAAAAAAAAAAAAAAAAAAAAAAAAAAAAAAAAAAAAAAAAAAAAAAAAAAAAAAAAAAAAAAAAAAAAAAAAAAAAAAAAAAAAAAAAAAAAAAAAAAAAAAAAAAAAAAAAAAAAAAAAAAAAAAAAABNAGEAcAAgAG8AZgAgAE4AZQB3ACAAWQBvAHIAawAgAEMAaQB0AHkAAAAWIUEAMAA1ADEAMgAxADkAMAAxADEAMAAAAE8AbgB0AGgAZQB3AG8AcgBsAGQAbQBhAHAALgBjAG8AbQAAAE4AZQB3ACAAWQBvAHIAawAgAEMAaQB0AHkAIABNAGEAcABzAAAA/+ENsmh0dHA6Ly9ucy5hZG9iZS5jb20veGFwLzEuMC8APD94cGFja2V0IGJlZ2luPSfvu78nIGlkPSdXNU0wTXBDZWhpSHpyZVN6TlRjemtjOWQnPz4NCjx4OnhtcG1ldGEgeG1sbnM6eD0iYWRvYmU6bnM6bWV0YS8iPjxyZGY6UkRGIHhtbG5zOnJkZj0iaHR0cDovL3d3dy53My5vcmcvMTk5OS8wMi8yMi1yZGYtc3ludGF4LW5zIyI+PHJkZjpEZXNjcmlwdGlvbiByZGY6YWJvdXQ9InV1aWQ6ZmFmNWJkZDUtYmEzZC0xMWRhLWFkMzEtZDMzZDc1MTgyZjFiIiB4bWxuczpkYz0iaHR0cDovL3B1cmwub3JnL2RjL2VsZW1lbnRzLzEuMS8iLz48cmRmOkRlc2NyaXB0aW9uIHJkZjphYm91dD0idXVpZDpmYWY1YmRkNS1iYTNkLTExZGEtYWQzMS1kMzNkNzUxODJmMWIiIHhtbG5zOmRjPSJodHRwOi8vcHVybC5vcmcvZGMvZWxlbWVudHMvMS4xLyI+PGRjOnJpZ2h0cz48cmRmOkFsdCB4bWxuczpyZGY9Imh0dHA6Ly93d3cudzMub3JnLzE5OTkvMDIvMjItcmRmLXN5bnRheC1ucyMiPjxyZGY6bGkgeG1sOmxhbmc9IngtZGVmYXVsdCI+T250aGV3b3JsZG1hcC5jb208L3JkZjpsaT48L3JkZjpBbHQ+DQoJCQk8L2RjOnJpZ2h0cz48ZGM6Y3JlYXRvcj48cmRmOlNlcSB4bWxuczpyZGY9Imh0dHA6Ly93d3cudzMub3JnLzE5OTkvMDIvMjItcmRmLXN5bnRheC1ucyMiPjxyZGY6bGk+T250aGV3b3JsZG1hcC5jb208L3JkZjpsaT48L3JkZjpTZXE+DQoJCQk8L2RjOmNyZWF0b3I+PGRjOnRpdGxlPjxyZGY6QWx0IHhtbG5zOnJkZj0iaHR0cDovL3d3dy53My5vcmcvMTk5OS8wMi8yMi1yZGYtc3ludGF4LW5zIyI+PHJkZjpsaSB4bWw6bGFuZz0ieC1kZWZhdWx0Ij5NYXAgb2YgTmV3IFlvcmsgQ2l0eTwvcmRmOmxpPjwvcmRmOkFsdD4NCgkJCTwvZGM6dGl0bGU+PGRjOmRlc2NyaXB0aW9uPjxyZGY6QWx0IHhtbG5zOnJkZj0iaHR0cDovL3d3dy53My5vcmcvMTk5OS8wMi8yMi1yZGYtc3ludGF4LW5zIyI+PHJkZjpsaSB4bWw6bGFuZz0ieC1kZWZhdWx0Ij5NYXAgb2YgTmV3IFlvcmsgQ2l0eTwvcmRmOmxpPjwvcmRmOkFsdD4NCgkJCTwvZGM6ZGVzY3JpcHRpb24+PC9yZGY6RGVzY3JpcHRpb24+PHJkZjpEZXNjcmlwdGlvbiByZGY6YWJvdXQ9InV1aWQ6ZmFmNWJkZDUtYmEzZC0xMWRhLWFkMzEtZDMzZDc1MTgyZjFiIiB4bWxuczp4bXA9Imh0dHA6Ly9ucy5hZG9iZS5jb20veGFwLzEuMC8iPjx4bXA6UmF0aW5nPjU8L3htcDpSYXRpbmc+PC9yZGY6RGVzY3JpcHRpb24+PHJkZjpEZXNjcmlwdGlvbiByZGY6YWJvdXQ9InV1aWQ6ZmFmNWJkZDUtYmEzZC0xMWRhLWFkMzEtZDMzZDc1MTgyZjFiIiB4bWxuczpNaWNyb3NvZnRQaG90bz0iaHR0cDovL25zLm1pY3Jvc29mdC5jb20vcGhvdG8vMS4wLyI+PE1pY3Jvc29mdFBob3RvOlJhdGluZz45OTwvTWljcm9zb2Z0UGhvdG86UmF0aW5nPjwvcmRmOkRlc2NyaXB0aW9uPjwvcmRmOlJERj48L3g6eG1wbWV0YT4NCiAgICAgICAgICAgICAgICAgICAgICAgICAgICAgICAgICAgICAgICAgICAgICAgICAgICAgICAgICAgICAgICAgICAgICAgICAgICAgICAgICAgICAgICAgICAgICAgICAgICAKICAgICAgICAgICAgICAgICAgICAgICAgICAgICAgICAgICAgICAgICAgICAgICAgICAgICAgICAgICAgICAgICAgICAgICAgICAgICAgICAgICAgICAgICAgICAgICAgICAgIAogICAgICAgICAgICAgICAgICAgICAgICAgICAgICAgICAgICAgICAgICAgICAgICAgICAgICAgICAgICAgICAgICAgICAgICAgICAgICAgICAgICAgICAgICAgICAgICAgICAgCiAgICAgICAgICAgICAgICAgICAgICAgICAgICAgICAgICAgICAgICAgICAgICAgICAgICAgICAgICAgICAgICAgICAgICAgICAgICAgICAgICAgICAgICAgICAgICAgICAgICAKICAgICAgICAgICAgICAgICAgICAgICAgICAgICAgICAgICAgICAgICAgICAgICAgICAgICAgICAgICAgICAgICAgICAgICAgICAgICAgICAgICAgICAgICAgICAgICAgICAgIAogICAgICAgICAgICAgICAgICAgICAgICAgICAgICAgICAgICAgICAgICAgICAgICAgICAgICAgICAgICAgICAgICAgICAgICAgICAgICAgICAgICAgICAgICAgICAgICAgICAgCiAgICAgICAgICAgICAgICAgICAgICAgICAgICAgICAgICAgICAgICAgICAgICAgICAgICAgICAgICAgICAgICAgICAgICAgICAgICAgICAgICAgICAgICAgICAgICAgICAgICAKICAgICAgICAgICAgICAgICAgICAgICAgICAgICAgICAgICAgICAgICAgICAgICAgICAgICAgICAgICAgICAgICAgICAgICAgICAgICAgICAgICAgICAgICAgICAgICAgICAgIAogICAgICAgICAgICAgICAgICAgICAgICAgICAgICAgICAgICAgICAgICAgICAgICAgICAgICAgICAgICAgICAgICAgICAgICAgICAgICAgICAgICAgICAgICAgICAgICAgICAgCiAgICAgICAgICAgICAgICAgICAgICAgICAgICAgICAgICAgICAgICAgICAgICAgICAgICAgICAgICAgICAgICAgICAgICAgICAgICAgICAgICAgICAgICAgICAgICAgICAgICAKICAgICAgICAgICAgICAgICAgICAgICAgICAgICAgICAgICAgICAgICAgICAgICAgICAgICAgICAgICAgICAgICAgICAgICAgICAgICAgICAgICAgICAgICAgICAgICAgICAgIAogICAgICAgICAgICAgICAgICAgICAgICAgICAgICAgICAgICAgICAgICAgICAgICAgICAgICAgICAgICAgICAgICAgICAgICAgICAgICAgICAgICAgICAgICAgICAgICAgICAgCiAgICAgICAgICAgICAgICAgICAgICAgICAgICAgICAgICAgICAgICAgICAgICAgICAgICAgICAgICAgICAgICAgICAgICAgICAgICAgICAgICAgICAgICAgICAgICAgICAgICAKICAgICAgICAgICAgICAgICAgICAgICAgICAgICAgICAgICAgICAgICAgICAgICAgICAgICAgICAgICAgICAgICAgICAgICAgICAgICAgICAgICAgICAgICAgICAgICAgICAgIAogICAgICAgICAgICAgICAgICAgICAgICAgICAgICAgICAgICAgICAgICAgICAgICAgICAgICAgICAgICAgICAgICAgICAgICAgICAgICAgICAgICAgICAgICAgICAgICAgICAgCiAgICAgICAgICAgICAgICAgICAgICAgICAgICAgICAgICAgICAgICAgICAgICAgICAgICAgICAgICAgICAgICAgICAgICAgICAgICAgICAgICAgICAgICAgICAgICAgICAgICAKICAgICAgICAgICAgICAgICAgICAgICAgICAgICAgICAgICAgICAgICAgICAgICAgICAgICAgICAgICAgICAgICAgICAgICAgICAgICAgICAgICAgICAgICAgICAgICAgICAgIAogICAgICAgICAgICAgICAgICAgICAgICAgICAgICAgICAgICAgICAgICAgICAgICAgICAgICAgICAgICAgICAgICAgICAgICAgICAgICAgICAgICAgICAgICAgICAgICAgICAgCiAgICAgICAgICAgICAgICAgICAgICAgICAgICAgICAgICAgICAgICAgICAgICAgICAgICAgICAgICAgICAgICAgICAgICAgICAgICAgICAgICAgICAgICAgICAgICAgICAgICAKICAgICAgICAgICAgICAgICAgICAgICAgICAgICAgICAgICAgICAgICAgICAgICAgICAgICAgICAgICAgICAgICAgICAgICAgICAgICAgICAgICAgICAgICAgICAgICAgICAgIAogICAgICAgICAgICAgICAgICAgICAgICAgICAgPD94cGFja2V0IGVuZD0ndyc/Pv/bAEMABAIDAwMCBAMDAwQEBAQFCQYFBQUFCwgIBgkNCw0NDQsMDA4QFBEODxMPDAwSGBITFRYXFxcOERkbGRYaFBYXFv/bAEMBBAQEBQUFCgYGChYPDA8WFhYWFhYWFhYWFhYWFhYWFhYWFhYWFhYWFhYWFhYWFhYWFhYWFhYWFhYWFhYWFhYWFv/AABEIBEAETAMBIgACEQEDEQH/xAAfAAABBQEBAQEBAQAAAAAAAAAAAQIDBAUGBwgJCgv/xAC1EAACAQMDAgQDBQUEBAAAAX0BAgMABBEFEiExQQYTUWEHInEUMoGRoQgjQrHBFVLR8CQzYnKCCQoWFxgZGiUmJygpKjQ1Njc4OTpDREVGR0hJSlNUVVZXWFlaY2RlZmdoaWpzdHV2d3h5eoOEhYaHiImKkpOUlZaXmJmaoqOkpaanqKmqsrO0tba3uLm6wsPExcbHyMnK0tPU1dbX2Nna4eLj5OXm5+jp6vHy8/T19vf4+fr/xAAfAQADAQEBAQEBAQEBAAAAAAAAAQIDBAUGBwgJCgv/xAC1EQACAQIEBAMEBwUEBAABAncAAQIDEQQFITEGEkFRB2FxEyIygQgUQpGhscEJIzNS8BVictEKFiQ04SXxFxgZGiYnKCkqNTY3ODk6Q0RFRkdISUpTVFVWV1hZWmNkZWZnaGlqc3R1dnd4eXqCg4SFhoeIiYqSk5SVlpeYmZqio6Slpqeoqaqys7S1tre4ubrCw8TFxsfIycrS09TV1tfY2dri4+Tl5ufo6ery8/T19vf4+fr/2gAMAwEAAhEDEQA/APo34M/DvQPFPhBtT1N7wTC6eLEMoVcAKRwVPqa63/hS/g//AJ66l/4EL/8AE0fsx/8AJN5P+v8Ak/8AQUr0SvCy7LcHUwlOc6abaM4Qi4rQ87/4Uv4P/wCeupf+BC//ABNH/Cl/B/8Az11L/wACF/8Aia9Eort/srA/8+l9xXJHsed/8KX8H/8APXUv/Ahf/iaP+FL+D/8AnrqX/gQv/wATXolFH9lYH/n0vuDkj2PO/wDhS/g//nrqX/gQv/xNH/Cl/B//AD11L/wIX/4mvRKKP7KwP/PpfcHJHsed/wDCl/B//PXUv/Ahf/iaP+FL+D/+eupf+BC//E16JRR/ZWB/59L7g5I9jzv/AIUv4P8A+eupf+BC/wDxNH/Cl/B//PXUv/Ahf/ia9Eoo/srA/wDPpfcHJHsed/8ACl/B/wDz11L/AMCF/wDiaP8AhS/g/wD566l/4EL/APE16JRR/ZWB/wCfS+4OSPY87/4Uv4P/AOeupf8AgQv/AMTR/wAKX8H/APPXUv8AwIX/AOJr0Sij+ysD/wA+l9wckex53/wpfwf/AM9dS/8AAhf/AImj/hS/g/8A566l/wCBC/8AxNeiUUf2Vgf+fS+4OSPY87/4Uv4P/wCeupf+BC//ABNH/Cl/B/8Az11L/wACF/8Aia9Eoo/srA/8+l9wckex53/wpfwf/wA9dS/8CF/+Jo/4Uv4P/wCeupf+BC//ABNeiUUf2Vgf+fS+4OSPY87/AOFL+D/+eupf+BC//E0f8KX8H/8APXUv/Ahf/ia9Eoo/srA/8+l9wckex53/AMKX8H/89dS/8CF/+Jo/4Uv4P/566l/4EL/8TXolFH9lYH/n0vuDkj2PO/8AhS/g/wD566l/4EL/APE0f8KX8H/89dS/8CF/+Jr0Sij+ysD/AM+l9wckex53/wAKX8H/APPXUv8AwIX/AOJo/wCFL+D/APnrqX/gQv8A8TXolc/8RPHXgzwFpcWpeNfFOk6DazyeXDLqN2kIlfGdqbjljjnAzR/ZWB/59L7g5I9jm/8AhS/g/wD566l/4EL/APE0f8KX8H/89dS/8CF/+JroPhv8QfA/xAsbi88EeK9J1+G0cJcNp92k3ksQSA4ByuQDjPXBrpKP7KwP/PpfcHJHsed/8KX8H/8APXUv/Ahf/iaP+FL+D/8AnrqX/gQv/wATXolFH9lYH/n0vuDkj2PO/wDhS/g//nrqX/gQv/xNH/Cl/B//AD11L/wIX/4mvRKKP7KwP/PpfcHJHsed/wDCl/B//PXUv/Ahf/iaP+FL+D/+eupf+BC//E16JRR/ZWB/59L7g5I9jzv/AIUv4P8A+eupf+BC/wDxNH/Cl/B//PXUv/Ahf/ia9Eqta6jp9zdyWtvf2008X+sijmVnT6gHIo/srA/8+l9wckexwn/Cl/B//PXUv/Ahf/iaP+FL+D/+eupf+BC//E16JRR/ZWB/59L7g5I9jzv/AIUv4P8A+eupf+BC/wDxNH/Cl/B//PXUv/Ahf/ia9Eoo/srA/wDPpfcHJHsed/8ACl/B/wDz11L/AMCF/wDiaP8AhS/g/wD566l/4EL/APE16JRR/ZWB/wCfS+4OSPY87/4Uv4P/AOeupf8AgQv/AMTWX43+E/hfSfBer6rayagZ7HT57iIPOpXckbMMjbyMgV6xWD8VP+SYeJP+wPd/+iXo/srA/wDPpfcHs49jx/8A4QXRP711/wB/B/hR/wAILon966/7+D/Cumor4/6vS/lOr2NPscz/AMILon966/7+D/Cj/hBdE/vXX/fwf4V01FH1el/KHsafY5n/AIQXRP711/38H+FH/CC6J/euv+/g/wAK6aij6vS/lD2NPscz/wAILon966/7+D/Cj/hBdE/vXX/fwf4V01FH1el/KHsafY5n/hBdE/vXX/fwf4Uf8ILon966/wC/g/wrpqKPq9L+UPY0+xzP/CC6J/euv+/g/wAKP+EF0T+9df8Afwf4V01FH1el/KHsafY5n/hBdE/vXX/fwf4Uf8ILon966/7+D/Cumoo+r0v5Q9jT7HM/8ILon966/wC/g/wo/wCEF0T+9df9/B/hXTUUfV6X8oexp9jmf+EF0T+9df8Afwf4Uf8ACC6J/euv+/g/wrpqKPq9L+UPY0+xzP8Awguif3rr/v4P8KP+EF0T+9df9/B/hXTUUfV6X8oexp9jmf8AhBdE/vXX/fwf4Uf8ILon966/7+D/AArpqKPq9L+UPY0+xzP/AAguif3rr/v4P8KP+EF0T+9df9/B/hXTUUfV6X8oexp9jmf+EF0T+9df9/B/hR/wguif3rr/AL+D/Cumoo+r0v5Q9jT7HM/8ILon966/7+D/AAo/4QXRP711/wB/B/hXTUUfV6X8oexp9jmf+EF0T+9df9/B/hR/wguif3rr/v4P8K6aij6vS/lD2NPscz/wguif3rr/AL+D/Cj/AIQXRP711/38H+FdNVXWpHTT3SFis0/7qEjqGbgH8Op9ga0o4OFWpGnGOrdiKkKUIOTWiOc0vwXo91HJOWufJaQ+RiQZZAANx47nJHtirX/CB6J/euv+/o/wrpYI0hhSGNQqRqFVR2A4Ap1foschyyMVH2KdvI+KnjK0pN81jmP+ED0T+9df9/R/hR/wgeif3rr/AL+j/Cunoqv7Dyz/AJ8R+4n61X/mZx3/AAhejvqz26Nc+XDEC58wZLMeAOOwU5/3hU//AAguif3rr/v4P8KmjvNdtbq6v10L7fp91OWR7K4U3CBQEy0T7QVwm7KuWO7AWr2i6/pGq3D21neL9qjXdLaTI0NxEPV4XAdR7kDNfG51laoYmTVHlh000PsMFh7YeDqK7av95l/8ILon966/7+D/AAo/4QXRP711/wB/B/hXTUV431el/KdXsafY5n/hBdE/vXX/AH8H+FH/AAguif3rr/v4P8K6aij6vS/lD2NPscz/AMILon966/7+D/Cj/hBdE/vXX/fwf4V01FH1el/KHsafY5n/AIQXRP711/38H+FH/CC6J/euv+/g/wAK6aue+LiyP8K/Eghdkk/se6KMpwQwiYjBHuKccNSbS5Rexp9iL/hBdE/vXX/fwf4Uf8ILon966/7+D/CvA/iV4n1fUPhT4asdLvZlg8N6PY6hrEyyHLSyMkUMZI5zgu/PUY9K7Lxx44Wx8faz44l33Gm+F2XQ9ItvOKRXWoSAmZmPQBFyD7Djmun+zYaaL+v8yfZ0/wCU9K/4QXRP711/38H+FH/CC6J/euv+/g/wrhdH+K/iT+wPE2pXGj2GsQaLZxz295pCTrbzSMQDHmQZbbncWXjCms7x9468bXfwXGraZqvhySTVb6Czt7rR5p1kiL9UAblZAQAckfKScZxULL43tyofs6XY9L/4QXRP711/38H+FMbwZ4eW4WBridZZASkZnXcwHUgY5rmB4r8f/wBuWvgbS7LQLnxFZaf9q1a8uJpjZwqW2xopwHZ2XaST6nr25Xxhrfi0fGq/1rTtM0uS+8KeElN/9pnf7LayuvnSbSo3MSuVUcZHJIxRHAU29kHs6f8AKeqf8ILon966/wC/g/wo/wCEF0T+9df9/B/hXCa18Z54tL8NW8EWlafqmt6YuoXMupPJ9mtYzkDCp87lyDgDoMZpNQ+LfiO18G+Gr2+0fT9HuteuZ4pL3UlmWyt1j+65UYcCTPy5I6Enjmj+z1/Kg9nS7Hef8ILon966/wC/g/wo/wCEF0T+9df9/B/hXA+KNc+JV78XvDGg6Xd6EkkemNqVzHBcz/ZblW+QmTAyVDDKDvnk1XuPjZq2oeIJF8L6fpd9ax6kLKLTz5z396u4Bpk2DZGnXG705o/s+LtaKD2dLsejf8ILon966/7+D/Cj/hBdE/vXX/fwf4VgaL408Xa/8UdX0LRNJ0z+xdDv4oLy/uJHDldo8xEUcM+d2OgAAznIqp8aL/VNb+Ivh34a6bqVxptvqscl5qtzbPsmNugOI0btuKsD+HbIMrBU+azS7h7Kn/KdV/wguif3rr/v4P8ACj/hBdE/vXX/AH8H+Fcnq9vp/wAKZLXTPBlpdXmreKrlLaysb6/ke3jZAS8x3ZYABxux1wuMYqlffFbxFoWjeNIPEOm6U2r+FRamN7FpDbXBuMbBhjuBG4Z59emOWsDTl8MdP6X5h7Kn2O5/4QXRP711/wB/B/hR/wAILon966/7+D/CsfVfHuoaf48g0C4tLXy7Xw1JrOrON26ErxtXnAG4d8nBFc34R+KPje/1LwdJqvh7SbbTvFUkkUaxyyG5+QZMoB4VORwckgZ4yKFgYtX5UHs6XY7z/hBdE/vXX/fwf4Uf8ILon966/wC/g/wry7wn4x+Jcek+OvGU50m8sdNuZYUtmmndI5LfaG8heB5ZViSSQSQOK7vwv49u/EXxA0/RNLtbeSx/sKLU9TuDuLQvMoMUS84yQQ3PaiWBhG/uoPZ0+xrf8ILon966/wC/g/wo/wCEF0T+9df9/B/hXTUVj9Xpfylexp9jmf8AhBdE/vXX/fwf4Uf8ILon966/7+D/AArpqKPq9L+UPY0+xzP/AAguif3rr/v4P8KP+EF0T+9df9/B/hXTUUfV6X8oexp9jmf+EF0T+9df9/B/hR/wguif3rr/AL+D/CumqtHqFm9z5Czrv3FBkEBmHVQTwSMHIHTFXDBxmm4wvbfTYmVOjG10lcwv+EF0T+9df9/B/hUGp+CtJh024mhNyZI4mZAZBgkDIHSupup4baHzZ5Ai5Aye5PQAdz7VTnMmpr9mjhljtm/18ksZjLL3RVbB56E4xgnHPTty/KZYmrHkp3jfV20+f+RzYqphqFNudk7fMy4/A2hPGrq90VYZB8wdPypf+ED0T+9df9/R/hXT0V93/YeWf8+I/cfIfWq/8zOY/wCED0T+9df9/R/hR/wgeif3rr/v6P8ACunoo/sPLP8AnxH7g+tV/wCZnMf8IHon966/7+j/AAo/4QPRP711/wB/R/hXT0Uf2Hln/PiP3B9ar/zM5j/hA9E/vXX/AH9H+FH/AAgeif3rr/v6P8K6eij+w8s/58R+4PrVf+ZnMf8ACB6J/euv+/o/wo/4QPRP711/39H+FdPRR/YeWf8APiP3B9ar/wAzOY/4QPRP711/39H+FH/CB6J/euv+/o/wrp6KP7Dyz/nxH7g+tV/5mcx/wgeif3rr/v6P8KP+ED0T+9df9/R/hXT0Uf2Hln/PiP3B9ar/AMzOY/4QPRP711/39H+FcB4gto7LW7q0h3eXDMyLuOTgHvXs1eP+MP8AkadQ/wCvl/518nxZl+EwuHpyoU1Ft9PQ78vrVJzak7nuH7Mf/JN5P+v+T/0FK9Erzv8AZj/5JvJ/1/yf+gpXolejlX+40vRH0MPhQV+an/BQT9qn4s6L+0trng7wH4wn0PRPDjR2ipZRR7p5vLVpXkZlJJDsygZwAg4yTX6UzSJFE0sjqiIpZmY4AA6k1+JFuG+MX7VyLKZCPHHjIbypwypdXfOPTCv+GK9Ao+pf+Cb/AO1Z8SPEPx+tPh/8SvFEmuab4iikjsZruKNZLW6RC64dVBKuFZNpz8xXGOc/opX4Wyf258J/jcwjby9a8F6+QpIx+/tZ/wCRZPyNft74F8Qaf4s8E6R4o0p99jrVhDfWzZ/5ZyoHXPvhhQB+fn/BTb9o74oeFP2lrjwV4C8a32h6doum2y3MNlsUvcyL5xZm2lj8kkQxnAx05NfZP7F+o+K9Z/Zb8Fa1421WbVNb1TTBe3F5Oqq8qSu0kWdoA4iaMZxzjJ5r8nP2ntZufiL+1h4w1Cx/0h9X8SzW1jg/fQS+TCPxRUr9oPBujW3hzwjpXh6z/wCPfSbGGzh4x8kUaov6KKANKivlD9rL9uXwV8LdeuvCfg7TB4u8Q2bGK7dbjyrGykHBRpACZHB6qowOQWBBA+b2/wCCjXxs+3+aPDPgcQbv9T9huunpu+0dff8ASgD9P6K+aP2JP2v/AA98dNWfwnq+j/8ACO+LI4Gmitln823v0UZcwsQCGUclDk4yQWwcc7+3h+1/4k+BPxas/BWg+DdM1ITaTFqEl3f3EgzvklTaqJjAHldSTnPQY5APrmivK/2M/i3d/Gz4D6f471DSrfS7y4uZ7ee2t5WeNWjcqCpbnkbTg+tcL+33+1EP2frfQ9M0bRbPWtf1oSTfZ7qdkjtbdML5jBeSWYkLyPuP6UAfR1FfNn/BPn9prV/2hP8AhKLXXfDen6PdeHxavGbKZ3W4SbzQcq/KlTEO5zu7Y57/APbJ+MkPwM+B9343/s+LUb43UNnp1lLMY0nmkJOCwBOFRZH4HOzHGcgA9Uor5C/YV/a58b/Hj4w3HhHVPA+kWFha6ZLfT3tlPLuh2siqCHyDuZwOx6ntX17QAy4V3t5EjkMTspCyAA7Djg4PBxX49+Jv2kf2k/B/xI1DS9U+KGuNqGhapLbXVvK6mFpIZCrKY9u3blSMY6V+w9fk1/wVj8C/8Ih+1tqGrW8Pl2Xiyyh1WLaPlEuDFMPqXiLn/roKAP1O8AeIbLxb4F0bxTpxzZ63p0F9Bzn5JY1cD8mr5b/4Kg/tL6j8KtFsvAPgDVfsni7VlFzeXkQV3020zxgMCBJIQQOMhVY8Eqazv2I/j9o3g7/gnFN4r8STedJ4FuLjSY7ffiS8lJEltCv1E6JnHARj/Ca+HPCejeP/ANpr9pQ2/nG71/xVfNcXt2ynyrOEfekI/hijQABc9AqjkigD6z/4Je+Iv2g/ir8TLjxZ4o+IuvXXgvQQ8d1FduJI9QuXQhYFyONoYSMRyMIP4sj78ryS71P4U/spfs86fZ6herpmhaPEILdAoe61K4OWYqgx5krtuY9AMkkqo4+PviV/wUj8ZXGqSJ4A8BaLYWKsRHLrby3U8g/vFYnjVD7ZbHqaAP0cor82PAP/AAUh+Ilrq0f/AAmfgbw3qVhuAkGlma0nA7kF3kUkemBn1HWvvn4G/Erwr8WfhvY+NvB940+n3oKskq7ZraVfvxSrk7XU+5BBBBIIJAOuor5x/wCCgX7TV9+z3Z+G7bRPD9jrGpeIGuHK3k7IlvFF5YyVXkljJxyPumvMdS/4KAW2lfs+aR4kv/CtlP42117g2ukWt032aC3jlaIXEzEblDOjgRjJbYTlQQaAPtyvzg/4Lc+J/tXxQ8F+D0kyul6RNqEig8briXYM+4Ft/wCPe9ewf8E7f2pviR8ePidrnh7xdoPh620/TdJN9Hc6XBNE6SedGixtvlcEFWc9j8nevjn/AIKYeJ/+Eo/bQ8YSJJvt9Klh0yEZ+75MSLIP+/vm/nQB9j/8EY/DP9lfs06t4jlj2zeINflKNj70MMaRr+T+dX19Xiv7I0Gi/Cf9h3wfd+I76DStO0/w8mqahcXB2rD5+bl93cnM2MDknAGTivmDxl/wUd8RT+Np7DwH8N7C60xrnybA380rXV2M4U7I8BWbjCDdjOMmgD9CaKwvhjqXiHWfh7o2reK9Ej0TWr2yjmv9NSbzBaSsuTHuwMkZ59DkZOM1u0ABIAyTxXw1+2N+3tD4b1q78H/Bi3stTvLVmiu/EN0PMto3HBW3QHEuD/y0Y7cjgMOa7H/grR8bLv4efCC28B+HbxrfXPGayRzzRth7awXAlII6GQsEB/u+Z3Ar4f8A2FfgRdfHj4yJotzJNa+HdJjF3rl3FwyxZwsSE8B5CCBnoA7c7cEApaj8e/2j/GuqSTRfErxxdT/feLR7ya3Rffy7baoH4V0Pwp/a+/aB+HXiCMXvi/UNftYZALrTPEZa58wd1Mj/AL1D7hh7g9K/WP4d+DPCvgPwvb+HPB2g2WjaZbKAlvaRBQTjG5j1dj3ZiSe5Ncx8cvgb8MPi6tm3jnwvbX1zYzpLBeR/urgBWBMZkX5mjboUORzxg4IAON/bd1vxve/sR63q3gTS9UXWtW060LW9grSXVtBM8ZnChBuJEbOpIHAJPGK+Df8AgnF8KviPqH7V3hfXE8O65pml6HdNd6jqM9pLBEkao37ouwAYyEhNoySGJxgEj7o/b6/aNuP2efCegT6T4ftNX1LX7maOCG6naOOKOJVLuQoy3MkYxkdarf8ABPv9onxL+0Fovia+1/wtp+jJoU9vFDNZTuy3DSLIWUq/QqETnPO/oMUAes/Hv4i6P8J/hHrPxA16C4uLHRokZ4Lfb5kzPIsaIu4gcu6j25NeIfsr/toaB8bfi5B4D0/wHq+lz3FtNcLdyXcc0aLGu47wACM8AYzyR9a+Sv20v2ydV+Mvg3Vfh5YeGLTTdBbVllhvVuXee5gidjHvXAUbjsY46EY5615X+yH8brz4C/ES98Yab4bs9bu7vTHsEju52jWFWkjdmBUHn92B9CaAP2oor5E8LftheKdU/Yv8TfG+b4fWKXOi67HpcFot6/kSK3kAysxXdgNNjA6nHI5qD9hr9srxB8bfjO/gTxJ4T0nShLps11a3FjPIWaSMqShVycgqXOQf4fegD7CoqHULu3sNPnvryZYbe2iaWaVzhURQSzH2ABNfnqn/AAUY8cap42j0zw78L9HuLe8vlt7G3kvJjcTBn2ou4cBjkfw9TQB+iFYPxU/5Jh4k/wCwPd/+iXreXOORz3rB+Kn/ACTDxJ/2B7v/ANEvQBwtFFFfCnYFFFFABRRRQAUUUUAFFFFABRRRQAUUUUAFFFFABRRRQAUUUUAFFFFABRRRQAUUUUAFFFFABRRRQAVUmHm65ax/wwRvMfZj8i/oz/lVuqmnfvdWvLgfcURwA+pXcxI/77x9VNe5w9R9pjlK2kU3+n6nl5xU5MJJd7Iv0UUV98fGhVbWZng0q4ki/wBZ5ZEQ9XPCge5JAqzVTWPmS3hHLyXcO0eu1w5/8dRj+FVTV5I0o0/aVIw7tI0bOFLa0it4xhIUCKPYDAqrrujaVrVukOq6fb3axtuiMqAtE395G6o3upBFXqK6JJS3P0+ySscy/h/WtN+bQddeaJellq+bhceizj96pP8Aecy47CopPEcmnfL4l0m50oL967X/AEiz9z5yD5FHrKsddXRXiYvh/BYi7UeV+X+WxEqUXsZllc295ax3VpcRXEEq7o5YnDI49QRwRUtZ+oeEdImupL2xE2kX0rFnutNk8lpG/vSJgxyn/rorVVdPF2lffgtvEFsv8UBFrdgdhsc+VIe5O+Iei18xi+G8XR1p++vLf7v8jGVKSNqisnS/Emk3t8tgZ3tL9gSLG9ia3nbHUqjgF1H95Mr71rV4E6c6cuWas/MzCquuWMep6LeabKxWO8t3gdh1AdSpI/OrVFQB5lpPwX0ex+FOreCl1W6k/tiWN579418weWyGNQOm1QgAHuavXnwp0x/hzpfhe01S7tZ9Ivk1G21JVVpTdAsxlcHhslzwfb0rv6K19tU7+YuVHJL4Y8Vf8I+1s3xBv21I3KzC/wD7PtwoQKV8rygu3ac5PfIHNYFx8HLH/hC4NGtdfvbe9i1wa22oCGMl7rBGfKwEC9MKOBjvzXplYfjq7uo7aw0qyufslxrd6LFbvPNsDHJIzrn+PbEypnjey5BGQdKHtatWNOnu35D5bnOan8NLmXxi3iLTvGWrabc3lnFa6mYY4y14IwAGDEfu2IA5UcdsVPefDe2uLXxgn9r3CzeMWX7RMI1zBGq7QijuNpYc+tafw6+S31Jo7q6k05tUlh01by7kuJQkYET/ALyRmZg0sczLlj8pGMDgdLTr89GrKnzX5dLryFyo4DUPhnJDrmn6x4Y8UXmhXllpMekuyWsU6zW6YKja4wG4HPsPfM/jbwFqviPS49Jn8bahHp0lmlrqEDWcEjXZUkmQMV/du2eSvHAwOK7iisfaz0YWRxNv8OYLH4gab4m0nWryxTT9Li0x7JUR1nt4zlULNyvIXOOTjqMmofAPw71DwlcRWmmeM9Q/sGC4eeLSmtYf4iW2mbbvK5PQYrvKKPazta4WRz3w88J2/hS31RYruS7l1bVJtRuJZFCnfJjKjHYYrN+JPw+j8T69pviGw1u80PWtLVo4L21VXzG2cqytwRyf++jnNdnRSVSSlzX1HY8/1r4ZXGoWej3B8Zat/bui3MtxbavKkcrZkADr5RG0JhVwo6c9cmoL74P6Zd+BtT0WfWr6TUdYvEvb3V5ArSyzIcrlRgBByAo6Zr0eiq9tPuKyPN7f4SxAeIbi78T6le6h4k04WN1e3CIXVf4ioGAARgBRwAB1ratvANhD4i8L6ot5Ns8Kae9nZ25QbW3RiMuT67QK66ik6s31/rYLI8vk8FXPgf4ZeKNN0+fVPEcOrJMlppiwoGjaYMrfMBk/eBLHoF4FbPwE8Bp4D8DxWVwwm1S7Cy6hNnOXC4WMH+6g+Ufie9dvRRKrJxafULIKKKKzGFFFFABVTV3kWGJI5DF50yxtIoG5QfTPcnA9s5q3VbUreadoHgmSOS3l8wGSMup+VlwQCP72evaurAypRxMHW+FPXr+BhiVUdGSp/FbQilS409hJGbi6tjw8ZO+SM9ip6sPUEk9MelQ3EEkOgxrMoWSW8ikkA58svOrYH0Jxn8at6fPcfbpbO6eORkjWRZI0K8EkYIycfd655/CoNXmhXVIY76dYbZV81N7BVkkB7k/3eCB3zn+GvvOXC06FTF0I/FHot/Rfn6X7nyiliZ1oYaq/hfX/AD/IkwJvEChvu2kG8A/3nJAP1ARh/wACNaFZ+huk897dRsJI5JwI5ByGURp0Pcbt/wCOa0K2y2j7HB04W6X+/X9TDMKntMVOXnb7tAoooruOIKKKKACiiigAooooAKKKKACiiigAooooAK8f8Yf8jTqH/Xy/869grx/xh/yNOof9fL/zr4vjb/daX+L9D0ss/iS9D3D9mP8A5JvJ/wBf8n/oKV6JXnf7Mf8AyTeT/r/k/wDQUr0StMq/3Gl6I+mh8KPOP2vvE/8Awh37L/jzxAsnly2+g3Mdu+fuzSoYoj/33ItfmX/wS78M/wDCS/toeF2kj32+ipcanNx08uFhGf8Av68VfZ3/AAWJ8T/2L+yamhxyYk8Sa5bWrIDyYow1wx+gaKP8xXi//BELwx5/jnxz4yeP/jw0630yFyOvnSNK4H0+zx5+or0Cjzj/AIK3eAD4Q/aqn8QW0Oyw8Y2UeooQMKJ1HlTKPfKK5/6619H/APBOn4yLF+wH4mlvLgNffDG1viAxyxg8p7iA/wDfXmRgf9MxWz/wWG+H/wDwk/7Ndt4wtYN954N1FZ3YDLfZZyIpQP8AgfkMfZDX55/CP4lXvgr4f/ELwxAZDD410OKwIU8LIl1E+5vbyTcr9XFAHQfsH+G28Y/th+A9NlUzLHrKahNu53LbBrk7vr5WPfNfo5/wUr+MN38I/wBnO5bQ7prfxB4mm/svTZUbD26spM06+hVAQCOjOh7V8kf8EXfDH9p/tGa54mlj3RaDoLqjY+7NPIir/wCOJNXQf8FvtWnl+JXgXQix8i00i5u1XtulmCE/lAtAHiP7Afgr4Y+L/jO9/wDGDxToOk+HNDgF01trGqRWi6pOWwkX7xlLIPmZsf3QDw1fYX7anxq/Zftv2c9f8FaLceFfEGoXmmyWui6foVrHLHaTlSscwkjXy4hGxVuGBO3ABzXzt+xL+x3YfHn4R3PjW88eXGhtBq8tgLWHTVuMhI4n3FjIuCfMIxjsPWvoHwf/AME4PhjY3aTeI/G3ibV0Q5MNusNoj+zfK7Y+hB96APlb/gl34V13xF+2N4a1DSYZvsvh/wA6+1K5UHbBD5LoAx/22dUx33HsDXp3/BbbTPK+OHhDWNv/AB9+HWts+vlXEjf+1q+/vg78MvAvws8L/wDCP+AvDlpo9kzBpfKBaW4YDG6WRiXkb3YnHQYFfGX/AAXH0zdY/DjWFX/Vy6jbSH13C2Zf/QX/ADoA9E/4I46lE37IeoefMscWm+JrxHd2wqL5FvISSeg+cmvgz9r74kX3xq/aK8SeL7NZrjT1dodLQKT5NhACEYj+EEBpG9Gdq774M/GP/hXv/BPfxz4S0+68vWvFviU2Vsqtho7eS1iFzIPbYgj9jKp7V1f7GXwX+0/sW/GL4saraZlvfDV9Y6JvX/llBGZp5V+rxogI5HluO9AG1/wRGv8Ay/jJ4z0vd/x86DHcY9fLnVf/AGr+tJ/wWg+Ja6z8UNC+GFhcbrfw3bG+1FVPH2qcDYrD1SIAj/rsa82/4Ji/EPRvhh8a/Evi3xBP5en2ngy+aUZAMpWW3kSNc/xOyBR7sK4X4d6B4q/aW/apjtLiR21Hxdq8l5qdygytnAWLyuM9FSMEKD6KvcUAfdf/AAR3+GLeFfgPfeP9Rt/Lv/Gd0DbFh8y2UBZE69N0hlb3Gw+lfX1UfC+j6b4d8N6foGj2q2un6Xax2lpAnSKKNQqKPoAKvUAFfGf/AAWi8C/2z8DtB8eW0O648L6n5FwwHS2uQFJJ9pY4QP8AfNfZlfPP/BUrXoNE/Yp8UxSrG0mry2lhArgEF2uEcnHqEjcj0IBoA/JuHW9bfwt/wicN5O2lzX63v2FOVkuQhjV8DqwViB/vH1r9Wv8Agm9+z0nwX+Ff9teILRR4y8SxJLqJYfNYQ9UtQexH3nx1bjkIpr4V/wCCXnhC38XftkeHPttrHc2mhxXGqzRyIGXMUZETYP8AdmeJh7gV+rvxR1GfR/hn4i1a1JE9hpF1cREdQyQswx+IFAH5Jf8ABQj4xX3xe/aJ1aaK7Z/D/h+eTTdEgVv3flo215gOmZXUtnrt2D+EV9zfsQfskeAfAnwt03WfHnhTTde8X6tbJc3p1W1S4j0/eAwgjjcFVZQQGbG4tu5xgV+aPwFsLTVvjp4L0vUNptb7xHYQXG/oY3uY1bPtgmv3SoA/Nn/gsJ8I/AvgbUPCPivwboFhoUuttdW2oWunwLDBKYxGySCNcKrfO4Ygc/Lnkc9l/wAEOdVvZdD+I2iPIzWVrc6ddQpn5UklW4Rz9SIY/wDvmuA/4LOfEOx8RfGjQfAenXCzL4RspJL0o2QlzclGMZ91jiiPtvI9a9v/AOCMfgi50L4Aa14xvIWibxXquLXI/wBZb2ylFf8A7+vOP+A0AfO3/BY7xP8A2z+1Zb6FHJmPw5oVvbumfuyyl52P1KSRfkK0/wDgnD+yVpvxb0uT4i/ElLpvC0UzW+m6dFK0Tam6HDuzrhliU5X5SCzBuQF+bwf9sjxMfGP7VHjzXkfzY5teuILd+u6KFvJjP/fEa1+wnwB8JxeBfgj4T8IRwLCdH0a2t5lAxmURjzGPuzlmPuTQBg/BX4J/Cz4HDX9U8DaIdHi1VElv2ku5ZwkcIYgKZGZlUbnJGe/sMfjh4i1M+Ofi5faxqN0lofEmuSXNxcTMAsPnzlmdieABvJJ9q/Yf9t7xP/wiH7Jfj7WxJ5cn9iTWkL55WS4xboR7hpVNflj+w58NdP8Aiz+0nongvWI3bSrqG7kv2Q4ZI0t5CGB7Hfsx7kUAd5+23+0Rq/xy8VWHw3+HVrex+CdMnjtNI063jYzaxMuEjkdByR0EceMjOSNxwv1h/wAE+P2QbH4V2tr4++IVtBfeNpkD2tqcSQ6ICOino0+Dy44Xovdm/OvWbPxV8FPjxNaiQ2niHwXrX7uUA7TJDJlXA7owAPure9ftB8EfHWlfEz4T6D470Uj7Jrdkk/l7smCTpJET6o4dD7qaAOqooooA/In/AIKmeK5vE/7ZniK3aUvbeH4bfSrUE/dVIhI4/wC/sstfZX/BH3wZb+H/ANlMeJ/JX7X4s1Se5eXHzGGFzbon0DRysP8AfNfBP7elnc2P7Y3xDgulZZG1yWYA/wByQLIh/wC+WWv0U/4JT+J9M1/9jPw/ptnPG154enurG/hB+aJzcSTISPQxyoc+ufSgD6OooqtY6hYXs1zDZX1tcSWcvk3KQyq7QSYB2OAflbBBwecEUAfmj/wWm8T/ANpftCeH/DEUm6LQtBWR1z9yaeVyw/74jhP419If8EgfDA0X9kOPV5Ivn8S6zd3u4jkxoVtwPpmBz+Jr4J/b+8T/APCWftiePdTWTfHb6s2nxkHjbaqtvx7ExE/jX6ufsoeGf+EO/Zp8DeHGj8uWz0C1NwuOkzxiSX/x93oA/Of/AIKteC/hx8O/jD4f8J/D3wvZaIF0Y32oC1Zz5ryzOqBtzHGBETgf369l/wCCYf7Ofwx8c/s4y+L/AIheDbPW7zUdauFsprh5F2W0apHtAVgP9YstfNP/AAUm8Tf8JR+2f40nSTdBptzHpkIz9zyIkjcf9/BIfxr9Nv2IfDI8I/sk+ANG2bH/ALDhvJV9JLjNw4PvulNAGF+058LfDGl/sN+OfAfg7QbXS9LtNDub22srZTt8yE/as85JYvGOSc9K/OH/AIJxa7/wj/7afgS6Z9qXV9LYuM8N58EkKj/vp1P1Ar9hdbsLfVdFvNLu13W97bvBMvqjqVI/Imvw7+H93cfD74+aLe3beXP4X8S28k56bWt7lS36oaAP1E/4KhfExPh7+yrq1hbXHl6r4uP9jWag/N5cgJuHx6CIOuexda+Kv+CTvwvbx3+01b+Jb228zSfBMQ1KVmXKtdHK2yfUMGkH/XGsT/go/wDGpfjN+0BLFodybjw14aDado5Q5W5bd++uFH/TRwAD3RE75r9B/wDgnr8HD8G/2dtP07UrbyvEOuEanrW4fNHK6jZAf+uaBVI6bt5HWgD3OsH4qf8AJMPEn/YHu/8A0S9b1YPxU/5Jh4k/7A93/wCiXoA4WiiivhTsCiiigAooooAKKKKACiiigAooooAKKKKACiiigAooooAKKKKACiiigAooooAKKKKACiiigCrrGo2mmW8c945SOa4it1IUn55HCIDjplmAz70n9pWh1w6QJC12tv8AaXQKcJGW2gk9Bkg4Hfa3pWZ8TLO5vfA99FZQPPcxBLiCJB8zvFIsige+UFctf6PfPcafqGt6JcajHqs811qdlFGsoVwgW1gdScFEUtnPy7xuPXNZynJPY5a1acJ2SutPzt/l8rnol1KsFvJO/wB2NCzfQDNQaeY9O8PpNeypCsMJmuZXbCqcbnYk9Bksa8ti8M3cmi6VZX+iSMsOmXlx9ibLIZ55fM8sj+IpGhAB6Fk9q6rXdD1JfgvYaJFBJeXFnb2K3VvuG+4SJ4jKgJOMsquME85x3r63h2VSnh6tbk3V18um3Vv8D5zOMVKrKELWsr/fY6Dw/wCIrDWZjHaQ36gx+bHJcWMsKSpkDcjOoB6j3wc9K1q4vxfeXOt6bYf8SHV/7LXUU/tKB7fEk8AjkIHlA7mTzfK3DHIzwRmsnSfCcl5fWFneaM1rokmp3epiwKhY7dBEsMULqvA375JCg45YHuK9765VUuVR5ttdVvbXZ6a7376aXPEudvrGv6bpun6pdzTGQaPAZruOIZdRsLgAdCSBwM9xVm2/0jxApYFRa2wcK396QkA/UBGH/AjXnaeGYlGuRQeG1tLnUNfhWW4W0VB9hEkRba46oUhJI/vPzzTPD+j3epeItO1C98P3jXj67Pf32pzQhdlugkNvDG2dzIdsBA6Ajn5qdHHYhT1p76Lf+Zre29rPot3fQ9XJ4yli4y5bpf8ADL/P5HrdUNS1e0sdUs7Ccv5t6srIQBtRY1DMzHPA5A+pFecaf4X1mx0/TtU07THj15tG1G9ubh/v/a5grR27MeweRyF6Apnqc1Un8LmfT9am0rwjcW4Xwu1pCbq3AmvrmVsvIyk5Z1MSHLfMSR2xVVMyxHLpSs9+u1k+2+6fZ232Pr5YyrbSnr8+1+3y8n3PV11KybRRq63Cmya3+0iYA4Me3du9enNZ/hrxTpOuXDW1mbqOcQLcCK6tJIGeJjgOu9RuXI6isnxJpEafCG60XwzpTWa31sLaO3jtxE8YlIjd2UdCFZmOeeDWb4u8LSWa2NzO2pa7HPdw2+pgRIWFkiyMsSxRqo2GXy9wwSRnOQMDatisTCUbRTSSb7a32e+no9DWpWrRatHSyv8AP+uz0PQqo6fqtte6tqGnwrJ5mmtGk7EDbudA4AOeSFKk/UV534d8ISXsmn2l/wCH2sdNm1m+1K4sSAI41RPs8ETBTt2sh3bR8pAI6Vc8F+H9Qt/H099qmnSNp13dXE1hEF2x2MsTCGN3UcHfBHHsJ+7tIGN1THHYicofurJvXfa3ppq1873tqyY4qrJx9yyb/C3p5r/gHQeJNQ0/UNbTw5f6Na6jZySIlwLkB1Dldy4jKkNgbTnIxnjpSv4XvbD5vDuvXNqo6Wl/uvbf8NzCVe2AJNo/u1kWLi4+IEUu7Jk1OYFvXy4pFH6RgfhXeVxZZUjmscQ8TFSjGpKMdFolbqXh5utzuXfT0OVfW9T03jxDoFxAg63enbr23/EKolX3Jj2j+9WnpOo6fqlkt5pl9b3luxIWa3lWRCR1GQcVr1jaz4W0XUbxr9rZrW/YAG+spGt7g46BnQguo/uvlfaubF8LUpXeHnZ9nqvv3/M1lR7Mt0VivZ+LdK5t7m21+3X+C5AtbsDud6DypD2A2RD1ai18UaYbuOy1ET6ReytsS21KPyTI392N8mOU/wDXNmr5jF5TjML/ABIad1qv69TKUXHc2JXWONpGztUEnAzwPYVzPh3SrvxfpOm6/rWqTLZXTwaja6VaiMQqqss0HmybS7uCEY7XVcjGGX70uvX3iGbxYPD+kS6dZ/aNP+0Q3V3G8jEhyshRFIDeXuhO0kZ80c/Kc9H4Z0q10PQbXSbMyNDaxhFaVtzN3JJ6ZJJPAA54AHFe/wAN5YpXxFWCa+z637F0oXd2Zc/gPwhPcTzXOg2tyZy5KXGZY4i7bnMSMSsRZvmJQKSeTk81m6kNV8GWyXU2pf2noEckcczXrYu7GNmCCQzdJY03DdvAYKGYu5GD2lFfTYzLcNiqbhOK8n2NpU4tHL2HjDwnfXsVpZeJdJuZpm2RJDexuZG/urg8n2HNbVV/HelSa34O1LTICq3M9u32WRv+WU4G6KQHsVkCMD2IFQ+G9Ti1nQbTU4UaNbmIOY3GGiboyMOzKwKkdiDXwecZR/Z7g4y5lL8znnDlL1FFFeKQFFFFABRRRQAUUUUAFFFFABRRRQAUUUUAFFFFAFHw/JCPOhkkH20yM06ufnOGIDAH+HGMY4xWkQDwRmqeqQ2ktozXkatHEpfcRymB94HqD7ipNJ8/+y7b7SSZvJTzc9d20Z/Wv0TKMwWMov3eVxsvL5fdt0PjM0wbw9RPmvzX9SxRRRXrHmBRRRQAUUUUAFFFFABRRRQAUUUUAFFFFABRRRQAV4/4w/5GnUP+vl/517BXj/jD/kadQ/6+X/nXxfG3+60v8X6HpZZ/El6HuH7Mf/JN5P8Ar/k/9BSvRK87/Zj/AOSbyf8AX/J/6CleiVplX+40vRH00PhR+dv/AAW+8StN4z8C+D0chbPT7nUpV7MZpFiQn6eRJ/30a9k/4I7+Fm0P9lGXW5oSkviTXLi6R2XBaGMJAo+m6KQ/8Cr6j1TS9M1LZ/aOnWl35f3PtECybfpuBxVmNEjjWONFRFGFVRgAegFegUY3xK8MWHjX4e654R1MZs9c06exmOMlVkQruHuM5HuBX4ZeOvDes+D/ABjqXhfxBZSWep6TdPbXUMikFXU4yM9QeoPQggjrX70VVvNN068lEl3p9rcOBgNLCrHHpkigD49/4It+Cr3RPgl4k8YX9jLbN4m1WOO0aVCvn29vGdsi56r5k0oz6qaT/grv8EfEvj7wtofxB8H6ZPql54ajlt9SsraMyTPauQ6yIo5bYwbIGTh89FNfZiKqIERQqqMAAYAFLQB+NP7LP7TPxI+AMeoab4Yj02+0vUJxNc6ZqsDvGswAUyIUZWRyAAecEKMjgV6b4m/b/wDj/wCJgul+G9N8O6PcXB2QtpmlyXFyzHsomeRSf+AV+kniT4dfD7xFfNeeIPAvhrVrljlpr/SIJ3J92dCau+F/CXhTw3n/AIR3wxo+kZGD/Z9hFb5Hp8iigDjf2QU8er+zf4Wl+J11eXPiq5tpLnUXvUCzr5s0kkaOuBtZY2jUrgY247V4F/wWs0p7n9nPw5q0cTP/AGf4njjdgM7Ekt5+T6DciD6kV9j1HdQQ3Nu0FxDHNE4w8cihlYe4PWgD8H/h54Y1nxt440nwjoFu1xqOsXkdrbRgEjc7AbjjooHJPYAk9K/Z+T4d6Z4W/ZXvPhjoUJazs/CtxpkQC/NMzW7qzkD+J2ZmPuxrt9N0bR9OmMun6TY2kjDBeC2SMkfUCr1AH4BDcGKjOTwR6+1fqf8A8Er/AIAy/DD4YyePPE9iYfFPiyFSkMqYksLHIZIiDyrucOw7YQEAqa+nhoOhi++2jRtP+07t/n/ZU8zd67sZzWhQAUUUUAFfDf8AwW88SNbfDvwP4RRjjUtUuNRkA/6d4ljXP/gS35V9yVW1LT7DUYRDqFjbXcanISeFZFB9cEUAfnz/AMEQfCzy+KvHXjWWFgtrZW2l28pXhjK7SyKD7eTFn/eFfoRqlnb6jptxp95GJLe7haGZD0dGBVh+IJpbG1tbK3W3s7aG3hX7scUYRR9AOKmoA/FP9pz4LeNvgR8ULjTNVs7xLCO6L6JrcaERXcYbMbrIOFkAxuXOVI9ME+mSft8ftBN4MGhC/wBBS58nyv7ZXTP9NPGN3LeVu9/Lr9WNUsbHUrGSy1Gzt7y1mGJILiJZI3HoVYEGuZsfhV8L7K+F7ZfDfwjb3KncJ4dCtkkB9dwTNAH5Y/sq/sz/ABK/aB8cLr2tRalYeG7q5NzqviO/Vt93ubc4gL8zSsSfm5UE5Y9Af1N1z+xfhR8CdQfRLGO00nwd4fmltbZBkJFbwMwHqThOSeSSSeTXXqAqhVGAOgFDAFcEZB6g0AfiB+zN4cm8eftJeDfD8yvcf2p4gtjeEjcWiEoeZj/wBXNft/VLT9H0iwuGnsdKsrWVxhpILdEZvqQKu0AfI3/BZjxK2k/swadoETESeINfhjkHYwxI8p/8fWKvFP8AgiX4Wa8+LXi/xlJCTFpOjx2EbleBJcSh+D6hbc/g3vX6O6hZWd/b/Z760guoScmOeMOufXB4o0+zs7C3FvY2kFtCDkRwxhFz9BxQB+eP/BZ/4T/YPFWi/GDSrbEGrKul6yyLwLhFJgkb3aMMme3lL61sf8EU/iVfTN4m+Et75ktrbw/23pz8lYPnSKaPPYMXiYD13nvX3zeW9vd2zW91BHPDIMPHKgZW+oPBqHS9M03TUZNO0+1s1c/MLeFYw312gZoAtUUUUAfDX/BVL9mPxF401qP4ufDzS5dT1FLVbfXdLtk3TzrGMR3ESjmRguEZRzhUIBwa+F/hX8R/iN8I/FFxf+CvEWpeHdR/1V3GijbJtJ+WWGQFHwc8MpxzX7m1heKPBPgzxLOJvEXhHQtXkAwH1DTYbhsfV1NAH5La7+1X+038QIl8NxePNXme8/drbaHp8NvcTE9la3jWQ59Aa+7P+CdHgHX/AIK/so6tq/j3T7ix1bUby6129trg/v4YVhUKsg5w5ETPg8jfg4OQPoTwz4X8M+G42j8O+HdJ0hHGGWwsY7cH6hFFa1AH4ZfDPSb34mfHvRNIuQ01z4q8Qwx3JUE/6+ceYx9gGYk9gDX7mIqooVVCqowABwBVKx0bR7K7a6s9Ksbeds7pYbZEc565IGavUAfi5+3N4M1/wV+1R42ttdsp4V1TXLvU7Gd0O26t55mlR0bo3D4OOjBh1Fe5/sM/tFftA+O/jB4B+Fdtr0cmg6dJEt+Y9LhMjafbpllllKkgbECbhhiSvJJ5/R7xN4e0DxHZraeIdD03VrdTlYb+0SdAfUK4Ipvhnw34d8N27W/h3QNL0iGQ5eOws47dW+oQAGgDUr8W/wBu3w9/wjH7YHxB0sJsWTW5b1Fx0W5AuBj2xMK/Vj9rD4zaD8DvhFeeL9X2XF62YNI07fhr66IO1PUKPvM3ZQe5AP5RfDfwz4+/ae/aU+yTXkl3rPiK7a71bUXQmOygBG+UjoERdqqvA+4g6igD2P8A4JTfAF/iF8TV+JfiSy3eGfCdwrWqSL8l/fjDIvuseVdvfYOQWx+o1c78KPBPh/4dfDvSvBfhezFrpekW4hhX+Jz1aRz3dmJZj3JNdFQAVg/FT/kmHiT/ALA93/6Jet6sH4qf8kw8Sf8AYHu//RL0AcLRRRXwp2BRRRQAUUUUAFFFFABRRRQAUUUUAFFFFABRRRQAUUUUAFFFFABRRRQAUUUUAFFFFABRRRQAUUVFfTpa2clxICViQsQOpx2HuaqMXKSilqxNpK7IdNHn6lc3bc+W3kQ+gUAFiPctkH/cFX6raTA9tp8ccuPMOXl29N7Es2PbJNWa/UsNRVCjCkvspL+vXc+AxFV1q0qndhRRRWxiU/EHzaRND3uAIAfQyEIP/Qq1qy74ebqFjbDnMxlcf7KAnP8A32Y/zrUrohpBH2PDdK1CdTu/y/4cKKKKo+jCiiigArkvG2pXTax9gtrqWGKCINKYX2lnbPBI5GFAP/A/YV1F9cR2ljNdzEiOCNpHwMnAGT/KvPJJZbm6mvJ12zXMhkdQc7egC574UKM98Zr47jPNJYTBRpUpNTm+mjst/wBEcGPrcsFFPVkmiqsOtaYIxhY7lVUexUr/ACNeiVwnhW2N34ntgB8loGuJD26FVB+pYkf7hru6jgWnOOWSlLaUm19yX5oWXRapt+YUUUV9oegFRX1tbXlpJa3lvFcQTKVkilQOjj0IPBFeTePfFPiG18O+KdN0rUJV1Ky1C8uRN1a1soLeK4OPqZI4x/10J7VvzeKdUuPGsn9kIt1FcTNpumQSzGOB2iBkurl2CkkKdsQAGdysOhyM/aLYnmRu2fgrRrLXbLUrFry2WwZ3hs47ljbKWRk+WNshAFZvlTaucEgkAjoq8p1b4gXlxdeFZ5rF4prjUL4JZWd0WS7aJjaRqZCFAjaWYMCwA+VTgnAratfHeq3XiZdJtNBW5+zXsVlfPC0zBXO3zXRvK2eXHuPLspYqwABxmafsoJqCt6CUorY7yivI9E1rWf7ej1vWtq2uqaxdostvq0/+j21mJCcRbAhjJt+TwzebzwcVeu/iDrOo+DtYv4dDktIW0aW4srjMqtFO2EhicvGql2Lg/u2YLtIJ5BNKoh86PTq5Pwup07xNrugg7oYpxqVuRztS6aR3Rj/e85J29ldBXO+Kdd1uXw8+iaREosk1G28PnUnvnW6klLIkskahTkLlgSWByrHsM9Ho4Nr8RPEdnINzXQtdRjk9EeMweX/wFrVm/wC2teDxIlPAN22a+XQzqu6N2iiivz05wooooAKKKKACiiigAooooAKKKKACiiqupTyK0drbEfaJ87SRkRqMbnI9BkfUkDvW2HoVK9WNKmrtmdWrGlBzm9EWqKz9DBP2iRJpZbdpMRNLIWL4GGYE9ATngccZHBqTWWYwwwK7KbidIzsYhiucsARyPlB5HOM10SwMljPqqkm72v0/pGSxK+r+3asrXDWGtpdPureW6ji/dESEkHYDwCR6H9as6bLLPYxTTxGOR1yykEfoeR64PI70yPTdPjaNlsoN0TFkYxgsCepz1zwOatV9zlmW/UYSjz81/Kx8lmGOWLcXy2sFFFFemeeFFFFABRRRQAUUUUAFFFFABRRRQAUUUUAFFFFABXj/AIw/5GnUP+vl/wCdewV4/wCMP+Rp1D/r5f8AnXxfG3+60v8AF+h6WWfxJeh7h+zH/wAk3k/6/wCT/wBBSvRK8T+Cfiu80Xwa1nBoTXqm6d/NF2sfJC8YI9q7D/hYWp/9Cm3/AIME/wDiazyzF0I4OnGU1ex9PTjJxWh3lFcH/wALC1P/AKFNv/Bgn/xNH/CwtT/6FNv/AAYJ/wDE13fXsN/Oi+SXY7yiuD/4WFqf/Qpt/wCDBP8A4mj/AIWFqf8A0Kbf+DBP/iaPr2G/nQckux3lFcH/AMLC1P8A6FNv/Bgn/wATR/wsLU/+hTb/AMGCf/E0fXsN/Og5JdjvKK4P/hYWp/8AQpt/4ME/+Jo/4WFqf/Qpt/4ME/8AiaPr2G/nQckux3lFcH/wsLU/+hTb/wAGCf8AxNH/AAsLU/8AoU2/8GCf/E0fXsN/Og5JdjvKK4P/AIWFqf8A0Kbf+DBP/iaP+Fhan/0Kbf8AgwT/AOJo+vYb+dByS7HeUVwf/CwtT/6FNv8AwYJ/8TR/wsLU/wDoU2/8GCf/ABNH17DfzoOSXY7yiuD/AOFhan/0Kbf+DBP/AImj/hYWp/8AQpt/4ME/+Jo+vYb+dByS7HeUVwf/AAsLU/8AoU2/8GCf/E0f8LC1P/oU2/8ABgn/AMTR9ew386Dkl2O8org/+Fhan/0Kbf8AgwT/AOJo/wCFhan/ANCm3/gwT/4mj69hv50HJLsd5RXB/wDCwtT/AOhTb/wYJ/8AE0f8LC1P/oU2/wDBgn/xNH17DfzoOSXY7yiuD/4WFqf/AEKbf+DBP/iaP+Fhan/0Kbf+DBP/AImj69hv50HJLsd5RXB/8LC1P/oU2/8ABgn/AMTR/wALC1P/AKFNv/Bgn/xNH17DfzoOSXY7yiuD/wCFhan/ANCm3/gwT/4mj/hYWp/9Cm3/AIME/wDiaPr2G/nQckux3lFcH/wsLU/+hTb/AMGCf/E0f8LC1P8A6FNv/Bgn/wATR9ew386Dkl2O8org/wDhYWp/9Cm3/gwT/wCJo/4WFqf/AEKbf+DBP/iaPr2G/nQckux3lFcH/wALC1P/AKFNv/Bgn/xNH/CwtT/6FNv/AAYJ/wDE0fXsN/Og5JdjvKK4P/hYWp/9Cm3/AIME/wDiaP8AhYWp/wDQpt/4ME/+Jo+vYb+dByS7HeUVwf8AwsLU/wDoU2/8GCf/ABNH/CwtT/6FNv8AwYJ/8TR9ew386Dkl2O8org/+Fhan/wBCm3/gwT/4mj/hYWp/9Cm3/gwT/wCJo+vYb+dByS7HHftS/sveBPj34i0zWPGOveKrOTSbU21tBpd9FHAAXLM2ySKQBzkAsMZCqD0Fbf7Mv7Pvw5+BOm30HgmzvJLrUyv2zUdRnE1zMq52puCqqqCScKoyTznAxrf8LC1P/oU2/wDBgn/xNH/CwtT/AOhTb/wYJ/8AE0fXsN/Og5JdjvKK4P8A4WFqf/Qpt/4ME/8AiaP+Fhan/wBCm3/gwT/4mj69hv50HJLsd5WD8VP+SYeJP+wPd/8Aol6wf+Fhan/0Kbf+DBP/AIms3xh4w1fWPCOqaRD4X8uTULGa2R31BNql0KgnC9OaPr2G/nQckuxVooor486gooooAKKKKACiiigAooooAKKKKACiiigAooooAKKKKACiiigAooooAKKKKACiiigAooooAKp3w8/UrW06qrG4kHbC8KD/AMCKkf7hq5VTQh5sLai3LXmGT2iGdg/I5+rGve4fwjrYv2j2hr8+n+fyPKzjEeyw7it5af5l+iiivvD445b4peJ28N2ulrHqGl6fJqV/9nN1qf8AqIEEUkjOw3pn7gUfMOWFZen+O7mPw/aalrAihGL+6lNvZuReWVsD++iVnzGG3RMN27IOB1Brp9W0OPUPFGn6rcTBotPtriIWzR5WRpfLG8nPZUcYxzvPpWJovgKOz022srnU2uorXQpNGiDQ7cRuwJb7x/hSNcf7Ge+BD5rm0XT5Vf8Arctjxdo1r4i1SORp5ri1+y28ccEW8ytKrOkaern5iR0CqCSBzUn/AAsLRWhs/KtNSmur6e4gisorbfN5kBAlU4O35cjnOPesHRfhpDN4D0aJr61u7+O7/tO5n1LTxcw3kjwtHiSHevCoyhcN8uxevOer0fw0LTXbHVJJ7bdY6Y9lHBbWghiQvIju6LuO0Hy0G3nGOprq9+9j9AwFF0cNCC7fnqZGs+Okm1fTdM0WC6/0zVxafb5Lb/RpFi3NcKjnqQsTjOMcHBODVm3+IeiTtlLbUUiksp762uJbYpDc28QBeVGP8PzLjIBO5TjBzWfpfw5uYY7K0vvETXFjplrdW1nBFZiJlE6lfMdy7bpFVmGQADnoOctHw5v7nTZ7bVPEqzmTQjokPkWHkxwwMV3kL5jEs6ooPOOBgDpU/vDr94s6P47gs9B0xNdW4mvzbWf9qTW1v+5tJ5wu1W56lnHyrkgEEgAg121cjp/ghLLx3d+IIW0mRLy5Fw3n6SHu4iIkj2x3G8bU+QEDYcZPPPHXVcebqON+oy4ijnt3hmQPHIpV1PRgRgiuE8TWEej6tDbRSXEsdzF+4Rv3jMyk7lXA3Hgp1ye/rXfVzfibxG0Uz2GlFWmQ7ZrgjckJ7qB/E/6DvnpXz3E+GwFXAuWMly22la73TaXra349DlxsKbp3m7MteCtLm0+xkmu0C3V0wZ0yCY1AwqEjg45Jxxlj161tVwtvrmuQSB/7Q+0eqXEKbSPYoFIPvz9K6Lw54gg1OT7NNF9luwN3lF9yuPVGwN2O/AI9MYJyyHPMprU4YTCycWlZKWjf6N/O4sNiKLSpx09TYooor6g7TCk8H6A99rt41mxm8RwiDUWMrfvEEfl4UZ+XK4zjGcAnpUU3gnQG0vS7CKK6to9HVktHtruSKQKy4cF1IZt3ck5J5znmtxsy3BQkhUHOO5piuYmlAJKrjGT3qeVdhWRhf8ID4X/slNNFgwt47D7DGolYGOLeJMqc5DbwrbhzlR6VJJ4aGm3F3qegSSrezyNMLa4v5Vs2lYBWkdFzyRk4xgtzwea3BLJvKlFHybhz/Oo2aQ2fzc7zx60cq7BZGLoPgzS7PQNJsL4G9k0zT5LMyMSqzeaFEzFQcZYr+GT61LZ+D9Kg0f8Ast5tQurUSW7pHdX0koTyHDxqNx4AZRn+8Bg5rYWYrvDqBsA6GkWdzu+VThc8dvY0cq7BZGIngfw+uvLq/lXTTR3zX8UTXchhjnZSGkWPO0E7ienU8YyateIvD41HUItStNRudN1CGIxLPAEZZEJDbJEcEMuRnswy2GXcc6az5kRcfeGWPpQszMFCqNzE7fp6moqUadSDhON0+guVNWOce78T6V/yFNIj1SBet3pPDgd2a2kO4AeiPIx9Kt6Jruk6u0kdhexyTQ4863cGOeDPQSRMA6H2YCtczsI2yo3K2OOhrO8RaJpettbrq2nwzPCWaKXlZYOOscgwyH3Ug185i+F8PU1oS5X23X+ZnKiuhaornrjR/EVhGDo2sLeWzNhbLVyWYDsq3Cjeo95FlJrJ8L6Br8txrF1eT6votx/aDPBKuoLcJLGwDFfKcvHtVyyq2yN9gUYGMnw/9W8b7RwdvJ9H/l80Zezlc7eiufa58X6Y2L3TLTWoQu7zNOcW8/08mVtnHc+bn0WjS/F+jXuqppf2pbXUJACLC9Rre5K8/MscgBdeD8y5Xg815uKy3FYX+LBpd+n3kyTjudBRVdp32swQbVbGc9amkcJGXPauEQ6ioTJIqbnQc/dAPejzXVmWRV4XdwaLATUVAs0hKfux8445psl2kNu0s/GH2BUBYuewA6k1UYSnJRirtilJRV29B+oTi1sZrplLLDG0hA74Gf6VRngkRFt3l33uoH99InGyIfeC9wADtHu+fWk1Ca4ePy7qT7Is4IS3iUSXEg7+qr154IH94U7CT3kMfl32my+WUjbMZEijnb1cZHXseuO9fZZXgKmEpzUnGNaa9271/rrpfbU+dx2LhXnFxTdOL96y0JNcYQ6S1vATHLIvl20cZ2lm7KMYIHqRjAycjGas2un2lvMJY4jvAwC0jNtz1xk8fhS2djb20hlRWeVhhpZGLuR6ZPQew4qzXqZZlywVJxcrybu2ebmGPeKmnFWSCiiivSPOCiq9/e21mmZ5QGYfJGOXkPoq9SfpTdNvftTSxtBJDJCQHRypxkZHKkjp26/mCVzRUuW+pXJLl5raFqiiimSFFFFABRRRQAUUUUAFFFFABRRRQAUUUUAFeP8AjD/kadQ/6+X/AJ17BXj/AIw/5GnUP+vl/wCdfF8bf7rS/wAX6HpZZ/El6HbfCn/kV2/6+G/ktdNXM/Cn/kV2/wCvhv5LXTV8nh/4UT7Cj/DQUUUVsaBRRRQAUUUUAFFFFABRRRQAUUUUAFFFFABRRRQAUUUUAFFFFABRRRQAUUUUAFFFFABRRRQAUUUUAFFFFABRRRQAUUUUAFFFFABRRRQAUUUUAFFFFABRRRQAUUUUAFFFFABRRRQAUUUUAFFFFABRRRQAUUUUAFFFFABRRRQAUUUUAFFFFABRRRQAUUUUAFFFFAFPWSzwx2SMVa8fyyQeQmCXPt8oIB9SKvqqqoVQFVRgADoKoaeGu9Qe+Y4jhLwQL64bDsf+BJgewz340K/RMlwbw2ESkvelq/0/D9T4zNsSq2IaT0jp/mFFFFeseYFVNadxp7RRMRNcHyYiOoZuM/gMsfYGrdVYQLnXsk/u7BM+3muCPzCZ/wC/laU1eR14HDPE4mFPo9/TqaUMaRQrFGu1EUKoHYDpTqRWVslWDYODg9/SlrY/SQooqO2mhuLdZ7eWOaKQZSSNgysPUEdaAJKKQsocIWG5gSBnk4//AFim+dD9o+z+annBN5j3DdtzjOOuM96AON8Ua1fXGrXOmxXDWkNudjRxtiWQEfeLdVU9tuD3zzgZUaJHGEjRVVRgKowBXoWoWFjfIqXtnb3Kr90TRBwPpms9vC2htuH2WUbhjAupQB9Bu4/CvgM64TzDH4l1frCa1sndcq7K11+Vzy62CrVJuXNf1OPpsibtpDMrI25HQ4ZG9QexrR1bQdS05i0ccl9bDpJGuZVH+0g6/Vc59BWdBHcX0otLBHaeQ7cmM4h9Wfj5ceh9MdTXwlbJ8xw2JVGVNqd9LdfRnnypVIy5WtTu/C93NfeH7S6uOZJIxuYDAcjjcB2DYyPY1fqKxt4rSzhtYF2xQRrGgz0UDA/QVLX7tRjONKMZu7SV33Z9FBNRSe5E0R8wukhUt14zR5C+XtyfvZJPepaK0KI2iBZ2J+8uPpSLD8qAvnYcjipaKAImhDB8t98/lTlRtrB33ZGOmKfRQBB9mHlhdx65Jp7xZZWRtpUYHHapKKAIhAAFG48NuPuac0YaQuT1Xbin0UAQpBhlJcts6DFZ+pXN1b3i2cNosyyIZtxm2M+DhlUbSCRlepHX2Na1Z/iIbYba5H3oLqPHvvbyz+jk/gKcTkx0qsMNOdJ2klf7jmdf8QT6hJLBpxltYOY5JmXbKxHDKoP3MEYyeeDjHDHn7rSrG5tWt7y1hu4X5kjnjEgkPqwbO48dTzV+V1lu7mVBhZLiVl+hc8/j1/GqGtata6Y8EcyXEklyzCKOCFpGbaMk4HYCvwziDMcTicwqxqTvGMml2STtov1PCliJ1YqpUf8AwCGw0/UtNjX+xddvLNF5FpcH7VbE9gUc7lUf3Y3QVrW/i3V7VWj13RGuIif+PvSn8zAH8TQPh1/3UMpqrpd9a6jp8N7aS+ZDOuY2IKk+2DyDweD6VTk16zTUGs/LmZ1vlsshRtMjRebxz0CcmvPp5hXhu7rz/q5pHFSglrodpoGv6Hru6DT9WimuYwHe3YGO4hH+3CwDr/wICtXycq25yWYYLYrz/VdN07Uo411Czt7gRtuiMiAmNv7ynqp9xzRaHXtLx/ZPiGdoh0ttUBvI/wAHLCbP1kIH92u+nmVKXxafiv6+R1QxUX8SO3mvbOC7KySOohAV38pvLjJAPzPjA4I6nuPUVXjuIWkk1BD9ot7NdsBQgiWVjg7T0J5VQfVmHrUPgG81DUIL271C0t7V2nClLe4MyMyooLBiinptGMcFTya2NUt2urMxI4VwyOhIyNysGGR6ZAr9JyrKqFKNPFQu5OKeu12vQ8DHZlOo5UHblvuuxDptqYFaWYq91NzNIO5/uj0UdAP6kmm2y/atYmlcnZYuI40/2ygJc/8AAXAH4+vEM+qeXEYZI1hviyokEjcMzMFDKf4l5zkduuDxVvTrSaC4mnnnSSSbbkRxlFGM84LHk5xnPQD0rlyfB4l4yeIxUdVda99NvK3y7HTmeJoxwsaNGW9tuxbrI0+ztb+1F7eQRzy3BLhpFDbF/hVc9ABjp1PPerXiCV4dNLLKYVZ0WSUf8s0LAM2e3Gee3XtUlj9nFnGLVkaBUCxlGyu0cDBrbiPFVKVKFODabd7ry6X/AEMcjw8ZylUkk+hWtRJbatHaQzyyRNGzyRytv8ocAEMfm5OeCT0OMYrSrO0s+VqVzDOp+0TMZUfqHjGAAPTbkAj1Oe9aNexlzk8JTcp8za3/AK7bfI83H2WJmlHlXb+u5n3FldRX015ZPCzzY3pOp7DAw45A74wec9M5qxpdotlZrAGLtkvI5GC7scs2O2SSasUV0Ro04zlUUfedrvvYwlWqSgqbei2CiiitDIKKKKACiiigAooooAKKKKACiiigAooooAK8f8Yf8jTqH/Xy/wDOvYK8f8Yf8jTqH/Xy/wDOvi+Nv91pf4v0PSyz+JL0O2+FP/Irt/18N/Ja6auZ+FP/ACK7f9fDfyWumr5PD/won2FH+GgooorY0GuyouWOBRHIj/cbNRtg3uG/hXjNRu37yWRTwFxketOwFqmllCk5+71xUKh1mVTIx+TLc1GoxZltxJkOMZ96LAW1IZQw7ilqtloncBiwVO/rSxLKSGLH7pzls5+gosBYoqosrFYzuO1SNxzTtznblivmsfwFFgLNNkcIMnucVXZ2VZQrswBAUk96c6kSRoWLc7jn2osBO7BVLHoKVTlQR3qm5MkQYyHdI2AueMU+QsfNYOyqmAAD3osBZoqupdZFLOzfISw7U3LHyz5rbpG5APQUWAtUVVkZisj+Yww2FANTM+2EnILKvIosBJRVclkh8zzGZiOhPAzRkxzYDsw2ktk5osBYoqqvmYi/eNuf+VSWucyAsWAbAyaLATUUUUgCiiigAooooAKKKKACiiigAooooAKKKKACiiigAooooAKKKKACiiigAooooAKKKKACiiigAooooAKKKKACiiigAooooAKKKKACiiigAooooAKKKKACiiigAooooAKKKKACq+qTvb2LyRgNISEjB6F2IVc+2SKsVTvv9I1C2sxyqt9om9lU/KPbL4I/3TXbl2H+sYunTtdN6+i1f4HPi63saE59l+PQtafbraWUVsjFhGoXcerHuT7k81NRRX6afAhRRUGoXcVnamebcRkBVUZZmJwAB6mgcYuTSSu2T15F8NnTXPGd/c+IX26Vq+oXWraZEf8AV3zW8gt/3pPXy44IXVOh3FjkqNvoMl7qc/IaKzX+6q+Y/wCLHge/B+ves+y0+OC9jhitrVigeW2j8hViL4IkTb91S6u3zKAfvZJHBxpYrD1Kns1PU+uwOU43LIPGYmlaG26uk2tbf0zl7TxDr58MteWN9baPDD4bm8Rai8FjGXaSeSSSEYI2gkRybiQS3Pc5FnxX4u8SrZak0OtW+l32mGysIbQWySG8vriONzkNztHnKFC45ViSQMV6BYrod2klqtlbI0sKxTW0tuEZo1yFUqR8yjJA6jk4rN1TwTYaj4wj169upJDFNFMkH2aBfmjwUBlEfmlA6h9pf7w9OK63Tklue/CSnFShK6Oe8UeLNU0bVvET6hqEkcNppVzfaVFAkL29xDFGiks4/eLKJXAwcKQRjODWRY6n4k8KeH5PDunava6hJZaLp1vbFYE8q0u55hBEgK8uCPmO4k8Z4DYr0+DQNCga6aHRdPja9bddFLVAZznOXwPmOeeadY6Lo1jai1stIsbeATCcRQ2yIgkByHwBjdkDnrT5JX3L5X3OB8SavrGkeIJoDeWt/f2VrZ2kOoXFlGvkz312Y8/LghESNW25+b5cknms7T9V1JPGOpNa+Io72a+1S28PQatLBGPs6QwTXcxAXCMw3sg4xu25B2nPqd7pem3kNxDd6da3Ed4FFyksCsswHTeCPmx2zWX4k8J6fqeipplusGn26zLKY4rC3kjchdoyksbLwAMEAEbRzjik4PuDizhdN8Y+JbyK00+w1CTUv7S1K/FtqFtDbRyG0tfLiJQSERFmkYndg8biFxjHo3g/+1v+EZs/7dmgm1Ax5nkgxsY5OOgAJxjJAAznHFVbHwj4fh8N2uh3Om2+oWtmS6C+gSYmQks0hyMbizMSQB17VtRokcaxxqqooAVVGAAOwFVGLW7HFNbjqK5tfGNn/wALLfwe9rIjrZ+et2WHltIMMYcdQwRg/wBM+lN0/wAeeHm8O6ZquqX9vpf9q2y3UENxMNwib7rn0XBXk8DOM0+Zdx8yOmorH1PxX4b07UJLC91qzhuYkMkkLyjcihd25h2G3nJqxda5o9tJeJPqVtG2n+X9rUyDMPmfc3Dtu7etO6HdGhRWVD4l0CXxAdEi1e0fUAzL9nEo3blG5l/3gOSvUDnFJpvijw7qGozWNlrNnPcW6M8iJKDhVOGIPQhTwSOh4NHMu4XRrUVzOi+NNK1vxfDo+h3Vtfw/YZbq5uIpc+Vh41jXHcPvcg9MJxnNdNQmnsF7hRRRTAKKKKACiiigArL1d1m1KO3dgsFqguZ8nvk7M+2VZvqq1qVx/iWaeTR5rqMHyNQugsjjtDjYoHs5A/Bz9RliKyoUJ1WtIpvTf5Hj53XcMN7OLs5u3y6/5fMwrH/jyh4I/drwevSsTWtMvtR8YW8sd3dWVvZ2LhZ4FQlnkcZUb1YcCMc4zzXQUV/PNaq6tWVR7tt/eeW6acVE4P8A4RlG8RSWNzbXgsoWgSwdIFkCRKqsSJWyUYyb9xGGPHPSrFroc19qVq+qWDPb/ar6/njcZVmLCOFGHfMRJx04rtKKyuZrDQR5zJpOowaJb291oE1+0OiD7HbhVaOC6Yuzg5OFKjywp64BAqxqnhSe4sru1Wy82eO1sdK01m5CkEAyr6EGQ/N1G0+9d9Wl4Pthca40z/ds4wyj1d8gH8AG/wC+hXrZJl/1/HwoPbd+i1f37fM58RShSpOX9dv69Cp4W0+08H6hrUkdm0NvK9tb2kagbrtkhBaU+pLOwZjydn0rodG162u1lF0YrSWIjKPMCCp6MCccZyOnasDXppLnX7ppesDeTGh/gXAP/j2c/THpVRTFKu4FXAJGRg4IOD+ua+yxnFX9nY6WGp0r04XT6O7d9NLJLZaeZz0cvU6Kk3qzvxhgGGD3Bpay/BiMnhm13dGDOg9EZiyj2+UitSvvIScoptWPMas2gqjNYzJdST2M8cHnY81HiLqWH8QAYYJ7nvgVeoqatKFWDhUV0+5dOrOlLmg7Mq2dkIZzcSzyXE5XbvfA2rwSFAwAMge5wMk4FWqKKqEIwioxVkuxM5ynJyk7sKKKKokKKKKACiiigAooooAKKKKACiiigAooooAKKKKACvH/ABh/yNOof9fL/wA69grx/wAYf8jTqH/Xy/8AOvi+Nv8AdaX+L9D0ss/iS9DtvhT/AMiu3/Xw38lrpq5n4U/8iu3/AF8N/Ja6avk8P/CifYUf4aCiiitjQbJGj/eUGjYm3btG30p1FACbRu3Y5xjNII0AwEHXP406igBNq5J2j5uvvSRxonKqBTqKAG+Wm3bsGM5xQ6Ky4ZQRTqKAG7E2hdowDkCl2jduxz60tFADRFGDkIOuaNiFSNowxyadRQAm1d27HOMZpFjjXlUAP0p1FAEUMKqo3AMw74p+xck7R83X3p1FADVjjClQgwetCxoqlQowetOooATauQcfd6e1CqF4UYpaKACiiigAooooAKKKKACiiigAooooAKKKKACiiigAooooAKKKKACiiigAooooAKKKKACiiigAooooAKKKKACiiigAooooAKKKKACiiigAooooAKKKKACihiAMk4HvURuYR/F+lAEtFMjljfhW59KfQAUUUUAFFFFABVXSP3l1eXR/im8pD/soMY/77L1JqFwtrZSXDKW8tSQo6sewHuTgfjTLNTYafDA+JJMFpGHAZycsfxYk19VwxQbnUrPZK336/p+J4OfVrU40lu3f7i7RTYX3xh8Yz2p1fYHy4VhahK15qzf88bJiqD+/IV5b8ASo+re1btc5p5JikY/xXMx/OVq4cxqOGHduun5n1nBuEp18y55q/Irr1ukieq2oJLuE0AZmEbxFVIDbXGCVJwAwIBHPqO9WaK8CjWlRqKpHdH6njMJSxeHnQq/DIpLZM9pGjSFMAEwsBLGrY7BgSB/ukVPb3up2i43XBC/3WE8Z9SQ5Eg+gY/jU1FdtHNcTS63XZ6nmV+H8DU96CdOXeOl/VbP7jU8P6quoq6sqLJGAfkYkMpJGeQCDlWBUjIxWlXMeHYyb61uE4luJp5Xwf+WQUR4/EiI/Wunr6mL5oxla10fN4Ks6sJJu/LJq+17PRhRRRTOwKKKKAPO/GXgfXNS0XWrnTbq0g1251k32nzyO2xE8hbbYxAyMwh+ADy1JqXgrXE/trR9NXT/7N1zTrfTvtks7Cayt44TEyLHsIfhnZfmA3Oc9OfRajuJfKUHGcnpUezRPKjjZ/Bc83hXxlZH7Ot54kE0UEm4nZGLdYIAxxn5Qu7vgsetZmh/D7WF8YRarq13aSQXiW95rCRli1xfQyzPGoyP9UnnJgnn9xGMda9Ft5PNj3bcc1JR7OIcqPNtL8FeJZdF03Rb6Sxs4tFa6nivbedpJby5kjmjWVlKLsx57u3LEtgdOTDf+BfEmreFY9PuYdL01tL0GTS7CC3unkSZpBGrs7eWpRCsQUAAn52J6AV6bI2yMsewqO2n81iNmMe9L2cQ5Uc74N0jWY/Fuqa/rcFjbtdWltaWdtaSmQW8URkYgsVXJLSE8DHAHbJ6iiirSsUlYKZHNE8jRpKjMv3lDAkfUUXM0dvbyTzMFjiQu7HsAMk14J4WvBpDaP4onsdJnuY9I1PXpDp7ZvGZ4zLtujj7n70qBn7wX+7Uyny2JlKx79RXktz4j8UW6619i8WLq02k+GjqV0sdtB5cNyzbljQqv3dkUoCsWb5gSTxjRk8W6pqurWws9ZXTdJ1y+kj0+9Mce5ba3iJkkjLqVLSyEhdwYbE3Ac0vaIOZHorXFuLxbQzxi4dDIsRcb2QEAsF6kAsoJ9x61JXkXi2412LWda1vSvErNJoWjWlpb3It4Xa9uZpDIqt8pQIwa3zsAJyCCvfXh17xRrHja7Fjfw2Gn6bq/2Vo5ZIBHLDEAZi4KmUyEb9u0ooG0nPOT2nkHMd5rjyR6LeSQkiRbdyhHXIU4rm/Gxjj0vT7K3GI2kUoQ/wAu1B0K/wAQwePQgH0B43xJq+s6j4Y17R9Q8RXlvqEl9aWbfZ/sxtVhurjy0aGQJuA8rcWDncCueARnI1i48X3muzWOm6j/AKP4XuY9OaSd7fdcptileWRAu4lo2GFjCZxnJ6Dz82lVngKsaMbyaaXzVvw/4B8/nVPnqUqjdor+v0OvrnPiIst0ul6VBBDcNeXwZ4Z5Ckbxxo0hDEK3GVUdD1pPANxquqLda1eamZLOe6uI7K0SJFRYVlKo5bG4sQpPXGGHGea2dU0vTNTVF1LTrS8EZJQXECybSeuNwOK/BpwcJOL3RzVIuUWkcZ4Vv7iG1XTbW5g08Sz3tzcS4EkNvHDIqFYc4BXLDkjs3AzxNb+KdWj0yxkuDDLc6tpry2KLFsEk5lUIMZJxtljJ9ApPrXU6hpmlvaw+fpllKlnzAssK7YfccHaOOw7U240EReKLIXKGGa3CW1nBGi7IkZgHeIkYPygDOPlC4wMmu/B5XisYlKlC8XJRv2b72u7edrHHO9LTm6f15dzO8aQXN/Ho+gRx/bbi/vU82Fdq+dHEplc4YhQDsA5OOcc1a0cXvguG80p9TtNEh8ubWLiSRVn+zx5WOKBPug5KOzYHU4Xrmu80fRLTS/Mv71oJriMsy3TxBTDHjGATnHGSee5rlfENvYeINU/tDUNOt7jYClqLiFWaKP8AEcFuSfqB2r7P6lT4dwCrVXerJ7LTtdX3suvT5tHDOMsZWfK9Eczp2u+IdTv/ALbqF1bW6Q6bb32o+XBnLsD+7XJ+UbI+TyeaZ8J31DUtKjsZCtu+RA1vj96JZP3rzMfTDsygduScnA6g2dmUmQ2sO24XZMPLGJFxjDeoxxz2oFnbLOZ44VjlYBTJF8jEAEAEjkgBmGPc18XRxkamOjiMXeSunLu7Ho/V5xilB7JnQ61rk0VxHpuhJDJIpEW51LJu6BBgjoAST2x35x0ce7y13kFsfMQMDPtXDaPHI2tWUVomJIZVf5RxHGOGJ9AVLAe5ruq/XckzCrmGHliZx5U5Oy8lbr11vd99FseRiqUaUlBO4UUUV7BzBRRRQAUUUUAFFFFAEOpQy3Om3FvBcvbSzRMiToAWiYggMAe4PP4V5J4I+KE3h/xDceEfG9/DeR2Vx9li1+BT5LP/AHJj0Vx0J7Ec9C1ek+NvFGi+EtF/tTXbv7NbmQRKQhZnc5IAA5PAJ/CvF7n+1LXwjrui6LoB8YeGPEkk1xpl7YgtJaTydBKuCQUbackDGPfA7sLTUotTWj+X3P8ATqaRV1qe/RukkayRsro4BVlOQQehBp1Yfw10JPDXgfTdGUSBreAeYrymTa7fMwBP8IYkD2ArcrjkkpNJ6GYUUUVIBRVG4vpHumtrCOOZ4/8AXO74SP0U4By3t2HJxkZE1B4ZFj1CBbfecJKkm+MnsCxAKn6jHoSeK5/rVBVvY865+3U6Pqtd0va8r5e5eoooroOcKKKKACvH/GH/ACNOof8AXy/869grx/xh/wAjTqH/AF8v/Ovi+Nv91pf4v0PSyz+JL0O2+FP/ACK7f9fDfyWumrmfhT/yK7f9fDfyWumr5PD/AMKJ9hR/hoKKKK2NAooooAKKKKACiiigAooooAKKKKACiiigAooooAKKKKACiiigAooooAKKKKACiiigAooooAKKKKACiiigAooooAKKKKACiiigAooooAKKKKACiiigAooooAKKKKACiiigAooooAKKKKACiiigAooooAKKKKACiiigApGIVST0FLUGoNiHH940AV5Ge4mwPwHpU62ibfmZs+1N01eGf8KtVTYjPuIzDJgH3Bq7bvvhVj6c1W1A/vgPQVLGdlhn/ZP60PYCRJY3yFbp1ppuIQ2N/wClVLdGkbYpwD1p13CsW3aTz60WQF3cu3dn5cZzVK8l3yfIx2gdqntV32e1icGs7UZDBGxiXczSLHGGPBZmCjJ9MkVdKnKpUUI7t2XzJnJRi5PZE8LJe6skW7dHYgMw/vSkcf8AfI5+rKe1WNQbM+PQUuk6fHYw4DtJIxLSSN1dj1P9AOwAHao5iXuGI6luK/SsHhY4XDxorpv69T4bF4h4ivKp93oWhLHEiozcgdBUkbq65U5qtJbBIC5Y7h+VUdUvZNN8P6lqEUbSvaWckyxopZnKqSAAOpOOldVzmtckvtXtp/D/ANs026SQXLGG3lTkb9xUkeu3DH/gJqjC9vBCsMZ+WNQo6nge9eQ63p+pzaDc2cE2rJH4b8N21jYx29xLEtxqLh98/wAhG4qxQenLE9qs+MpvEFnrWr29tNqTWum31nqss8YdvOiVIENvGB1DMkzsq/3SD96vCzGt7Saprp+f9fqfqfCmB+pYSVecfen/AOk62/z+49ajdXGVOaQyxh9pbnOOleVRvfQ6na/8JZJrEdnfW9xfyW9o0+TOzqI7bdF8w8uPACAgMxJ5xVC8OtpYtpviSTXG1CDRIP7MgtZZlae7cPuLSRkBnQiJSWOBgseua83lPq3iPI9g1O8ttP024v7yURW9rE000hBOxFBLHj0ANM+3wNYi5h3Sb0DRpgqXJxtXB6EkgfjXk3jRNQ1NL/RNYk1ibVJLuy02BLczpbrbOkInnfbiNlYvMDuz90DjFemaSs+oa7DFbkRrEz4fAJQjKl8dOMkKD1Y5xhTXXg8I8RVUenX0ODMsz+rUJSiveekV3k7/AJbvyOh8K24hDzyuGWEGBHA4Zt26Vh7F+Mf7FbUciSDKHNUpo4ra3itIBtjiUADOfzPc1Op8izz/ABN/Ovr35bHzWFoewoxp3u+r7vq/vJZJUT7zY9qatxETjdj6iq1tEZmLMTjufWnXkKxqGXPXGKR0FymebGJNm75vSo9PYmHB7HiqrEvMSvVjxTGXfPi8zZu5zjioNSb51X0GafDahWVi3I5xUF0d90QPXFIRbtRtt1HtmiSeJGwW59qbdv5UOF6ngVBawCRdzE47YoAlu5Va3+Rs5OKNOGI2b1NV7qIRSYByCM1btvktQfbNADlljZ9gb5qa1xEGxu/IVSjDPJtXq1S3UCxRqQxJzg0AWpPKeBhJtaNhhgwyCPQ1S02y0aySSGxsLS1SbiRYbdUV/rgc/jTreNpuCSEWm3SCOXap4x3oAr6n4a0u60G40e2hGnW91GIpvsCJCzRbiTHkDhTucHHI3tggnNWL3TtGl0+HT7rTrOa1twvk28kCuke0YXapGBgdKtySGO1DHrgY+tVraIzOSxOB1PrRZASCHT5Ek/0eAh3WSQGIfMy42seOSNq4PbaPSo49O0iTUn1JdPszeMux7n7OvmkYxgtjJGOKLuERYKk89jU+nriHPqaAKiaToUVi+lppVglrK26S2W1QRu2QclcYJ4H5VR1/T9Ittat9fFja/bIdsEs3kKZPKJ2j5sZG0kHrwN3rV+Ri0zMD1PBql4nk09NAvoZL6HzjayfJ5q7j8p6DrQnG9mc2MpQrYecJdUVx4Y0RreRbSA24YHZ5LsqwnrlUztHPbGPwNc1buXhVmKk9CV+6SOMj2Pb2rq5IZrzS7m2glEbzwFVcHgEjHUfXrXL3Ectm4hu7drdgdo3L8hPba3Q/z9hX55xpgpToU50aN2m7tLZedu71v0t5nxOX1PekpSAjIwRV3R9ebSfLgvZt1ioIB8pneEAEj7vJXjHTPPWqEjbIy3pVWNDO539O9fE5Tm2Iy2t7Sk9Huuj/AK6M9KtQhWjaR0HjLVIrmSHToZPkKiab/aGfkX8SCf8AgI9ay6rrZxp9wt1GSzFieMdTz0AH4U28kJbYOg61rnubPNMW6quoLRJ9F/m3/WhOGoKjT5epJLOowsY8yRiFjQfxMeAM/WumsvDmmvbqJ5Z5p8fPIszoM+yg4A/X3NY/hCwjn16NpT/x7xNIBn+I/KPyBb8xXTDMVzgH7rV9twllNCOBWJqwUpTvuk7JO34u9/kedj68vackXaxNp1jZaZbsltF5ascuxYszH3Y5JqdZYym8MNo71HqDYhx6moLWEy9ThQa+zSUUkloebvqy0s8TNtDc+4p0kqR/ebHtVG4QRzFVNTRW5kXzJWOWpgTxSpJ91vwp9ULPP2lcVfpiCiiigAooqprzaimiXbaRHDJfrA5tUnYiNpMfKGI7ZxQtWB5l8YLu/wBe1q1vPClxY62PCV8JdT0PYPPLrkErkZYbWZcDuOMkYFz4O6V4Z1DXJPGXgrULrT7G5V4tS0TZtjW44Iyv8BGT045GCBkHg/HPiDT9Rmj1iOKbwj8RNNuoYJ4FQ/6YHcISO0i4O7nqBj5hg1714etJLTS4xdRWi30yrJfPaRbI5ZyoDuB1OSOp5wBXo1r0qKj30/ro12ZpLSJeqrc6hbwzmDEssqgFkiiZ9v1IGB+Jq1Wev+ja1KjfcvcSI3+2qhWX/vlVI+jeleFj8RUw+GlVhG7RtgqEK9dU5uyZNbajaTTCEO0crfdjmjaNm+gYDP4ZqPWZGYw2MUhSS6fDFDhljAyxGOR2XPYsKmuIYbiExTxRyxnqrqGH5Gm2lnbWpYwQqhfG4jqQOgz6DJ4r52XE3NQkuS07aa6evyPcjkSjWT5rxH28MUEKwwxrHGgwqqMAU6RVkjZHUMrDDKwyCPQilor5Rybd29T6CytYpLbXVn/x4TB4h/y7zsdo/wB1+Sv0OR2AFP8A7TEf/H3Z3Nv/ALWzzE+uUzge7Yq1RXuYXiDF0Uoz99ee/wB/+dzysRk+Gqu691+X+Q6KRJY1kjdXRxlWU5BHqDTqzmgns5mmsVDxuS0tsTjJ7sh6AnuDwT6HJLxq1iv+vke19ftMbRjPpuYbT+BNfX4LMMPi4J03r26r+u581isDWw8mpK679C9Xj/jD/kadQ/6+X/nXrdrc29yu63uIpgOpjcN/KvJPGH/I06h/18v/ADr5njbTC0v8X6G2WfxJeh23wp/5Fdv+vhv5LXTVzPwp/wCRXb/r4b+S101fJ4f+FE+wo/w0FFFFbGgUUUUAFFFFABRRRQAUUUUAFFFFABRRRQAUUUUAFFFFABRRRQAUUUUAFFFFABRRRQAUUUUAFFFFABRRRQAUUUUAFFFFABRRRQAUUUUAFFFFABRRRQAUUUUAFFFFABRRRQAUUUUAFFFFABRRRQAUUUUAFFFFABRRRQAVW1IfKp96s02RBIhVqEBDp7Dyyuec5qaR1RdzHFVWtZAflIP6ULaysfmIH45qtBEfzT3H+8fyFWL4hbcKPXFSQxLEuF69zTbyJ5du0jj1ovqA3T1xGzepqPUGzMF9BVm3Ty4Qp6jrUE1u8k5bK4J9aOoE0f7u2H+yuaxdQuLUxyWzSJJO6ERQK/7x3/hwOoOcHPbGeMVrapIkOm3EkhYKsTE7evTt71V0nS2s7GGFIoY2WNQ/ljA3Y5r3cky1YpurKTSi1t1679P+CeVmeO+rJRUbt3NJd8dsPMbcyp8zY6nHWqtiu64z/dGasGJha+WD83rSWcLRbi2OemK+7PkBb9sW+P7xrPvrh7XS3MLYnuGEUPsx7/gMt/wGtC8ieXaFxx1zWEj/AGq9a5zuihBjtyOjD+Jx9SAPouR1rDEVlRpub+XqevkeWSzHGxo/Z3l6L/PYqWcMaeXAvyooCqPQAcVcFrH6t+dZviq9s9G0uW/u9RsrGMfKkt5KI4w5+6CT7/jXEfC2zv47q3gi1Ke0v1iEmqWk87XVtqSHj7XbyE4yxIJK8c4ZQcGvlnd6tn7VzKDUEj02NFRcKMVVvRi4PuKtQp5cYXOaraplIzPjdtAAUdWJOAB7kkCiMXKSS3ZdScYQcpOyRT1CaW71CPT7RWeabrtOCq/XsTg8npgnnGD0Oh6fFpXyAL5hOZGUYHsAOyjPA/E5JJMHw/0wwWz6lPtaa5+4w6FTjLD2YgY/2VT3rZuLd3mLLtwfevscLhY4akoLfr6/8A+KlWljKv1qa/wrsv8AN7v7uhHCpnuNx6Zyal1L7q/U1LbxCKPHfuaW4jEse08ehroLI9Px9n49eaj1BwWCDtyab9nnU/KfyNSQ2uG3SHPsKAFhBjsyT1IJqLT1zNn+6Ks3CM8JVcc+tNs4WiDbsZPpTGTVQt/nugf9rNXZATGwHUjiobWBo5NzY6cYoAj1I/vFHtU9qQLVTnjHNJdQ+aoIPzCoUtZDwx2r9aQiO4fzZsjp0FWro7LUgemKjW2YThuNoPrUt3G0kYVcdc80ARaavzM34Uak3zKv41NaxmKPBxknPFRXUEkk24FcY70dA6Elmu23X35qrP8APdEerYq8o2qFHYYqtDbuswdivBz1oAXUf9Wo96dp+PI/Hmn3Efmx7c4Paqy20ucZAH1oAS8kEkmF6LUPiZpoPBuoSW7tHNHZStGynBDbCRg9uasvaNuG0jb6mn6kFazaNh8rjaR7VFSDnCUb2uhSjeLR5Za2Fi9xvktYZG675EDMx9STyT71YvktoLCRRbps2kmNUHP4VBpMEh02JXOJIlEbg9mXhgfcEGrC27lvmNfzzK6qe/utz5ix02h39ppWgWS3Vwskn2dFQQ/vDJhRkjHUe/StGG703W9NmhjkLxygxSKyFWU46YPQ8g/ka42GOGGTyoIf3kvISKPLv74HJ69a6bwfpNzY2WboKkk0plZAc7eAAPrhRn3zX67kudYjM6spex5aSWjet5X2vs+v67ng4nDwoxXvXkcrdmSG3aO6+SaE7ZweNrAc/h3HsQalgt7q3tILi4iWOO6OIxuO4HG4BhjgkAn8K7fUNMsL2RZbmzgklTGyR4wWXHI5NY/jSwlbQ3mBGbV1mBz2HDf+Olq8yrwdhYU8RJPmbTcFtyvdddddPTobxzCcnBbd/Mw8jdtzz6VU/wCXnn+//Wp7eIx5ZjkmmzwFm3IevUGvzFWPYLujknxDaCJiJEYtIVPKx4Oc+xwBz3x3xXT708xppXVI1+Z2Y4Cj3NZHhkxQeG7cxqWmYiOSNeZJJ8fMOe/U5PAXngVpG2uJZls7tUt5VC3Ebwv5nIOMEMoHGQRweeewr9xyLK1gcFGkp8y3v017eX/D9Twq0Z15SrONoqyb7f8ABHzX9vc3CwxM+4JvG+Jk3jOMqWA3DpyM9R61ftV226j2zWe2n3smpJcXF4kywoyR/utr/MVyWIOD93sAK0wMLgdhXqzUU/dOauqSnak24+ZRk/eXZHq2Knury1im+zNcwrcMhZIjIA5HqF69qbb27pMHYjiuS8YRefrl5GR/zzxzg8KCCD2Of5V5eaZhHL8K8RON0mvxdh0KPtp8iZ1enjMxPoKuVg+C9RM8DWt3Iv2yPr281R0cfnzjofYit6u2hWp16UatN3jJXTMpxcZOL3CiiitSSprWqadpFib3Vb63s7cMFMs8gRck4Aya8w+MdvpmufFrSfDnivUrmw0OfS3lsXim8pJb3zMfMx4yExjPcj1wdj486frU0nh/WdL0U65Bot+bi60wNzNlcIwGDkqc9j16YzXGeNrzxtqqabe+P/DGkjw5qWpRWi6WWP2u2MmQsiuMMGxnuM9CozXoYWna00+/VX+XmaQXU6b4N2Md5quraRr62mvXHhO+SLTdXniWSXYy7gu85O5PrwT7CvT6yvBvhvRvCuirpWh2S2tsrFyoYszserMx5J4H5AVq1y1qinNtbEyd2FUfEQ26XJdD79n/AKQp/wB3kj8V3L+NXqpeJMf8I/fAnGbdwPclTge+TWDippxlswhJxkmt0WaKBnHNFfkx+iBRRRQAUUUUAFFFFAFe6sbWdw7xbZF6SRsUcf8AAlwf1rynxUgj8SXyKWIWdgCzFj17k8mvXq8i8Xf8jRf/APXw/wDOuXMK1SVGMHJ8qe19PuOHFU4K0ktTt/hT/wAiu3/Xw38lrpq5n4U/8iu3/Xw38lrpq0w/8KJ1Uf4aCiiitjQKKKKACiiigAooooAKKKKACiiigAooooAKKKKACiiigAooooAKKKKACiiigAooooAKKKKACiiigAooooAKKKKACiiigAooooAKKKKACiiigAooooAKKKKACiiigAooooAKKKKACiiigAooooAKKKKACiiigAooooAKKKKACiiigAooooAKKKKAKesjetrAPvS3ce3P+yfMP6Ia0Kz4/wDSNeJHKWcW0+m98H8woH4PWhX6FkNB0sBG/wBq7+//AICTPjc4qqpi2l00Od+KXiqHwd4LudbkSKSSMhYIZJNgmc/wg4POAx/Ct2ymW5s4bhGRlmjV1KNuUgjPB7j3rzL4neJNQvPHQ8KrZ6VdaTHcWVtfWd4haa8+0seY/QIq5z2IzVvwDpw0Fr6x8O+JLm60d7qS1t7S4Tc2nSRMwmCO33lztAHT5s885+gqU406HPLR7/L+tTjw+GniKkaVNe9J2XzOz8QXn7ttOtmP2iZcOy/8sUPViexxnHv7A1WjVUjVEUKqjAAHAFMt4Y4UKxg/MdzMSSzH1JPJP1qLWJZodMna1MQuTGwtxK2FaTB2g/U4r5LGYv6xJWVorY/YshySGVYdpu85fE/0XkvxOG1rX7nVvF72drYQ2+peGrgzQ2moThE1KMpIkhiYAgbUeNg3OCxVgo5PQ/DfTrjT9En86zjsY7q8kubexjlEi2kb4+QMvy8sGfC8DfgdK84j1DT5Psmm6nK3iSxkRrjVrDUiFv8AR7jzI0dlAAKqWmI2ccA7CQdp9I8Zazb6fBHoNpdC11bVIJIdKHksU8zacHIG3C8EjrgdK5H2PTpSTbm3/T/q36XOgqnJEdQ1SK0Uny1kCMQf4ipLc9sR7vxdK5vwzrHiKLxBHoepWNmM2O+GGG7e4nhYMqIJ5WADGQeY2QMgROTu613fg+y2Rfa2bfw0cTYxuBbLyf8AA25H+yq17OT4Vuo60tlt6nh55jFV5cFT3lrLyiv/AJJ6elzaVQqhVAVVGAAOgpaKK+hOIKKKKACiiigAooooAK8mvf2gPDMF1qCw+GvFF5aaXcPBc31rYo8CFTgsW8zgcZGccV6P4y1RdE8I6prLkY0+ymuOf9hC39K+V/CUHxL0j9mXVb/TINGHh3WDNPezuzfb2RiIZMZOwAhD2JwSR1rCtUlFpIzqSa2PqbwX4h0vxV4YtNf0aczWV4paNmUqwIJVgQehBBH4VqV81+NNSkh+EPww8MfD2e80yTW7wSQbpiJNwbDeYy43KZJSx4wcdOMVqfECz8Q+CZNG+H2geL9WutX8balvvdWu5SZbeMbFby+65JZuDnC4z3o9tpt2D2nkfQFFfPzaVe/Dr9ovwnoHh/xNreoQa1Czaja6hd+cGX5gXxgAfdYjjIKnnBxWbo1vrvj/AMTfEbV7rxhq+meGtNuZcJZ3JUymFZNgBOQqBRuYD72V9Mh+26W1D2nkfSdFfNem3OuXv7E8mrX/AIjvLa7s7xprC6a7dJHRZdnlFwctnMgA9QvpXQ/s86rr/wAUfFZ8a63qcsFjoMMdnbaZb3DKstx5YLzSqMAgkkjI9B/ByKtdpW3BVLtK257nRRRWxoFFFFABUF7G8iqEGcdeanooA82kTydSvbdsLIl3Kzp3G52YHHuCD+NLXfalpmn6ht+22cM5T7jOgLL9D1H4VQk8K6GzZNtOP928mUfkGr81zDgfE1cROrRqxtJt63W7v0ueRUy+o5NxaOc8O3n2HWkZhmO72wSeoOfkP5sR/wACz2rsqy9S0XSbFbO5t9NtkMN3HucRAyNuJQEueSdzKck9q1K+uyjL6+X4KOHrTUmr2stl289b/Kx8tm+HdDEWfVXCsrxqWHhucL/E0at/umRQf0JrVqDU7Zb3Tp7RzgTRsmfTI6/hXfUg5wcU7XR5sXaSZxFaXh3RRqVut5dTMtuxISGJsM2CR8zDkdOgwfftWVbuzwKzrtYj5l/unuPwNdX4HQp4ciz/ABSysPoZGIr8x4Qy+jUxtVYindw77J3tse1j6so048jtcW10+00bUobm0i2xzuIZt7FiC3CsGYkglgqn1GP7oq7ffL4ityf+WlrIB9QyHH6n8jUl3BHc27wSjKOMHBwR7g9iPWobSM6npZiuZD51tMyJcx8HevAcds84I6Z3DpX6zTs4cvbT5dDXLpPF4Spgr+9uvvX6/mWqKrafPI5kt7lVW5gwJAv3WB6OvscH6EEdqs1hKLi7M8CpCVOTjJWaCuM8REHxJe47MgOfXy1/oR+tdnXH+KiT4mm3R+X+5jC/9NBz835nb/wH6V81xbG+UVPJx/NHXgH+/RSt7a5vZ/KsYneaNsiRTtWFuxL9jz0GTg9MV3VuJFgQSsGkCjewGATjkgVleB3VtAVFTa0Urq57M24ksPrn8Dkdq2K6shy2lgMHGNOTlzWk29tV0XRfj3M8VWlVqO6tYKra1Dd3Oj3VvY3X2S6lhdILjZv8lyCA23vg4OKs1l+LPEWieGdNXUNd1COyt2kEau4J3MegAAJPQ9u1e5FNyVlqcyPPvh78VBB4hm8GeObqzj1W0l8hNRt5Aba6YdmI4R/Y4GcjCniu28QeE7HWvFml65f3V1Iuk5e3st4+z+b2lK4yWGeOfT8fFNYjuNK8B6t4Pm8Nz+ItL1aaS68PazpsYmDSOcrvI6MDwe/UYIr3PwDpDaD4O0/SXnuJmtoArNcS+Y4J527u4XOB7AV24mMadpw0b/q/l6GkrLVGvRRVe8vrK1cJdXlvAzDIEsqqSPxrg3MyxVDX/lhgncZhguFknH+yAcH6KxVv+A1G8y6pdBLadzZxgmSWGQqJX7KrqckDknB64Geop/8AZloSN/2iRQc7JbmR0P1VmIP5V4mYZxhKDnh53btZ2t1877/kexgcsr1OWsmkr318i5RRRXwB9cFFFFABRRRQAUUUUAFeReLv+Rov/wDr4f8AnXrteReLv+Rov/8Ar4f+dcOP+BHJi/hR2/wp/wCRXb/r4b+S101cz8Kf+RXb/r4b+S101dGH/hRN6P8ADQUUUVsaBRRRQAUUUUAFFFFABRRRQAUUUUAFFFFABRRRQAUUUUAFFFFABRRRQAUUUUAFFFFABRRRQAUUUUAFFFFABRRRQAUUUUAFFFFABRRRQAUUUUAFFFFABRRRQAUUUUAFFFFABRRRQAUUUUAFFFFABRRRQAUUUUAFFFFABRRRQAUUUUAFFFFABUV7OlraSXEmdsaliB1PsPUmpapyj7XrEcJGYrQCaT0LnIQfh8zex2mu7LsG8XiY0unX0ObGYhYejKo/6ZNo9u9tYIsuPOfMkxHd25b8M8D2AqLW9a0nR9OuL/Ur+C3t7QqJ5HbiIsQFDY5Gdw/Ord5PDa2stzcSLHDChkkdjgKoGST9AK8bh1ay8a6pqjeB4JdK1u68u/ng1m03W+uW6KY1yCSAvzdgOSD7j9SoUVLyij4XWTbZRtdPt/EPjq103VvFBfVFDy+HfFOlypuuY+S1vKBxvUMcDg4J59fTbLQLPwzoGk6bYvJJHbzOryytukmZwzM7HuxfBNcv8K/DnhPVdeOszeB5PDviHRJgtxbjcsG9lOGjAOxlxkggccdeCe78SfNd2KdlkeT8QhX/ANnNGZVb0pQ6JPtvZ9j1cm5nmeHUX9pfn/kQ15z8QJJNX1bTNP1LSbO9msQ9xd6HKpY3iMhXzLWV9qu8YJOMAjPVeCeu8Zy6jBY282l6laWlytwqpDeAeVeFsgQlvvKSTwVyQR0IyK4nwXpU+rLb6dql7cT3VqUfWdL1ad2uLWcA4urSYHcoZhxtOzBIBUgg/EruftFZttQ/r+v6szqdE0WF/C8ZD3GpAMt1py6oGjkj2gNFHKcb22tzlwWHGclc1ymsahqXivWrrT73w9ZvJpUKNLol4my7cMTumtbkMFyCq7SAAcDLITx2njHVbi106+s9PxDqcloRpslxtWKe5ZZNkSFjhnHl5K+hFecafqFjFrmmWlhNPrlnbSwbVvpGj1HRLuSZIVRmADbHdwGjP8IfGVAWqhFyaS3ZjiakKULydorf5f5HongDSZhJ5J1PVbv7QCzS6g48+FNiB1G0AAgeUmeuTIck5r0OJEjjWONQqIAqqBgADoBWT4Ps0gtZJwxbc5iRj1KoxBP1Z97Z/wBoelbFfaUaSo0o010Pj8M3VcsVJe9Ud/RfZXyX4hRRRWh1BRRRQAUUUUAFFFFAGJ8RvD3/AAlfgjUfDv257IahD5TTom8oMgngkZyAR+NebWfwGnfRbfw/rHxE1y90G3IxpkSLBGwByAeTxnnp+vNeyUVEqcZO7RLinucLqHwy02f4heGfEMF2bay8L2ht7PTEhynRgG3k5GMr2Odo5o+MXw2i8b3mlapaa3c6LrGiyF7O+gjEm3JBwVJGeVGOR365ruqKPZxs1YOVWPP/AId/C9NA8TXPivW/EN34i8RXEJhS/uogiwJjGI4wSB+fTgYycw+E/hPFoPwh1nwRb69NJJrTzNcag1uA2ZFVT8m7n5Vx17mvRqKPZxXQOWJ5fJ8GbO5sPC2jX+uTXGg+GUDHTPswVL2fJJkkbd0JP3cHgsM/Ma2/h98PIPCPjzxDr+n6o5tfEEglk07yAqwybi24Nnnln4wPve1drRQqcU72DligoooqygooooA8o1Y63r3jLXZNKGuRy2mq29tZXsd+8VjaRRLE07PH5gWQkmUbdjZ46dRcsfiB4gvNAuvEw0kRaGNKub5GktJInhVU3QnzHbExkHOETC/3j39C0zT7PT4ZYrOBYkmnknkAJO6SRi7sc+rEmsqy8GeG7TTZ9PgsGFncII3tmuZXiVAchERmIRc/wqAKy5JdGRys880268QeGb6eWyW1mh8P6do+izLdF2eed2BdUwRtdvtERLHPRRg5JHR3HjHXpdWtZrCLTBpt54gOjwRTK5uJRG7LPMGDBQB5UwC4/hDFv4a6yTQdIfzd9kh86+S/kyx+a4TZtkPPUeWmO3yiqtp4O8NW2urrMOlot6lxJcxymRz5ckgYSMik7VLb23YAyTk880cklsw5Wjjm8V+LNa+xW8Fro8Vnr019DbNJ5nmQ28LNtumIbB+UL8gHJZTuXOBd03xdfXPwHfxlewxw3n9lTXISAHazgNsKg5I3YUgEn73WustdC0PT4bNorOKGPS7N7S2Jc4hgbZuXJPfy0yTzx161l6XoWk3XgOHw7NZhtKjiFtFDuZcwRtiPkEH7qoc5pTjLkvc+Z4iil7KTPPvD+p6v4U1a5t7qDVFvI9JsoYbHUNVe7W+up7jyVnLF3EQ38EDGQSccCuhj8Ya/ZaleW2pjSZ4NP1ax0+e5to5I1zOPmyGdtpUywDqepPfA6BfBnhoaZdWH9mK0V40bzu00jSyMhDITKW35UjK/NwemKp614D0e70BtAtYIbXS7y+S71SEIXa827TgsTkFmjj3NySAe53Vz8slsfOe0pyeqM3w/aapr1hJrlolrHa6jcyy2kchZSISxCSHg53geZjjG78u00u1Wx02C0ViwhjC7j1bHU/jU0aJHGscaqqqAFVRgADsBTqwoYHD0KtSrThaU9ZPv/Xlv1IqVpzSTei2IdQuPstnJPs3so+RAeXY8Ko+pIH41Y0m2NnpsNuzBnRf3jgffc8s34kk/jUF9Al1ZyW7kgSKRuXqp7Ee4PI+lS6PdNdWKtKAs8ZMc6joHHXHseo9iK9Kn8LPoeG3T56ifxWX3df0K+vp5ATVE4a1GJv8AaiJG7P8Au43D6EdzVimeI3MehXWApZoyihuhLfKOO/JHHeiIomIBJuZEHBbLY6An8jSq7JmXEVOEcRGS3a1H1y3jiQPrNvEBzDbszH/fYY/9FmuprE8WaTPdyR3lmFaaNdjxk48xc5GD2IOcZ45NeLneHrYjLq1Kgvfa0+9X+9XPFws4wrRlLYt+FI1j8NWIUY3W6O3uzDcx/Ekn8a0Kx/BK3cejeVcxeWscjCAFlJ2eh2kjg5A9gK2K9GnLmhGXLa627eXyMpK0mr3CvJPjZdXWo6zp+sabZ6f4k0Tw1dsNX06NRJPFJhlfch4ICnpjgrnpnHXSeNLDVrjX/DmiXJh8RabFMkFtcp5ZkkCHa6A/eXdjn8ehBPiuly2Nl4e03xN4X8Rz2PjZb1LTWLPULhme8kkk2tvjbkgEg8DgZz8wr08JRkpcz3/z/L1KhE9P+C+iaPHqUniLwP4gkbw1fxt5ukMNwt7nK9M8pgE5H05Ixj0is/wzp0Om6UqJYWdnNOfPu47RNsZnYDew9eR1NaFclapzzbIk7sKzrz/Q9UF23+ouQsUjf882BO0/Q7iPY7fUmtGmzRxzQtFKivHIpVlYcEHqDXHicPDE0ZUp7M2w9eVCqqkd0NoqgJJtMAju3aW1AwtyeWT2k/8Ai+nrjqb4ORkV+cY3A1sHU5Kq9H0fofb4bFUsRDnpv/gBRRRXGdAUUUUAFFFFABRRRQAV5F4u/wCRov8A/r4f+deu15F4u/5Gi/8A+vh/51w4/wCBHJi/hR2/wp/5Fdv+vhv5LXTVzPwp/wCRXb/r4b+S101dGH/hRN6P8NBRRRWxoFFFFABRRRQAUUUUAFFFFABRRRQAUUUUAFFFFABRRRQAUUUUAFFFFABRRRQAUUUUAFFFFABRRRQAUUUUAFFFFABRRRQAUUUUAFFFFABRRRQAUUUUAFFFFABRRRQAUUUUAFFFFABRRRQAUUUUAFFFFABRRRQAUUUUAFFFFABRRRQAUUUUAU9ekkh0mWVHZBHhpGX7yxgjeR77d2KtWdtBaxlIE2hjuYlizMfUseSeB19KprGb/VJFmCeRYyjbGVyZG2AhjnjA3HAx1XOeMVpV9/kOElQwilK15a/JpW1/G3Q+QzjEqrX5I7R0+Zl+NNFi8R+Fb7Q5rma2jvoTE0sJAZQfr1HYjuCRXh/ibRtS0zxZptl8S9R1CDSbW0+w6XrejKIVyWBXziASpwAMY7A88mvTvir4p1zS9Y0fQPCiaXPq+pu7eVfS4AjRGboCDltrAHpkH8LXgHxbbeLY7vSdV0abT9W0/b9v067i3KuT8rKxGGUkZB9voa+poyqUoc1rxf3rpc8yN0jY8G6M+geHodLk1S+1NoS2bq9lMkr5YkAn2BAH0qvrUqnXMyMqpa22SxOB87c5+gjX863K84+JWtx6fYXE17oE2r6Xql41neLFIg8lMCIEhyAVZlx1GCw9a8bMajVCT6vT+vlc+i4So+0zSNR7QTl+i/FmV8R9Zin1R4p49Ts9N0K5Q3Ot2Dpvsbh4jwY2DFk8qcZcL8pcHsSux4Nhh0Dw5falf3jGwEr3FrNPdtdNDa7VwTKxJYMVaTqQN+O1cd4TtdP8Qa9f+HZNY1mzvUtAtxujMUuo2WdgS4SVDiVN2zzFwWUghjyF9D8V3OtWNpFdaPp0OoRwk/arPdsmkjx/yyYnbuH91uD0yK+afY/WKbcm6n9f1/XY5Hxpq9vf+NrXR9TvrU6DdWouGhljQwXUAjlZ5hMeQyOIcBGBAbdzkEb3hmwS5sdFBlu7ySHF1ZvqKhp7dpEKxiTHDMiNKcnJ/d8nPNcx8ONEsrnQ7fVBc2l5ZSzyT6lolxaLJHZXTMzCOBGAMMiMyoVIw3XAJyfS9Na10pZ9R1WdIorFQ1xKeVE8mM/XapRR7NXr5Th1Or7SW0fz/r9D53PMVzQjhV8VXfygtX9+y9WdJZwR21pFbRDEcKBEBPYDAqSqOpaxpthcSQXV0ElitJLxowrMwhQgM+ACTgsOOp7VcidZI1kXO1gCMgjg+xr6O9zmVkrIdRVPSdTs9S+1fY5C/wBjuXtpSVIAkXG4DPXGcZHfNLoep2er6at/YSGS3d3RXKlclHZDgHtlTg9xzRdDLdFQXF5bwXlvayuwluywhUIxB2ruOSBgcDvio31KzTXY9HMh+2S2z3KoFOPLVlUknoOXXA78+houBbooooAKKKKACiiigAoori9a8c3tjrN8sWhw3Gl6bqdrptxdC/KztNMIf9XD5eHC+emfnB68cUnJLcTaR2lFYVn4y8M3Wr/2Zb6vE90WkVVCttfywTJtbG1gu05IJAPB5IFZ1x4/0adtJl0i9t7izvrp0uLqTdHFDClvJM8gZgAcbUXPQFueRS5o9w5kddRWLD4t8PS31tZR6hunu0jeNBDJwH+5vO3Cbu27Ge1Znw/8eaR4is8veW8V1i4nEY3BRbxzFA+8/KSFMZbB+UtzijmjfcLo62isC38beF5rO4uY9VXy7YRl8xSKzCRisZRSuXDkEKVBDEcZqL/hONEbxTY6FGbppr+0e5WQ2sirGqsqgPlcqSWbr02HOOMnMu4cyOkorn4fG/hWW2urhdZhENnCJ5ZXVlTyi20SKxADpnjcuR71raLqNnq2mx39hK0tvLnY5jZN2CQSAwBxkHnv1FPmTHdFqiiimAUUUUAUfEFq91Yq0SLJLbuJo43GVkYA/KfqCcHscHtRazR3FrHcRHKSoGU47EZq1eXEdravcTEhIxk4GSfYDuT6Vn6PHJFZkSp5ZeWSQRkglAzlgpxxkA9uPSpqfCmfJ8SU6alCon7z0+RaooornPlwrzvwLaaLrXhtfG/iJvtGoT3M1ykjzsDZLFI5WGIAjaEWP5gPvEMWzk16JWOvhTwwuo3N+vh7TBdXiutxOLRN8ocYcMcZO4cH171LV2XGSSZw3g0+JL/WtKWy1CHTxD4bXUbqwit/3JuLuRn+YbuTujk5PTLf3q1/hb4svPEOrW+oIsa6bcaZbJeOq8f2i8YkZB6BUwp92Udq6e/0OxlnN9a2trbanHam2tr8WytJbpg4C57AknHTk+ppug+HtN0fwxBoNjE0drAuFIOHL53GQkfxlvmz681VO8ZLsdeGxnsK0aqWq/LqcJrWp6vDoet+IbSYw2Nx4jne8vhCLhrO3tVWFHWIsNyebbktjJwWIBzkFnrepz+ONQNi8EOoajqUOhC5kj3xwLa20lxO6rkbvmkkVQT1IJ6EV3GleHvD+o6baTXuh6ZPJZyyrC7WifKRKxLAY4LMN5H945qGHQNA1S1u0utHsbqxn1F7uKOW3VlaQgBpcEclm3nPcN6GtKlN8u+x72eKlKjTxHWX5b/h+pyfh/xR4o1j+zLKy1PTpG1C/wBQxfi0Ow2VsfK8xU38s0hUg5x83THFQW/jnXbvwzFeNqVhp/2HQBrN7dy2u9Z1d5FgVU3jaGETE4OcsoGM16Ja6PpVr5f2bTbWHyonhj8uFV2o7BnUYHAZgCR3IqrfeFfDN6tut54f0y4W1t/s0AltEYRRYx5a5HC47dK5+WXc+Z9pC+xD8MbCXTPh7otnP/r0sY2uCe8rKGc/ixat2iuV+KmieJdV0+1u/CmuPp2pabKZoom/1N3kY2SD6Zxnjnp3G1OKbUW7GfxS1OS+Ip8LeLNS1abUpo9Abw3cJa2niMXIjl+1Y3GMLwWVcjv64x1qz8L9Ck1fWm1Hxj4a0u61PTfKksvEVrgx6kpB2yDHBYAA5xxkcDiuX0eLwr4l8RalPrHhCKDx9HE27Rr+cpa3k23HmIG+U5HOPxGfvV6d4D0m58I/DzR/D5kSe8iQQlzkoHO539yqjdjpnAHGa7sRUjQou7tb8FbVp9vwfbQ0UW2oR3Z1FFVtLuXuIXEyqs0MhjlC9MjBBHsQQfxqzXmxkpRUou6ZnKLjJxktUFFFFUSFZ1igtNQlsE/1HlrLCv8AzzySGUf7IwCPTJHQCtGsi/uHi19khQPNJBHHGrHC5JkOSfQBGP6V5ubYd4jBzgleWlvW6X9eR6GV1vZYlSbstb+ljToqmbG+Ee8arKZuuDEnlE+m3Gdv/As+9S6dci6tVk27HBKyR5yUccFfwP59a+Lx+U4jBQU5tNPtfT1ukfUYTMKOKk4w3XcnoqteXiwyLBEnnXLjKQqcHH95j/Cvv+WTxTEuLqG4jivYYlEx2xyROWG7GdrZAxwDg98duM4U8uxVSg68Ye6uv9as1njKEKqpSl7zLlFFZGnzXUFja3k9y80cuEulkA/cyE4JGAOA+QQc465GOXhMvq4qnUnTt7nTq99vuCviqdCcIz+1/Wpr0UUVwnSFeReLv+Rov/8Ar4f+deu15F4u/wCRov8A/r4f+dcOP+BHJi/hR2/wp/5Fdv8Ar4b+S101cz8Kf+RXb/r4b+S101dGH/hRN6P8NBRRRWxoFFFFABRRRQAUUUUAFFFFABRRRQAUUUUAFFFFABRRRQAUUUUAFFFFABRRRQAUUUUAFFFFABRRRQAUUUUAFFFFABRRRQAUUUUAFFFFABRRRQAUUUUAFFFFABRRRQAUUUUAFFFFABRRRQAUUUUAFFFFABRRRQAUUUUAFFFFABRRRQAUUUUAUrsCLWLOaP5Xncwy4/jQI7DI9iBg+59a0GIVSxOABkmqFv8Av9cllP3LOPyl/wB9sM35Ls/M1h/EbxjDoGl6Td2txYGHVb+O3+2XEn+jRREM7OWU8/KpA56kV+kZHQqrBU4y1b1+T1X4anxeayjPGS5Vtp8zzTxprY8WQ2PiPXvC8mm6HNceXpPiWxuB9rsf3hVJJVH8BYZxxjPBzjPsHgiz1ux0CKDxFfW+oajHlHu4YtnmoGOwsPXB57ZJ+p8g8HaNY+LrjUfDXhPxlMvhM3Kz3ek3NkRIsZk34gdufLZl9sdwc8+7V9Bi5KKUF92unbf8baHDPsVdYujZ6dJOihpOFjU9C7EKufbJGfauG1zwhJdxyNY65eWrzQCG4gmxc2dwoXad8D8DI67ChPc11niKQSX1paKeULTv7AAqAfqWyP8AcNRV8vmtV80aa9f6/rqfpXBOAisJPESWsnZei/4N/uMT4f6drOleHY7DXb23vLi3dkhmhDf6nPyKxbJJA4ySegySck7dFFeOfcxjypIovBZW2rfbFtIlfa11duiANMsSELuP8RDMuM+lJ8RdKvbvwjpPh6B50m1LVbYXdzBGHMW1zcSSfMCoGYsfMMfMB3xRrTeVJbz/AMG8pP8A9csb3x7/ALsV2tfV5XFPBq3Vu/8AXofF46k3mtacv5Ypemt/vdzynVtK8Qp4g14PqWrahNM2l6Ta3kkCRNHG8/mXDKYUQbQjjLY6rjPpXjuLjUPHOmQ3ba5DrNz4luDc5e4it4LK3MrxRAcRurrFC3yg5LknqM+vVlaZ4b0XT9Wk1O1sgt3JvHmvI7lAxywQMSEBIBIXGcCuz2ZPKebeGrHU9Hh0nxEkGrNeXdnqut6hCWlK/P8AvEtzF90NumUhcbiUNZ2h6fqen+EzH4bOvedb+GHsb6W5S4XffzPEkeyN8AGI+axKDADDJ5Jr2+ij2fmHIeX+LrDV9Ae8g8Py6xIun6CzNcGSW4eWe4mjRpRnO6RI4HYKBxu4A3c5Mlsbe/1nUtHt/EFtpMkum6c11L9qe4+zl2e5mi35kUMGRSygYwWHrXs1U9b0uy1ez+y38TvGHDjZK8bBh0IZCCOp6Gm6YOJ5BHNfyafcyaXNqtnoV54ke3c3Au52gtoLfARlVvNjV7gPkZGMhTjJFeo/D3T203wnbW7X9xe7y8yyTxSRlVdy4QJIS6qoYKFYkgAc1o6Pp9lpWnR2Gn20dvbxZ2RoOASSSfckkkk8kkk1ZpxhYcY2CiiirKCiiigArkPDfgWxtZr7U9QgtptZu7+6ukuwC/kb3YRFA3Rlj2LkAHg84rr6KTSe4rXPMrHwL4s/sK2sbi50e3Ol+GrjSdPW3kkYefIsafaXYoDyEPygHGTy2cjR8dfD+XV20pNOmtreDw/YFNMikBKfaBJAyeYgGGj2wbSOfvkgZANd5RU+zjawuVHH6Xo3irT7/Xvs/wDZPl6vPJdx3TTyeckjQJGkZXZjarIvz7vuj7uay9Y+HFzceHYtHtLq1hhs/DB0i2B3DLu0ZlLYHCuIUBI5+Zvx9Eoo5Ew5UcHc+Eb6Xw3Pb/8ACP6T9supkMrPr928irHzE63TReaGRySFAAGTg8mmXvg3xJcxX1vcatbXD6h4Vj0d9RdmSaO4US75RGFwQ7SKT8wI2dD1rv6KORByo4CHwLcXHh9bG503TbR3urMXJXUri+MtrDKspiDzIGVSVwE+7gnmu/oopqKQ0rBRRRVDCiiigCh4m/5Ac5/u7WJ/ugMDn8MZ/Cpak1KAXWn3Fsek0TIfxBH9aqaXObnTbe5PWaFXP4gGoq/Cj5HiWDVWnPumvu/4cnooorA+ZCiiigAooooApXGnCR5RHcSww3B/0iJMbZPXryuRwcdfrzVxVCqFUBVUYAA6UtFU5NpXLlUnNJSd0tvIKKKKkgK81174t2uk+OLi0l06a48O2bra3er28LstrdZO5HOMEAbenI984rrviB4r0rwd4f8A7X1fzjCZVhjjgTdJK7ZwqgkDOAT17V5BZzazNpevt4CsbbxV4Z8TPK8tm8gjuNNuZRhg6tzjOCPoOR1PZhaKknKa0+78e5cY33PYZtI8NeI7rS/ETW1pfS2Z86wvEOcZBwQw6jnODkZ561amP2rWlUf6ux+Zj6ysuAPwRiT/AL4rzf8AZt0+bSNQ17TrS6km0myS2iky++IXwj/0kRH+6G6/hXpGgA/2TDM3+suF8+Q/7T/MfwGcD2Ar5/ibEPC4Z0ou/NovR6v/AC+Z6uUYZVMTzPaOv+Q3zl0/ULiS4DLb3BV/OAyqMFCkN/dGAOTx9OM6MbK6B0YMrDIIOQRTKpvplnuLwx/ZpCc+Zbnyzn1OOD+ORXhZfxDGlSjSrR0Wl129D0Mbkzq1HUpy1fRmhRVPTbiUXD2V0waaMbkkxjzU9cdMg8HHseMgVcr66nUhVgpwd09j5upTlSm4TVmgrD1A+Tqk931FrLFO/shRkb8lLN+FblZ+qaa13JMUufKW5h8mddm7cvP3Tng/MeTntxxWeIhUlBez3TT+5q/4GmGnThN+02aa/A0Kq3On2k8xmeNlkYYZ4pGjZvqVIz+NWqK3aTVmYKTTumQ2drbWqFbaBIwxy20csfUnufrUHiIH+xp5VHzW6+eg9WQ7wPxK4/GrtHXg0NJqz2GpNS5luUbq5lFxHbWkSSyyIXy8m1FUEDJIBPfjj16URQRWWjzC8ZZUxJLcEp8pzlmwvpyePzzTrXS7S3ulnhWRTGpVE8xtiA4yFXOAOBwOOKTxF/yB5s9Pl3D+8Nwyv4jj8a83LsupYGnprLq++unod+Mx08XUS2j2DR0lj0u3Sfd5ixjcGOSvsT3x0z3xVmiivzqpNzm5vrqfZxjyxS7BXkXi7/kaL/8A6+H/AJ167XkXi7/kaL//AK+H/nXnY/4Ec2L+FHb/AAp/5Fdv+vhv5LXTVzPwp/5Fdv8Ar4b+S101dGH/AIUTej/DQUUUVsaBRRRQAUUUUAFFFFABRRRQAUUUUAFFFFABRRRQAUUUUAFFFFABRRRQAUUUUAFFFFABRRRQAUUUUAFFFFABRRRQAUUUUAFFFFABRRRQAUUUUAFFFFABRRRQAUUUUAFFFFABRRRQAUUUUAFFFFABRRRQAUUUUAFFFFABRRRQAUUUUAFRXs621q87qzBRwq9WJ4AHuSQPxqWqOot9puobCL5mEiTTEf8ALNVbcM+5KgAfU9q68DhnicTClbRvX06/gYYqsqNGVRvZfj0JtNtXW1mF2iF7p2eVAdygEAbeevAH614Wtnf6XfeK5/Del2eoeFNDvzHfeG9Rk87cUG55oVZT5Y6kcnOD1wBXtXjLUbaw0dopdZt9JuL/ADa2V1Pgqs7K23APBIxnB64rx2TR5Na+IjeHfFkmo6D4nvLby31PRXIttZt9pBMi4+VtqsOeODkDAFfrmBiqcGl8KS08l/kuu6PhuZyk5S3Z6R8L7O01CWXxtF9pj/ta2igtbSe2EH2G3jLARBR1+Ysc9xjHFdTqV3HZWbXEgZtuAqL1dicBR7kkU3T7a20vSILOE+XbWUCxoXb7qIuBk/QVjBjfXRv5lbBP+jRsT+7THBx2Y5JPcA47V52MxUaSdR/JHp5LlNTNMV7OOkVq32X+b6BGJA0l1dMpmmOX29FA6KvsP1JJ70NK4XeY/l+vNOulZoSF601y0qhAjKM/MTXytSpKpNzluz9pw+Hp4elGjSVoxVkSNIi9WAprzIrKM/e7+lRshKyts5PA47U4KVnTKkgJjIHeszYo+IJP3e0lQo8wc+pgkA/Uiu286PYrFsBhkZrjb63NwsMJX5ri5C9Ogwc/oDXRaKzzaVbTSLJmW3jJ2j/ZGRX1WUu+F9Gz47MGlms13hF/jI0t6k4DDpn8KN6YU7vvHj3qGWNvOCoDtZNpPpzSQxv3GNgIXPrXpEE3mx79m8bvSl8xA23cM5xiq6KzRxx+Wy7TliRTo1IjkcodzE445oAfFMDFvkIXJOKI5gzOSRtBABqMKyNHlGYBOg7GkWNjGilfvPubjpQBP50WM7xxStIiqCzAA9KgZD++bZyeF4o2sko/dlsJheO9AE/mR7c7hjOM0RurjKtmq2NqxIUJ6swAqSLcu6Tyz87D5fQUASySIn3mApGljU4ZwKj5W5ctGzbsAHHFMIYCRPLJZ24OOMUAWGkRfvMBxmkEsZYAOMnpUXlkSMSudiYXjqcUJEQIRt77mOKALFFFFABRRRQAUUUUAFFZmvPeLeWi2901usnmKCEDBpMBlDAj7uFfOCPrVvS7oXlks2zy35WSMn7jg4ZffBB579adtDnjiqcq8qH2lr6ryLFFFFI6AooooAKydNBtpp9Pb/lg2+L3iYkr+RDL/wABB71rVl3DqfE+x2VWS0HlAnBfc7bvrjYv03e9KSvFnh8QUoywfO94tW+Zaoqm2qWCsV+0qwU4d0BZIz/tMOF/Eirlc7i1uj4hxa3QUUUUhBRRRQAUUUUAFFFQmRbiGVbadNy7oyykNsf39x6UAeW/GK+/4SHxBYW3hDxVp82teH7sXP8AYkrri6lQ5wrH+MAMNuehbpV34V2XhzxJ4ofxvpVlqGhatbM9rrGm4McckxXnzFwAxGc5GOcEjNeY3zeGrD4ezeE9b0ifTfHek3BNjcQW7Ga9mMuUdZVGWByPvHsCvbH0foyXC6Xbm8VRdtEhuSoHMm0Bjx7j9K9LEfuqSivNeq/VP8DWWiLEcccasscaqGYswVcZJ6k+5qhoZMdmLCTiazVYmB/iUDCuPYgfnkdq0aoXY2a9bOP+WkEiN74Kkfl83518rnmFjXwcpdY6r9fwO/KMQ6WJUektC3RRRX56fZFe+tjOEeOQwzxHMUgGcHuCO6nuP5EAgsb9ZJBbXQWC6/55k8P7oT94fqO+KsVHcwQ3ERiuIY5UPVZFDD8jXtZZnNTBLkkuaHbt6f5Hm47LaeK95O0u/wDmWKKzX0q0Ck2qfZZP4JIPl2n6Dg/Q8VZ0m6N1ZhnAWZDsnQfwOOo+nceoIPevr8vzOjjlL2aaa6M+axuX1MJZyd0yzRRRXonAFFFFABVDWvmmsYTyr3QLJ6hUZgfwYKfwq/Wdp/8ApV5LqDfdyYbf2QH5m/4Ew/EBa87NsVHD4Ocnu1Zer/y3O/LaEq2JjbZav5F2iiivzY+3CvIvF3/I0X//AF8P/OvXa8i8Xf8AI0X/AP18P/OuHH/Ajkxfwo7f4U/8iu3/AF8N/Ja6auZ+FP8AyK7f9fDfyWumrow/8KJvR/hoKKKK2NAooooAKKKKACiiigAooooAKKKKACiiigAooooAKKKKACiiigAooooAKKKKACiiigAooooAKKKKACiiigAooooAKKKKACiiigAooooAKKKKACiiigAooooAKKKKACiiigAooooAKKKKACiiigAooooAKKKKACiiigAooooAKKKKACsy0vrDS9Am1TUbmG1tmnkkkuJmCrtaUhCWPsUA9sVNfXDzO1jZFvPb5ZJVHy24PUk9N2DwvXkduak1LSdN1DRH0e+sobixkjEbQSLlSo6D8MDB6jFfacM4SdOMq1RWUrW9Or/yPmc8xMJONKLvbVnjXxDnu9C8UTaBqCTeN/D2rQyanNYsu+602MvzLG4/hyxxjHQjjqeq+B/hvTUmXxXpfizUNbsJLM2enxXa4a0i3hmjJPJIZQOgxjvxWbp/grXvht4vOseEbT+3NJvgltcWU8n+k2ce7jynPVAWzj8+m4epxx2lhZt5cUVtBHukYIoVRklmbA9SST9TX2teslBRg736/wCa6P8APzPDlLTQoeKH8xrWyByJpC8yf3o1U9fbcU47/TNQ1DA0lxPJfTKVefAVD1jjGdq/Xkk+5PoKmr43MK6q1rR2Wn+Z+xcMZbLAZelNe/L3n5dl8l+NwooorgPogooooAhvOPs5HBF3Bg/WVQf0JH41veGf+QHAO6hgR6EMQR+B4/CsC+BZYVHU3UOPb96vNb3hzjT3iP3o7mZSPQeYxH/jpFfT5N/usv8AF+iPjc2aWcpdXTX/AKUy/RRRXqkmfHrmkyeJpPDyX0banDbC5kthncsRIXd6dSPzHrRp+u6Tfa7faNaX0c19poQ3cKZJh3glcnpk4PGa821i18R2fjSXxdpOjXFxf3muXOmQo8TBY7c20caSv6Qia2Dk+jcdRVO70LV9EttUWyN/FBd63a2d/f8A2OaWWe2jt2mknZYirlZLmV1JQjAY8gVl7R9iOZnrOq6paadcWMNy7CTUbkW1uqqTuk2O+PYbY2OfarleUXGn6jpdnZ3GnDUtRXT9O1TVoD9hmiC3LIsUMEUUmXTh5cKST1PQ1LeaHB4dn0XSdWTXb7SRp0kl7Jb/AGm5a9vlESIsnl5IG3zCq8LnH90U+d9g5mepUV5NpNnrMOpeE7XUo9Sv7q3iSK7sZo7nbaBnMgnFyv7tmjXajbid23AIJ+a38KbHU9Q8Rxaxreo38eqQtPLeWraddQjLkqIXldjE6ICNiooztDc8kind7D5j03au/fj5sYzS0UVoUFFFUNB1EXqzW8pVbyzk8q6jAxhuzAH+Fhgj2PqDTs2myXJJpPqX6Kx/H1hqep+D7/T9HvBaX1xFthlMjR85BK7l+ZdwBG4cjOR0rjvCOtmc2vh/wnZR6LdTveTal9vd7tLNrd44ZFQeYA+52XBDAYDEjJxUOVnYbdmek0V51oPxDvJdJXUdTSyjt7Tw9Nqd5IisquRMyQsmWOEdYpGAOT8y4PHNfWPGPjOHT7y4gTSYm0jTLCS7WS2kYz3s2S0CAONindHgnJG7vnhe0VhcyPTc45NFeXfEDWNY1+zutOhudPt9Kvdei0FbZ4Ga4uh5iidw+8BcAS/LtPyoTnkYszfELUksLw+TaNPoqapcathG2xxW8ksduq/NkNKVUjrkI+McUvaK4cyPSKK810nXPFgvF0Hw7o8Ih0R7Wyud0BaKSQpG8/71pQY1RJBjiRifXvHJ8T7q01a0hv4bVbS11HULfWrhVb/R0jN19mCDP3nFtk9eo4+YUe0QcyPQPEcbNo80iKWktwJ4wOpZDuA/HGPxqHTXWPWpEQ5jvYROmOm5cKx/ENH+RqLRtQ1NfBdtqOuW0cWozQK8lrECAsj/AHYuSeRlVJ9cnpRoduYtQhty27+z7BYiwH3i5H/xof8AfVarVL+v66HjYrTM6Dh8TTv6f1c2aKKKR7YUUUUAFRXdtb3Ufl3VvFMmc7ZEDDP0NS0UbA0mrMZ5UXk+T5a+Xt27Nvy49MelZmm7raeTTZGLeQA0DMcloj057lSCv4AnrWtWbruILq0vicJGzQyseio4HJ/4EqD8TQ1zJo8fO8Kq2EcktY6r9SxRRRXKfBhRRRQAUUUUAFeYeLvB/iPwr4iuvGPw8mac3Uhm1TRJ3LR3ZJyzR56P1OOvp/dPp9FaU6sqb027dxp2PN/hh4rvvH3ja51RNL+x6RpNotuY7u3Uzi9Y5fa/UBRwRx1Bxzx6RTIoooi5jjRDI25yqgbmxjJ9TwPyp9FWalK8VZA3cKoXnza9ZoeiwTSfiDGo/RjVjULqK0h8yTLFjtjjXlpG7Ko7n/8AWeKg0+CVZJLq62m4mxuC/djUdEB74yTnuSenAHh53i6dDCSg370lZL836HqZThp1cQp292Jaooor89PsQooooAKr3NjbTzec6MsmMGSKRo2I9CVIJH1qxRWlOrUpS5oSafloTKEZq0ldFJ7OaAeZYXMwkHPlzzNIknsSxJX6j8j0qzp93FdwlkyrqcSxN96NvRh/kHqOKkqpqNs7Mt3a7Vuoh8pPAkXujex/Q8/X6HKs9qU5+zxMm4vq91/mvyPHzDKYVI89FWkuncv0VFY3Ed1ax3EWdsgzgjlT3BHYg5B9xUtfanyYVnaD8mmpaNxJZ/6O4/3QMH8V2t+NaNULf5NcvIx0eKKU/wC8d6/yRa8PiGip4Fz6xaf6fqexklVxxPL/ADL/AIJbooor4E+uCvIvF3/I0X//AF8P/OvXa8i8Xf8AI0X/AP18P/OuHH/Ajkxfwo7f4U/8iu3/AF8N/Ja6auZ+FP8AyK7f9fDfyWumrow/8KJvR/hoKKKK2NAooooAKKKKACiiigAooooAKKKKACiiigAooooAKKKKACiiigAooooAKKKKACiiigAooooAKKKKACiiigAooooAKKKKACiiigAooooAKKKKACiiigAooooAKKKKACiiigAooooAKKKKACiiigAooooAKKKKACiiigAooooAKhv7hbWzkuGGRGpIUdWPYD3JwB9amqmqC61xhJ80dmisq9vMbdyfcKBj/e+ld+W4P65iY0+m79P60OXG4lYag6nXp6ljSbc2thHE5DSctKw/icnLH8yasUUV+l7bHwjbbuwrI8RT+dKumIeGAkuT6Jnhf+BEH8AfUVo39zFZ2j3ExO1B0A5Y9AAO5JwB9aw7RZMSTTgedcOZJMHOCeAue+AAPwrjx2I9jS03ei/zPpuFcp+vYxTmv3cNX5vov19ETUUUV8yfsIUUUUAFFFFAEN3/AMsD/wBPUP8A6MWtzw581jJL/wA9bmU/gHKg/iFBrDvBlrcet1Dz9JFP9K3vDP8AyALQ/wB6INj0zzj8M4r6jJv91l/i/RHxeaxTzpS7U1/6Uy9RRRXqAFFFFABRRRQAUUUUAFFFFABWP4k0yV7iPV9NLR6hbjB2jPnx90Yd/UdOR1HUbFFVGTi7ozq01Ui4v/hvM5rUZdB8Q6bHD4g09DHFJvVpQTHHIAQSJBgoQCR821uSMVPP4R8J32l2dq2iWElpZowtVSMBER+WA29VbAJHRu+a0r7T0mm+028ht7nGDIoyHHYOv8Q/UdiMmsporuwuNwC2ryuAJIvmtp3PQOh5Rie474+Ynihxi+h5s8TicK/38OaH8y3+a/yJ9a8I+GNWkjk1LQ7K5Mdv9mQSRDAi5wmOmBk4HbPGKuTaNpU32jzbCF/tdzFdT5X/AFksezY59SvlR4/3RU2mXS3lqJQhjdSVkjJ5jYdQf8e4we9WKnlS6HqQlGcVKOqZjx+FfDia6dZXRrQX5mM32jy/mEhXaWHoSOuOvGelS/8ACPaH5N/F/ZVrt1SXzb4CMf6Q/HL+vQVp1R1y1vriONrC+a2kjYkjAKyD0OQcfXB78egopsU3yxbUb+SIW8OaGdfOt/2bD9vYhmnAILMF2hiOhYDABIzgCmyeGPD0nmB9Gs286+GoSbogd9yMYlPqwwOarm/1+yZf7QtrORWYKHi3LHknABbkg/VQPers2qA6PdXMcTJPb5QwyYyJMDavBIOdy4we9U6ZzRxlBycXpJK9mrad/P5Ebt9v1XzP+XeyYqn/AE0l6MfooJX6lvQVHZpfS6PeXGmz28F5cXLmOW5haWJQrBBlVZSQVTsw5OfarNhbra2UVupLCJAu49WPcn3PWq9nbS3vgl9PguPs80ltJbLNt3eU43JuxkZwRnGR0qFLmuzwcnrvFY+pWnvbTy1RxNv408Up4N0LX9Rn06Rde1C3itrew02XzTGzs5xulfcXhjbHAwWznjNdJ/wn+jGz0+SK11Ka41OW5ht7OK1LT77dykysucDawIJzj3q1beFoIJvDYjuMW/huBo4YfL/1jeSIVbOeMJvGMH73bHNfwj4NXRNQsbuTUPtT2NjPbjMOzdJPOJpZfvHG5lXj26moSmj6dcxLb+NtGm1iGyRLwQ3NzJaW9+0BFrNNGrl41fuQI35xtJUgE1Vt/iL4elbe6ahBatZT38N3NaMsM9tCAXmQ9SoDL2BO5SBgg1nQeALi30OHT9Q1hr/T9HguP7Ntra0EM26SOSMNI7SFZHVJHVThBlsn2wfBNr4hutQmuS7TfYtGi0rT2n0pVg27wZt0QnIIKxxKf3gJOcKAoyXqdjKtiIUY81SSS8z07w/qY1XT/tf2G8s13cJdxhGYYBDDBIwQfX19K4Twv8R9T1Tw5JPNYWsOozanZRWUQDFJbS7dDFMec5EZlz2zGe1afhvw5rOleBrrQLe7sbZrgTlJI43aO2MucCKLI2ImeE3Hp1qnJ4Mmi8VeG9YVV8nw/ai2e2t35vAkbJCSG2hfL8yQjk/eod3azOD+2sE3b2n4P/I3I/HmgNqX2ZnuI4GFwY76SLbby+QCZdrZyQoVvmxtODgmsrxN4+tDosZt45tPa4vLRC2qQCNWtZJMyS7WPTyo5T82COMgVneGfANnF4T1Hwm1xYW/2zTns0mj0UW96ynjfLL5jLORxnaACTz1p3xD8CXniRtMXxFq1vdSxvMVFrZm2RpBCyxBcyOUIDTHdk8sCMbRTSm99DprYyMaDrRacetux1Gj3SPaWd9Y/a1sLyQpHDdxlXVcMVdQ3zBTt6N2IPGMVrsQq5JwBWXpK6jNbabFqJkkksIwZ7mSNYzcS7CmQiswHDMTzjJGM9r95/AG+6W5qKu67nxeaPDvEv6vbl022uOWaNmABPPTI61JUExEk0aoQdpySO1RnLR79zZaT5eazPNLW4btuecZxSRuH3Yz8pxUKhftUjE/d6DNMjUhYjuO5mz17UAW6KqjdKxO4Kd2Ad3T8KJGbfJGCck5+gxmgC1VfU7n7JZmVU3yMwSNM43OxwBn0yefQZNMaUiFpy2FjTqf1NZ+lx+fPFqUxZpJFLorHIhQjgAdmI6n3x0ArgzDHwwVHnlq3su7/wAjtwODliqvL0W5dtLRYWNzcP59yV+eZh0H91R/CvsPTnJ5qzGwdAwHX1qtgi1MhZizcAZ9TRIRuZWcqI1AUA9TX51WrVK83OpK7Z9rTpwpxUYKyRYjcOpIzwcc06qsak+VGCR8pY4puD5O4O3L4TmsrFlyiqszAtIzOQV4UA0ceYiO5UKmTz1osMtUVDatiNQzfeJ259KbGQ7M7udwb5VB9KLAWKKqZ3Rq4cmRm6Z6fhSy5YTOWbCnAAPeiwBo/wAtzqEY4VbrKj0zGjH82LH6k1erJ08NH4muY9xO+2ikbJ6nLqf5LWtX6bl0+fB0n/dX4Kx8Lj48uKqLzCs/Sv3s13dnkyzsi57KnyY+mQx/4EafqFzM032KzwJ2Xc8hGRCpyAcdycHA9jnpzLaQx21rHBEDsjUKMnJ/E9zXicSYyCpLDRfvNpv08/XR/I9TI8LLndeS02RJRRRXxh9MFeReLv8AkaL/AP6+H/nXrteReLv+Rov/APr4f+dcOP8AgRyYv4Udv8Kf+RXb/r4b+S101cz8Kf8AkV2/6+G/ktdNXRh/4UTej/DQUUUVsaBRRRQAUUUUAFFFFABRRRQAUUUUAFFFFABRRRQAUUUUAFFFFABRRRQAUUUUAFFFFABRRRQAUUUUAFFFFABRRRQAUUUUAFFFFABRRRQAUUUUAFFFFABRRRQAUUUUAFFFFABRRRQAUUUUAFFFFABRRRQAUUUUAFFFFABRRTLiaGCEyzypFGvV3YKB+JppNuyDYfVTw2AdJjnPMtx+8mb1c9fwGMD2AqlMbO/1qExP9sjkQxyrG7FIwAWDErxg9CD1yvpztxqqIqIoVVGAAMAD0Ffc5BgHQpOrLeXRqzVr/mfK5zi1UmqS2XnuLRRVfVLpLKxkuXXdsHyoDy7HgKPckgfjX0B4kYuTSS1M3Wn8/Wo4c5S0j8wjtvbIH4hQ3/fYptRWsborPMweaZt8rAcFsAcewAAHsBUtfMY2uq1ZyW2yP2/IcueX4CFGS97d+r/y2+QVjL4n0s6Curq0ptpL4WUeE+aSQ3H2cYHcF+/pzWnqEksNhPLBCZpY4maOMdXYDgfia890TwJc2Fr4Oh36lI9rOlzqol1CR4EdYXY4iLbBmcqRgcYNcqsenUlNNcqPRfOhMxiEqeYuMpuGRnkcfgaoaxrVpYSWUZzNJfXiWsaxEEhmVmyeegVGP0FeceH9B1yKbS9Rfwm8OqaVp99dXl9IYvNvdQdNoVWDEspMjkFsDAA4xWl/whd5o+k6LYeHbCKK403SbqVrr5QZL77OIYi7dWJ82U5PAA7cCnZGftptfD/Wh6Gs8JaQCaMmL/WAMPk+vpR9ot/+e8f3/L++Pvf3fr7V5bY+C3k8JTQW+natFeXkVtp1w1ykEJ8hpkNw+Yjl2ChyXckkng8mrV94Dia61aa10CCE3GtWMdnsRALe1iMBlmQfwsdsgyPmO1c5xRZdx+1qW+H+vuPRr04WEnoLqDP/AH9Wt3w1/wAgaNf+ebPH9drsv9KxLqJZ7eSF87ZFKnB559Ks+Er6aONLW62t5k0i7xwVlyXKkejAllPoQDzyfoslqRdKVPre58zndP2OYU8RJ+7KPJ807r77v7joaKwrzxj4dtNebRri/aO6SeO3fNtL5SSyBSkbS7dgZg64BbJ3D1rdr17pmIUVDdXdrbSQR3FxHE91L5UCuwBlfazbV9TtVjj0B9Kp+INe0jQ3sU1W9S2bUbpLS1DKT5krfdXgHGfU4HvTugNKis3Vtf0jTNY0/Sr6+SK81V2Szg2lmlKjLYwDgAdzgVpUAFFRXN1bW+37RcRRbvu+Y4XP0zWdZ+JNJuzMLSWe4+zzNDIYrSVgHXgjIXBHv0PY07MzqVqVNXnJL1ZrUVQ/tnTxzJJLCvdp7eSNR9WZQBV9SGUMpyD0Ios0FOtTqq8JJ+juFFFFI0CquuQSXOk3EMQBlaMmLJx845XntyBVqihOzJnFTi4vZmNbtJI39o6Y6/vhiaGYFQ7DjnHKOMYPB6YI4GJ/tWrHgWNkPf7Y5x+Hl802IBNfvUj+40cUjgdPMO4H8dqp+nrRrt7/AGdod5qHlmT7JbyTbB1bapbH44rOU3B2PhZ4zGYGpLDU6miemxLY3lx9uFpeRxhpELxSRZ2tjGQQehGR9efSr9eRm2j0vwTa+PNQv7y81mXRri7E63soR7iSESJGkYbYIxhlVcY+6TzzVpdd17QPD6afokmkxWeg3Vj4fhhuoHeS9uGWFGZWWRQgXzBxhidjnIGDR7TRNo+oyrFTrYbmqSu02j0PxNzodxF/z2AhH1dgn/s1Vbqxll1LzRKq27+W0qY+ZmjYlcfiRn/cA78cf4g8Y6kn/CQQ3f2ZPs6f8SuzFs265DypFBcLchyjL5jDcAmVyM9PmqzeM/FdjJqWlTR6Vfarbtp0cPl28kEaT3M7RtDIC7k7VTzAwPKsDjpknUcVp/X9WPJz6NX2sKkHpZr79/vTPSah0E7JLy1/55XBZR6q4D5/76Lj8KxPAOqatqD6zb6tJZzPpmpG0juLWBoUlUQxOfkZ3IKtIy/e529q1rhxaaxb3bHbHMDbynoMnlCT7Hco95KmjK7t3PLyet9XxsebZ6fft+NjVrMe8vbqaQWJgihicx+bKhkMjA4bCgrgA5GSeSDx3OnWToXGn7P+ec0qE+pWRgT+OK1lLljdH0WeYyth6MfZO13uDWAn5v7iS7H/ADzfCxf98Dg/8CzVwAAYAwB0FDEBSScAdSaxbfxb4bur6aw0/WrG+voYmkNpa3CSSsFGSAAeT7Vj78/M+LqValWXNNtvzNqisGz8W6TJoMmpXcn2OS3sDf3VnIytcW8IBJLIpJ/hP8q5nxR8V7SxvI4NI0ptTbyrWWVDcrDKRcYMaRRkFpH2ncQMADqaqNCpJ2SJUWzvr62W5iClmR0bdHIv3o27EfmfYgkHg0yNv7UsZrG7xFdQkbin8LdUlQHtkZHuCOcGuT8E6v4i1r4ia/DdXlvDpmh3RtYrWKD5pyyhg7uSSNo9ODuPoK667s4LlleVWDoCFeORkYA9RuUg4OBx7Vd3SfLL1PQwGPlhJOMlzQluiIXklsyxalH5DE7RMP8AUyH2b+En0bHPAz1q4wBGCMj3qk1nPCjCzuCUYYa3uSZY3HcZPzL+Bx7GobCBGmNvBNcabOg3fZtwkiYeqbh932XbjjIGRS5IT1iylg6OKl/ssrP+WW/yez/M0lVVGFUD6CjavA2jjpx0qtINUtvmkjhvIx1MAMcg/wCAMSG/76HsKnt5o57dJom3JIMqcY4+h6VlKDicmJwlfDStVjYdtXOdoyepxRtXj5Rx046UtFScw3Ym7dtXPril2ruztGT1OKWigBskaPC0TKNjAgr6g1n6WHt5pNNl2yeRGjJIBguh3Abh/eG057H26DSrNvDJaat9qZVaC5EcLNuw0bAtjjGCCWA68E15OdYX2+CnaN5LVfr+F9P1PTymv7LEpOVk9H+n4l3auMbRgdBigqpOSoJ9cUtFfnZ9mJgZzgdMdKNq4A2jjpx0paKAGlEJyVXJ68U3yl8xnbDbscEdKkooATAyDgcdOOlG1Q24KM+uKWigBFVQ2QoB9QKNq4xtGPpS0UAU78CLU7K5UYYyGFz6qyk4/wC+lX9a0Ky9ULXjNp1vGSwKNJMThYOcgjuW4yAPbOK0ppEiiaWRgqIpZmPQAdTX6BkCqrAxU1bV29N/zufH51yPFXi9ba+pR0v57i+m7SXJA+iqq/zU1cqpoaOumo0ilGlZ5ih6rvYvg+43Yq3XxmY1VVxlWael393Q+owdP2eHhHskFFFFcR0BXkXi7/kaL/8A6+H/AJ167XkXi7/kaL//AK+H/nXDj/gRyYv4Udv8Kf8AkV2/6+G/ktdNXM/Cn/kV2/6+G/ktdNXRh/4UTej/AA0FFFFbGgUUUUAFFFFABRRRQAUUUUAFFFFABRRRQAUUUUAFFFFABRRRQAVx3xi+I+jfDnSbS81W2urlr2Uxww2wXccDLMSxAAGR+Yrsa+cf2sj/AMJJ8cPB/g4ZeM+WJAD08+YK3/jsYNbYemp1LS2Jk7I9k+Efj7R/iF4dl1XSIriD7POYZoLgAOjYBB4JBBB4P19Kz/E3xR0jR/itp/gI6de3N9fmMGWLZ5cW8nG7JzwBk8dD3rx39lC8n8HfHDXPAl85AujJCmf4pYGYqR9U8w+/FXfh7/xVX7a2s6r9+LSGuCD2xEgthj8TmuiWHhGcv5UroXM7I+j6K8W+I/xU8T6n8Rm+H3wws7efUIGZbu/nAZImX74UH5QF6FmzzwB0ziad8R/if4K+L2meEfHtzp+rR6o8K7raNAyLK5RWUoq8hgchl5A9waxWGm1frvbqPmR9CUV4rdfEnxVb/tWL4Glnt/7FaVUEQgG8hrYSA7+udxFZ/wC078ZNb8JeMbfw74Vnt45beES37yQiT5m5VOemFwT/ALwojhpuSiuquHMj3qivMvjp8Rrvwn8HrLXdNkhXVNWEC2u9NyruUO7bT1AUEfVhXR/BXUPEGr/DLStW8TyRvqF9EZ22RCMCNiTHwP8AY2n8azdKShzvbYd9bHVV574W+Lej6/8AFe78C2OmXxns5Jo5LslPKzESGOAc4yMA+4rutYvItO0m61Cc/urSB5pP91VLH9BXzf8AsP2kmoeOPEvii7ILx24jZ26bppC7H/yH+taUqcXTnN9BN6o+mKK8HvPif4++IXjW80H4UQWdtY6f/rdUulDbhkgN8wIVSQdo2liBnjkB/wAIPiZ45i+Mz/Djxy1nf3DF0F1bIqmN1jMg5QBSpUf3QQSM9xR9Wmk3pda26hzI91or5/8Ait8avE3h3433Xh7SLeK+sbRFgjs1g3PcXDxAqNw+bh3XgddpHfNaGl+PfiV4O8A+IfE3xJsVMolgi0az8uKMGR9xbJj52gbTySflI60fVp8qfcOZHuFFfP8A4a1b9ojxH4bg8X6Te6LJZ3WZINN8uJWdQSONy8Dg9ZM13Hx3+KP/AAr3w/ZQpaw3viDUU/cWwz5aEYDOwHJXccAdT68Gk8PLmUU035BzHpFFfOPjbxX8fPBmgW3izX7/AElbK4mVDp5giLRlgSFYBQ3QHo5IrV+M3xb8V6f8N/CHivw2ILGPW45TdxywiXa4C4UE9s+Z9Riq+qzbVmncOZHvNFcD8UPHzeHvgaPGFq0QvL20gayDDKmWUKRx3wCzY9Fp37OOu+KPE3w1h17xTLFJPe3EjW3lwiP9yMKMgerK5+hFZeykoc/S9h31sd5RRRWYwooooAKKKKACiiigAooooAKKKKACiiigAooooAKKKKACiiigAqlYqL3UGvHG6G3Yx2wPQsOGf65yo+hx96n6tNIkCw25xcXDeXEcfdOOW+ijJ98Y71atYY7e1jt4l2xxIEQegAwK+s4bwN3LFTXkv1f6fefP55iuWKoRe+rJKKKK+uPmQrF1qUXGrxwLylmpkf8A66MMKPwUsT/vLWnqV0lnZSXMgLBBwo6sScBR7kkD8axbON0h3TENNIxeVh3Y9cew6D2ArhzCv7Ki0t5af5/15n1vB+WvFY728l7tPX59P8/kS1He3EFpZzXdzKsUEEbSSyMcBFAySfYAGpCQBknAHU1wnxFl1N/ED6dpsNxqtrf6VJ/ammGVVBt+U327HkTHcRj7rADJU4J+cSufrFSXKrnV+G9Zstc09ruxMwRJDE6TwPDIjDHDI4BHBB5HQitCvP8A4Yi6TRI/EEmvRanpuyZ7d4onjmvZZZAS1wrHAkUqECjgZPTgDrbHWY3ZY76MWsrcAlt0bH0D4H5EAntmsKmIo06qpyklJ7HN9eoxlGnUklKW39fl36GnRRRWx2BRRRQAVWuVEcwfcyx3DJHNt6q275JF9GViPw+gqzVbWMnSLrbyfJcr9cHFdODrSpV4yT6nn5rhIYvBVKUl0bXk1s/vOc8J+Hta1zSNV1PU7t0abW5r9tH+ziMyTwOFtxK7fNsIghcDAyNvJB5zbO21ddHXVNE07X/7Ut/D11/a013bzxyXt9IiiOMI4G8rJvbKAqgAAODiu98URwXNxbxRjbJcKWklQ4JiX+H3yXHXtuxg1nfZ7jSP9N0l2/djMlvgbZR+AyTx9fSvpp4nDxqRpylaT+77+h8Xl0sXi8F9ZVO8Vo9dXbdpW1+/vYy7vwVpOneL/CNhNp9/eW1vDcyT3rLPP5l0EhjQyOM7MqZDlsL8uB6VY+NGj6lrt86WdnPJ/ZOhXd3aMsZKyXu+Iwqp7sPKfgc/MK7rSb+31GyW5tmyp6qeqnGcH8CD6EEEZBBq1XU6aV0dkeWcbxejPKbrTfEt/wCIrXxU2k3C6s+n32oW0MqfLZFIfKtLUk8Bz9oldh/eL9lFZt9bX8Wh3F34bstejnk8PS2N3NeQ3Ec1/qFw0SxtslALNHiVy4G1Q2AcA49mkdI42kkZVRASzMcAAdSTWXAXv7xb6RCkMYItY2GGOeDIwPQkcAdQCc9cBOmkm2zgzLGQwdFyv7z2Rwen+BLZfHUMV7BeTWNjphmlYyytHczyOoCs5OZSot9xB7yA4GQKzbGz1No/CpurHUrq7c+be6dc2VwsUP2mcSvMJxhI5YQWG1iTgFQASM+o6tLJDZEwsFkkkSJGIztLuEDY743Zx7VDLaQ2OpWcdo0nmSlzOGkLeYgXl2B4LbzHz159Kz9lzpyufIU6davSqYhvSO/m3/w5fqksT6ZN51lDutn/ANdbRgDaf76Dpn1HfqOet2iiMnFnHh8RUw9RVKbs0TWdxDdW6zwOHjboffoQR2IPBB5FQ3Op6dbymKe/t45B1RpQGH4daqz6dZTStJLbqxc5cHO1z6svRj9RU1vDDbxCKCKOJB0VFCj8hWvtI9j6KXEsuVWp6+pchljmhWWGRZI3GVdDkMPUEU26mjt7aSeVtscSF3PoAMms77LNBM0un3AgMhJkidN8TE9TtyCD7gjPcGiS3u7oqL+5jeJSG8mGLYrkcjcSSSM44GPfNVzw3udi4iw7o8zT5+3n69hdIikS082cf6RcHzZ89mIHH0AAUewq0wBXBGQeoNFFc8pNu58bKUpycpPVnn/ijRPCui3dtoul+Dvtd5qkckscVp5S+VHC8bkjzWCqu9ovlGATjIqOyXwFrtxpniHVbnSIbrWvKu7aCcJbzTvwoJRnYlvlVTs67QCWFbGveEzrvxAfUdRkuo9Pt9KW1txa30kDSu8jNMreWwO3CQ9+fwrDvvB2qs2t6Da6TaR6frF3beXqAmUC1soo4lEKx43bl8t9oHy5fdnORUKc47bHXTxE403BTaT31/roXG0DwTaT61bXsNjY6bJIsFwJbyNY5n8vzjHndvjCg79mV7uBjBqW1u/htoTaLpttd6YP7VuzdWMn2sSmaUIVEzSMxLk42BiTzhR04i0zwjfy+I7G91W2heGLWNQ1WZS4bEpIiteO5EJJz2Kj2pvgvw3relav4bnvLGOSO2068W6KTri2ubiZJnOP4hlSoK+p7UOUmRKo5JKU27efr/XzO30+ytbJZVtIEiE0zzSbR952OWY+5NUPFPiHw7oduRr+q2Noki/6u4lUNIOnCHlvwBrWryT4pTPp/wAdrG+TWdK0fzvDzRm+1KESLFtn3fICyjfzxz0zxXRQpqc7M54q7PQb+fw/p9qk15q5s4WjDp5mpyRDb2wC4wOR0rL1bxbb20Oq6Z4d0y9vrrSoJFZ4YP8AR4pgm4RtIxALcgke/XNeafELR9Q8Sat4nSz8NXGtXetQ2U+g6qIR5EVuqKzbZWwIySCMA5Jbniu5XwPez/FGPxILWz0u3BZrtrW7laXUt0e3bJHgRqASSSMk4H1rpdOEYpzlf+l/wUaSlKSXNJs0fhtqer+K/hTFf61b28c9/aMFML7hKpTG9hgbSW3fKM445ryr4RrPHf8AgHUdasbNdNuLa7sdNnslIdbhsoftGR8xYBguOB19a9l+HPhaPwhoA0iDVL6+gRj5P2plPkp2RcAcf41OrWOhWkOj6Lp8EYiUlLeIeXHCpJJY4HGTntknPuRx4vM8LgKFWtWko01q29Elqv1Xrt1KoUqlaoqVGN5PZI8jsfAHinUPhp4dfS4fsOpNY3Oj6rHdgxn7I8r4Yg8/LjIHfcK7y4+HXl+K5tY0fxBdaWl5aw291HBbxtIyxLsXy5WBMfygA4Hb6V0mnanK12trfRxo0v8AqZI87XOMlSD0OAfrg/StSsMDnlDNMPHFYOop05Xs167O+unZq6KxWHxGFqulWjyyXQo6Xo2nadqV/f2kHl3GpyrLdvvJ8xlUKDgnA4Har1FFatt7nKFQ3ltDdRhZVOVO5HU4ZD6qRyDU1FCbTuhptO6KqyavApjX7Ld/3ZJXMTD/AHgqkN+G36VJp8H2WyjgL7yg+ZsY3HqTjtzmpqKqVRyVmdOIxuIxEYxqyulsFFFFQcoUUUUAFNmjjmhaKVFeNwVZWGQR6GnUUAZnmf2XN5VzM32Nx+6mlbPlHujse3TBPuCemb6kFcg5B6EVJWZJGul3XmQxFbObiRIkJEL/AN4KOgPQ47gHuTXy+b5GpqVfD79Y9/T/AC6n0WW5s1y0a23f/Mv0VT/tWwP3J/MPpGjOfyANWLW4iuYvMiLEAkEMpVgR2IPI/Gvk6mGr04804NLzTPoI1qcnaMk36klFFFYmgUUUUAFFFFAFO8WW2uvt8CGQbAlxEo+ZlBJDL/tDJ47g+oFGuSxz+F7yaJ1eN7R2VlOQw2k/lVyqFtBGbrUNOdf3M6CXaOOHBVgPxUn6tX2PDuYyn/stTorp/p/kfOZzg4x/2iG/X/Mv0VW0eWSbS4JJTuk2ASH1YcEj2yDVmvkalN05yhLdOx9DGSlFSWzCiiioKCvIvF3/ACNF/wD9fD/zr12vIvF3/I0X/wD18P8Azrhx/wACOTF/Cjt/hT/yK7f9fDfyWumrmfhT/wAiu3/Xw38lrpq6MP8Awom9H+GgooorY0CiiigAooooAKKKKACiiigAooooAKKKKACiiigAooooAKKKKACvnHw9/wAVV+3Fe3X+sg0ZpOOy+TEIf/Rhz9a+jq4v4e/DHw/4P8Xap4k0+51C4vtW3+e13KjBQz72C7VHVsdSegrajUUFLu1Ylq9jxX9qW2n8E/HvRfHVjGdl2Y7hgON8sJCuv4ps/wC+jWl+xTb3EkPi/wAWyp5lxJtjjOPvP88jj8SY69j+K3gDQfiDosGm659pjW2m82Ga1cLIhxggFgRgjqMdhU3wv8E6N4C8NHRNDNw0LztPJJcOGkkcgDJIAHRVHAHSt3iIuhyddvkLl9658wfs0+E77xtr2tT2vji/8P6jEiMzWbETXaOzF8kOpwGVM9eWFe2/Dn4SeDtB8bf2pe6/ceIfEVuPOBvbpWeIjgSeWPmyMgZYnBxjBqp4s/Zz8E6vrU2pWd3qWlmdy7wWzoYgTydoZSV+mcegFdV8I/hZ4a+HjXM2jNeXF1doEluLuQM20HO0BQABn27CqrYiM03GW/S36hGNuh4t8fNQt/Cn7WWm+IroN5EcVtdS7RyygMhx+CYrk/EXh+91r4O6z8UtZUm+1fXUNuT/AAxfOHx/sl2Cj08uvov4sfB/wx8Qdet9X1m71S3uLe2FuPsc0aqyBmYZDI3OXPStbxH8PvD+sfDOPwLILi20uGOKOM27qJUEZBBywIJJHJI5yaccVCMYW30v6C5XqfOtjLc/GXx54P8AC0Ak/snQNIt1vn5AG2NPPb2JYLGPcA19ZQxxwwpFEipHGoVFUYCgcAAVyfwl+HHhz4eWFzb6GLmWS8cNPc3bq0rAdFyqqAoyeMdzXXVz4iqptKOyKirHmP7RnjjQLL4ReILWz1uxmv5kbTxbRXKtKHZtkilQcgqpfOfSvP8A4LWV1oX7IvirW4UZLjU0uWicDB8oIIsj6HzDmuu1L9nPwXf+J7jV7rUtZdbq4aeW385ArMzFiN2zdjJ9c+9epW2jaVb+HV0GGwhXTVt/swtdvyeVt2lSO4I/Or9rThTUY663YWbZ8xfsz/D298V+E76/0z4hapoLrdmG6srB2UuoUFXfDr13MBkdj717L8G/hp4K8Jatd6jpWpNrOsrlLm7nuUkkgLckbV+4Wx1OSeecZrm9S/Zm8FT6g81pqus2cLnPkJKjBR6KWXOPrmu/+HPw90DwR4YutE0M3Sx3hLT3EsoaZ2K7c5AAGB0wMVVeupp8st+lhRjboeH/ALNMEXi/9pHxD4snQSxWrXF1bkjIV5JNsf5IXx9BXunxQ0Dw74z0N/B+tXscM14vnW6JMqzqUP8ArEU9QCcHjGDiqfwh+GXh/wCHMd8uiT307agUMz3kiOwCbtoG1VwPmNVvi/8ACfw98Q721vtTu9QtLyzi8qKa1lUDbknBVgR1J5GDUVKsZ1k07JbDSaR4dobeLPg58cNN8G2HiD+1LC+uYBJaIT5bpK+3mMk+XJ34P905IOKd8ereTxF+1lDot3qzaVGptbe2ve8GYxIGXkc+Y5xyOTXsnww+CnhDwXrK6zAbzUtSjz5VxeureUTwSiqAAcdzk+mKtfFz4R+FfiDeRX+p/arS/ij8sXVo4VnUchXDAg4yfQ+9bfWaaqX8rXt17k8rscjd/BHRnvrWXx98RtY1lfNC28N9eeWJGJACAuzHkkDCkE1N+2JoNrH8CbdLC2SC30S8gMUca4WOPBiCj2+dfyq54F/Z98HeHPENprT3uqahdWMyzQLcSII1dTlSVVQTggHrjjpVb9sbxnpek/D2bwoyrcalrarshz/qY1cN5jfioAHc59DUxm5VoKMr/Kw+jPHf7X1T4rJ4H+HGmCRINMtlju5COAy/K0h9kiUY92I7ivrrRdPtNJ0e10uxiEVrZwpDCg/hRQAB+QrzP9lf4a/8IX4U/tfVYNut6tGGlDD5raLqsXsehb3wP4a9WrPFVIylyx2Q4oKKKK5SgooooAKKKKACiiigAooooAKKKKACiiigAooooAKKKKACiiigCneZGuWLRnLkSoyn/nmQCW/BljH/AAKtCs/Rx9onm1E8rL8luf8ApmO4/wB45PuNtaFfpWVYeeHwdOnPff0vrY+HzKtGtipSjtt9wUUVl+Irl8Lp9u5WSdcyOp5jj6Ej0J6D8T2rulKMYuUnojDC4aria0aNJXlJ2RVvLg6jfbx/x627ERf9NXHBf6DkD8T6GnU2NFjjWNFCqoAVQOAPSnV8vicRKvUcn8vQ/cMry2ll2FjQp9N33fV/10Of+ImtR6NY2K3EllBa6hera3VzfD/R4IijsxfkD5tmwZIG5xnPQ8bA1j4g8VQw6DqV7cWdvg2s1qhtbrS42wu6BpECXFq20AjDYIBG7jHXWPii2vvG994UvdPNtJboGja4dSt7wGPlDo21SpYZyNw4xzUl9am01qfxC14txNPbraabCse1IVOGbJBO/JG4nj5UAA6k806kaUHKWiWprWnFRdST91b+Vv67EIt4LWK10izLmz0mJYkLtuZ3C4yT3IHX1LHuKewDKVYAgjBB71j+ILq90pbN7MR3KM7JLbMQJ7kkFi0bHguArttP3ueQaqfD3XbjVdJto5bC+LRReXNeymMI8ifKcgPvDEjOCox3xX5vjcVLFV5VZdfyPzXG476zipSl128l0R0UE9xp0Za3lXyUGWhmb5AP9luqfqB6V0FnKZ7SKZoniMiBjG/3kyM4PuKwbWD7bqKW5GYosSz+4z8q/iQfwUjvWpc6rbRa9baOFkkuriJ5iEAIhjXje57AsQo7k57AkfWZD9Ylh3KpK8eh9nw68Q8O51ZXjtFP+tuhkfEy5t30tNEfUptNm1AM6X0coj+xrFtdpSxZeAdgxk53cgjNRfDXUr+SxttIuLASQWdqBFq1tMslpeINqxtG24sSy7iQfulTycgnlY7y71DXbWbUls9ZkvNXks5tIureN20adFcxzRK5B2iOPc3I3AhlxnB6qO5i8D2NhY3cRbS5Xk+06nkKsFxJIXJkQDCRs7thgcKSAcDmvf6WPZjPmm57IqfFi/v7uaHwhpMVpJd6jayXDx3hdEuYo2XdAjgYLOCQeeFByMEGp/ANmiaHdNpk80OjXEbCDTruIrNpsoLLJECT9wEcLyAc4O0gDk/B4XVpptC12TU/7YNyjyhrljNpsscRL3sbNlY43kIVFX5SpXjBYV6pawPqu2NFP2LI82Y9Jh/dT1B7npgnGe3Th6E6s0or1fY8/H5jh8JRliK8ujSXVvsv1/4Asj7762lIx51ghAPbB/8Ash+lS07WiD4ghVeTHatvH93cy7fz2t+VNrXNP95b9PyOThFv+x6V/wC9/wClMotFeadcm90qTDZzJbn7sg6kD8z+J4Iyc72m+IbC5tFmmZrYnIYSowUEcEByMHn8fUA8Vn0/w+dusXka/daKKRgOm4lxn6kKP++a9DLMwqT/AHVTW2z6+hx8QYdZfQeMw9kr6x6a9V2ffo99y7PI2qyKio6WKMGYupU3BHIAB52Z5564Hbrcoor1Zzcj8xxeLq4qq6lR6/kR3UMdxbtDKMo4wcHB+oI6H3qjZzWkV83m3dxPOzeSJ548LkfwKwUJnPYck/TjSqs9hatdeeY23Fw5AkYIzDGGKZ2kjA5IzwPSnGSSaexnCpaMotuz7d+lya4lSC3knlO1I1LMfQAZNV4xrM0auLezgyu7a8rO3+6QFGD75OPQ0mvjfpMsH/PyVgz6eYwTP4bs1rVVOK5btHt5Jl1HFKcqyulaxmWd7HNIYJB5N0o+eBz8w9x/eX3HFWa4rwr4qXXdK8Zazr9xa2OkeHNdu7ayvEG0wQ2sSLLK7EkEiUXAPGNowQec4H/C7dMtIryTVdB1qzjsdCn14yXdibZp7KMovmIjEjcxkUBCwfrlV4zEuXdMyx2S1qMr0fej+KPVKK8n8NeK/Gl94m0231vxj4L0HVL145X8G3Fo7XqW7HJUTNOrPKEDfMsWzKkYI+aussfiH4fu9O0m9g+1tFrmtz6NY/uhmWeFp1dsZ/1eLaVt3oAcc1lzd9Dyp0ZwdmtTrKK4HRfi74c1XxJpelWena48OuXctrpOpGxxZ3zRI7yNHJuztCxOQzABgMruHNV9L+NHhbUfDza5Z6br0tjLdLZ6fKNP/wCQpcs7p5NsN2ZGBRiTwoAJLfK2Dnj3J9jU7Ho1FePaP8S9V1vXtdMdxe6La/8ACQ6b4e0y2vtJV5orsoJ7pXQOud0bhd29lUJvUMPvdHZ/F3w3deIrDTLbTtckt9W1J9M07VFsf9CvLhN/mLHJuzhRFKdxAVgjbS2KSqRZToTXQ76ismPX7csJDbXAtW+5OF3BvQ7Vy2D2OPyrPWKa5X7VPNcx3EhLrtmYeTnkKBnHAwDxg45zmvks845ybKKMas6ntLy5bQak018V9enXrqj18v4ex2Mm4KPLZX966vfbp1Oiup4baBpriVY416sxwKyWi8Oazq0M9zp0FxeQIfIku7Eh0XIJ2F147dKgMcs1wtxeTmeRPuDaFSP/AHV9fc5Pvjikun8ma2uu1vOrN7KcoxP0DE/hXytPxXwuIzuhgsJTvRnJRc3dO8tE0uivvffsj2HwfVpYCpXrT/eJNqK8u77+n4nRdOBTZHSONpJGVVUZZmOAB6k06s/xSB/wj90e6JvUf3mBBC/iQB+Nfq9SThCUkr2XofGU4801HuQza0ZFIsbSWXP3ZZP3cf6/MR9F59aq28RjDNI/mSyuXlfGNzH29AMAegAqSiv5K4o46zTiGKo10oUk7qMb79G2222vkvI/Zsp4fwmWNzp3c2rXf6dhlxEk0RjcHGQQQcEEHIII6EHnNPS/1SO3MGyGaTolyxxx6ug6n6cH/Zoorh4f4uzfIVOOCqWjLdNXV/5kuj/Prex0Zjk2DzBxeIjdrqtH6en9Ims9ZWNDFqQZJlPDRxMyyj1UDJz6jr17c1cXUbA2f2r7ZCsIOC7OFAPoc9D7Hms2o/s8H2j7R5Efm4x5mwbsfXrX6Ll/jLiadFQxmGU5JbqXLd92rNK/W3XZW0XzGJ4Hozm5Uarim9mr2X3o2bO9s7vP2W6hm2/eEbhiv1A6VPXPXFtbz7TNDHIV+6WXlfoe1LD9ttv+PS9bb/zzuMzL+BJDD88e1fSZV4wZTiGoY6lKi+69+P4JS+6LPLxnBOLppvDzU/LZ/wCX4o6Ciquj3bXtgs7xiNtzI6g5G5WKnB7jIq1X6zSqQq041IO8Wrp909j4ycJQk4SVmtAqpd6nYW0ximuUEi8soyxUepA6D61brmtJUrYqH/1oZhMf70gYhz+LA18jxrxVLhvAwxMaPtHKXLvZLRvV2fbRf5a+3kOTxzSvKnKfLZX7t9DoreaKeFZYJUkjb7rowYH6EU+udQyWN0bu0TcGP+kQrx5o/vD/AGx+vQ9iN61mjuLeOeFt0cihlb1Brs4W4pwfEWD+sUPdktJRbu4v9U+jtr5NNLDOMnr5ZX9nU1i9n3/4PdElFFFfTHkhVLUZ7kXsNpatFG0sbyF5Iy4AUqMAAjk7xzntV2qN/wAa1ZN0ykqZ9c7Tj/x3P4Vy46pOnhak6bs0mzqwUIVMRCM1dNjfsUr83GoXUnsrCMD6bAD+ZNWLWCK2h8qFSFyTyxYkk5JJPJP1qSivznEY7E4hWqzbXbp92x9rSw1Gj/DikFFFFcpuFFFFABRRRQAVTuj5OsWc5+7IHt2+pAYE/wDfBH/AquVHeQR3Nu0MoO1scg4IIOQQexBAIPtXZl+K+q4qFZ7Lf0ej/A58XQ9vQlT7lbQfksBaN/rLM+Q49cDg/ipU/jV2qtjaywzyTz3HnSSKqbhHs+Vc4yB1PzHJ47cCrVLHyoyxU5UXeLd18/8AgjwqqKjFVF7yQUUUVyG4V5F4u/5Gi/8A+vh/5167XkXi7/kaL/8A6+H/AJ1w4/4EcmL+FHb/AAp/5Fdv+vhv5LXTVzPwp/5Fdv8Ar4b+S101dGH/AIUTej/DQUUUVsaBRRRQAUUUUAFFFFABRRRQAUUUUAFFFFABRRRQAUUUUAFFFFABRRRQAUUUUAFFFFABRRRQAUUUUAFFFFABRRRQAUUUUAFFFFABWRqPhbwzqGtx6xfeH9NudQj27Lqa0R5V2/dwxGeO3pWvRTTa2AKKKKQBRRRQAUUUUAFFFFABRRRQAUUUUAFFFFABRRRQAUUUUAFFFFABVK73Xt21gjFYUAN06nkg9IwexPU9wMf3si47KiF2IVVGST2FV9BRv7OWdwRJdMZ2B6jdyAfou1fwr6Dh7BRr13UmrqH59DyM4xUqNFRi9Zfl1LiKqIERQqqMAAYAFLRRX3R8gFc7by/arie//huG/df9c14X8Dy3/AqveJZy8Y02I/NcqfNb+5F0P4nOB+J7VXAwMAV5OaV0oKkt3v6H6DwTlbcpY6a02j+r/T7wqj4h1a10bT/td0s0m5xHHFBEZJZXPRVUck8E/QE9BVq8lMFrLMsUkxjQsI4wCz4GcDPc15Drmv6H4knWSz1290yHWmRitypiuNMugPLSdEY/NEw/dSbSQCQcjLEeIlc/Qa1TkXmaul6ZqOqQ6HpurNYavpGoF7kNFbziYxlGkF205YGKQu0a7FHSQgHA46hvJe4VbaNY7SzT7PaxoMKFGASPbgAey5HWotPtNR0fTHgvb2CS9vtsUaWcbRwWkMaBcRqzEjAyc5+847Cuf8fxtCtrLcx3n9i28b/aP7PldJYXwNjkJglFAbgdCQSCBx8xxFjrJYaD31f6I+Q4ix3sqaw8d9HL9F+vloUfE2qG61SC7/eafFY3jw2GoyPut3nG6N45owchSQyh+O+McbupsUS3tXvprKK3urhVa5WH5izgYxnA3HsPXisLw3oH2vTNP1GfUbjNwkN1eW8To0FzMArBzwcHIBO0gMRXXaTB9r1PcwzDaEE/7UmMgfgDn6lT2r5vB4aWJrxpR6/kfNZbg6mKxCgvtf0393+WppaHaNaWOJcedKfMmI/vHsPYAAfhXOfErwtdaksmqaLLIl80SwXtqJfLj1S2Vtxgdv4ScsA45G9h0PHX0V+kUoRpQUILRH6pHD04UlSitFoc34WjS8ebxXq+iWum3DKVtTPbIt3b2wA4lfnGSGbaDgAgdc1zN1r0WseL4tZhsrq8tLSyltrnSbmyIme0mdcXsCEbpUbYoZeuM4GeGn8V+ITqOq26+HFur3Ulea01LQJz5Ykt1GZDIGOI25TY44bzFHIOVPCOizXcOn60+orewadZz2eiebatDexPIVQpOScF08vZ0GeSeRmt6cHOSit3octasoQbvpHVv01O08BeHLa00lY2muLiwjlb7Bb3D7xHHn5Rnqyj+EMThdvfpu32q2ttMYMSTSrgukKbig9z0HHOM5PYGmatcjT7OO0s1UTOuyBMcIowCxHoox9Tgd6oW0KwRbFLHklmY5ZiepJ7k17+IxNPBwUILXt+rPznK8pr5/XnisVJqH9aRvskRwzLNql5KglZJGR1kkhaPjbjbhgOm3tx8w75qxRTLmVILd5pM7Y1LHA5wK8GtUdeq5Jas/SsFhY4LCRo811BbvTQbdStGirGm+aRgkSZ+8x/p1J9ACa19Ls49Ps9pfc7fPNKeN7dyfQeg7AAVRtYPsEMmraljzUjwkSc+WDj5R/eZjgfkB6mtcfar7/j/kXy+v2aP7n/AAI9X/Qe1ZZxxDlvC+EVTGyvUne0Vq3bp2SXVvTtc+AzGpieJMX7LCfwYdXorvr/AJL8rl7+3LYtmGC4mhB/10aAqfcc5Ye4Bz2q7Y3dveQ+bbyb1B2sCCrKfQg8g8jg+tZNQl7i0u/tdnEJGddksRbaHH8LZ9j+hPU4r4Ph/wAXHi8xVDMqUadKV7STfu9uZt2fa6Ue9rDzLgtUcNz4WTlNbp219P8ALU6KiudjF9EwnS+ke46v5jExSeo2Zwo9NuCPfnOppuqQXMiwOGguSOYZO+Ou09GH0/HFfofD/GeT57KdPCVLTi/hlo2u6V9V+K6pHzWZZDjsvipVo3i+q1S8n2/LsP1jcIYZAjusVxG7qilm2hhyAOTjg8elaNrPFc26zQvuRuhxj2IIPQ57VDVKxu7fTZp7W9mS3jaVpbeSVgqsG+ZhuPGQxbj0I96+xpO65Tr4fxqpzdCVknr8+x5hp3wq8cSfB7Xfhzq3iLw+bDVIL1o7y2sJvtBubi5actLuk2shaRwwABIIGauan8Jtb8Wz+LLrx34itJZvEnh+HR7VNKtWij0tUklkZk3sxcl2ibJxkpjAGAPWI3SSMPGysrDIZTkGuYsfiD4cvfi1d/Dq2lnk1ixsDezkRfuFAMQaPf3kAnhYr2WRT3qHTgrJ+h9Zyx0OYh8B+Pda8YeHda8ZeIfDkn/CLyyXFs2maVKkl7O0Lwh5d8pCAJJJ8i55bgjFc74F+E/inTNU8NaV4i8UWM+n+E7C9XT0sbN4pLmSdGiNzIzO371VkfIAABkzk7uPYNJ1iK8jvJJrW5sEtLqW3DXgRBME4MqYY5QnOCcHg8Co9aurVdY02JbiL7S8rqIw43tH5bFuOuAQh/AetP2MJL+v66Hk5vhacsPOqviS3/r1Z5X4N+FfjPTf+EYXUvFGkvF4N8PXGlaPDZWDxr5zQxwx3UhZyS2xXyowBu4zk1qXnw01TTvCfw+sfC+pafFeeAtgiF/bu9vdD7HJauzKjBg37wuDnrkHrmvSPPhFz9n86Pziu4R7hux6464qh4o8Q6L4d0G+1rWtRhtbHTbaS5upWJYxxoCWbauWOMdACSeAM1zckUj4z21ST/4Hr/mzgPCHwq1TT7zRbrWPEUWo3Fj4i1LXr+ZLYxfari4ilhhKrkhPLilxjJ+6MdKpfDn4XeJPDlx4M/4SHxPpdxo3gG0uIrK3tbJ4mnZoTCtzMzOw3iNpMgAAFmOTu49VuNQtIbJLtpcxyYEexSxcnsAOSev0wfSuX8eeL7K2t4NOgsNQvLy+cG2t4YMNJsZWYkMQQo4BY8fMBnJFefjswwOBg3WqxjJK6Tkk3b1fkdWGo4vFStCLabs2le39XL2kqU0+JNrKqgrGGGG2A4XI7HbjPvViqWn6pb3Njb3Eqy2bXDFUgvF8qXcCQV2nqeO2QRgjINZ2peKrOz1W4sDbTySW9zZ2xK4w0lw+ABz/AArhj7Hiv41xTq4vF1aqhZyk3ZbK72Xkm7H7bSUaVKML3skr+iN6q+qKJLT7OThbh0hY+gdgpP5E/jipI54HneBJo2ljxvQMCy56ZHamLNZ3cLossM0ZBDgMGGOhzTyzEQwuOo4irDmjCUZNd0mnb5ixVOVWhOnCVm00n2utzo65+4updU2OR5dmrB40z80pByrN6DOCB7DPpUdhI4jWfS9R3xtxiSQ3ETfTLZGPYj3zWD4Z8XaZe38FgkN8hvprj7Lcy2+yG6dHYyCMgnA4YjOMgd6/aeLfEWlmWScmUTlCpJ2nFxtJQs7+9qle3Rt2vtY+GyXheeFx3NjIqUUrxael7rpv9+nqdNRVO81K3h0ue9gzeLbg5jtmVmZh/CMkDd7Eip/tNv5wh8+PzDnCbxuOOvHtX4TyStex9/dEtFU9F1bTtXt5JtNu47iOGZ4XZM8OjFGHP+0pGehxxVyiUZRbjJWY001dBRRRUgFFcf4/8ZXGhaw9haRaa7W+mtfTfbbwwlxuKpHGArEsxVscdqvX3jbQ9Ohj/tWS4tJvs8c1zELWWb7JvHyrKyKQjE5ABIJPSur6jiHGMlG/NtbV/duZ+1hdq+x0ej3gsf8AQ7lCsbzMYpx93LuW2t3By2Aeh45ycVqXV5Z20ipcXUELN91ZJApP0Brlm13RZlWJrlXE98+nBDEx3zqG3R4x2Csc9MDOcVk+LtR1bRNU0600bSdJlj1a5FsolmeN/M2SSMxCoQVCRnnOa/Zsi8VsThsFDC4vDc9SKsnzcicUut09VborPyPh8w4OpVsQ6tGryxerVr6vtqtD0K4nggtzPNNHHEoyXdgFH41g2jeY084VlSeZnRWGCF6Zx2zjP41zmj+IvDQmEc/2SG8ijlkklgtJPs5MX+t8qYoFfbznac8Hjg1Mnjvwy9vazJd3TrfMws1XT7gvdbQrM0ahMuoDqdwBHXng48fjbjivxDg4YKjhJQipKTb1baTSSstt3fr5a37sh4ehllaVedVSbVl07eZ0dT+GZAn2mxPWKQyIPVHJbP8A31vH4Cuch8X+H5tcj0mO8ka4mneCI/ZZfKlkQMXVZduxioVs4bjBB5qPSfGWg3V4upWl1cGztcpLdGzmEU6udqpCxX9+xkCY8vd09xnDwsrY7CZ+oRoydOpFqWjtFbqT6bq1/N210L4tpUa+XNuSUou683s19zO8oqj4f1iw1uya60+SRkjlaGRZYXikjdeqsjgMpHHUdxV6v6bPybVBVHV/+P7Tf+vpv/RMlXqr6pbG6s2jVtkg+aJ/7jjkH8/zGR3rHEUnWozpp25k196sbYeoqVaM3smmSUVDp9wLqzjn27GYYdD1RgcMp+hBH4VNX5bOEoScZKzWh9/GSkk1swoooqRhRRRQAUUUUAFFFFABRRRQAUUUUAFeReLv+Rov/wDr4f8AnXrteReLv+Rov/8Ar4f+dcOP+BHJi/hR2/wp/wCRXb/r4b+S101cz8Kf+RXb/r4b+S101dGH/hRN6P8ADQUUUVsaBRRRQAUUUUAFFFFABRRRQAUUUUAFFFFABRRRQAUUUUAFFFFABRRRQAUUUUAFFFFABRRRQAUUUUAFFFFABRRRQAUUUUAFFFFABRRRQAUUUUAFFFFABRRRQAUUUUAFFFFABRRRQAUUUUAFFFFABRRRQAUUVVvrpo5Ps1sglunGVTso/vOey9frjAzWtChUr1FTpq7ZnUqQpQc5uyRFqDfbmfTYAWU4W6k/hjQ8lc92I4wOgOT2zp1Bp9sLS0WEMXbJZ3PV2JyT+JJqev0fL8DTwVFU46vq+7/y7HxOOxksVV5nt0Co7qeK2tpJ5n2xxqWY+gqSvBP2n9Sj8RfFTwx8PovFsujQsXlv2gYgrMy5tw3Izkqcc8Fge4rqq1FSg5voLA4OeMxEaEd2etW5klllu51Ky3DZ2nqiD7q/gOvuTUteTeCtQ+KHg/xZY+FvE9k3iTSbyYQ22swZ8yEdcyn0AGTu564ZsYr1mvlq1SVSbnLdn7jgaVKjh40acbKKtZ/1+JmeJrSe/hitrPW59Lu1cywvCEYvtGCGRwd6fMMjjtyOK5TRvDWr/wDCSXlp4n0jRL/Q7pTdvKo/dpdAj94sLgmMuMlgGYZXdnLEGKTVb/WPF/8AwkWh2lwz6Ra+WLK5eNU1C1nkYb4WBzHIWt+A+AwCg7c5HV+Ibkyxx2CqymZQ86nqsf8AdOP7x49MBq5MViI4ajKpLZGeKxFKlSlXntH8fL5vQpST/appb6U7UkGI8nGyMdPpnlvxx2rk/DOupCTHbXUuq6SJfKWbBe4syThRIOrxn+GTnjrkfNWl451GG2sYrS4H+i30gt7yXBKwROGXcxB+XJ4DHgd6r6Houpr4jtr/AFP7I32C0e3iuraRle7DFdpkTAA2gNxlhlsjGK/N61aVapKpPdn5fiq9SvXc2/eb1+f6f8NobVraW2mWrQafarGJJSUhThTIx7DsCfTgcmul0u1WzsUtw24ry74xvY8lvxJNZvh+D7RfNeMP3duTHD7v0Zvw+7/31WvJNCk0cTyoskpPlozAF8DJwO+BX1+Q4L2VH20l70vy/wCD/kfecOYBUaHt5LWW3p/wf8jH8fahqlhof/EhFnLq00irZ2t04UXJByygllwQoY55xjoaTwb4k07WrOGBLwNqMcP+l2sieXPC64VxJHzsO4/Q54JHNcfqmsjXtcsLy9bUtHtrxZodDu7K4iVtQRghe3ctkRSO0SlCCpI4ypyK7TwPptzYaDbnUgr6k8YFzMxDysATsV5MZcqpC7j1IJ719Dsj3Izcqmm39f16EPiLRIW1y18RWdybHULcrFLIke/7ZAW5gdf4s/wnqrdOCQem0fT3Ei318o8/H7qLORAD/NiOp/Adya+mhD4hTzh92Bjb+m7OHP1wVx7Fq3K97LsPCNNVd2/w/r/gH5vxfm9aWIlgYe7BWv8A3na/3fnuc+2W1i+eT/WLKqD/AGUCKQB7fMT9SakrQ1DTbW7kErBo5gMCaI7Xx6HsR14IIqjcadf2y74JvtijrG6hZD9GGFJ9iB9axxmX1alR1IO9+h6OQ8VYCjhaeFrJwcdL9PXv66DaZZwNqF8EA/0a2kVpW/vuOQg+h2kn8PXEmn6fJes8t6txDCCFihDmNm9WYqc9eAM9s96TUJkC/wBk6aPJhj4nkj4255KKf7xzkntn1ORxYiphcnwsswx8+WMFfzv0XnLsu/oVmufzzGby7LVdy0culutvLz7bbiajcf2hfBUP+i2rnn/nrIOPyXn6n6DK02NEjjWONQqKAFUDAA9KdX8tcUcRYjP8ynjK2i2jH+WK2X6t9W2fT5VltLLsLGhD1b7vv/XQKKKK+dPSCoZwXu7SKP8A1rXCMuOyqQWPsNoI/EDvVe4N/JdSRpHIkakbGRkUPwMksdxHORgJ2zmkt7O5gL3MNyUucfJgkr6hWZssw9ecegFfdcO4HLcsxmFzLMMZFJSjNQhec901zW92KWnMm3K11a54OZVsTiqNbDYai7tNc0tI9tOr8tLeZ1dFVtLvob633xHa68SxN96JvRh/kHqOKs1/WEJxqRU4O6eqa2a8j8blGUZOMlZo5v4hyDQvB+pazpOg3Oo6lDETbWenq6S3UzEKikx4IUsw3MeFXcx4BryDwr4C+IXgr4g+CtU1a6h1NfO1VdXvtItZpZzLdQGd5ZjJvG1pbaKMcAD92o7V71qF/Z2KhrudY9wJA5JIHUgDnAyKzY/EtjqFiJdDlF95n3JlVvJH+0W4BHsOT7dRyY7McLhIOriqyhGOur+f6fPoehgvrsrQw8W79r/0rHiXw5+GE/iS98F2Pj/Q72607T/Dd1rF9Z30BW3Op6hdLM8Ug2gO8e2UlGzgspwOK5H4d6bZeL9R03UdA8KX0es3/jZ9fu/EdzpziO0sI7p3hjt7phtZXhWJCiMSTI+5QATX0o/9otbtCdTkZZVKuXiXcAepQgDB+uaz7Ox0vw94estE00W+labZweTEdwSO0gjQknJ9FU8n6noa/Lsy8RKWY+ywGQXlXqvlvJWUOl9d3bXS9lfrofX4fI61F1MTmb9yCvZO9/L9P+AeN/DPQbzxBN4Yku/B+o2/jWy8Uy6r4n8SXelSRbIo3l3RR3TKBMrgpCscTMoTOQuMU/UvhvY/8M4Jq+seBprzxD4o1q21DXnfSGu9Rtba41NLidBGFaUBImYGNBwdxxnJrxz9qj9rLXdY1v8A4Qr4NXk+naRbuLf+1LVT9q1B84AhPVEz0I+duuQDg/Yn7Pdl4u0/4K+HLTx5ezXniJLFTqEszbpN7EsEc92VSqk9ypOT1r9RoWkuRu7S1dtGz5TE+0pJVGrJvRX1tuaUmnabp3hGyGi6bDptjp+J4bOG1FukUZDbx5YA2EB2OMDkVyutJqmm/Ek69Dol3qtpcaSlnH9keLfbyLK7tkSOo2uGTkHqgz2r0o88GsubRVSQtYXH2VG6w+WGjHuo42/gce1fBcd8E187qQxeDcfaxjyNSulKN7rVbNO/qnvpZ+tw7xBTwEZUcQnyt3TXR+nmeW+MNA1bW9Q162uvDrT3GsRQQadqEjRNFpsPlrv5LbldJDK3yr8x2enFttB12fXjd/Zdhk1y5vy8jqQBFam2ts89Cdr47Y5xXe39rPp5ila6a4ikcRyB1UFCfulcDpnjBz1znjl1fhvEWXZnw/iI4TFxjdxumm2mmuXr/h1Vt1fZn6DluMwuY0nWoN2v10d9/wBTyG18L3dn4DurqWz1W31eHTxayvdyWkPm+bJGbgJJGQXdtpw0jdWGDkmo10mXWl8QXeg6F9hs2v7GxmtLJYPMlt4V8yTAz5bEmVQy5OVQqeQRXr11BBc27QXMMc0Ugw8cihlYe4PBotLeC1t1t7WCOGGMYSONAqr9AOBXkrOalm3H3m7+W6ffuvxZ3fVlproc/wCFNL/sTwnfT6bY3gvLtpbowXQhSR5tgVRtixGoIjTAGPU85rmZvAN5Y/Da3hiuNQ1LVbWxigWGS4RREjMn2lItoUBmQOoZiTzjdya9KorjhmFaE3JdWn92y9Laeho6MWrHm/8AwjN5dalNc2Xh8aTp99e6bE1kBFGRDayPM0rqhKjcSsYAJOAM+0mi+EbgappGp3WkxreS6ze6lqM7FC6KyzrFDuznbiVOBx8pz1r0SitJZpWcWkrX9e3L37W+aQvYR/r7zl/g9pTaR4Fs7a40f+zb7Z/pqFIwXl5LNlCQV3FsZPTsK6iiiuKvWlWqyqS3buaRioxUV0CiiisijhvF3gvUtb1vWZDJpJtdYtIrTzbi2aWe1jVXB8scDdmRyDng4POKLzwXq73l5axala/2Xfara38/mIzXEqRLCphLZxg+QOfcjHeu5orujmWIikk1p5drfjojL2MGcX4L0G4l8cav4hu1mjsvt0jaXbTRFGV2jjjmmIPPzGMhM4+VmP8AEK3dY0eW/wDFGlakZ1SHTY7g7MfMZZFVFYHoML5n/fQrXorOpi6k6nP2Vl6Wt/w/nqONOKVvmee6N8Prq08E3WgsNLSd9NOnxahGJGmZGG12O4nYWHJVTjd9K6pdEA8ZW+r5iWCz01rO2hC8xl3VnI7AYjjH4Gtiiqq46vVbcnvf8dwjShHY8+03wHrX9n2Om3+r2otdM067tLZreJvMaSVdguHJP3trPkDuTyc8aFn4a17U/C+laFqE+km48O3UMttbxiWOK6hSF4huZTuBBkB+UcFBnO4V2NRXMRk2yRv5c0R3RSAfdP8AUHuO4r7Xgvjapk2Yt4nWjU0nZarVtSVt7Nu66pvrY8PPMlWOw1qWlSOq/wAvmaPhjTk0vRYbRLWztmGWkjtEKx7yckjPJJJ5J5J5rQqpo96L23JZPLmjOyaPOdrex7gjkH0PrxVuv6no1qdalGrSknGSTTWzT2aPx6pCcJuM1aS3Ciio7qeK2t3nmfZHGpZmPYVoQVJre5trqSeyRZY5julgZtp3f3kPTJ7g4BPORzmWzuo7kMArxyRnEkUgwyH3/wARkH1rIefUbhjdC4ktnzmGHgqg7Bx/ET39OgPGSllrVu/i5bO8RrO6uLRRAr/cuSrOWCP0YqOdvDYJOMdPzWvxBw7m1SusJVXtoO3bn7uP8y31Wul2rWZ9phcDmuDVNVoXpyX/AID5Psb1FFFeeekFFFFABRRRQAUUUUAFFFFABRRRQAV5F4u/5Gi//wCvh/5167XkXi7/AJGi/wD+vh/51w4/4EcmL+FHb/Cn/kV2/wCvhv5LXTVzPwp/5Fdv+vhv5LXTV0Yf+FE3o/w0FFFFbGgUUUUAFFFFABRRRQAUUUUAFFFFABRRRQAUUUUAFFFFABRRRQAUUUUAFFFFABRRRQAUUUUAFFFFABRRRQAUUUUAFFFFABRRRQAUUUUAFFFFABRRRQAUUUUAFFFFABRRRQAUUUUAFFFFABRRRQAUUUUAVLq+VJGgt4pLi4XA2Ih2gkZG58bV4IPJzjseKm0y1+y2+HbzJpDumlx99vX2HYDsAKrxN9k1wxZVkvyXA/iR1UAnH90qo57Ef7Qxo1+gZHhMPSw0a1LVyWrf4peV/v8AuPj83xFadZ0p6Jbf5hRRRXtHklLxJfxaZoN5qE0ywpbws5diAFOOOTwOcda+XdQ8YeAvHtzNp3j7SjpsslxImm+JbXftlUNhSzuMkYx1yvslevfGDxL4W8QWV14QPiS3V75n0pViO8x3rh1VZAuSMY74AyPUY8a1/wAWwaP8KLr4ZfEPwrdQalp9q0WlXMMStHI658uQMSMYOMsucjOepFeRmVa8lSXTf+vL9T9A4XwPscPLEzt7+11fRdPK/wCiPXPgppHjPRBdWOt+IrXXtDWONtJvVbdK6nOQWyeAAOpbqMHHFbXxH1q50m10+C0uo7GTUr1Lb7dPbNNDbZzgsAQAWOFGSBlvwrI+GcNj4E+DOkyT2N7DEYI7i9QK0rWzygM7MOoRSecAkAc5wTWD4hvZZtdvHvJrprzUbuMaTZCdrrTtZsWVFMapjYDjzGY4DLu3EstePuz7zm5KKit/6/4ZGj4E0FIb7VLrULt7ddL1Qy32nwANbSXIjWRJY2I8wIVkVxFkhX6dOehMpVJr27IR5MyS5PCADhc+wAHvye9UdI0SHw+s2hWFzu0uGf7SkTIN0LN83ls/WQA/NlvmHyZJrI8Za6X02zXS5LWaDUi8aNNCZI7lgQqwgZA+fLfNyMKTzXxnEGO9rVWHi9I7+v8AwD4viDHrm9hHaO/r/wAD9WZOlvI2sXV3pNosFzrUfnPpmqFRFdRlch4pEDcgszMhz95sgZBrtNPsxZafbaZZKsbHEcSqSVTuSNxPyqMkDPQAelUPCdhb2yzQ2tz9osLWYpaRSx5a0dcq6q56qM4HccjOOB03hqDzGfUXH3wY4P8Aczy3/AiB+AU968vLcG8XiFD7K1foeZkuXvFYiMHtu/Tr9/8ASNOzgjtrWO3iGEjUKv8A9f1NcT8SW1nRNd/4Sa28qWze1Wya4dCzaMrSAyXAQZ3qRjdxkGNM/Lux0/irXdP0DTftd/JKquSqLDA8zsQpYkIgJICqzH0ANY3wzvLtLWbQNb3SahE0lyLj5mhvoJJGZZIyxOAN4UoTleOxBP6LFWWi0P0yXLpTWn6diDwho+jX+uTavpV5fNplpfyyW1sXRrJ7gqVkmh43Yy8gxnbu3EDvXZ1xvibXY9L0vUNA0uzm026sYEktI4IV/e2oK+bJbKMhmRS/yYyCFyMMMz/CvXotV0SG1F++pTR24nkufMSTYkjuYopHXgyiMLux6Z7jLd9wpyjGXJ1Olum8qa1uB1huU/JjsP6Ma6Kue8s3eoQ2achXWaY/3FVsgf8AAmAH03elafiSZ4dJkETFZJisKMOqljjcPcAk/hXuYOosPgpVaztGN5fJLV/gz8w4w5K+bQp0dZWSfq27L8UNm1vTY94E5dlyAEjY7z/dU4wx9gaba61ZuxS6P2KQDIS4dV3D1UgkH+Y/EVTiRI41jjUKiAKqjoAO1OIB6ivxT/iNGJ+sJ/VI+z1uuZ8z7a2srdfdd/I9b/UWj7Jr2z5tNbaeenX70OvtSkvWMOnS7IMfPdKOW9o88f8AAuR6Z6iGNIra32rhI0BJJP4kkn8SSakqj4k0uLWtDuNKuJ54YbpdkrQMFZkyNy5IOAwyp74Jxg81+fcTcXY7iPFKWJly0k/dgtVHz/vPzforLQ+kynJsPllLlpK8nu3u/wDJeRyPhTxje3/iq9nuZFbR7nTXvtLhijBl8qJwjOcckyBlcDsGUdc1Jd+N9UuND0a/0bQ45jrN/HDADeRyBo9pkflWwH2JIPRSOc1rS+C9Gi1SHUdHiXRbqC3lgWXTreGPcrlCdwKENgxrjI7n1qG08E2ltJa3EOqXy3dvqUmoSXAWLM8skfluGXZtAKcfKAe+ckk+W6uAcudR+Tv0Tte3yu9W9dDv5ayVriJ40Rr6ALpFydPm1D+zhfCRNpnyVIVc7igdSm71B4xzVaPxjLqthbS21je2FvfamlnZ3eYmNxtkbeyoc4QpE/JGcE46A1c03wXaWl5E/wDad/Na2lzLdWdnIY/KtpZC5LghAzYMj7dxIGfYYs2fhTTbfT9DslkuGh0CPZbKzD94fJaHc/HJ2u3IxyxrOU8DH4Vd/Pz79dr9N7LqO1V7v+v6uUtF8aDUtX023i0a6Sz1gSvY3rSJtlijUkyFAdyhvl28chgTjpXVVzPhPwXaaHqFldjVdRvm02wbT7NLpo9kEBKEABEXkCNRuPJHUnjHTVy4v2HOvYbfPu+/lb5mlPnt725W1Am3Q38Py3FuuVI/5aDrsPqD0+pyOa6Wub1QlLMzhd32dlmKf3gjBsfpXRqQyhgcgjINf0P4PYidTJq1OVTm5Z6R/lTSenk3fTum+p+Z8b01HG05KNrx37u/6aHD/GjwpbeONB1Pwpf6hf2Fvq2nrCbiwlEcygSEuFJBGD8oYEYIJHevh74ofsv/ABc+Gl1NrHgDVLzW7FPmEukSvb30YH96FWy3/ACx9hX3z441HT9KaPUdRvIbS3srWaa5nmcKkMQ2ksxPQZA/I1zXhD4l/D7xTZvdaB4z0W+SKMySiO9QPEgGSzoSGUAAnJA6V8/xnnebZLxJXnhY89Gag5RcbxvyqNm+jajffrsz2uHcNh8VlVNVNJJySd9d7/qfnl4d/aJ+OHha4NqvjfU5WgbZJBqsaXTAjqrGZS4P4g1Z+MH7SfxL+JPgmPwrrU2n2tm0m65OnW7RSXmOiyEsRtB5woAPfOK2f24vix4c+KHxAh07wfoVk9vp8nl/2ylqPtepv90AMBu8ofwg8k88cCvGfF/h7WvC3iCbQ/EOmz6dqNuqGa2nXDoHQOuR7qwP419lleX5diY0cZXwUKOIa5krLmVuuiXdbq6ur2ZliK1aDlTjUcobdbH29+wv+zvaeBprXx38RrD/AIqCYK+l2sqhotMz0aT0nPbPCZHO48fXNeefBrW18U/CDw1r0jCRtT0e2mmzz87RLvB/4FuFdFALmy5sJjsX/l3lYmM+wPVPw4Hoa8Dh7xToQqywec0/ZyUmueKfLv8AaV21bur+i3ObOOFK1b/aMJLm0+F7/Lp8n950NFVNN1G2vfkRjHMoy8EnDp+Hce4yD61br9lp1adWCqU5Jxeqa1TXkz4GcJQk4yVmuhn+KFzoNw//ADwAn/74IfH/AI7VOtt1V0KMAysMEHuK52wV4Y2s5STJaHymJ/iAA2t+IIP1yO1fivjLlc54fDY+C0g3GXzs4/K6fzaPvOB8XGM6uGb1dmvlo/0J6KKK/AD9GMy612xtdcm0y4LxNBYG+kmYARiIMVPOc5GMnjoaz9I8aaVqWiaPqdvDd7dbnaG2heNVkXbv3s43YVVEbEnPoOpxWf488O6nrHjbTHt4kOl3FpJa6tIXAIiEsUoQL1YPsZDjoGb2rL03wt4ig0nxHI9vH9rRNQtdAjEy4CXE8k3mk5wpYvEuDyBF7161PD4N0YylP3nbS/qvzs32jr1OeU6nM0lp/X9ep1Ph3xXp2r+Ff7ageLK2Yu5LUXCeZEjLuXfkgKSuD82B71PpniXR73VbjS1vIUv7OFJbm2aVd0O4EkEgkErjnBOMj1rktW8DTxrd6dpGnwxWLaZY6XFtZV3xfaGa5du5IjI68k565pniLw1rV5D4ljj0qQPqGsW9x5sMsAa7tFEKtEm8kBsRMSsgCtuIyQTVfVcFOT5Z2T21Wl3Hfvo392+4vaVUtV/Wp3C65op0xtSGsWBs1bY1yLlPKDehfOM1Fb+JNDn8RSaHDqVu99HbpcNEsgPyNuxj1OFJx2GD0Irjda8N6h/YsU+kaLqy61Jdtex3NxcWh8q4EXkoZ0DeWYzGcERAkAcYbmneIPDes3MnihYdHRmvzZC3ljkjRLi2jEQlgGW3IWHnryAuGHPpMcHhXvU381pql81q30btshupU/lO4s9X0q7tXubXU7OeGNwjyRXCsqsSAFJBwDkjj3oj1bSn019QTU7NrOMkPcC4UxoRwctnAxXD33hS/wBZvri4uNFjsbHU7ywinsGePK2tq0ku6QISpLOVTapb5QvPXEOq+FdbW8W7hsbn7O2vXF9Ja6e9sJABEsMEgWb92RtjyQeQWBHIpLB4Vu3tbP1Xa9r973V9tF3D2lT+U9Gs7iC6tUubWeOeGQbkkicMrD1BHBqSs7wnptvpHh+3sba3kgVQ0jxyyB3EjsXfcw4JLMxOOOeOK0a82ooqbUXobxvZXCiiioGFFFFABRRRQA23kFtrVvOeEmH2eQ+5OUJ/4FkD/frerndRieaxmjj4kZD5Z9G7H8Dit2xuEurKK5j+7MgcfiM1/SvhHm8sVk08HN60Zaf4ZXa/Hm+Vj8t40wSpY2NeO01+K0/KxLWT4lcvNaWf8LsZn9wmMD/vpkP/AAGtasfxFlNWspW4Qxyxbu24lCB+IVvyr7PjGrXpcPYydC/NyS23s9G/kr+h4eRQpzzOgqm3Mv8AgfiR1V1jT7PVLFrO+h82JiCPmKsjA5VlYYKsCAQwIIIBBBq1RX8cwnKElKLs11P21pNWZl6Xrd5oVxHp/iScz2kjCO01dlCgknCx3AGAjngBxhWPHysVDdZWJcRRT27wTxJLFKpSSN1DK6kYIIPUEVkWdxe+EsJi4vtAH8ABkuNNH+z1aWH25dO25cBP1Lhzi+OIthsc7T6S6P17Pz2fk9/ncflbhepRWnbt6HZUVHZ3FveWcV1aTxzwToHilicMkikZDKRwQR3FSV98eIFFFFABRRRQAUUUUAFFFFABXkXi7/kaL/8A6+H/AJ167XkXi7/kaL//AK+H/nXDj/gRyYv4Udv8Kf8AkV2/6+G/ktdNXM/Cn/kV2/6+G/ktdNXRh/4UTej/AA0FFFFbGgUUUUAFFFFABRRRQAUUUUAFFFFABRRRQAUUUUAFFFFABRRRQAUUUUAFFFFABRRRQAUUUUAFFFFABRRRQAUUUUAFFFFABRRRQAUUUUAFFFFABRRRQAUUUUAFFFFABRRRQAUUUUAFFFFABRRRQAVVvrl0kW2tlWS6lHyqfuoP77e38zx9LVVdBAkgkviPmu5C6n/pmOEx7bQD9WNezkmXxxld+0+GOr8+yPNzTGPDUfd+J7f5kun2aWxeQu008uPMmcDc2Og46AdgPfuSas0UV+gRiopJKyR8bKTk25O7Cud+IuqWWm6Q0uoyBLO3ie7vCRn91GM4x3yxXjvgiuhZgqlmOFUZJPauG17Wbeb7dqFxGk1rb2csssMURka4t0DEKUOfmO7OCFPJGCOazxDlGhOS6I9bIcPGtmNJSV0nfp8t2r+a3tfRngs/hmw8d/GO81b4T3Frpi6XZxXxvPLYRS3jtuA2kfJkE5+XGUbjmu18K+L/AInan460bwv4g8GpbNazO+pXzQF7eWILw6HG1Wz3VjkkDA6VyvgXwbZ6nDceKfhD46kt9ZEzzSabcRrCqxsciF4xkYHIzgoeMYxmvUPgnD8Q3uNa1Px/st3vJohaWMcitHCETazLhm2hvl4z1BOOa+Ykz9aw9N3Vk1d30ty2/Tsb/iq51/TL6PVLCD+0tNWPZeafGg+0LyT5sJ/jODgxnqANpzw3N6Jp+kX2k64Rpd1HoM11HLpltPFJaulzj53hDBXhBcrggDDByODXoVYOuT+brS28mUWBcxKwx5rEcsPXAOOOmWz2rzcwxf1XDSqJa9PUrNMR9Vw8qu72Xq/06lC+smutHurJ5mEl1E6STAc7nBBYfnwO3ArmZL97vRYPDd/oUjagGiheF7RntSisu6VZANoXaCRyGBwMZrsaRmCqWYgKBkk9q/OZScm292fmlSLm3JvV7kFjYQpHb6RYRLbxEEbYxt8uMfeI9+QM+rZ9a6mNVjjVEUKqjCqBgAegrO8N2xS3a8lUrJdYIBHKoPuj9ST7tjtXLeNvE63dnHFa3F/p9nbaibfXbiEiO505ADsYqQcRs2w+YONnPQkj7zJsD9Ww6cl70tX+i/rqfoWS4OOCwqlJe9LX5dF8t/vMbxZqN/4wtbWe3W1g0yXU5LOyvI5HZg+WhaG6jwCI5huXKncpZM812GnzahZldKutTgfXL+T7WY47eSS3t4VKKUUZGxdi7QWIy5Jx1Fcx4P0KfVdUi1+3vYL77FqrR3T72S11VVChbwKnyeegO3OCrMh6YUr1fibwyNR1f+1YNb1TS5Gthb3QsWQG4iVmZVyyMVILvgpg/MR6V7LselTU2nPr/X9f5nC64s2v6lqt5Z6HeSalcGJLW4j2LeaDeRqFEcmT8sJ+/uXKsHfIIIz6bZxR6ZpqoUjaU48zyIRGbiUjkhR3Y/8A66574b6etrYXGt363nmb5Y7S41Dd9rNnuDIs2fmY5DFd43AMBwSRXVxhrKNdRvIt11Idlpa5/wBXkdz/AHsZLHsAQM87uvCYV15a6RW/9f1Y8jNM0jl9Fcq5q09Ix7vv+Pz2XlLFKdJtVtxGs+o3OZZVDYVSeMseyjhR3OOnWnW4udW0eeKd4xNDNiKZEKqWXDA4yTjOVPPY1RYToxVSs1/eP1xxn1x2RR/kk86Etwml20WmWSie4VcneeFzyXcjuTk46k56DJHoYjG4WGFq1sU1HDpNO+zWz+XRLre258LmOWvDOlSjeeMm+Z2e3l231b8r7FRnuIbtLa7gWOSRGZSkgdSAQD6HuOoqWo4ImWR5pZDLPJjzJG7+gA7KMnA/qSTJX8gcQVMqqZhUeVQcaHS7bb7vXVJ9E2337L9Ly+OLjho/W5J1OtvyCiisbxR4o0jQGC6g9wWERmkW3tnmMMQODK+wHag9T6HHQ15NOnOpLlgrvyOyUlFXbNmsXQ/EMGo+KtX0VHgZtMELq0UofcrhgdwHRg6OCPp61zd/4i1q4vJtQtNQt10+HXItIaySEF3WQpH53mZzuBlVwBxsHfrUfw10TWrTWNJll0aPS49J0ltM1BnK/wCnPlSsse0nIBjJy2D+9PcGvRjgYwozlVkr2012e/z7aXXvbmLqtySiv6/r8j0KiiivLNwooooACARgjiq62iIgRJ7xFUYVVvJVAHoAG4FWKK7sFmmPwPN9Urzp82/LJxvba9mrnPXwuHxFvbU1K210n+Zh+NvCHh7xb4SvvDXiGw+26dqSqt1G8rhpNrBlO8HdkEAg54xXxF+1R+yle/D7Qb7xj4P1R9U0Gzw9zaXK/wClWiEgbgVG2RBnk4Ugc4IBNffNQalZ2uo6bcaffQR3FrdRNDPDIMrIjAhlI7ggkV7eScXZpleK9sqrnGTvNSd+bvv1t132vpoc+Jy3D1qfJypW2tpb/gHxf/wTB8BeENbutY8aamn23XNCuo4rO3lUGO0V0ys4HdyVcAn7u3I5ORt/8FQvhv8AaNL0z4n6bB+8tNun6ttHWNiTDIfoxKE/7aDtXpX7KHwEvPg/408Wam2updadq0gh020jBJW3ViyPMSB+8G4rgcdTnnA9b8feHNN8X+C9U8MavHvstVtXtpuOVDDAYf7SnBB7ECvczHiqNHixZnh6rnSXKv8At1pc0UvJ3+epzUcA5Zf7CcbS1+++jPJP+Cdeu/2z+y/pdsz7pNGvLmxc55+/5qj8FlUfhXuVeQ/sb/CHVfg98P7/AEfWNZg1C61HUGunS1B8mEBQg2lgCSVUE8DHAHTJ9er5XiSrhqucYmrhZc1OUm0/XV/jc78FGccNCM1ZpEdxBDOoE0avtOVJHKn1B7H6VLo808GqR2YnkmhmjZtsrF2j245DHkjnGDnkjFMmdEhd5G2oqks2cYHc5qn4fvodJkWHU7e6hkmAVby4JIdRkjdn7pwSSBnHJOK/Q/CalmFXHyqQxEo0KfxR15Zcydv7qadnrZ9j5fjCWHjhVF01KpLZ6XVrfN/LTudLfXEdpaSXEudka5IAyT7Adyaw7cStJJc3GPOnbcyg5CDGAo+g79zk961PEEMk+kSrEpeRCsioOrlGDbR9duPxrNgljmhWWJtysODX0XjJjsbTw2GwsFajNtyfeStZP7726/I8vgfD0JVKtZ/xFZLyT3f6f8OPooor+fz9GCiiigAooooAKKjuriC2jElzPHChYKGkcKCScAZPc0XNxb2+w3E8cXmOI08xwu5j0UZ6k+lPlb6BckooopAFFFFABRTFmiMzxCVDJGAzoGG5Qc4JHbOD+RqtPq+lQwGaXUbVY1hWcsZlx5bHCv1+6TwD0NUoSeyFdFyiobW6trl5kt545Gt5fKmCNny3wG2n0OGU/jU1JprcYUUUUgCmWd0dLmYvzZSMWf8A6YMerf7pPJ9Dk9CcPoYAjBGQeoNfQcNcRYvIMfHF4Z3W0o9JR6p/o+j+487NMto5jh3Rq/J9n3NysfxFcfaN+mQx7j8pmlbpFyCMercAj04PsXeH7owsulznlF/0Zz/y0Qfw/wC8o/Mc+uG6/Cba5/tJP9UwCXI/u+j/AIZwfbB/h5/pzOc1xOO4aqY7JGpylG8eun2rL+ZK+j6q1mz8pwGDpYfNo4fHqyT/AB6fJ6akdFFFfyGfs4UUUUAYptL/AEC7k1Dw/F51tM5kvNJ3BVlYnLSQE8RyE5JBwjnrtJL10ug6tYazpy3unzeZGWKMGUq8TjqjqcFGHdSARVSsrU9MuY9QOs6HMlrqW0CUPnyL1R0SYD/x1x8ye67kb7zhzi6WG5cNjXen0l1j691+K81oeNj8rVS9SlpLt3/4J1tFZPhfXrbWFlhMUlpqFrj7XYzEeZDnOGGOGQ4O1xwcEdQQNav1SE41IqcHdPZo+blFxdmtQoooqhBRRRQAUUUUAFeReLv+Rov/APr4f+deu15F4u/5Gi//AOvh/wCdcOP+BHJi/hR2/wAKf+RXb/r4b+S101cz8Kf+RXb/AK+G/ktdNXRh/wCFE3o/w0FFFFbGgUUUUAFFFFABRRRQAUUUUAFFFFABRRRQAUUUUAFFFFABRRRQAUUUUAFFFFABRRRQAUUUUAFFFFABRRRQAUUUUAFFFFABRRRQAUUUUAFFFFABRRRQAUUUUAFFFFABRRRQAUUUUAFFFFABRRRQBV1uV4dHuZIziQRMI8dS5GFA9ySKt28SQW8cES7UjUKo9ABgVn2Ea315LcXDlvs87JFBniMrwGYd2P3hnoCuPU6dfoOR4GWFw15PWdn8raHx+b4tV63LFaRugooqG+uYbO2ae4fai8cAkknoABySfQV7J5STbstzM8aySLpscapcAPIP30D7TG2RtzyMgk45IHuDivLf2jtM1c/BC6j0uOYuJY59RhiIDNCDmRRsAGAcE4HQE+tavxK8Z2/gtbDWfEOkX19HeXBiluUhRvsKKfkY4GATkcbvXkkc8HeeKPiF41+IOs3nw38R6fJpujw2721jJjF6kiZbhl67gwO4rjgcV4uYYv2lqcPhT37s/T+H8ojgaDlW/iTWyWqTV+uvr91rnM+Po/h1c6Fovi34cazHoGrR3UNvJa28pWdVb5STFnJZe5HDDOSeDXvmq6rd+HPCFkl6/wDamtSxx2sKIAhvrorzgDhVyGYnoqgntXmXwj0/wN4s8bTNrHw+bQ/FmkYubmDEiW5YMAJFTIXOSDgj3y3Wva2RWZWZVJU5UkdO3FeXJ9D6rC03aU00r9v8u55t4J8THw/ourz6/rNzq97LqVw0EKNuJSICOVkUnEUIlSXliFUYyc9er8NayviHQ9Pk1PRZ7STUoWnFtIhlWJQRtLuFAQsCGUHB69wao33gbQ7TT1ttPghtbNrv7Ve27E51KTJMccsrEnZ5hBxzngdMg8vqU114e1W5PiHV76wa4tkvb67063LyX9w7MiWsDFWxHEAoC8FjIpOMtmWlJWK96CtP4f67/wBfr3l1pNxB81lJ50f/ADxlb5h/uv3+jf8AfQqrawtfXy2jxSRpH89ysiEfKOi+h3H0yCA3Ncp4b1TxPpevR/2ksN9dvDDP4kvJJlRNLgAIjhCllQNgmRiG/vnaQUFd/oOu6RraSNpWoQXXk48wRt8y56Eg8gHBweh7V49TJMK60aqVrO9ujPM/sXBVK8asVy2eq6P+uttOgviW21O60iRNHv1s71SrwyPGHjYg52OOu1uhxggHg1xwv11rxhpDJpF3Ya/byNBrELwMYvsmx9weTGyWMvsKEHOT0HzivQKK9dM9ucOZ7md4Z0a10LT2sLGSb7KJWeCGR9y26nH7tO4QHOAc4zgcAAaNFRXLyDZDAoaeZtsSnpnuT7Acn6epFVCEqk1GO7JrVqWHpSqTdoxV2ACTanDG5HlW3+k3Bb7qqoO3P/AgCP8AcNMurszytqcyMqKmy3ix820kdv7zHbx7Adc1LqVvHbRRaXExdrg+ddyt951XHB/3jgY6bQwqCeb9/wCeE3x2TA4J4kmPCR/mwYnt8tezUjGjBYe9lbmm+y6+n+Vj4Wnio15Vc7qR29ylF9Xt+b+Wva5KRNY4jV0Op3SgyuBuFrF6D8eBnqcnGBgLbwpChVMksdzsxyzn1J7mktYjGrNI/mTSHdLIR99vX2HYDsABUGt6pZaTplzf3su2G0j8ybaNzKvrgc+v5Gv5n424wrcQ4z2OHusNB2hHv05mu76LovNu/wBBk+VfU4OviHzVp6yl+i8l/XQuVn+INXt9ItY5ZYpriSedYILeAAyTSEEhV3EAHAJySAADzXLSeINc8Q65qmjaMIoLWIXVm9yqOJrWVV2pIZPuZMh4jAJ2gMSAcVmeE/DC32j29xBo9jPZ61o0Mt9FqMQdBqEbDMkidWdhJJlh3jGT0r5SngYwXNXlbbT179tE/Xyumeq6rekUXPGXi/XrXxBZ6Xp9h5N9HfiRrJirnUbP7NNIdjdn3RMuAeGVckq3NPwjoWuXnh231LSJrVI9V0ySxuF1BJA0cQnmaGVVxliFmbKNtzkcjFdd4X8KadpOmaXDNDDdXWk+abW4MWDAZSS6xgklEw20Lk4UAZOK3qupjqVOHs6EV5vva/T7mr7PTVWEqUpO82Ymk+EtAsLu2vYtOhe8tYI4VunXMhCJsVj23bRjd1xx0rboorzalWdR3m7s3UUtkFFFFZjCiiigAooooAKKKKACiiigAps3meS/lFRJtO0t0z2zTqKcXZpg9USaJp+m3NjBdbZpmwCwnmd8OOuVJ2ghge3BHFalzBDcQmG4hjljbqkihlP4GsNGns7hrq0G7dzNBnAl9x6Njv0PQ9iNqxuoLy2We3fcjfgVPcEdiO4r+veDeJMtzrAqeDioTjbngklyvyS3i+j+T1Vj8Xz3K8XgcRas3KL2k9b/APB7omrOvtJSSZri1mNtM5y+F3JIfVl9fcEH1NX5pY4YWlmdY40GWZjgAepNY8+p3lzxZRi3hPSWZcuw9Qnb6t+K138R4/JcJgX/AGw4+yl0kr3flHVtryWm+hzZVh8fWxC+pJ8y6rS3q/6uMu7S8tIfOn1KwVB1MkRiH/fRc1W0+8NxK8TQspQAiRVYxOP9liBn8vzqSO2jE3nyFpp/+e0p3N+HZR7DAqav5p4mzjhrFp0srwHs30m5NP8A8A1j+N/Q/VMrwWaUbSxeI5v7tl+ejCiiiviD3QooooA4L44ae/iCPT/DcWd80V5egDrmK3ZEP4SzxH6gVireP4517wlrc0TJZy3yPp8LqRxFE0stwR7ypHGvsCej16ttXcG2jcBgHHOP8gUixou3aijYMLgfdHtXp0cx9lRjBR1Sdnfa97v8vkmuumEqPNJu+/6f0zy/R/Hss+k6XdJqq3DwaXf61qiptOyNQfLhfA+UqZV+Xr8gz76Fna+KPtXh3QbrxVqH2y9spL3Vp1jiDIsaRp5cY2YXLyjkgn5Setd8tvAqsqwRgNncAg5z1z9aftXdu2jdjGcc4pzx9K79nSS33s9726dL/guwKjLrI8x0PxFfar4n0dIPEs5ur/VblLrTI/KMdraQeaArjbuV2MaZJIJLtjgcavwr1nWdemh+03UjQ6LbPZag7IB9qvRJtPb+BY8nGBmX2rtXt4ysgjURPJnMkagMCRjd06/X0qDQdMtNH0mHTrFGWGEHBZtzOxOWZmPLMxJJJ6kk0VsbQnTko00npbbT4r9F0aS9L3uEaUlJXf8AWh5v4iufEUdn458SaTfafFA05soop7N5JXMUSxAI4kULmVnAypwfXpUt3EzXf/CNxMrWcOq6Xo0ChAMpbxLdy84yQVG09uD716b5ce0rsXaTkjHGc5z+dHlpu3bFzndnHfGM/lTWZpK3Jtt8lHl6a2t+LF7Dz/rW5znwn/feE21Q/e1a+ub4H1SSZjH/AOQxGPwrpaRVVFCqoVVGAAOAKWvPrVPaVZTta7Nox5YpBRRRWRQUUUUAR3EKTR7HzwQVZThlI6EHsadJf3g0+a0ubQ3bPGUSRNqq+Rj5wSMe+Mj6dKdWffaxZwSGKMtdTL96KDDFf94kgL+JGe1fYcK8WZ1klSVPL/fjL7DTcb97Jpp+aav1vZHh5zlWX4yCni3ytfavZ+nn/Vi9ArJAiM5dlUAsf4jjrTq5y6lu75s3Uhjj7QQuQP8AgTDBb6cDnoetZ0mpxaH4o0WytrdQNYuntpFU7ERRE7+YQByQyov/AAOuWfDeL+rzrzkuZJu3pq/L7jOHEFCWIjRhFuLdr/8AAO0ormfE3jKx0K4uvtqiSKG4trVVt98kxmmPIZAuFAUq2dxJGeM4Bo3nxDsJdN16TSYJJp9IRVh86GREnldU2ryox80iAjrzkV4sMBiZpOMHZ216a2/zR7jrQW7O0orLXxHov9uLo/8AaEZvGkMWwK23zAu4x78bd+0E7c5xziqHiTxbFpHjTSNBksmkTU8iW6EmBaknbFlcc73yvUYOOtZRw1aUuVRd7X7aLrr/AE9kU6kUr3NPXNJj1BobmKaSzv7XJtb2HHmQ5xkc8MhwMo2QcDuARY8N+IZJr5dG1yKO01XaTHsz5F8o6vCTz05aM/Mn+0uHbGtvGGmCzmur5vssa39xaW6qGle48lyjuqKu7AZWzgHAGSaTXdX8KalDa6de30cwvkiuLUwlyyhj+6mV05jyfuvkc9DX0+Q55jsqn7KcHKl1Xbu4/qtvR6nnY3B0cSuZO0u/+Z3VFec/D/4g5vRo3iW4j3S3VxDp2oZH+kRxTtApuFAAidmXCtgI5OBtYhT6NX69h8RTxFNVKbun/VvU+XqU5U5cslqFFFFbEBRRRQAV5F4u/wCRov8A/r4f+deu15F4u/5Gi/8A+vh/51w4/wCBHJi/hR2/wp/5Fdv+vhv5LXTVzPwp/wCRXb/r4b+S101dGH/hRN6P8NBRRRWxoFFFFABRRRQAUUUUAFFFFABRRRQAUUUUAFFFFABRRRQAUUUUAFFFFABRRRQAUUUUAFFFFABRRRQAUUUUAFFFFABRRRQAUUUUAFFFFABRRRQAUUUUAFFFFABRRRQAUUUUAFFFFABRRRQAVmapfRz28lpYSPNcOSmLcgsuOpJLLgcEZyDk8c0/VbaZ7tZwk08QTaYorlomU5+8uCAc5xyR0GO9WdHlt2tRbwRSQ/ZgIzFJ95OBgE5OeO+Tn1r6bJ8rw9flqyqXa15VurPrfp8jxcyzCtQvCMNO/T5EHhuCEW/2wWtxbzzDZKk0ruRtZgANx6ckjpwa0qKK+006HykpNu7CsbX5TNqlvaKhH2Yi4kc9PmV0VQP++jn29+NmuctN0k1zPI2+VriRC+f4UdlUD0AA6euTznJ5MdV9nh5Pvp9//AufScJ4JYrM4OW0Pe+61vxaMz4ha7ovhzwjear4hAbT40CyxmMSebuO0IFPDZJxg8evFeH6Hovh3XtYbxR8EvEX9i67CpMui3fyLKvUgKcjacDj5lzj7uK779qLTfFGr+BVsvDml2+oxpKJryH7067SGQxp/FyGBHJI6DuOSsLP4e/Fzy7jTpm8J+NLYAusA8qQSL1IXI8wAg8ghxjnHSvnI6K5+o4ludXkttt0b9GesfDO+17VPC8OoeKNEj0vViWiniQ53BGIDDrgE5IGT1yDzVnxb4s8M+F4Uk8Ra/p2liUExi6uVjaTHXapOWxkdBWpZxNBZxQNK8zRxqpkc5ZyBjJ9zXMfGLwBofxG8Hy6HrMe1xl7S7RQZLWXHDL6j1HQj8CMpXs7HpUYxVlN6Hzx+2H8bdK8R6VY+GPA2rtcW3nC51C8hV4wWQ5jjUsAThhvJHGQmDwa9Q+D/wAffAviHwbpq+J/ENlpuuLEq3sN2DGhlU43hyNmGwGHPGcdq+J9XtfsOrXVl5qy/Zp3i8xPuvtYjI9jivQ/2U/h9pvxF+KH9l6xcMljYWrXtxAmQ1yqui+WCPuglxk9cdOTkcMK03U9T362DoRw+uy1ufY2peG9M13Qp73w5qFvcQ6nqEOpNmbz7S7eMrkEqT8rbFBwSMqODgg5Hiqx8R2utWeozQT32patewRPFpYdYba1t98yxGU4xvlI3O2MqWAHGD6HY2ttZWMNnZwR29vboI4oolCrGoGAoA4AAqWvQTZ83OjF7aHnHg/4iTy6HNqGqm3uooJ55b26tcpb2NuGKxICQTLK+FIQfNhwTt4B7Pw14g07XFkFmbiOaBUM9vc2zwyxbxldyuAcHB5GQcHBNJdeHdKm/s9Ftlht9MmM9vawqEg8zB2syAYO0kkeh56gYZ4P0V9Jt7ie8uBd6lqE3n31yF2h2xhUUdkRQFUegyeSTTdhQVWLSbujYpunyLb2cmtzIWMgEdpH0JUkAfTe2D9AuehpscB1G7Nr/wAu0RH2puzdxH+PGfbjvTbq6S8m+2yOq2dvk2+eFIxgyH68ge3PevWwdNYak8RNavZf13/L1PkM6ryzXGLK6D9yOtR9kuny/O3ZjEiuZ75YTMPtV3lppQP9VGv9wH03ADPdiTnnON461WTSfClxrGmQxG30/abYTbigVnAkuWAOWwrM3UEgHkbq2ZA6WLKwaO71T5Qp4aG3HXPocE/RnA7UatYW+oaPc6ZcIDb3UDwSKB/AylSPyNfmfiXxNLL6NPK4P36vvVe/Jf4f+3tU12XaQsrw8MfipV4K1Gl7tNdL9Zf8H9UedxeL7670G+U+JLS4trXXbeyl1exRYyltIsZL7SWCjexQP0xyOmap2fh3UfEfh3U10jUHa5ivLrTGvb4syanYu5YEuB8xjMjbGHdCOjV3Wh+F7WG3sbjU1jutSh0tNPu5gCI7pQBneh4YZBIznG5vWt2GOOKFYokWONFCqijAUDoAOwr8SnmNOldYeOt730tp8tb/ACWuyaPqVRcvjZjr4W0dfEEmriKfzZZhcND9ofyDMFCiXys7N+AOcdgevNbVFFeTOpOduZ3sdCilsgoooqBhRRRQAUUUUAFFFFABRRRQAUUUUAFFFFABRRRQAVF5TpcGe2nkt5GGHKYIf03Agg/Xr71LRXbl+ZYzLsQsRhKjhNdV+XmvJ6GGIw1HE03TrRUovoyGSF5pFe7uZbrYcosm0Kp9QqgAn3OSKmooqsxzTHZlW9tjKrqS7t3+S7LyQsNhaGFh7OhBRXkFFFFcB0BRRRQAUUUUAFFFFABRRRQAUUUUAFFFFABRRRQAUUUUAFV9SvIbG382UM25tqIgyzt6AfgfYAEngVYrI8UgiSxl6r5zIR2GUYg/+O4/4FXZl+HhiMVTpTdk2cmPrzoYadWC1SKV49xqDZvioi7WyE7P+Bn+M/p7Z5qGO4tUP2eDDtHx5Vuhdl/4CoJFX9C02zvNNiu7tWuJJRmRJHJjRs4KbPunaQRyCeK2YY44o1jiRURRhVUYAHsK+nqcQYbBJ0MJR2010/4L+Z83TyPEYy1fEVd9e/8Akl8tDm98iTLFcW0tu7glBJt+cDrgqSPw61zvjDSteufE1hqukR6fKLG1mREu7l4tkrtGyyDbG2ceX0/2jXe6zZ/bbIxqwSVGDwuR91x0/A8g+xNYltIZYdzIUYEq6H+FgcEfgQa9rJM3WOpyVRLnW66NP+rHm5plrwFVODbi9n5mZH4f1W8jh1e1aylluPEA1aWGaVkBiEHkohYIxDptjbGMZUjI61NH4W1iSO6tLl7H7PceI01RpFlcvLEsgkVGUoAGHlxL1IIBOR0rb8LuUuLu0H3FKzKP7u/dkD8VJ+rGtivisfVrYXEzo6e69PTdf1/kj7HAzjicNCr3Wvrs/wATjPAvhG50jVGfUbW1uRDc3FxBeHUZ5XLyyM24W7r5cTbXYFlYk8+pqfxR4TudYuNena5ijkvrK2g05+SbeSFnlRzx/wA9XU8Z4UV1lFccsdXdX2t/e/4N+vn8js9lHl5eh51H4E1a3/smU/ZL+S3017a7jOpXFmglkl82V1MakyKzE5VgM7Vrd0TRNX0bxRqUmnW+l/2XfNC0ZMjpJbLHAkSwrGE27MpkHcMbjwa6iiqqZhWqJqet7/i77bb/APBuKNGK2OL+GvgmXw3Z3Wn3rWl9aalaQm9Eil2e5CbJh8w+aJuoB6Etxg8bVneXvhL5J2nvtAHRzmS400e/VpYffl077l5TaoruwHEGNweKeIi73tzLo7fr5/8ABMa+CpVqfI1tt5Gpazw3NtHcW00c0MyB45I2DK6kZBBHBBHepK41ba+8OXMl7oMJuLGRzJdaQGC/MTlpLcnARzyShIRjz8rFmbptD1Sx1jTUvtOnE0LkqflKsjA4ZHU4KsDkFSAQRgiv2HKc4wuaUfaUXqt11X/A7Pr+B8tisJUw8+We3R9y5RRRXqnKFeReLv8AkaL/AP6+H/nXrteReLv+Rov/APr4f+dcOP8AgRyYv4Udv8Kf+RXb/r4b+S101cz8Kf8AkV2/6+G/ktdNXRh/4UTej/DQUUUVsaBRRRQAUUUUAFFFFABRRRQAUUUUAFFRzSFAAoyzHAFN3ypMquVIf0HSgCaio/Pj3AZPJx0pFmBmZMHA74oAloqC3nDABj8zE44p5mQNjnrjOOM0WAkoqMzIFLE8KcHjvTmkQMQT0GTQA6io45UZsDIOM8imvOphYoTkDrigCaio2mVAFYksBzgU2OYCJfMPzMM9KLATUVELiM45PPt0pXmjVipJ464HSgCSio2mRcZzyMgYp8bB1DL0NAC0UzzU8zaMnnGQOKQTRlsZPJwDjigCSio2njViCTweeKWOVHbap5xnpQA+iiigAooooAKKKKACiiigAooooAKKKKACiiigAooooAKKKKACiiigAooooAKqWv8AyMN1j/n1hz/31L/n8Kt1TiJt9dbeAy3iAI+eVKA/IR6csQfr7V7nD0orHK7to/meXnCbwkrLsaFFFFffHxpleLJXS0t4o3lRprlF/duUyOpBYEEcAng8kAetVoY0hhWKNdqqMAU7xM0EusWNuDuuIS0rKV+URkEZ54zuC4xz17V4h8U/iL498O/HB9K0jT1vNPSzjeHTpEAN8uNzvEwG4uCWXAz9z7prxc1k3UjBPpc/TuDY08Pl8q8o6yla9ull87fqZVlaeNvHXjTxH498G6zBpN7pd39gh08sxN2kQ480MSoyDwCMZz0xuPUfBHUNN+IOu/8ACS654MGneI9DbY1/GhSK4Zg8Z47sMMMHdt457VyukQ2fjPxRceJ/hV4qPhfxLc5OpaNffKsr9WYDDBuck/K3JyQpr1f4KeE9R8IeEZrPWNQjvtRvr6W+vJY87PMkxkLkDj5Qeg5J4rzJPQ+mw8XKae61be6fZ+TNfxp4n0bwppqahrk9xDbySeWrQ2c1wd2CeViViBhTyRj3rC0X4reCtb0lr/RdSvLqE+SI5ho95sczOI4ypMXzAsw5XOBknABNP/aE1iXQvgf4p1K3z9pXSporXHUzSL5cWP8AgbrWH4gtrjw/efCv4f6XezWsMFxm6aCUp5lpZWT5RsYyhkaAEHj1qElY6qlWcalk1bTp3dl1ML4cfszeBdDhafxJ53iS/lU+Y9wTFCpPUrGpznk8sx9RitT4cfAvRfAPxUXxX4X1K5hs5LaW3n064/eABsEbJOuAVXhsn3rgtItPEOv6N4H16Lxr4kg1jxx4purmAxalIIrLSWW6naJISfLP7pY9rOrFSyYOFAqTVNZ1/RdF1bQ/D2t3cen6v8RP7EtLnVtdnU2tvFaK9wi3sglkiMk0MqKcMVLnbg4IlYeC2RbzarJNyvZ/5X2/rdH0hRXguoaVrem/Dq/S18e6Sv27V0vodI/4S64aM2duqLc2kWoynzwWbDMwChS23Chia9U+Dd7Yal8LdC1TS4NSt7O/skuoIdTuZLi4jWT5wrySMzNjdgEk8AY4xVONhU6/PLlatpf+v6v5HTVDcNK0kdrbf8fE5wnGdg7uR6DP4kgd6ddTCCBpCpY8BVHVmJwFHuSQPxrS0Ww+yRGWYh7qYAyuOg9FX0Uf4nqa78vwntpc8vhX4+X+Z4HE2eLLqHs6f8We3ku/+Xn6FHVxDaWKaNbHaroWuJGPKx5+Ysf7zHIz/vHtUdrGksf9o3eYrC3xJEpXBlI5DY64BxtHUnB9M1Ne/wCJbqMV3qkQulv9UhtbeBG++XbAZ89kQE7fVSepGI/E/ifRIdWit9S1izs4Vb9xHPOqGdw2N+CfuhsAHpu5/umq4hzfD5PhJY7ELmcdIRW7k+3m7X/uxV9z4nLZVcRSWX4R2dTWpPy7eivbzb7F2382SR7y5GJ58ZXP+rUZ2oPpk/UknvU1Zt14h0K21ZNLuNYsYr2SRYlt3nUSFyAQu3OckMuPXI9aRvEegDWv7IOs2P8AaG4J9l+0L5m487duc5wRx7iv5EzLFY3MsXUxmITc5+83Z7eXktl2Wh+oYajRw1GNGlpGOn9eZp0Vl6rrtrp+vWumTgL59pcXck7OFSCKIxhmcnoMyL+RqrN4psJbnSY9Klgv11S9e3MkUo2xBIXlZjjPTYoxx98Vxxw9WSTUdGr/AHX/AMmb88V1N6isez8V+GboXBttf06b7LE80+y5RvLjTG5zg8KMjnpzUlv4k8Pz2d3eQ63YSW9gcXUq3ClIf945wKHh6y3g/uYc8e5qUVieFvEln4g1TUotNeG4s7AxIt3FKHWSRlLMvHTaCnfqT0xVnxhqQ0bwnqerE/8AHjZyzj3KoSB+lDoVFUVJr3nbT12DnTjzdDSory2TQriw+G8en6hp8lvqOqGz0uWV9SkuTciWSNZnYNwp2hyce9aS+KfF13qVmbBNIFrqWs3Wn2scsMjP5MIlzcswcDgxfcA+bI+Zc8dsstbTdOaaTau9Nlfo3vr9xl7buj0CivMm1XXfEN54ZCzafHc2s+pXst00DmARwM9skvlb8ncJchd/GSc8Yq/Y+PL7/hHX1XUILWFbXwtDq90AGH76Xf5aDJ4B8tvl5OSBn1UssrJKzTfX73Ffe0NV4/16XO+orjLfWvGF3qWpQ2ltprDRrOLzoTG2+7vGg8wwoxcCNctFyd3X8RmNrfiXWf8AhHrbT9cs4Lq61GcXgbSZYjCIYiWjeMzZ4kwp5wQ6kHj5pjl83vJJb9XbTm6Lt/W4e2Xb+tj0aiiivPNgooooAKKKKACiiigAooooAKKKKACiiigAooooAKK5fWLjUNX8cP4csdRm0+1sbGO7vZ7YL50jSu6xxqWBCjETsSBn7oBHNUfBHiO+F9Hol3LJqTPq97aQ3khVXMEC5LsFUBiHIjOAPXrwez6lN03JNXSvbra1/TZXtfYz9qr2O2orgrv4lL9jtvsOlRz3dzbS3awSXLKDCJXSIqUjdmeTYSFC4GDk8DNifx9I+vDTLDRXuJIZbeG8iMxE8byhCwRFRgwjVwWLMgGCMnFV/ZmLW8O/VdNO4vb0+52tFchpfjS7vNctLcaGE0+91O60+C6+15kkaASkyCPZjyz5LDJYHJHBHNZOreMdS1nwL9q0+0S3ubzUbWzt4La+Juo2aVTJHMCi+TIIw2Rk4z1wMlxy3EOai1bbqtLtrv5O/a2onWha56LRXH2fjO/uZzpUeiQHWvt01r9nF8fs4WJI3eUzeXu2gSxj7mdzYx3pun+Nr/UZtNs9O0BJb28W7Nwkl7titfs04hclwhLKzbtpC5OBkDkif7PxK+z+K7N99tHrsV7aHc7KiuT0Xxlc3+paSf7ISPS9eklj0+6+1bpXCRvIHeLZhUZY2IIcnlcgZ4brniO8sviUunxWeo3lnbaT5s8VlAJMSSy4jLEkYwsMmOf4jS+o1+fkas7N7ro7fnp6h7WNrnXUV5jB4wv38ILqsk10076PqGsR7XVVCNLttYmXbk/K4wcjlOc546T4fm+OuatBc31xcx6XFZ6cDJKWDSpAJJJOerN5y5PU7R6VdbL6lKEpSe1/waX6omNZSaSOqooorgNgqrrVq15pskCFVkOGjLdA6kMufbIGatUVdOpKnNTi9VqRUpxqQcJLR6GH4Smb7ZeWxjePaEkaNxzG7bgw9MfKDxwckjOa3KKK3xmJ+s15VuWzf59fv3McHh/q1CNLmvb/AD/TYK5/U4/I16YdFuUWYZ7sPkbH0AT/AL6roKyvFUWLeG9XrbyYf/rm3yn8AdrH/druyHE/V8fBvaWj+f8AwbHFneH9tgpW3jr92/4XK+ht5evMn/Pxbf8AoDDH/ow1u1zMxkjkiuYV3SW771TON/BBX8QTj3xXRWdxFdWqXED7o5BlTjH4Edj7dq7eJ8LOni/bW92SX3rT8jj4cxMZ4Z0b6xf4PX87klFFFfNH0QUUUUAFFFFABWTqOmXUGpNrWgyx2+osB58UhIgv1AwFlA5DY4WQDcvHDLlDrUV1YPG4jBVlWoS5ZL+rPuvIzq0oVYOE1dE3hjWYdasZJUgmtp7eUw3VtMBvt5QqsVJGQeGUggkEMCK0q5nwGdmveJoT95tSimH+6bSBB+sbV01fvmX4l4rB0q7Wsopv1a1Piq9NU6soLo2FeReLv+Rov/8Ar4f+deu15F4u/wCRov8A/r4f+dTj/gR5+L+FHb/Cn/kV2/6+G/ktdNXM/Cn/AJFdv+vhv5LXTV0Yf+FE3o/w0FFFFbGgUUUUAFFFFABRRRQAUUUUAFFFFAEVwrmRHQbtvbNJtkeTzGXG0Haue9TUUAQLEwjiXH3Wy1ASQecNv3s4Oanop3AhEbBohjhBz9abBEVwHj6Hru4/KrFFFwKzQuzSZHy5JXnqTStC5hbP32IJH9KsUUXAgZJHZnK7TtwozStG3kxxgdxuqailcCu6S/vAqg7z1z2pyxsJd2OFTC/WpqKdwK6xMI41x0bLUjRy7HQKPmbO7PWrNFFwK/z/AGiQxpuwNo56VJCrxhUAG3HJ96kAA6DGetFICCFJREYyoHB+bPWkSOQiNGTaqHJOetWKKdwK/lOYSuPmd8tz2qRUP2hnI42gLUlFIAooooAKKKKACiiigAooooAKKKKACiiigAooooAKKKKACiiigAooooAKKKKACqep8Xmnkff+0/KPUeW+f0yfwFXKp6Sv2udtTflTlLUdhHn731bGc+m33z7WQ4WdbGKa0UNX/l8/yueZm2IjSwzi95aI0KKKGOFJFfoB8YeYeMvFFvocl7qWsX7NYaXcs0wKkyD58KEyepO0YT1w2BmuE+IXjX4WfEnw6lsviUaTrFm3nabd3MEkL20o5GXAxtJAzg9geoFdj4g0Cz8dXF1pPiC3fyblTJKscro8RBG3aGClcHB53ZxggV5t4g8E6/8ADzc174fsfHXhVOomtVN7ZJ7NgsAB6ZXjoteTnPKsQo31SP1DhpVo5c5ciUJPXTskr6W+/XUn8B2vhP4ufudbZdN8aaO4M1/pcyqb1UYDzVZflfPGSOQcEHBxXv8AXmfwJ0D4ZXrf8Jt4G06a3kZXtZEleT9wx2sy7WJAbBXlSRg8V6WxIUkKWIHQd68WT1PrsJBqHM7NvqupwEPjLVvEvi3U9G0TwXZ6roui6tHpup3t7qaxOsyiOR2itzGwkWMOpyzISQdoOAa2L7xp8Pl8Xf2Nd+JfD/8AbduwtxayXcX2iNpWRfLCk7gWYxjb1OV46VwFvZ6trvxm0bxR4Y8E+IPCd9vf/hKbrUfLhtr6AQuscLokjLPIJDHtkUfKqn5ugrk/BFtq8lx8KPh/rPhG+027s9WuNa1u+v0j3XN5bxSySPEVYlw08yMZOBhkAJ5ArlRh9YqJ97vtpurdF369me8f2n4StbFrv7ZpMNtok4sTLvjVLGU7E8nPSNjvRdvH3lFZfizxN8MdLup/DHiTWvDFrJKrXM+m300C7s5cu8bdScFskZOCa8u0XSPGOoWOk+Errwbqdus/j+fWPEmoXGwWzRreTXcQiwxMit5duucYGAOp4r3Hh/xXqeg3fgu78Dag9zrXj37f4g1idI/s7WS34ljeJtxZ/wDR44kAx8gBBwcAnKu45YmbjpD8Hv2/L8ex63ql18NE1Sx8Hag/hn7WkwSy0iZYC6SFd+I4T0O0g8DoR61oeH/GfhDW9bn0XRfEuk31/aKTNaWt2kkkYU7WO1T0BwD6Hg151N4Q8SS+E/i1r2m6a1t4s8T3F5b6XK5CStbw2629sEYn5Q2xnU5HLgmrPwZ8NWMEtjeJYeMFvNFsF0zSP+Eitra3js0l2h0higVFbHlIWcqchRhjk1UKfPJRjuxVMU6Kc5q0Um2/JfrbX8PM9a0eH7ZqRuW5htGKx+jSYwW/4CDj6lvQVt1FY28dpZx20Q+SJQoz1PufUmpa+opU40oKEdkfi+Z4+pj8XPET67LsuiOG+L8GtXereHl0a3huvsV3JdXMT3PksB5LxKQ204/1j4755HTjndY8Ma/fS69YrZWMdr4khghkuftBLWMAhWOSJU2fMQfMKnIGZMnGOe6hYzXV1ct957h0+ioxQAe3yk/Umpa/mLxC4qrY3O6lCmv3dFuC33TXNLe3xR08krn6fw3lUMNgITl8U0m/R7L7n95xTeE72S4mnkS3El94ki1C6fd832eDHkrnHJHlRcdtzVz/AIBW7vvFGi6ViyuLbRbi+1C7uraVpDLO5dFaTKjYxE7naSWyp6BQT6rWDYeLdNvtQ8iyt9QuIfMeMXsVm7WzOudwEmMEZUjd93IxnNfE0sbXnTmuS+n3aNflovTyPelSgpLWxQ8VeH7vUdc1S8m0+G/tLjSY7CK2N0YWcNI7THcAdpx5WPUr1FZV/wCE/FmpaGsF7qMTXcOjajbW8zy7mSWdlEW5wo3FIl2lwASSTiuy03WbG8uFtg7Q3ZtY7p7WZdskUb5C7h0ByrDGexrQyN2M8jqKyjja9G0bJNbaeVvTVb9/uK9lCWtzzzUPCeu6wuofa7DT7GC50+z0y2tYbgv5NsJy1wGbaMkpgADjgD3qzr3hbVn1i51KztrSZF1azmiszL5ay20EOFUnaQpEzs4GMYQV3VFH9pVk9ErdtfLzv9la77h7CP8AXz/zMD4f6VqOm2eoT6stst9qWpTXcy2zFkUHCIASAThETnArX1axtNT02awv7dLi2uF2SxP0cehqxRXJUrTnU9ps/Lp6ehoopRsZen+HNEso40ttPjVYbgXEYLM22QKVDDJPOCfzqa00fTLU2pt7KKP7CHFtgf6rf97H171eopSrVJbyf3hyxXQzrfQdHgh8qHT4UQWptAAP+WJJJT6Ek1W1Dwl4av5o5bzRrWZooFgTenAjXO1cdDtycZ6ZOOtbVFUsRWTupu/qw5I9ijcaNpc9rd28lnGY7+UTXIGQZJAFAYkc5ARMEdNoqvH4Z0GNbJY9MhX+z5WmtiuQY3Y5Zs9SSeTnOTya1qKlVqqVlJ/f5W/LT0Dlj2CiiisygooooAKKKKACiiigAooooAKKKKACiiigAooooAxNc8L2eo6x/aiXuoWF20At5pLK5MZmjBJVW4PQs2CMEbjzWZp/gCxg0uxsZdSvmXTVnhtpYXEMhglKl45GX75JQEuMMSM5zknrqK6Y4zERioqWi/4K/JtGbpwbvY5218G6ZZyWb6ddX9j9jsYbHFvPtE0EWdivkHONzcjB+Y81as/Dttaa9cana3t9CLqbz57VZh5EkmwJvK4z0UcA4yM4rYoqZYqtK95XvoNU4roYcHhTS4bSxghe6j/s6GaO3dZsOplGHfP9/rg9smqGp+D9His2u7q/1T7RHeLetercfv2mWMxIeBg4VtoUDBzyDk11dZviw40N2P3VliZj6ASqST7AAn8K6MLXrTrwg5tczSfzev53MMTanQnNLVJv7kcrLolkYbT+z7bUbO4szMRdm/CXEpmIaUuwDhtxVSSeRtGMYq1o2nrpd3Hc6faWtv5NmtmkBd5QI1Zn++cHczMSWIJOBnNWP7Qsdu77ZBt7kSDA+p7VJ5jPMkFsgmmkGVQNgAf3mPZff8snivv5ZbgIUpOo7xW95P111/q/mfDf2rj6k0oy1eySX+QeCPDGlWFtp+oWzXkiwWgSxhubgyLYxuASkYwOwAycnAxnHFay6NZrfajeKZRNqkaRzuH5CopVQvpjcx+pqbR7VrPTo7d3DsuSxAwMkk4HsM4HsKtV+d4ivOVabUm1+l7r/P1PvaEX7KPOrOyv621Of/4QzRPsgthHMIls7SzCiTgQ20heNfxJ+b1Famj6bbab9q+zBs3ly9zMWbJLtjP4YAA9gKuUVnPEVZq0pNr+v8jRQitkFFFFYlBRRRQAUUUUAFY3iW5eV20qMbRJEGuHP/PNiw2r7na3PYe/TQi1GwluPs8d9bPMDgxrMpbPpjOazvEkflajbXQ/5bgwOPUgF1P4Yf8A76Fevk1Km8fTjXWj29eh5Ob1Z/UZyoy9fTqV6LG4OnXnm5/0WZgJ17Ix4Eg9P9r257HJTZUSSNo5FDK4IYHuD2r9GxeFp4qjKlUWj/DzPhMNiKmHqxqweq/qx0lc5L4qlmurlNG8P6hq0FlK0M9zA8SJ5i8MkfmOpcqcg44yCM5BA1fDs7z6NC0jFpIwYpGPVmQlS344z+NcLbeF/Ea6Ppvhx7Hy103UBIurwam0ayQfaBK+YlwTIyAqQwIBYkGvzShh6cak4VmrxdtX63e6vay0Tvrsz9IVZ1KcZw2av/kdbF4msFvNXW+kgsbXSJ4oJLq4nVEaR4kkK5OAMCRB15JqxeeI/D1pZRXl1rumw29wnmQzSXkapIuQNysTgjJHI9a4vUPCuv8A9pWmp+TNKRqmoXc8FpdRxyK0jKlvIGcbTthQqehG/jpU+oeC7kW+qHTdPgiYeHv7O0pZJvMMcspladizc8lo8k8nB9a1eFwfu/vPWzXo/vfvdrN9tX7Sprp/X9aHZeINXstH0WTVLx28iPaFEa72kZiFRUA+8zMQAO5IrN0nxO82urpOq6Nd6TcTWr3VubmSJ1ljQqH5RmCsu9Mg9jwTzUPjbRLyXQdJi0eGOdtGvre5W2lk2CdIsjbuxgHkEZ4yo6daxfF3h7xF4lhvtTubKG1mWyFnZacbkMzxPNG9x5jgbQZEjCADIAzk84GeHoYaUFzyWravfVbW0v8ANt6W7NDnKaeiOg1bxjokXhm/1bStQsdWayi3CG0u0fexO1FJXO3c2BnFX77xBoVlGz3utadbqkxgcy3aKFlABKHJ4bBBx1wa4rUvCWva3Lqkl1bRaWNWvrFMW06mSC0tx5gO4DG/zCRgdPcDJfH4e8QRaf4fhs9Lis9S0pTE19BcJ9nZWlAn8yJgSwkSNX4+bc3LDBJ1eEwdkufW+uq2cU99tHdaLz7In2lS+39X/wAjs/C52/ETW4x906ZYSEf7Rku1J/JF/KuorltLPkfE1h/z/aR+fkTf/dP611NfrvDM+fJ8PLyt9za/Q+XzBWxU15hXkXi7/kaL/wD6+H/nXrteReLv+Rov/wDr4f8AnXfj/gR4+L+FHb/Cn/kV2/6+G/ktdNXM/Cn/AJFdv+vhv5LXTV0Yf+FE3o/w0FFFFbGgUUUUAFFFFABRRRQAUUUUAFFFFABRRRQAUUUUAFFFFABRRRQAUUUUAFFFFABRRRQAUUUUAFFFFABRRRQAUUUUAFFFFABRRRQAUUUUAFFFFABRRRQAUUUUAFFFFABRRRQAUUUUAFFFFAFPWsvbx2ikg3cqxHBx8v3n57fIrfjipNY1TSdEsRc6rqNnp1spCiS5nWGMHsMsQKj1D/kJadjj/SG59R5T8fy/KuH8R6rY6b8S9Yu9b1TT9LvILK3TQJ9UhMkAjOTMYl3pukZvlIVg2FTtwfvOH4xhgVJbtv8Ay/Q+UzhueK5Xskeg6be2eo2Md5p93Bd20ozHNBIJEceoYcGpzyMV5r4dudd13UNOe5efTFtPD8eqX+n6YpgWa5uJGZEYHJBHkvkZyS3JwSDgab4n8RL4H1DxjH4msbi7t9KMl3ZwXzXSwSysm15IfLH2cQjflAGJwdxOOfb5zyvYt9TvtPsbez1e+W2GyON1iCHlj8qtlmPJ+8ce3POav15VZX+paiwfR/FRuE1rULKziubW8a88gxCaeciWSNQS0ajKhNq5AxyRT5Nb1zR7e0uLa7vL6KfxBfabZR3DlzKQjpEHbqVE0TfMegPoK+ezC8sTJt9vyP2Lh+qoZZRTi1pr9/n9/wA9D0i3ttN0mzneCC1soNzzzlEWNM9WdsYGeMkmp7eaK4t454JFkilUPG6HKspGQQe4Iryaz1fxPdeEbxG1O7MuliTRGuSu1rq+lu/IEgHfy02EdsyH+7WsviGD7T4i1O8164jv9DkuzDpEUwVUghQhWeLGWD43hj/eUA9q4+U9iOIjpod/pt7a6hZJd2UyzQSEhZF6HBIOPxBqObS9Pm1q31iWzhe/tIZIILhly8UchQuqnsGMaZ/3RXGfC3TNQ0LXLbQZNTvLmOy8PW73cczZjWd3YLsGPlwI5M9zwTk8131J6GlOXPG7QUUUUjQKYo8zWLCMckStIw9FCMM/99Mo/Gn0ul8eIo/e1kx7YeP/ABFduXRUsTG/n+TPB4mqypZRXlHsl97S/U26R2VELscKoySewpao+JmKeG9QYZytpKeP9w19MtWfipk6TuOnxSOMPMPNcHszncf1Jo1LULDT41kv723tVc4Vp5VQE+gJNc5dX2sao20GTR7MD/Vo6Ncy+zMMrGMZ+4S3IO5cYqOw0yws5mmt7WNZnGJJyN0sn+9Icsx9yTX8krhzFY+vUxWLnyObcmt3du+vRfif0ThcvnGlGC0SSX3eRs3V9aa3od/baFq1nNcNbuiSQXCv5TspCk7Scc4rlYTrM3wll8L2nhjUdPu4tHFjuk8ry1kKrEdhDktjLNuxjC88nFaWoadZXzK11bI8kf8Aq5fuyRH1Rx8yn3BBqSx1HVtKby5ll1az/hIKi5hHockLKPckMMfxk0Yjh2vhad8NapZp2ej0+dn+HkOvgai1TuvL/I5nxR4bsYV8c3N1o0VmTpipp2pPFGFVEtgAQ/3g3mFgR3Cr7V1vw7tL57e68QavbG21HWmSV7duttEq7Yoj7gZY+jOwq9Z6roeuN9jDxyyDEv2W6gMcnysCH8uQBsBsYbGMjrWrXzeLxVf2fsKsWpaXve9kkra97Jv00OONJRlf+v61Ir66t7KylvLyeOC3gQySyyMFVFAySSegAqtoOsafrNu82nzPIsbbW3wvGQcZHDgHGD16Gqfj8aXL4XuLPWY7xrK9HkStaQSSvHkHDYjUkYIHOMA4zXI2Osa8j6DcazFq1xawX940c8enyLNeIsRSDzolX5WbzHPzBR8gJC1nh8Gq1FyXxa+mivppq9Lbq2m/QnU5ZW6HpFFeV2dnq+oaTbXOrw6x5droV3qdxapJKhmnuZTIkLbcFigQgIORkDHam61o2u3Wg6gtzNrEl1pugWVhZ+XNKvmXrKd9wdpG9lLx88gYOenG/wDZsObldVb2287Lr5p+jJ9u7fCerVBqN3BY2bXVyzLEhAJWNnPJAHCgk8kdq4KKbUpPHmr6Q0l8dO0rUU1a5uI97sY/s0ZS3VVyWJlDuVA6KBj5hVPwrBqhtLPT0S/m8zXbdZtVIuI/t0MUbTmV0k5TLqI2I+VicDjAErLklzSn0T+T13726avbS17P22tkj0bVtRtNOW3N05X7VcJbxAKSWkc4A4/HnsBVqvH9Lj1S/vtJ1JNN1mbW7WC+1G/N0k6QfahGyRW4V8IdrSgLtHAXg8muk+EGnz+cdUuNXvrm4+xrFcxTWdzAJJWIYu/nMQzgqR8gUKGIxgjDxGXQo0nLn1Xl1u18lpo3vfYUKzlK1jvKKKK8o6AoorP8Wfb/APhFtSGlQma+NnKLWMMF3S7DtGSQBzjk1UI80lG9ribsjL8M+NNN1q+tbaKz1C3/ALQge4sZbiJRHdRoV3MhVj/eU/Ng4NbkV/YyW0lxHeW7wwkiSRZVKoR1yc4GK801DwHq+l6ff6doy3l1DJodraW8r3gaWHbLi4hgMjfIHiCkDhcqKdqmi2+l2un3smlXjQXGqI+oWV7LZQyXEUUEghCojJDtWQoxHDfLk5xXsVMFhKjvSqaPZaX799NNP8S7PTmVWol7y/r+vwPSWv7EWjXRvLcQJjdKZV2LkAjJzjoR+Yp011bx2LXjSr5CRmQyA5XaBnOfTFeWeEdLu5NN0fXR4Y+3afdXWo38mnWZh2RzSyKLaQCRkVlESsA3q4OPTpP+Ee1ez+Ct14etYY/7Ru7edPKhcBIDcSMWVScDbGJCB7IMDtWNbA0aclH2mvNZ7aatPr0t6WZcaspK/L0NTwz4w0/WLhYDaX2nySWQvoRexqglgJA3gqxAA3LkEgjI4rZS/sXt/PW9t2i/56CVdvTPXPpzXFeKPBgtLGzls7e/1xlurdL2KeaMySWcZLCJFbZGF37GK8bgOc8CqWi+Dbu7u7Yar4ft7SzuPEFzqt3aK0bRoqw+TAjBTht3DkDIyDnrzUsLg5xdSM7Ltp08m769Pl3skqlROzR22n67Z3msXtjGQFshADOXGyRpVLKqnucbT77hWpXn/hnwxqlr8Rptav8AT1lsbu6nMMJdNuntGqxQzKoODvijC92TjGNz130jbYy3oK5MXSpU5xVKV00vv6/j/wADSzelOUmnzIdRVdk/ceYzHdjOc07zH4UAE7MkmublLuTUVAzyMI9uAWpGZxMzAD5V5o5QuWKKhabG0DaCRk5pVlPy7lxkEmlysdyWioVmLKOBuLYxQ0r7S6qNoPfqafKxXOT+LetX2lSaT9g3Zjllu7j5iFWGNNhdwOWRWmRyO4TFJcS3mmXxttPWbWryz0uW/Mklw+6eaRwq4UNs2kLJhccYAXHOemns7W41L7TJaxySrA0G9+f3bkFlx0wSq/lVCLw/o6WnkRWZQPHFCpSeRGWOLd5YDBtwC7m6Hua76eIpKlGLjqt/O766rZX9Ty6uEryrTmpaO1vKy6aNatLpp8zJuPE2pLpmmXUV3ZNbXkkiTai2nTCKBw6osTxeZujJYspZmwpXBHNS6f4k1nUvEDCwsFOmQ30ltK8lu4+SMsryiYsF4dSAgVicZyO19fDeiq0bmwXFoFEUYkfy8hy4LLnDncS2WBOTnrUsGh6bDe3E0Vnse6DtKonfy8v987M7QxyckAHmm6uG5XaOuvRdf1/pIUcPjeZXmraX1fReael+m/dnOWfjXVobG31bVLSzFldaTc6kkECt5yRxmPYSxODvEi8YGD3PNanhO71RPFVxpF7b6Snl2Ud3cfYYWQxySMQqMSx3YCP83GeOB30pNH0qe2WB9PhdXszZbGztEHdMenA/KjRdK03SPPl0+zWKScqsr72d5ducbmYknGT1pVK1Bwkows3/AJ6dei+8KWFxUasXOpdL79tenV2flqcjqQ1XWvFOr/2auqrLb38FvaXcd40drbKio0pZN4DnLONu1s8dOo0NP8W6pNdaVeTLYJpurRT3SRhH8+G2jQsrlt2CWzHngbd2OetdTpltBZ+bDBAsQkled9pJ3O7FmJz6k1mW/hTw9atJFa6VEpltpLZyXY4hfG6Mc/KvAwBgDtjJqvrVGS5Zx0Ssvut301s9PPuyfqOJhLnpz1bu+3xX6LXS616W7K3KeIPEesx6P4b1DW7a2V7u4S8+y2u5RGojIAkdiQF82WEk4woz97GT6Hp4uxYx/bmha52/vTCpCZ/2cknH1/TpVO+0ywvGxcWUMuy1e1IfJXyn270A9DsX8qtW5EVvDDCmFVNqgsTgDgcnk1hiK1OpCKjGzV/+B/XU6MLhqtGpJznzJ2t321v6v7ixRUHnPt3bVxnB9/pU9cjVj0AooopAFNkXfGyEkbgRkdadVCDXNFn1RtNh1iwkvUYq1slyhlUjqCgOQR9KqMZO7S2IlOEbKTtcxvsF3BaLZ3GmG4jjUJuiCNG+Onyk5H4jA9e9RJb21nMrSaZ9ikY7VYwqBk9t65Xn0zzXW02aOOWJopUV0cYZWGQw9CO9fTUuKsVFr2kItdd0/wA7fgfPVOGcM0/ZyafTZr8r/ic/RVrUNK020s5rtrm4s4oI2kkkExZUQDJOH3AAAdhUY0q8KK9tqEUkbAFfOgO4g9yQQP8Ax0V71HiXATV5Nx9V/lc8WrkONg7RSl6P/OxJ4YcrfXtv/D+7mHsWBUj/AMhg/ia2KztHsHsZJrq6uI3eRFU7U2qiruPcn+8cn2FaNfFZtWo1sbUqUXeL/wAlf8T67K6VWlg4U6ytJf5u34BRRRXnHoBRRRQAUUUUAZanb8TtIY9G0q+jH+8ZLRv5I1dZXLeBIv7U1O68UyDMUqm00v2t1b55R/11dQcjgpHEfWupr924bwtXC5TRpVfis36Xbdvx1PjcwqRqYmUo7f5aBXkXi7/kaL//AK+H/nXrteReLv8AkaL/AP6+H/nXdj/gR5GL+FHb/Cn/AJFdv+vhv5LXTVzPwp/5Fdv+vhv5LXTV0Yf+FE3o/wANBRRRWxoFFFFABRRRQAUUUUAFFFFABRRRQAUUUUAFFFFABRRRQAUUUUAFFFFABRRRQAUUUUAFFFFABRRRQAUUUUAFFFFABRRRQAVVur+2t5TExkeRRuZYomkKj1O0HHfr1xxUmo3H2WxmuNu4xoSq/wB49h+JwKdpdqLSzWLIaQ/NLJj/AFjn7zH6n/CvcybKY43mnUbUV26v/gHl5lmDwqioK8mOjdJI1kjYMrAFWB4IPcU6qfh/jRbdP+eaeWR6FflI/DGKuV5Fen7KrKn2bX3Ho05c8FLugooorIsKKKKACiiigAooooAKKKKACiiigAqrqM80b28NuI/MuJSgaTO1cKzZwOv3farVQ31utzEFLtGysHSRMbkYdxnj/wCsTXRhJUY14usrwvqZV41HSkqbtLoMt7KY3SXF5dec0WTGiRhI1JGN2Mk5wSOuOelXaoWdxcJqX2G5kimZojKjou1gAQMMuT/e4I64PAxV+v0rCOg6EXQXuPaysfDYpVlWarP3jI8farc6F4K1XWrSBJ5dOs5LkRPnDhFLEcewNcv8WvFrWdndWWn3UFvHb2H2q8vpPNIgLnFui+V8252DHj+FP9oGu11qyj1LR7vTpTiO7t3hc4zwylT/ADrhdQ8G3GnfD230J9Ve51C81K2nvb0Wyk3JhZZAm1mwF2QIg5PA75Nb8zi79EGHp+0nGCV5N2t3uYHhrX9Vtr+awWe1nWTxBDYJMEc7wLUXFw+XwxwoKgnoR3ro7Hx14eup9gmuYY2tZLyO4ntZI4ZbePG6VXYYKDcvPuD0IJydO8CXMlu32/UWDyS6lLIywqrGS6+VXAViq7Iyy4BOcg5HSquseCtUbQbyTU9UW6kj0VdNtYbDTziJQ6szbC5L7tibhkcLge/zOMmqmInK+7P2jLadahgqUOXZLf0+X5HQ2vjjQZVuTKb21+yW6XEi3VlLExjdtqFQVyxZsgAZJIxjPFaPh3W7LWRdC1S4jls5hDcQ3ELRyRsVVwCD6qyn8a4i18K6z4oh1jUdakjinu7uza0S5sisTxWx3hGhL7ghd5Orbv4sDgV3HhbTBpOkLa/Z9Phbczutha+RFknrtyecYyc8+1czsejTlUk9VoaNFFFSbmb4y1hNA8KahrTxed9htnmWLdt8xgPlTPbJwM+9Z9r4kls9PN34jGm20ckqxWo027kvWmcgkqFESsSAM4UNxk8YqX4jaRea74ZOm2X2Us9zBJIlyxEcsccqyMhIBOGC7enQmsS+0rUbe90nUbUeG9Nn06K7aW2EjCBEcRgzjCqSU24IIAw5G4VSsYzlNS02NyLxh4dmtbW4t79rhLwyeR5FtLKzCNtjttVSQqtgFiAAT1p/w+8TWOt+ONc0+0guS2lhIXmlgdFzwSEJGOSxB7/JnkYxzdj4M1q3s9At0uLOO40vY8+qRTyLOzNIJLiMRhdsiSEEfMcDOdpIFbvgvTtQ0C8uZ7xrZluNWnl82F23SRTykgOCAFKboxwTwh55xXdl84wxC89D5/iShXxOV1Ipbe992r/r9TvKzfGGf+EYvvaEk/Tv+ma0qh1D7N9hmF40a27IRKZGCrtIwck9K+hkrpo/IKc+ScZW2ZwtFNQxrI8Md1FdLH9yeJwyyr2bI4z6+4PtTq/CsVhqmFryo1F70XY/pjB4qli8PCvSd4yV0FFFFc50lXVrNb212BzDNG2+3nUfNBIOjr9M9OhBIOQSK6Dw3fnVNBtb5kEck0Y86MH/AFUg4dP+AsGH4Vk1Ts9UXw1eeXdSKdLvJmZSSN9pKxLucdWjJ3Me6HJPyZ2fOcSZbPGYdTpRvOH3tdfXvb1tqcGNpXSml6nYUU2CWOaFJoZFkjkUMjo2VYHoQR1FOr802POCiiigCvp1hZ2CzC0gWL7RM08xHWSRurEnknp+AA6CrFFFOUnJ3b1DYKKKKQBRRRQAUUUUAFQ3tpa3kQju7aG4QHcFljDAH1wamopptO6AFAAwBgDoBRRWX4q1uPRLW2kNlc3k15dLbW9vblA8jsCcZdlUABWJye1OEJTkox3Ym0ldmpRWXHr1lDbWzay8ejXF0xWK1vrqFZGIOMDa5VieDwT1q1JqempqAsH1C1W6bOIDMokOF3H5c54BB+nNU6U10/pC5kWqRgGUqe9Z8fiDQZNNm1CPW9Oezt22zXC3aGONvRmzgHkdagh8U+H5vEUOiQ6tayXtxb/aIo0mVt6HGMYPJIOQB2GelNUKrvaL08g5o9zUEPQM5ZR0FL5fLnP3xj6VTTVrd/E8mhrHIbiGzS7kfA2KruyKM5zklG7dqxpvG1mPC769FZzParp1xf8AzSxqxSM4UbdxY7+cEAj1wSBVxw9abSS7fjqvvsJziup0nlfdIYjaMUGLKsM/eOc1jW3iiwFxqSalJb6dDpksMEs9zcqqGV4lkKZOBkB1+ua3I3V41dGDKwyrA5BHqDUVKdSnbmX9b/qNNPYY0Z3blbbxg8USRB9uSfl/WpKKzuyhiRhZC+ev6U1YQOCxKg521LRRdgNVMbjn7xpvk/Ku1iCvepKKLsCPyRt27j97NL5fzOc/eGPpT6KLsCMxfdwxXaMcU1oiNiKTjJJNTUUczFYjERCt853N1aho8ybg5XjBqSii7GRtFlmIcgN1FKsYD7gei4Ap9FF2BGIgEVc/dOfrUlFFIAooooAbK6xxtI5wqAlj6AV5nodxZ674L0XTNOZLrU7nUYtSuZIhuNjm4+0SM7jhGwSmCcktj1r06iumhiFSi9Lu6a17X+/c48VhHXkvesrNPTo7bO+m3ZnnOga3eXt3puoW+p3V1qDPcTavYI+6O0hWOTbE0Y+44fygM/M2GPIzVeDxXqD+Hre40/UWvJdN8ONcXs6jfG11IYwpbs3l4lJHboa9OqG/t0u7OS3eSaNZBgtDK0bj6MpBFdKxtFyu6en/AA/l2dl8jj/s2uoWjW19HvZeemqu993tc81u7gX8esabp+tXup6fOtjp6vNN5iSyzykTOrY5UR7TxwPmxirC61Ne+IrUDWryO8fXJop7KJ8RWtpAZDiRccF1iDZPLbzj5eK7vRdKtNLilW281nuJPMmlmlaSSVsBcszEk8KAOwAq2ZIxMIi6+YylgmeSBjJx6cj8xVSx1PVRhdfLsl27q5MMtq2TlUs+q1/mbVtezt1PLdWvV1DwrrNve6zJcRPe20MupW9+Ws3hmnwf9mMpGSGUcfdyTmrusajcNeahY2muXqanaXMFvo9ks5LzqVjYzyA8yIS75Y5UKnY5r0eip/tCP8mm+/p5eX3OysV/Zc/+fmtrXtr9rz397Ru+qu7s4OO41W51u31BdVvAt54jktba2VsQrbwq6yZX+Ld5DnJ6EgjBJz3lFFclesqtrRtb+v6+87sNh3R5ryu3/X5/hZdAooorA6grH8WNNeNbeHbKV47nVmZHkjbDW9suPOlBHIIDKins8iHpmthiFUsxwB1Jqj8O4TffaPFUyndqgVbEEf6uzXPln6yEtIehw6qfuV9RwnlP9oY9Smv3dPV+fZfN/gmefmWK9hRaXxPRHRWsENrax21tEkUMKBI40XCooGAAB0AAqSiiv2o+RCvIvF3/ACNF/wD9fD/zr12vIvF3/I0X/wD18P8Azrhx/wACOTF/Cjt/hT/yK7f9fDfyWumrmfhT/wAiu3/Xw38lrpq6MP8Awom9H+GgooorY0CiiigAooooAKKKKACiiigAooooAKKKKACiiigAooooAKKKKACiiigAooooAKKKKACiiigAooooAKKKR2VELuwVVGSSeAKAMnVGkaa8vUlkVdNVMKrkAkfPICOhyhUc9O1a9UtMgM+iyNInzXweRlYc4f7oP0XaPwqTR5DNpNrMSSZIEYk98qDX0meYOOHw2HstUrP10f53PGyzFOtWra6Xuvy/yLNFFFfNnslLUh5mpWUErFYHcsQB9+RcMik+nysf+Aj6HRrPvj5up2duvLJIZpP9lQpA/NmX68+laBIAya/QMgTWAjpbV/PXf9PkfH5074t630XyM/RP+PWUDp9qnwf+2r5/XNXKp+H8/wBi2zkfNLGJW/3m+Y/qTVyvisfNTxdWS2cn+Z9ThouNCEX0S/IKKKK5DcKKKKACiiigAoor5q/aG1W5tZPiPqPiqLxtBeabbKngp9Kjvo7GD/RkKT+dBiHzTdOQ3mnICqoBBwdaNL2krCbsfSN1PDbWslzczRwwwoXkkkYKqKBksSeAAO9OhkSWJZYnV0dQyspyGB6EHuK8t8e/bvGmr6H8K7h/MVrOHU/GUifdFsp+S1OOhuJkYEf8845fUUy1stRb9rmOJvEerXVpp/hia+ksWnCWluZ7hYoEWJAFOFhuDubcxJ64AAapaavXf+vULnq9FeUalZ6lN+1zokQ8SatPbWmg3upz6e04S0hDPDbwII0ADElrht0m45HBAAFT/tUjVNT8J6H4N0TU7vTr/wAV67BZC4s52hmSKNJLmUq6kFRttyCQeje9CpXlFX3/AAC56hWfrFzHJo8kltcK3zKP3UnL/MPkBHQt90e5r5++IHxO1HXP2ZdLtdNv7iDUrnwf/a/iW9ikKy2UEURV4w3USz3CNCvcDzW6pTNQ8e694Lt7TwTodkt94k8L6BZ/2jPdtNfTXl00AKwRoqFy7ABmbOF8xcA5OPYyvLVUqKdRv3Wuia073a3t2focONryhDlja7T6tfp5+R9JWdrbWiFbaCOIMctsUDcfU+pqavHPGfxU8b213r0Gi+F9KgXwx4Vt9c1mbVbtwtpM6TSNaYjHztsiGG4AySf4QX6X8XfEFlq9vdeM/D1jpOjXnhO78SeXBcvNeWENuYcicFQhZxNwF6FSuT1r7j2kT4/6vUauewVna9b2kxhknvhayQbmR9y9CMHhv5//AF6890H4heNYfF3hS28W6Do1hp/jKK4e1itrqR7rTDFbm4AuCyhH+RSGK4CsQPmHNcRfeLfFXi/4U2nijXvCelR6X44vLCw0yxTUJ47x0nnSMSs6bdiGHdIArZ4yT8xAmdVcr92/l/w/qdeAw7+sRcqvs7bS311tt6HtGnySS2UUko+Zlyfl2/Tjt9Kmz2rxvXviv4sbQLvxX4Y0HR5/DsOspotkL26kW7v52uFtTLGFUqEWZiu0nLBGbI4FdF8NP+Jp8aviDr33o7Wax0OBz2EEHnyAf8DvCD7rXy9SL5m7W8v0P2qhiIuMIxfNtr30evzsehUUUVmdgUjqGUqwyrDBB7ilooA8m8K3wufB9jbTndpvga0kl1Dd0lubYukUR/3BH5h9/KqK+t5Li2k02aGGKZ9P0rRpI4YhGgluZvNusKOAPLKnAr1RdN05bW4tRYWogu2d7iIQrsmZ/vFxjDE989ac1jZGYzGztzIZRMXMS7jIF2B84+8FG3PXHFVzHL9Xdkmzz+38Wavc6vpN1HrEKQ6rqV0g0xbdGaOztxLuk3fe3kxKD2HmYAyM1l6n411uHR4dSm1S3ulvPD9xrN1psUKD7LFtUQoJB83JlGSc5KEjA4r02DRNJt7qa6s9Ns7W6nZne5htkWQuwwWLY5PPU5rF8K+CNN0nWYzvW5e8YRyD7JDCgjXMhGyJFUlnC7iQc4A46V0YWPPXgl3OHNJzw+Cq1JPRJ/l+r+Wps/DuXxdPeTTeIJB9ne2jZYpBAHWYkltghZgIsYxuZmPrWZ4+nsZ/iVbafrs1ilnb6Q91psOpOFtbi88wqS+eGMahSByQJCQM8i54+OheFPBN1p+lRW+hyaorwwvYWBwjFfmlZYsEBV6v/Dx7Cp9L1KeTwgy+KtDRLuwcW5SR1miu5QAA8THJIPfIyvzZ6GvqJU+Wlzyenmfi8E51Fyq7eiS/Q8p0nUb/AF6+sItJe10RNWuL+8vJNLhTEsMLrbxum5SAX/dnODwKg0nxF4huvtOvDUIfs9j9slk03z42eSGESKqCMJvD7ghZi3ByAMEY9Ds7dILeFNq7oohGGC9gBwPbio5RY2c7T+RGk8/BMcWZJfyGTX4njMbGtiKlRq92/wA3+lvSx/QuFwiweDpxlPljBK+uisl8t7373PPrfVvFQ8NXOpDXrWaa6t7eCCNJYpvLup5URHVUQbEG44VmYnHPQky6trWsadJfaefEpXdrlnYQ313HEPKJiWaYABQpGzgA9CcZrtoEjhTZDoTxqX34RYVG71xu61Dcafp2qalbz3Nu6zWLPJ9nkVdrF0KFmHIb5SRkHuRXOsRTcvhX4eX9fMyoY3C15qnRrqUu1353/ryOOsfEF+9xFps3iR4tPutRuhBrEvkq8lvDHHlVbaI8mVpMNt+6hx6iD/hJNXGjpeST/aHsdK1G8t5pYE8yfM3lWbn5QFLpuPAGc9K9ImtLWW3WCW1heKPGyNowVXHTA7U94YXJLxIxYAElQcgHIH50e3p/yHofV6n8/wDWnmeTeK9NurTT9fsJdbnjkNpYRz3lqI7Ui4uZmjkGY1X93tKEh8nnOepr0/Sb7V9Gs4Wa+l1yxVRvaSKP7SF/voYlVHAGPl2gkZIJOFNmW3glSRJII3WX/WBkBD/X1qRQFUKowB0Argx+FwuOp8lamn52V9ls+mxKwNO7b/rV/wCZv2NzBeWcV3ayrNDMgeORDkMpGQRXnv8AwlFzp3xP1LUNS1GVdBC3FnHCTlVlgit5SyjuxL3C4HJ2gV0fg1ja65qOnIcW7JHdxIT913ZxIF9BlVb/AHnY96tXHhPQJ1tln09ZBaak+pw73Y7blmZi/XnlzgHgcYHAr8wrUKWXYurQrLmVrdNmrp+u34nlV6c0+VPVM43w34g8SQ65q0l7uuL7UtQtrGx06WXbBZSGBrh1JAP3IWXeRncyHGM8X5fHGrw6S1xdWFhbqmrTafLemWR7SFY1wZHYLlQ0gZOcBe7evR3/AIU0W7jYSQTxub43/mwXUkUizlNhYOrBhlCVwDjBqv8A8IR4dGlRaWlvcx2MfmZtI72ZYpQ7mRhIobDgsx4bPBx04pSxWBm1KVPXS9l2VtNfTRrvdsxVOqlZMy9a8Y6zaXupNBpNnJY6Re2lpcytctvmkm8rckQC8lfOXk4zwPXC6Z401PVdeMWmaPv077TPbm4ljmQKsYcGcyFPL2F02hQxYg59QLmg+CbG31GbU9RaW6vJdTlvtouZfIDFz5TeVu2F0j2Ddjquewxo6X4Z0rT5Zzai6WK48zdbNeStAvmMWfbEW2rkkngcZOMZqJ1cBGLioXlbfptZ9e+q23tYajWbvfQ4ix1jxfqui+EDN9llvtWvX1FQsrRILURO6iTC9FMkIwAc4GTkk13PgbVptd8J2WrTwJDJdRlmSNiy8MRlSecHGR7Gm6P4Z0jTFsxax3BNhayWls0t1JI0UTlCygsx/wCeaY9AuBWho9ha6XpNrptjF5VrZwpDBHknaigADJ5PAHWssZicPVjanCzvppbS8vPzj9xVOE4vV/1p/wAEsUUUV5xsFFFFABXN+NNAk1/xFoi3Cy/2dYtPczPDdPC4l2COMBkYN0kl5B7YPWukorSjWnSnzw31/FWJlFSVmed+IvC2rT3PiDS7fTBcW+uWkNjbalcXQk+xWwj2OrbyZGYMZHGM7iwyRjNSa54P1C58O+KJIrZP7T1m+TDCRfMktIzFH5Yc5ALRI/B4zIc969AortWZ11y2tpbvra2+v91X9DP2EXf+v63PPNU8OXj6EZ7LRdWXVprhZ47h72286CWJCsLOufK8sBmG1QeO2TxteGdL1S28dXl/qdjCwn0y0hju4CojVo95dAhO4ZaViOMYA57V1NFRPH1JwcGlr6+Xn0srLYaoxTucNr3hCXUtS8T6xc2TS3k0Kw6Qq3bR7lSDK52sAMyvJ970z3qpJ4L1NbX+z44YzbR2Wk6ZGfMH/HvDKXuGx/tA7ffAr0SiqjmWIikr6K34Wt18vxYnQgzzrVvDviE2slxZWEq6zJq91fWl2lxF5VuWJijEyv8AeQwBM7QWHIGDzXoigKoUAAAYAA4paKwxGKnXSUktL/j09F0RcKajewVzXxH8d+HfBFjFPrd0/m3BIt7WBN80xHXavpz1JA966WvE/AEaeK/2qPE2rakBMPDsf2axifkRMG2bgPwkP1fNdWW4WlW9pVrX5KceZpbvVJK/S7e/YzrVJR5Yx3bsdN4V+M/hrV/E9voN5p2saLeXjBbYalaiNZSThQCGOCTwMjGeM16NXin7TOzVvih4C8PWQDah9uMz7fvRRF4/mPt8jn/gFavgPWL/AFf9ozxjcS6pc/2Podolstu07eRG/wAu5iudoOY5efeu/E5XRqYaOJorkXI5NN32lyqz0+K5lCvJTcJa62v8r/gerUV87eHviFrmlfCnxd45+33VxPq2umz0hLmVpI7bIL5RGOAArHAAxlADwKPC9h41uvEnh650GXx2dQ+0JJrl3rYaGxZMguqI33gPmAH0xz0b4dqQ53UqKKi2rvukm/RK9vN9BLGJ2tG9z6Jor558QeLL/wAZ/EPXILj/AITJ9E0mVrWxtPDMLZmlUkF5ZBwOmQD2I9Dl3ivUfH/hr9m21stdv7+HXNT1dYLQ/aT9qjgxuCs4Oc5QjrnDAH0pLh2renCVRKcnFW7XV/nZb9u4/rkfeaWiv+H9aH0JRXgeoWPivwz8a/BVtP4y1PUtR1hi+qQPMfs6RgjcqJ02439e654NQ+NtRuG+M+pad8Qtc8T6Fp88qx6BcabOYbVV6b2IByTlcnnBznAxiY5DzyjyVU04uWid3Z8ui3ff0B4uyd421t+F9z6CoqKyhNvZwwGWSYxRqhkkOWfAxlj3JqWvn3udgUUUUAFFFFABRRRQAUUUUANnkSGB5pG2pGpZiewAya8q0WDUdO8O2XjEaRb2VwkMt1LO0oMl/Jck+WkgX/lmrShjuORtAAr1WaOOWFopUV43Uq6MMhgeoI7io5rS1msWspraGS2ZPLaB4wYyuMbSp4xjtXZhsUqKate7V/TW6+dzz8ZgniJKSlZxTt66NP5W6fkcPda74gtbnVtPttXtdQuLaWxtLeRrYKFuZpMOrBTyFTDY64JByRmo7q91SH4mw6cb1WlNolkdTlhAVJHZ5nRUHG9kSMLnj5STk4B7a00nSrWJYrXTLOFI3EiLHbqoVgMBgAOCBxmpJLCxkdnks7dmeVJmLRKS0i42ueOWG1cHqMD0rb65STdodOy3slf8G7banO8vrySvUej7t6Xbtr11SvuraFiiimzSRwwvNNIsccalndzhVA6kk9BXmnsDqKxrfWL7V+PDOm/bIT/zELlzDaY9UbBaX1BRSh6bxVuHwncXfza/r17eZ629kxsbcH2EbeafcNIwPpX1WXcH5njEpyj7OPeW/wB2/wB9jzq+aYelond+Qmsa5o+lSJFqOqWlrLIMxxSzKskn+6vVj7AGq0euXN1/yC/DetXg7u9qLRVPv9oMbEe6hq6LQ9F0fRo3TSdLs7FZDmT7PAse8+rED5j7mr1fXYXgLA07OvUlN+Vor9X+J5dTOqr+CKX4nH3mi+JddtWsNVj0zTtPnIF0kFxJcy3EWRviyUjEe5cqSN3BOOcGuwUAKABgDoBRRX1mAy3CYCm6eGhyp69Xd+ruzzK+Iq15c1R3YUUUV3GIV5F4u/5Gi/8A+vh/5167XkXi7/kaL/8A6+H/AJ1w4/4EcmL+FHb/AAp/5Fdv+vhv5LXTVzPwp/5Fdv8Ar4b+S101dGH/AIUTej/DQUUUVsaBRRRQAUUUUAFFFFABRRRQAUUUUAFFFFABRRRQAUUUUAFFFFABRRRQAUUUUAFFFFABRRRQAUUUUAFU9e+bTWh7XEiQsPVXcK36E1cqnq3BtW7LdJkeucj+ufwrty2KljaSf8y/M58ZJxw9Rrs/yNCs/wAPf8gO0X+7Cq/XAx/StCs5ba/tWkjsxbyQO5dPNdlMRJyRgA7hkkjkelfaZ3ga2LoRjSV2n6Hy2U4qlh6snUdk0T3l3bWoU3M8cW4/LubGfXFRTalaLaiaGaO43tsiWJwxkbso/wA8dTxUtjZ+TI080rT3DjDSEYAH91R2H6+pOKmWCBbgzrDGJWGDIEG4j0z1rz6PDNPli6s9ettvRf5/gdtXPnzSUIadCHS7V4Q81w4e5nIMjD7qgdFX2GT9ck96j1stKsdghIN0SJCDysY+/wDnwvqN2e1SXd9DFbiSM+ezv5caRkEu/Py57Ywc+mDUNpFdSXzXl6kKMsflxRxSFwoJyxyVHJIXjH8I9a9XMsZSwOGcYu0re6vw/D9Dz8DhqmKxCnJXjfVltQFUKoAAGAB2paKK/OT7QKKKKACiiigAooooAK4fUPh2+p64l94i8Wa5r1jZ3v26y0W6FtFaRzK2+Pf5UKPKEbBUSMwBVSQxANdxRVRk47Ach8IPC+oaDo19qXiCWGXxJ4hu2v8AWJoG3IjkBY4I2IyY4o1SNcjnaWxljVLwV8NrrQPiDeeL5/H/AIk1e71G3it72G+hsFiuI4hJ5QPlWyMuwyuw2MuSfmzXeUVXtJa+YrHBeGfhrdaV8TJPG1z8QPEmqXs9olncQXcNgIZYEMjRxny7ZGUK8rtlWBJxuJAxXRa54YsdV8Z6F4kuZrgXHh8XJtYVK+WzTII2dgRkkKGAwR99s5rbopOpJu4WPNdL+B/g7T/Auv8AhW1k1BbXxJqgv9QmMqtKwE4mFupK4EIwUC44V35yxNXbj4bXdt4y1HxF4c8c65oz6zJBJqdqkVtcQ3TQxrGhzLEzoTGioSrAkAHg813tYUwtotTa3vbIXUk0+VxKHYox4JjJ+6ucHPAxXs5O8RWruEK3I9+93tscGYSp06XNKnzL8jDvfh1oviPw34tiu7zUI/8AhPTG2qNHIm6FFgjg8mI7cBNsZ6gkl2OeRi94t+HHh/xLrGrX2rG6lTWPDp8PzW6uFjjtmd2cpgZDsXHOcfIuBwc9bGiRxrHGqqqjCqowAPQCnV95yx7HxvtZX0f9f0jz3TvhPbhbibXPF3iDXb/+yJtIsL29Nur6bbyqFcwrFEiea21MyMrMdoHTIPP+K18Jv4m8F/DSe7Nq3h+bztIgW5B+1C3tWgCyLs4ISVyBlfmTPIXBq/tH/H20+G+rN4dm8K61LdzRrJDdF0ht548jd5cgLNnqp+UEH8K+P/H3xI13xJ8Vv+E7SSSzvLeaN7CPz2l+yrGcogZuWGck9iSeBnFeRjs0o4eLhT1n+R+hcKcH4rMJRxeKVqNrrX4u23Tv8z7Gsvgxo8GoWBfxHr02maTrra3pukPLCLW1uGleY/djDuvmSMRvZtueMc12Hgrw1ZeGbbUIrOa4mbU9UudSuJJyCxlmcsQMAfKowo74UZJ61438L/2nrPxVr1loU3gjVf7RvHEaJp0yXALd2w+zao5JJPAB54r2fx1rL6D4XuNShgE9wGjhtoWOBJNI6xxqT2Bd1z7ZrxY1FU2Z+gTwiwr96NjXorhfGUnifQPDLXMviCfUbu9ntrWOCCzijKyyTIGMJGCBs8zhy3Y7hg1dh8VtqEllamC6026fWXspo1aOQARRNM+WII2FVCkjBBbAx1qrEe1V7NWZ1tFcXpfxGtJ7SO+vtIvLCxuNJl1SCeVlZpIozGG+RTkZ81Nufvfzi17x3qdlpOsf8UzNb6jp2nJeRxT3EbI3msyRBip67lbK/wCzgE5zRysPbU7XudzRXH6n41utNsbuS40GeaTR7QXOseTPGFtRgthST87bFL7R0BHOSKmvvHmm2t8tpJbTmaTWo9KVVx1dYmEp9E/fxj6sB3osx+2h3OqqGO6tbK9udTvp1gtdNsy8sr/dUMckn6CP/wAerlpPHayTQw6bot1evci8eErKiIYreRY2lZmPyoxY7TznHvUWveKL3/hXFh4g0yW50uz1yYT3WoGxFydPg8rC74+fvMqgnkAFvavWyeg6mIv2X9fhc+U4wxkYZd7KL1m0vktf0X3lP4waxp2p+NNM0i41O4tYvtMcETLZuksM7H5ZUZl2XELZVHTnoD61rWtqLRPsQupbqO1llAllxulkZ2aWUgcZaQueOgwBXP8Ah7UNZsPCd14jtNPvNJ+1WcUv2aYxXFhc3k7KqTQAOWjPmPuKdDkZwaz9S8U31t4AtZrJIn1aS1ZnDAlI2jO12Iznl8KPdh6GuDjnNPYYeOX03ZvV+munzf4Hz/BdPD08VUxeIV1Tjdddbpaeev4nbVUuA1vffbFiaRGjEcgUZZQCSCB3HJyOvTFUTr6RyTqbO5mgscreXsYQRRuqbmGC24474BwTj1xVsb/Vk0lPEWq3tvbWTRGeSyW2LNHGVyq792S/K54wTkAd6/KnqfqOYSwuNoSw87tPVtactn8V3ZWT7XvrvZnQ208Fwm+CVJFBwSpzg+h9DUF78mo2co6sXhP0K7s/nGPzrBvfEOnAXcup6DdQzWUcLOssUUjkSuUjClWPJIPHtT4dYtINUEEulalHNb24ubgzzq6WcZLruYmQgHCE4XJwfriVGzPkcJkscNjadWFdNJp6qSdrtNWs9dJLV9H2Z0lFc1F4105rW6uGtbpY7eBJxjY5dXbaowrEqxOPlbB5+uNXQtWXUpbqE2dxazWcipJHPtz8yhgcqxHQjvkVZ95RzDC1pKNOd2/Xz/yfrZmhRXE2viy4k1UyJqdlLbrfzxT2ix5e3tot4MzsGyv3M/MOdwA61qN4vt4obiW60vULZYbBr4GRY/niBAGAGJDNnhTjpzig56WcYOonLmsl/wAPfS9vnZmteP8AY9Z03Ulbb5dyLaUj+KOYhNp/7aeU3/AfTNdhXlPirXJ7ieHTfJurNryxuCls0aNNK52LDtUE45Lt1GNnOMV6R4c1JdW0WG+ETQs+5ZYmOTFIrFHTPfDKwyODjI4r4Xi/CtTp4hLR+6/zX36/cctXEUq1aXs+lr+tk/ya31L1FFFfFkhRRRQAUUUUAFFFFABRRRQAUUUUAFFFFABRRRQAUUUUAFFFFABXmPiz4T3k3ju58W+EPF114dvr4Yu1S3Escp4ycbhjOASDnnnivTqK6sLjK+Fk5Una6s9E015p3TM6lONRWkjxPw34E8aeDPjJa+IJFTxfDqe23utTuG8u4sdxAdwpY4AAOMZ4+X5e+pffBeeXxVr17a+Mr6z0vxFM01/YQQANKSWba0m77mXbgAZBI969Yorvnn2NlJTTSlZRbSWqTutHomulkjJYSklbpe55nJ8HNNl+DNv4Cl1WQvbXJuo9QSAKfOLNhjHuPG1yuN341seB/C3jLTdYiu/EfxBuNat7eNkjtF0+O3ViRgM7KSXx79+c12lFc1TNMXUhKE5JqTb1UW7y3s7XV/KxccPTi00tvN9Dy6H4V+ItG8Q6peeDvH82i2Wr3BuLi1bTY7gqxJJ2sx46nHAOMZJxWz4u+Hb+IZ/CbX2vzyJ4anWebzYA7ag4KHLNuG37h7H7xruKKqWbYyU4zclzLryxvtbV2u9NNbgsPTSatp6v1OQ1DwKLz4w2njubVGJsbA2lvZiD7hIcF9+7/po3G38a5y7+FOva3cWNr4x8f3Ot6Pp1ytxFZnT44nkYZA3ygktwSDnkgnpXqVFTTzXF07csldJJO0bpK+ztdbvVahLD05br8WFYvxE1KfR/AurajaHF1DaP9m4z++I2x9f9srW1WX4h0K21qa1N7cXXkW0qym2jk2xTsrK6+YMZbDKpAyPfIrlw7pqrF1PhT1/y+ZpO7i7bmBd+ML+yk8q30pdQtbXUINKmvHvBFJLcuUUlI9hDKpcbjkchsAgZpknjrUX1GGKz8Mm4t7rVZ9LtpftoVpZYhITIE2HEQMThmzkY4Vq0x4K0j+211IzXzeXfnUI7Y3B8hJyCGcLjnOSeScHpjJzb03wzpli2mmETH+yzM0G985aUkuzep5b/AL6Nd7q4BR0hd28+z8+9vLV6aGPLWvuY1h41vtQtbSGw0SGTUpvtTTQSX+yCGO3mMLP53lkkMwG35BnJzgA1Uj8dpcQ2OrNZXkfmaTFdpZRzoRK91MsVvGwK8sxU4OQBlsg9Rp3HgLRZbSC2S41CBIbOSzkMFzsa4idtzK5A5+bJyMHk9jip7nwVostnLbj7TFvitI45IpdrwC1YtCUOOCrEnvnNX7TLk9Ivfz2v69tuum+octbuQ3HiLXobuDSzoFm2rTpJP5K6mfIS3TYDI0piyCWcKF2dQTnAzWr4M1c6/wCFbDWjatai/gWdImfcVVuVyR6jB/Gs7UvBWn33lNcajqxlW2ktZphdkPcxSMGZXIHTI427cdOnFbul2cGn6Zb2Fqu2C1hSGJfRVAAH5AVyV5YZ0kqa96/n592/L/MuKqc2r0J6ivp1tbGa5ZSywxs5A6kAZ4/KpaK41a+pqeW3lvM/w60jxS+o3kniTWJ7Oa1kjvJAgeaRG8lIw2zy1jLAjHKqzHnmugXxhdt9lwloPt2v3Fhbgq2TbW/mebJjPJHkvz05Xj1unwD4YjuILmysGsLi1m823mtJWjMB5yEGdqqwJBUDBB6VesfC3h6z1Y6nbaTbx3Zkkk84Akqz53kZ6btzE46kk169XGYScdU3u1otL7LfZafjpqc0adRP+vv9TkLHx34jbQ5PE9xoo/sdrB7qKIwGKQMxXyEEhc+YX3ckIAvqe9mTxJ40ttPke402yae6u7O204y2726u8kh84MhkdtqIMhztJOfl456Sz8J+HbXT7iwh0qEWt1H5UsDFmj2f3QpJCr7DAqex8P6RaRwRw2YxbXH2mIvIzssuwpuyxJJ2sRz61MsXg7vlpde3TdLf5N9V5jVOr1kcnd+K/EdroN5cziyaPT9XltLzUobCSSKC3SLcZjAJN5w+UOHOAC2O1b1vY2+oePrWDXdmoQy6WtxZQnP2ZZopP3snlkkMT50BTduK7GwRyTYvfCvh+7QJcaXFIgklkKEttdpH3vuGcMGbkhsj2o8WN9kn0fVV62OqwAjplJibZsn0An3/APABXq5DjsPTzXDuMLXbT0X2tE/W/olslu3zY2jOWGmr9PyOwooor9nPkgooooAKKKKACiiigAryLxd/yNF//wBfD/zr12vIvF3/ACNF/wD9fD/zrhx/wI5MX8KO3+FP/Irt/wBfDfyWumrmfhT/AMiu3/Xw38lrpq6MP/Cib0f4aCiiitjQKKKKACiiigAooooAKKKKACiiigAooooAKKKKACiiigAooooAKKKKACiiigAooooAKKKKACiiigAqnqnNzYqeQ11yPXCOR+RAP4VcqnrR8uGG5/597hGJ9FJ2sT9FZj+Fd+VyUcdSb/mRy45N4aol2ZoUUUV+lnwYVS152+xC2jYrJduIVKnBAP3iD6hQx/CrtZ6/6Rrksn8NmgiX/fbDN/475fPua48wxX1bCzq9UtPV6I68Dh/b4iMOnX0JILCygnE0NrFG6rtBRAOMAdvYAfQVYoor8zlOc3eTufdRio7IKKKKkYUUUUAFFFFABRRRQAUUUUAFcf4T+JvhHxJ8Tte8BaReyzax4bjR79TCRGpYkFVY/eKnbu7fMMEkHHWXhmW1lNuivMEPlqxwC2OAT9a+J/2C7TWF/a++Isd34puZ72x+1QTrdq7DUSt1s8x/3mQy7RgHdgOeeOfRwOAli1LlevTUwr4iNFc0tj7coqp5upRf62wWYdjbzAn8Q+0D8zSNeXIX/kE3mewLRfz38Vcslx8XZ0/yf6mEcywkldVEXGIC5PQVV8PoWsjeOAHvmE7AD7oKgKPfCgD65qtb294LaNW1aQSugExaJWXdjkocDBz0zke1adrClvbRwRDEcSBFHoAMCvqsnymeBlUlUabdkmr7dei8vuPn80zCGKhGNO9lvf8AD9SSikLAMATyegpFcM7KP4ete4eOeR/twaLpWpfs/arqGo2scsmkFJ7Vzw8cjMIxtbty4yOhxj0I+BY7S6ks5LuO2me3hIEsqxkohPQM3QZ96/TH4qaNpvifw6fDGrWa3VnqDLJNG8jKpETo4ztIJ+YLxkDjn0MGh6Bo2keHo9D0/TbWHT44/L+zpCojYYwdygYOe/HNfNZ1h1OtGV7afPqfsnh9j6lDLJwlFtczad9Nlouu979PXU8E/wCCd+kaKfBesa6tmh1gagbV7huWWDy42VV/ugsWzjrgZ6CvffFGj2mvaHNpd60qRylGEkL7ZI3Rg6Op7MrKpH0ql4N8G+GvCdxfyeHNKh01dSkWW4hgysRdQQCqdF4PRcDjpW7Xn048kUj6nE1FWqSl0ZgweGS0tlNqWt6lqUtjeC6ja48pQWEbxgFY41GB5hbgZ3AZPGKh/wCEM077wu70P/pzbw6533bbnf7vVR8q9gDzmukpsbh13AHHvWl2c/s49jndU8E6TfWbWzy3Ucf9lJpkYjdR5MasGDLlfvZVOuR8o4qGTwNaTWeqJc6xqc91qz2zz3kjReYrQMHj2qECBQR93bg5Pqa6hXDMwH8JwadRdi9nB9DmL/wVaXl9dS3Gq6i1vqJibUbTMQjvWjVUBchNwyqKGClQcYxjILNb8AaPqd9rF7LdX8VxrDQM8kMqqbZojEQ0Xy/KSYIsk5zsXpiuqqGO485ylnDJdMpwfKA2g+7nC59s59q0p06lR2grs58TVwuHpudeSjHzZhan4Y02Gxuvspmg8zRxpFtFCwAhT5gvl5BwxLKMnI+VeOuYpPEk3g/V/wCxLvT0l8KaTYR2zXtnGZ5IJdibUnUHKcBjnaQfMTJFdJdAaXazazq7rt0+3luUtoPmbCISzZONxxkAAADPfgjgfBVrc6543t7q4j1DTdT8yLWJFjvWlsXt3GC0Oz5d0hVVZZCcANtzivqcqwfsaUpVev8AX9b7n5bxNm9HMMRFUP4cFv3b3Zu+IdI0SPR9O03RrdrC2mvU1eW2UFQpwCqlD9wFsHaMDKH3rAg8JWMUd2qzTH7ZfLdSFsHaqzecIl9E3lj/AMCNdV4gcv4lvyTnZIiD2HlocfmTVWvyfirFPEZrUv8AZtH7v+Cz9H4SybDU8ppTnG8p3k3/AIla33aGNa+HxE19A9/NJY3zzPJaFFxmXO/5sZxknHpnvUH/AAjVxJoj6Xda5dzwiJY4N0UYMe1lZWJC/MRtHXgjPFdBRXzp9M8vwzVuXSzW72fTfbstl0MGHwyn2iS4utQuLmaa7huZXdVGTEPkQADAUHn/ADmrV5oVtdR6uk8shXWIhDLjAKJ5ezCn8WP1NalFA44DDKNuXTXu973+/mf3mNHoLNp0dndX3mpHcxT4S3SMHy2DAEL6lRn6Vd0zT0sp72ZZGd76489yw6HYqAD2AQVcooNIYSjBpparzb79/V/eZMegWy+DX8OtLI0Mlq1vJLwHbcCGb0ySSaqt4XEz3Mt9qdxdTXSW6SMyKoCRSF9qqBgBs4NdBRQZyy/DS5U4aJWW+1mvyb+8wfE3h83lzPq1rKw1KOKM2THGInjLkD6P5hVvY11vgn7B/wAIvaf2dM00O0lnk4kMhJMnmDs+8tuHGDkYFUKpqw0vxBbajCTHHeTpb3yA/LJvwkb7f74fy13f3SQc4GPB4iy+eMwl4Ss4Xdu+n59vu6mGIwcIXq01bq/Pz9f09Ec1oOqatqnju2aK41e2N5rF3LFNNdf6FPY27GJoo4gx+c4U8qp5LAnHOhp3jLUDoMl5plrbssenya5eSX93IyJBJJIYkQ8kbljY/wB1ABgHNddD4Z0SK10+3jsyselrItpiZ8xh0KNznLZDHrnnnrzVPUvAnha/t0t7nTpDAtiliYUu5UjkgTOxHVWAfbuOC2SCcivipY3BVJLng7Ly7N+fZrro/I8hUqqWjOVsfE+v6L4HKWtra3Umh2NqNQe9ndXuLydFfy0wDjBkQ5PXeBx1rah8YarfeLHsNK0dp7O21D7FPK0Ew3beJZVl2+UFQ5G0sWYqenFJr3gY6r4yGpSvaxWhvLe7kVGm3zNCF2hk3+VnKKN+3O0bfet/T/DumWOsTalaLdRSzytLJGt7L5DSN95vJ3bMnrnb15680q1fAuPNy3m1fyu7b6977dH6BGFW9r6HI2vxPQNaG708LF/Z01xeyRsT5c6Z2wIO7EIxx15T1qxfeMtfg0u81AaVYiPRjBDqSPM26S4dY2eKHAx8vmqATnc3GBjNbkPgrwvEsATSY8W+otqUYMjnFy3WQ5PPbAPAwMAYGJZvCmhS622qyWsjTSTpcPH9pk8h5lACyGHd5ZcBVwxXPyg9QKh4jLua8abt/wAH17XV+mna5XJWtrIx5vF+pm7ivbewtW0iTWRpKFpW+0St5pheVQBtCq4bjklVJyOlZ66/rHiLWvC5SK2ttK1W9kvIBHM/2hreGN2VnGNpDsYjgHjIHOeOosfCmhWmsf2lDayecJ5J0R7mR4YpZM75EiLFEZtzZKgH5m9Tlnh/wf4e0XUIr3TrKRJoIHt4GkupZBDExVjGgdiFXKjAAAHOMZNJYnBQT5YO9tNPJ+e6dnf10QclV2u9DdoooryToCiiigAooooAKKKKACiiigAooooAKKKKACiiigAooooAKKKKACiiigAooooA4Xw94tudR1bVLmXW9PhsNLuboPaLp8jSmCBihfzd+OSpPCnjFWtU8bXMen6Tc2XhnUpTq16kEEbvBueMoZS64lI5jVyMkcqc472PC/hrWtE0E6VH4ihljSMiBm04ZVy+4s/z/NnLZHH3uoqDSfA/9nHTZLTU1jksdRmvXRLQLAxlUo6Rxhv3Y2k45OCWJzmvYlLA+0k9GltvqrO17JdbX3f5nMlVsv6/zLQ8a2DatDZx6dqUkVxfGwivFiQwPcLu3oDv3fLsfLbdvyMASRVHRPHy3Okfbb3RL63a4vpbbT4A0Je7CM4JB8zauBGSxYqo4wTkZl0LwTJp+qadPLrc1xaaRcXE9laeQqgNNvyXbOXYCRwDxwemearL8P3XStItjqlvcS6L5yW73enLLG8cm3IeMsMuCoO8Eck8c4otly92/wA/e/vfn7t/V2D99v8A5eX/AATR0vxvp+pSWEWnWF/dS30LTmNBEDBGsnll3LOAQGB+4WyBkZGCemrm9U8LS6jrGl3V3qEJh0uWOaFUslSYOowQsoPyo38SgcjjOK6SuHE+w932Xz3793bp5GsOfXmCiiiuU0OV8Ta+2g+NFe/uWXS20S4ufLCg5lhlizt7liswAHfFc9rWr+ILbQ9Rt7y7uo9YOkiUiKVRFaz3s5igiAC5LRlMBt3qcHPHa+IfDml63qWm32oRPJJpUxmtwHIUtwfmH8QDKjAeqg9qbfeGtMu9RmvZxK0s9xbXD/PwWtzuiGPQNzj1r1aGJwsIw5o6rfTs/wD5G9/Oxzyp1G3Z6f1+pzmm+INQi8QajaWMTalc3mpPa6fBc3bRxRQ20EQmkZ9rEfvWYHCkksvuRLp/ju+1DTbeSw0KFrqS3nu7iKa/2RwQRytGG8wRnJcqSoxjAOSMc6k/gvSZPs7RzX1vJby3T+bBclHkFxJ5kysw5wzYPGCMDBFc/wCLPh7NcWMOkaCEtLMaQulyXDajJHIIgT96JYyJcZJHzpkkg5BxW0JZfVaUlZ93fZXWuq6Wemt+pLVaO39f1qPuPiVI1ra/YNCNxeSafBez2ZuWEi+cNyQxhY23yY5OdqjIy3PHU+PreW78D6xb24zPJYTCH2k2HaR7hsGoofDFlb61/aNldXtoWWJZoIJsRT+UMJuBBPAwOCMgYOa265KtehCpTnh42a13e+n5Pby3NIxm4tTe5pafcxXunwXkB3RXESyxn1VgCP0NTVgfCo5+GXh5T96PSrdH9mWNVI/MGt+v6Cunqtj4fYKKKKACisX4hWviO88H3lv4T1CCw1hthtbidQ0akOpYEFW6qGHQ9a84034r+JvCN/Dpnxa8NNp8crbItasFMls5/wBoDOPXg5/2RWkaUpq8d+3UV7HsNFQaZe2eo6fDfWFzDdW06h4poXDI49QRwanrMYV5F4u/5Gi//wCvh/5167XkXi7/AJGi/wD+vh/51w4/4EcmL+FHb/Cn/kV2/wCvhv5LXTVzPwp/5Fdv+vhv5LXTV0Yf+FE3o/w0FFFFbGgUUUUAFFFFABRRRQAUUUUAFFFFABRRRQAUUUUAFFFFABRRRQAUUUUAFFZnjHxFofhTw5c694j1S203TbNd01zcPtVfQepJPAAySeACa8x+Cn7Svw4+KXxDuPB/hkaut5FA80E15aLHDdKhG7yyGLA4OcOq8ZrSNGpKLklohXR7DRRRWYwooooAKKKKACo7uFLm1lt5PuTIUbHoRg1JRTjJxaa3Bq6sRaNM9zo9pcSffmgR2x6lQTVmqXh3jRYIv+eIMP8A3wSn/stXa/WeZS1Wx+dSjytoKz5lCeIojGNpltpDLjo21kCk+43NWhWfqBe31SO7MUskJhaNjGhcodwI+UckHnoO1cOZ051MHUjCN21sdmXTjDFQlJ2RcoplvLFPCs0MiyRsMqynINPr80aadnufcp3V0FFFFIAooooAKKKKACiiigAooooAK+avA39geFv2/viJpl59nFv4g8P22qkSQ5WN08sSA9eu55CeABnPTNfStfA37VPxB03w5/wUCh1vTLuS2XTbWDTdVut0oWNpImV5F8l0dhGkqHaGXLRkdOvdgIynKcY9v8jOpa2p9qnU9Fh1K9to9TktI7Gwt76SdbvMIimaZUIDZUDMDYwOcitK4hvDZq8eq3W18H97CgYA+o2gj6Gvyy+Cuv8AiXWPj14fhXxPfW8up6zDEZlZiBumJXEYdRwzsVCkEFsqQcGv1F8M6RdW+g20MniC5uv3YInRBiQHkH955jHOepY19JQwmZyX7rEbd7v9GePjJ4Gi17Slv2X/AAxLeTXtv5KNcwXEckyRlREVcbmAzkNjjOcYq/LlllkLNgHAANRwabtuY5ZruaYQnciMqKN2CMnaoycE+3PTOKu7VxjaMfSvdwVPEwo2xMlKV912+5HgYyeHlUvQjaP6kG0NdAMx4Qd+pqMgmMyBmy7/AC4NW9q7t20Z9cUbVwBtHHTjpXUchzuuFn8RgOwwLYiHLY2/MN5/H93+VI5ZZSgYksoAP9asa7G0WtLdSxZhkiSJJMAhH3NkHuM5Xn1H0pMDdnAz618/maaxDduiP2HhCUJZRTUWm03fy1e/y/ArRszKDz+7Uk+5pV6xlXJdj83ParCgDoAPpQqqv3VA+grzj6cgXlHlLHqdozXhf7XXxhm8FWumaD4Yvo/7XknS5uih3CGJHzsb/fYYI/uhgeorsP2jPh5rXxE8KyW/hXVr2x1HTVZgiXrxW11xnyXUHaXPGGPTPJwa+DbqKWG6khnUrLG5WQHqGBwQfxrPFe1oxXNG3NszoyqWFxlacadRSdN2lHt2/rXax+jPwz1xvHHgfTfEWkSWcdvqSeZjzmkeJhwyMABhlIIPPat1tM1PbLm+t1VTgMIWJJ+m7+tfn58AvCXiDxf46jsdB1GfTRbr513eQzmJoYgQPlI5LEnAHqfTNfe+j6xHpWg2ul2Vlezi1iWPztRvPNeTAxuaTLM7Hrk4/Cu7CZnlri1XUYOPd7/Lc+N4iy7iDCV0sHWlUU29FBLlXRN7fPTvoaq6NaGQi/lmu9ij5ZmG0n/cACn8QTV+IBIYIgfLXnpwAO1c3Jr+rP0+wqfX7OxIH/fdcT4m+KOt6LoOu3v2WzurjSb02dtbvEd1xiBJySQwAARnY4HRDXVT4jylvkp1dPKMkvyPkMTwrxBU/e4iF35zTf5s6T4laf4nh1mPxHoO28hhtvsklsqbriGNpVeWSAMdruyqF2t6DGeRWf8ADu/8Pact1qumaB/Z6312yPAryJLDArHyz5TZC7tzNtXCjcB1wK1ofHU91NeWkVtZxCxjgjkupGfyzc3EiJBGqoCwJDEn0ynY5HFza1eW3ipbW9WGaNdVubaO7mjLE2trC2+QNnlxN8p64BAxwDXfj85VHLnWpR5la6ttbpfy+XluzkynJXicw+pYmSg07NdfNLo38/PVXOjhnF1FLdNLuklldjtbjJY5x7entipWyzNuY/KnOD3rmrHxXomk6Uk+q3KLLNCL2drO0nlihSTlSxCZTd2DYJPQVe1Pxj4a0/UJ7K7vjHLbzLDcH7NIyROyB1V3C7QWDDGTyeByCK/IMdzVsXUqQTak2/vf/BP2/AclHCU6cmk4pL7l/wAA10BDRfM2T157VYrDTxZoTWaXKS3LFrhrZYVsZjP5ijcy+Vs3jC8njpiqU3jSxtvF13pt5J5VrBBa7ZBbSsyyzM/+sIBEa48oDdjljzxxyexqP7J1+2pq3vI6mis467pQ3f6V929Fif3bf684+Qcc9Rz0HPPBqknjLw88E80d3NJHBN5BZLOZhJLuK+XHhf3j5U/KuTjnpzUqnN7JlupBbyRvUVR0DWLDWrN7nTpXkjjlaJ98LxsrrjcpVwCCM4PHByOoq9UtNOzRSkmrp6BRRRSGFQanare2MlsztHvHyyJ96NhyrrnuCAR7gVPRQJpNWZo+E9TfU9NJuRGl5bSGC7jTOFcdwD0DKVcD0Yd6065G4tp0vhqGnXX2W8CBGYpvjmQEkLImRuAJJBBBGTg4JB1dB1+O7uBYX8IstQxkQl9yTgDlonwN4HcYDDuACCfzXOshrYScq1FXpb6fZ9fLz+88atQlSeu3c2aKKK+bMQooooAKKKKACiiqfiC+XTNBvtSfG2ztpJzn0VS39KqMXJpLdkykoRcnsi5RXD+G9Wv7PS7Hz5dY1HVtQCQC21CIW0Xm+WXkcHywQgCtzhuwwSauR+L7+Z7eyttDSXUpru4tnh+2Yhj8kDc/mbMlPmQfdzlsYrqlgaqk0tfnb56200epwwzKg4pyum+lm97aaXV9VpudZRXJ6X40bUNaFtZaWbi186WJpoZWaRDGGy5TZtCFl2qS4JJHy81Vm8Xazf8Ah+wvNJsdNE2oajDbJGb9maMffkSQeV8kgVWBHO3OecYJ9Rr3s1b1a63/AMmH9p4XlupX32T1tbbTzX3nbUVzPxE1S4sNL02Fbmazm1C/ihlktIzM8aBWkk2DaSflQjO3vnFZ2ieIdbt4ZbNrWW/mBmu4n1FxaOlkpAVpMR/fZt+0FRwuWxShg6k6fOrf157fiOpmFGnWdKSenz/Df8Dt6K5bTPFt3f3FqkGjKkb6bBqN7LLdbVtY5d2F4U7nwhOOBweRxlnwk1u71rw3BM8cskYjLS3c0vzNOzFmiVSM7U3bckjpgAjmlLB1YQlOS2t1XW/+Q6eYUKlSMIO/Nfo+lvLz326bnWUUUVyncFFFFABRRRQAUUUUAFFFFABRRRQAUUUUAFFFFABRRRQAUUUUAFFFFABRRRQAUUUUAFFFFAFb4XH/AIo9Yu0F9ewL9I7qVB+iiuhrnfhf/wAivMPTVtSz/wCB05/rXRV/RWElzYanLul+R8LVVqkl5sKKKK6DM4D9ovxBpmlfDfUbabxNcaPeOsLo2nyKb0IZ0UtHGZEJB5BIYcZ69K5CT4F+ExpB1rxf4z1/ULeOITSTXV0scarjO5twYjr/AHq6P9pLwH4S8S+E7jWtdvYdJvLGFUi1aXeywJ5gOwxhgG3EkDgnLceleYad4J+H2rae2meFfjhd2NrcLsmsrubakw7r5bNFkexBruo29muWTXfT9SHueqfCf4et4M8Uy3nhvxBJc+E9RszIlhLL5gjmJQrJGw4Kld3PB5H3uCPRqz/COmW+i+FdN0izmaa3sLOK3ilYgl1RAoY445AzWhXJUk5SuyloFeReLv8AkaL/AP6+H/nXrteReLv+Rov/APr4f+dedj/gRy4v4Udv8Kf+RXb/AK+G/ktdNXM/Cn/kV2/6+G/ktdNXRh/4UTej/DQUUUVsaBRRRQAUUUUAFFFFABRRRQAUUUUAFFFFABRRRQAVDqV5aafp89/f3MVta2sbSzzzOESJFGWZmPAAAJJNTVT1/S9O1vRLvR9Xs4rywvoWgubeZdySowwVI9CDTVr6geJ6V+2F8DLvVprKbxBfWKxStGlzcabKYZsHAZSgYhT1G4D3Ar0jwj8V/hn4o2roPjzw/eyP0hTUIxN/37Yhh+VfOPxy/Yd0XUPO1P4X6ydKuDlhpWpO0lsT6JLy6f8AAg/1FfIXxU+Gnjn4cat9g8ZeHLzTGZiIpnXdBP8A9c5VyjfgcjvivZp4LB4hfuptPszJzlHdH69ggjIOQaxPiL4u8P8AgXwfeeJ/E+oR2Om2KbpJH6seyIvVmJ4AHJNfkr4S8eeN/CxX/hG/F+uaSq9EstQliT8VVgCPYir/AMTPip8QviFY2Nl4z8U3urW+nFjbRTbVVWPBYhQNzY43NkgZGaayaXOrz0/EXtdNjp/2qvjn4h+M3i/zpzJY+H7Jz/ZelB+Ix082THDSkdT0AOB3J+pf+Cb/AMCr/wAFaXN8R/Flq9trGsWvk6dZSrh7W2Yhi7g9HfC4HVVHPLEDnP2C/wBmJIY7H4m/EWxV5GC3GiaRMuQgPK3Eynv0KoenBPOAPs2ox2LhGH1ejst/6/McIu/MwooorxzUKKKKACiiigAqDVJza6dPcKoZo42ZVP8AEccD8TipLiWOCFppnVI0GWZjwBVWNJtQuI5JYXhtYmDqknDSsDlSR2UdcHnOMgY59LLMvqYuskl7ier/AK6nHjcZDDUm29eiLen24tbKO3DFti/Mx6u3UsfcnJ/GpqKK/SD4XcKKKrald/ZkVI08y4lOIYs43HuSeyjPJ/qQCpSUU23ZIqMXJqMVqyvCqR+IJ0gGFeFZJlHQOSQD9SAc/wC6Ku1X0+2NvE29/MmlbfNJjG9sAcDsAAAB6AVYr82zTFQxOLnVprR/jbS/zPucDRlQw8acnqgooorzzrCuN8cePJtI8YQeE9B8Mah4i1uSwOoy21rPDAlvbB/LDvJM6jLOCFUZJ2knAGa7KvDv2hrkarrjSeDtE8X2nxI0dlttEv7TSbhLW4jZ1YrPcFfs8lrnlhI2QQcAHrtRgpTs1/Xn5Ck7I9IsfiD4bm8aWvhC4u1s9euNOS+fT7iWPzIAxUCJ9rEeblvugnIBIJGCdeDxF4fmvZrOHXdNkuLeUxTQpeRl43CsxVlByG2o5wecKT2NeMeLrDU1+JXxY1LTPDF23ihvDUC+GbxNIkMcjxWsrF4bnZsEvnT7Nu7efLHGBVT4a6Bo+ofFPwZL4d+Hmoafo3hLwteM2pahoj2Ul/dyLDD5DeaiuzbWnYs3DFmIJ5J19hC179P0v/wBczPXvBvxA8I+KbO+utH1yzlh0+/exndp0A8xZTECOeVZxhT/ABds10H2y0+0TQfaofNtkWSePzBuiVs4Zh2B2tgn0PpXzZ4W0+LTf2d/ADDwlrFu9v4psrnxYkXhu5W6jeNpbtiYRF5ksa3JiQMqsvJweDR43sPFfiTQPFXiW68P67pNj4g8aafbX1s2lPcXI0S1gXEjWygtIjzEl0APys4IPIpvDRcnZ2X/AAQ5j6M0PWNJ1q1a60bVLLUYEco0tpcJMgYdVJUkZ9qbfa5otlq1vpd5q9hb311/x72styiSzdvkQnLfgK474D+HdH0+DVvEmnT6pcXWuzRC5lv9HOlgrChSMR2xjjKIAx+YqS3qQBjye+0G48ReGfEHhK78H6rJ4+8QeK5JLvVrnR5RBY2qXu6G4S9ZPL8uO1jjEao5bdwFyWNZxoxcmr6L+vwC565qXxEMvxkg+H3h630m+uYLaO71aa61byGto3kZRHFGsbmWYLHI5Q7AABlhuGPi/wD4KmeGNN0b48WOuWTotx4g01ZruBYiuHjPliQtkhiwUDAAxs75zX158EtL0zUfid8RPGa6faiaXxF/ZtrMIF3qlrbRRyENjOWmafPrjmvm3/grF4osbvVvDHhaO2Q3Vqs14ZzGNwjLeVgNjOC8bjAI5jyc5GPSy2m/rPuLRLX+vUyqySST3Z8m+D9cvvDPirTvEOmeX9s0u6juYBKm5CyMCAw7g4wR6V+kfw0/am+F2p+B/Ct14l8Q2OjatrkXlz2gV/KtJkyr725EUe4fKXI4YdgSPzKrb+HfhHX/ABz4ws/DPhnT5L7Ub1iI40HCgDLMx7KACSa+noVp03aOtzzsXhKVeN6jtbqfsZbzRXFvHPBKksUqh45EYMrqRkEEcEEU+uS+BPgxfh78IdA8GCdbhtJs1illUELJISWdgCTgFmautr2Fe2p8nJJSaTugooopkmT4qysdpK/+pjuAZT2GVYKT7biPxIPaoa23VXUqyhlYYII4IrNfQ7cH/Rbi4tV/uRMpUfQOp2j2GBXBjcE8Q1KMrNaa7H2PDnEtHLaMqFaDcW73W/TdO3buU7iWOGMySttUcfUnoAO59qks9Pub0eZdNJawH7sSHEjj1Y/w/Qc+46DM+JVza+Dfhv4g8WySyzz6LpdzeRPOwOGSJioCgBckjHTPPvXk/wAFfGOrj4gaRYy+OfEWpwWvhSXUvFlv4isRa7JlEQVrRJIYpSA/nbiNyAbATuIrPD4KnQa5/el+CN824oxGNg4YO8Id/tP7tv61PfZk+w6TIthbAmGJjFCgxuYAkD8T/Ovjjw1+ylrx0j+1fHGux6fcXLhUsrMCaRWbJJkf7uRgnC7s+or3jw/8ZtQ1LwXpOvy+ANRtX8T/AGdPDdg99EbjUpJI3kkLDgQxRohcyMeU5AyQDzepfGN75b9dX8PXVvrOnanBplpolvcpN9pnuIlliaOU7VIaMsxZguxVbjrnjz2pQjhnUmm5WaivN7N+mj1HwbiMyoYqVHDyUYScXOW7tG7st99Vor/ccT8AfhN4m+G3xYubqee31DR7zTpIFu4W2srb0Zd8Z5B+Vum4c9a9yryH4mfEbUP+FY+ONPvLFvDmvaTbW9tvW+WSNPtp8qGaOYBcEEsTkAqVz71N428WXetfC/yNBh1KxtdW1TT9I0fVZJ2jmvklnRZZ0H31Tyw5VyQW5bAGCfzGpQr1pRnU6u35O/3Pp0P1+pmNOTl1aV/zXy1Vtetj1iuQvfBkl34k13UZ7yNoNTtnjtYNh/cyPAkLyN6nbEoHoC3rVa3+JFrPZ2fl6VM19eeJptASzEo3B4ZZFklJx9xYoml6dMDvms3RfizJqV9pksfhO8j0bVNdm0WDUnuk/eSo0wWRIurRkQklsjGSMHBNZU6GIhdxX5f10FUxGGnyqTv9/wDXU39F8KX9ho+mwLqv+mR6il9qVwqcXLoGKAKcjCsIgueipUureGhqHgpbSXUh/aP9kXduu21kHl3d3Oss0gYjAHBGc9CfWumor1sv4kxWEpTpSXOntfpv+HkeLmXCuDxtanWi3CUXduNrvbfz03OM1Lwfqc15f29tfWcWmajfWtzMrRMZvLiWFTADnAUiLg/7RGO9W4/Cspkhaa4hbOvSapc4Q/vAA4iQe64h5/2DXUUV4ft6lrXPofq9O97f1ucVqvg/UrnTZLWK5s0mnv7i8+3DzFntHeQ7HiKkZKxlVwSAcc5HFS3HhTVbnVNRS4vbI6fqmpRXlyVibzykQjCQ5zjB8pcn3YAc5rsKKf1ioL6tTOO0/wAK6zFq1s8+oWb2Vnql3qKRrE3mTvL5uzec4GzzcYHXaD7VW1bSbnw/4f8ADEds7T3GjOS5TT5rhJpGhdHcrECyks7MCeOSCRnNd1RR9YlfX+t/8xfV4Jaf1t/kjB+Gthe6f4Otk1MML64eW6utwAbzJZGkIIHAI3Yx2xW9RRWU5OUnJ9TaEVCKiugUUUVJQUUUUAFUPEkMk2mjyoWleO4hkATHmKFkUsyEkAOFDY98VfoYZXB70pRUk0+pM4qcXF9Te027t7/T4L60k8y3uYllifaRuVhkHB5HBHWpq5Xw3qUmiraaLqRRrMBbeyvQNuCAFSKUdAx4AYcMeMKSobqq/IMwwFXBV3SqK3bzR4TjKLtJahWfq2u6JpVxHBqms6fZSzf6qO5ukjZ/90MRn8K0K8l0/XEs9Lmjhn0iTxTqOrvDqmm6hAZLqcPceWiqodSIkiIIOGXaM+tGDwnt7+VtvO+r3stN/T1MalTkPU7e9tZ76azinR57dUaZAeUDZ25+uDU9eT6tq93a6rczQXdrp9prGuXEUt1cXv2NBFaRJAsKzbG2FpEc8DJCsARU+rXGtQ6dcR3Hii7kg0Tw3JqFxPZOAbl5XkaAb8ZO1YSARgtkE/eIPQ8ql7r5rJ/8M9v72nzXmR9YWun9f8MenzyxwwvNK4SONSzsTwoHJJqlqFtY+IPDzW7uZLK/hB3RnG+NsHr6Efoa8v8AHWq393Z6roeo6/dW2qRW9np1pZ2zKrXMlwkYkndcHchaUpn7q7DjDEVbutZmn8SJp1pr15a3yeIY9Og0y2cBILOMgu0iYJ+dEdgx/vKBwDVwyqooxmpa79drJ32899lZkzrQleMldPQ7zVLPTdfuNsd7NHdaRclfNtZNrwSNGCVOQQcpIvBB6jvUmk+HtN066t7i1SQPbQSxIXkLZ811eRmJ5LMygkmvNDrN7HJbgalaaZZ63c6hqUs91qJshPicRQosoRjkRBWKjBPHOAQfU/DsF5a6DZ22oXv266it0We52bfOcKMvgdMnmscXQq4amlz6O6t96f43+/1FThRqTc+XXv8Adb8l93kjFuNLg0O3a1sLvUCLrzBBbfatqW4Y72dTtJGCeM7sFgOAazotMjTy5Zre5a4jvvtrXUN8Gnll8sxZIZFXHlnbjjA6c1qXEhudWuLk/dRjBEPQKSGP1LbvwC0tfX5bk9KeEjOvdzlq3drfp/nfqfGY/MJxxLjRsoR0Ssnt11/C2y2NKOCx1W5sdXBdms/M8kZxtZhtbcP7w5Htk1U8SeF9O1u5knupryIz2ptJxbzmMTRZJCtj0LH8yDkcUzw+zLr0kUJ/dvAXuFHQOCoQn0JG4e4Uelb1fI5hRngMW6UJ7bej1/r7z6rA1KWPwqnUhvv5taX/AK9DLPh/T/s2oQKJEXUrdbeYq+CqLGUAX0wCfxNS6Po9lpdxcy2SNGLso0kYb5NyqF3AdiVCg+u0Vforz3WqNNN6P+v0R3LD0k1JRV1/wf8ANhRRRWZsFFFFABRRRQAUUUUAFFFFAGR4p1eXTbvSLW3jjkl1PUFtsPn5UEbyO3HosZ/EiqNn460G5uFRDeLHJby3UM8lo6xTwxjLyI5GGUZHPfcCOCDT9c8OXmseIPtd9qMS2dvbTRWUEFuVkjeWMIzu5YhiBv24Vfv85xWKPAOqXGmy22o6/A5/sJtGtxb2RjSGJiodwC5JZlRQeQBgY6c+pRp4F04+0nZ9bX638tbaduu5hJ1bvlRdb4k+G1hkl2aniOzF9j+z5ctbHOZhx9wbTk/TGcjN3WvGuiaZdSQzG8mEAj8+W3tXkjhMmPLV2AwGbK4H+0M4BFQ694QGpf24BerENYsYLBQIc+RAhfco553ea/pjI64qreeC7+fVLnGtQppd1rMGqy2wtCZZGj8r900m/GzMKnhc9BnA5qMMuk022l6/4f7v+L5rsJusun9a+foX5PFdpb3t5HLI1ztvvsdpbWlq7TvIsSvIOuGA3H5hgDGCc03VPHOiWG4zx6iRHHG9wUsJD9mMmPLSTj5HbI+U8jIzgEVTj8HanZ6haalpmsWq3sM1+0z3Nk0kcgupllOFEikMmxFBzyAaS98F6jcandD+3Il0281e31SeD7HmWV4hF+7aTfjYfJU8LntnAwSNPL3Jc09Pn0dv5eq1XnuHNWtov6+87KiiivJOgKKKKACiiigAooooAKKKKACiiigCp8Nfl0/U4f8Annq91/48+/8A9nro65v4enF74ji/556x/wChWtu//s1dJX9CZW+bL6D7wh/6Sj4fE6V5+r/MKKKK7jE4D9p3Tv7U+C+rWq2V9dyZieKOxh82QOJFIO3uo7+gya8i0fxJ8Cda0yCy8ZeDT4d1OKMJOYLaSNAwGNwMR3c9fmX8+tfQHxFtfE954Tnh8H6ja2Gr7kMM9ygaPAYFgQVbqMjp/jXjfjfxZ8UfDNnH/wALD8A+HPEGmM4i+1BV2ZJwN7ElUBOOWQCu3Du8OXz72ZEtz3DwnHp0PhbTYdIfzNPjsols3yTuhCAIcnk/LitCqfh0g+H7AiwWwBtY/wDQ1xi2+Ufuxjj5enHpVyuN7lhXkXi7/kaL/wD6+H/nXrteReLv+Rov/wDr4f8AnXBj/gRyYv4Udv8ACn/kV2/6+G/ktdNXM/Cn/kV2/wCvhv5LXTV0Yf8AhRN6P8NBRRRWxoFFFFABRRRQAUUUUAFFFFABRRRQAUUUUAFFFFABRRWb4xi1ufwnqUPhq5tbXWJLSRdPnu0LQxTFTsZwOSoOM9foelNasDSrmPjHrHgvQfhzqWp/EAWLaBDF/pUV7CsqTeiCNgd7E8BcZJr88vH2uftMfBLxnNLr/iXxJYTXlw0ounujdWF65OSybt0THvtIBA6gVxnxu+M/xA+LH9np4y1dbiHTUxDb28QhiLnrKyLwXI4z2HAAyc+vTymUpRkppx7oydTyMD4qat4d1zx9qWqeE/DieH9GuJibPTlmaTyk9SWJ5PUgcDOBwK5+vtr9g/8AZf8Asv2P4k/EnTv3/wAs2jaNcJ/qu6zzqf4uhVD06nnAHhP7dHwz/wCFafHrUILK38vRtczqWmbRhUV2O+Iemx9wA/ulPWvWpYulKq6MXsjJxdrn3x+x7r//AAkv7MfgvUy+910mO0kbuWgJgJPvmI16VXzL/wAErNf/ALR/Z+1DRJHzJoutSqi+kUqJIv8A4+Za+mq+ZxUOSvOPmdEXeKCiiiucoy7yMrfTSXa3zRMR5MltK+IxtAwUQ5J3ZOcHr7U63uZoofOjm/tG0zgyxgGWP1yqjDY9gCPQ1pVUvLMtL9qtGWG6UcPjiQf3XHcfqO1e9hsxwtWnHD4ukrLTmWjXn/n+TPLrYSvCbrUKjv2ezLMMkc0KyxOrxuMqynII9jTqy9PnRbtHRDFDfFt0Z/5ZXC53L+OGPHGVJ/irUrz8wwUsHXdNu63T7o68JiViKSnaz6rsyjq21Li0uJl3W8MuZB2UnhXPqAT+Gc9q0qzbnOo3D2Uf/HvGQLp/73fyh+m4+hx1PGlX2eQ06sMDFVFbVtej7/1sfMZzOnLFPkd319Qooor2TySG+uorSEPJuJY7URRlpG9FHc//AKzxVfT4ZfOkvLpVE82AFByIkHRQfzJ9z6AU1QJPEUxfloLeMRg/whi24j67QP8AgNXK+O4gzKbqPCR0Stfz6/cfUZPgYRgsQ9W9vIKKKK+WPeCiiigAooooAKRmCrliAPU1574fu7vVv2m/EYW6m+weHfD1jZeR5h8s3NxLLM7bem4RxwDPXDe9ec/EzV7nxFZ3UGiaHHPf+IfiZbaRHC17KI76HTcSu77iwiQPaSq3lr90ZwzHneNByla/b8f+ATzHu+oXKPqg0+S9S1TYrMfMCySliwCKT0+6ckc8jGKnk0izEe61jW3uF5WdB8+f9o9WHqD1rxjxF8YtV0rR9a0LxBYaQ3iK38Rx6BayWjS/Y5hJbR3TTNw0irHE7bwAxyABjdxeb4seOIfCUMw8LWd9qmo+KoNE0WQx3FjbapG8XmvOqTDzY0QLMCxDA+WWG4cV9rkrpfVOX2duj683nt+B8zmtOt9YUlP06WPXNNuGuLfMihJo2KTIP4XHXHseCPUEGjVrODUdLuNPuTMIbqJopPJneF9rDB2uhDIcHgqQR1BFeRx6h8Vp/wBoiy0gXXhvytN8PLe61bWv2hYbjzrny0I3H/WKkEuzPHJz2xa8A/FvVvFUfgmxsNDhfV9ctrm71yEF1j02KAtC5DHrm52oDzwH4JGK8DG5NXhiGqEbxb08vL5d2evhcfTnRTqSSaWv9eZ3Xgzw/Y6T4fj0rw/H/ZekQM/kRwkvJKS5Z5GkfcSWYsdxyxzuLZPHy3/wVusp4PBngl7ZLVLCO8uIpAYx52/YhTDHnbgSZHrgnPGPsDS7c2mnw27PvMa4JAwM+w7D0HpXxn/wV61P5fA2jgJyb25Y7juH+pUZHp97n2NfWvC0sNhnGmrbXfV+r6ngYbEVcRjYuTvv8tD4pr6t/wCCTOm6bc/GLxDqU/mfb7HRwLUB8LseQCQkdzwmPTJ9sfKVfUP/AASbnKftDa1AW+WbwxMcepFzbY/QmuXD/wAWJ7OPv9Wn6H6E0UUV7R8gFFFBOOTQAUVhzahd3x32k32a1P8Aq3VQZJR/e+YEBT24JIweOlNW9vrHM0k73cC8yI6rvUeqlQM/Q9exHfmeMoKp7Pm1PoI8MZnLC/WVDS17X1t6fpv5FT41eEbjx38M9S8KW2qx6W+o+UDdSWv2hVVJUdlaMOm4MEKn5hw1crrnwo1/xHHrV/4m8bw3Wt3/AIeutC0+5s9H+zW2mw3GPNkWEzOzyNtTkyYAUYA5r1JWDKGUgqwyCO4riP2lfEF94Y+BHifV9Kklj1JbBreweEEyLczEQwlAOSwkkTGO+K2nGOrZ4tKdS6hF9fzMn41eC559N8K3PhnV4dJ1Dw3JJb2H2izNzbyQyW7QyI6K6N/qxwysCCPeuFuPhbeLbWup2niVP+Eoh1w61NqdzYeZBcTGBrfyzAHUrEIWCKA+V2g5JznDs/GC6F428R3MOseL7jSfC3hNr2907xXLMtxcXO4sJYFmBdU2RshPTc4AHFbE3izW9TbwpB4h8PyaG+uaotxbw22tOssNvDbvcO1ztjUYyiq0WSCH5PBB/O+JsVXq4xQp6Rgtdt7Xe++lrrbQ/XOD8FQoZdz1dZzd1vtey221vZ76liT4W/boxPretrqF/e67batq8xsgsV2tupEVskW8+XGpCEZLk4bOS2RNoPw2k0608OabJr73Ol+F9YmvrC2ktvnEJiljgt2feciLzjhschVGBjJ5TxV4z8S+MNN8Lw2ugx2Hh/xbr9oljerqR+2S20Un2lneHywESWKByMOxAI3Abq2T8U9bn/svVdP8JW1x4e1vW49J068fVNlxNulKG4MPlECLCSMvzliFBIAbI+clDGctrr0006ffurbqx9XGeC5m7Ppr72uqf3bO+zuN+FPgu7fxr4i8dXyXVl/aF9ctoNheRYaxWRY0luGTgh5WhVgp5CccFmFbPh/4cxaXpvgaw/tUzQ+DFZyrW+Pt07W7w+afm+Q5kkbHzct14zWFb/GiDUfGkelaDY6bqVr/AGyNKdItWB1EkP5clwtqsbYgQhiWd1yqlgMYz6tWOIqYmD9/S628rW/Jv5u+5vhaeFqR9zWz313un+aXySWwUUUVwnoBRRRQAUUUUAFFFFABRRRQBwPxO1vULbXri3s5tXjh07R2u5TpsSMRI7kRmQsDhQIpDjHetFfFs1noV9JPDHfTaVYWjPNFLsS7uJV+4o2/KCTGQef9Z045v6t4S0zUtUury5nvgL6NIrqCK6ZI50UEBWC4OMM2RnnJ9abe+DdGutUa9k+0qHuILlrdJysJlh2hGKDg4CKMdMDpnmuv2lBxSa2/4H/BOP2ddSlJPf8A4P8AwCnqHjCSC616I2ttDHoltJM/m3JFw4WMMJFi2YMZJ27t3UdO1Z/h/wAT6tpGiw6drWls1zY2mmmWVr0ySOLiXyS0pK/K4Ks5UFgem6t268I6ZdyXD3099dtcQtBme4LeVEzq7IvsSi5zk4AGan1jw1pmpRaklyJv+JskaXDJIVYCP7m0j7uCSfqaSnQta3b9P+CDhXve/f8AX/gGVpfjqHUL1rW1sGZzq32KHdLjzYRGJGuenCbd2PX5eRu4i8M+JtR1G0t49I037ZLNbLqFwb2+2CGKZ3MSKyxncSqkgYAAAyec1rWvhLRLa/uLy3t2iluLJbLKucRRBQuEH8Jwq5P+yvpS2/hbTbbUoLy0lvLYwwQwNFDcFY5kiz5YcDrjJ+o4ORQ5ULOyGo4i6u/6+4xPBuuPrfiLXtNFu1/b/wBoypcmeT9zbQqohWNEIO/e0UjEDC8sSc8HqtM8/TfEWnWen3V00Vy7+dZvIZY1iVDl13ZMYVjGAFIX5gMcgipovhvS9KvIrqySRJY4HgZt+fNVpDJ8/qQxYg9tzetXruC4+2Q39hcLBeW6sis6b43RsbkdcjIJVTkEEFRzjIPm5tQhisPOnCKbaaV+9rX8n2InQnKi1JXl/X9f8A62j3rN8Nar/alpIZYPs91bSeVcw79wR8BhtbA3KVZSDgcHkAggaVfj1ajUo1JU6itJbnmhgHqKKKKyAKKKjvLiC0s5bq6mSGGFC8kjnCooGSSfSmk27ICTHtWbrGvaXpswt7i53XJXcLaBGlmI9digkL/tHA96w7q81HW2LtLcadp5/wBXBGTFcTDs0jj5oweoRcMP4jyUD7CztbKExWkEcKs25to5du7MepJ7k8mvscv4TnNKeLlyrst/m9l9zOqlhJzV3ojS0tdH1xZbs6ftlSXy7mGdBuVwAcOASrHaVIPPBHNWW0TSj92zSP08olMfTaRj8K5u11iPQ9avt8byQ3U+nKVUj5ZbiVrfec9sJF+VaA8baQNY8QWMnmRp4ctknupyPkcMHJCepXZg+5x1FeXmGFxeFxU6VCUuWNravbS3/pSR5tbDYaNSUZQV79UjesrWC0g8m2iWNM5IHUnuSepPueamrH0zxLpNzcW1hcXtra6rcQq7abJcp9oiJXdsKg53Afyz0qxZ67ol1q8ulWur2U19DnzLaO4VpExwcqDnjIz6ZFePOlW5m5J33/4P/BNYuCSUdEaFFcpqnj7RIbxodOurTUkt7G7vLx7e6Vvs6QKpO4DPUuB279cVo6H4o0bUNBbUm1PT4xaxK1+Fu0dbNiuSrtxjHIycdKuWDxEYKbg7MFUg3ZM2qKzdL8QaFqXljT9ZsboyuY0ENwrlmC7ioweoUE49BTb7xJ4esreOe71zT4I5XeON5LlFVmRtrgEn+FgQfQ9az9hV5uXld/QfNG17mpRWddeINCttUj0241ixivJZBGlu9yokZyAQoXOckMuPqPWtGolCUUm1a4009goooqRhRRRQAUUUUAFFFFABRRRQAUUUUAFFYt94jih8QNo9rpmoahNCsb3T2qx7LVZCQpcu6k52k4UMQBnHSrWh65pOsS3Uem30Vw1lMYZwjZ2sAD+I569Mg+layoVYx5nHTf79r9r9L7k80W7XNCiqHibV7TQtEn1S9EjRwgYjiXdJKxIVUQd2ZiAB6mqS+KLGS30G4gSR4tfXzIWOF8qLyGm3t7YUDjuwpxoVZx5ox01/BXf4A5xTs2blFZXhPX7LXtBt9SgdIzNbxzyQGVWeBXXcocD7pwe9W7fU9NuIfOg1C1lj+X50mVl+Ziq8g92BA9SMVMqVSEnGS1QKSaumWqKqHVdMGn/bzqVoLXO3z/PXy85xjdnHWrSsGUMpDKwyCDwRUuMluiroWiiipAKKKKAKXw//AOQt4o/7DKf+kNpXS1zXgHjWvE6dzq0b/gbK2H/sprpa/f8AJZXyzDf4I/8ApKPicZpiKnq/zCiiivTOc5z4r6THrPge7tJfEU3h9EKzNqUMvlmAIwbJbIwOOeRXiI8P+MfFmn3HhbQfjfoviGxul23Fvdv/AKQyAg5Aw7noOjfjXpP7V2n32o/Bm+WyhlnW3nhuLqGI/NJCj5cD6cN/wHNeVfEE/BCb4et4h8E366P4gsVSWxSCWVLjzAR8jIxOe/zD0zkjr3Ye/Ird+17ES3Po/wAL6cdI8M6dpLTtcGxtIrczMMGTYgXcfrjNXqzvB93dah4S0u/vk2XV1YwzTrjG12QFhjtyTWjXFK93csK8i8Xf8jRf/wDXw/8AOvXa8i8Xf8jRf/8AXw/864Mf8COTF/Cjt/hT/wAiu3/Xw38lrpq5n4U/8iu3/Xw38lrpq6MP/Cib0f4aCiiitjQKKKKACiiigAooooAKKKKACiiigAooooAKKKKACiiigCj4j0bSfEGiz6RrmmWuo2Fyu2a2uoVkjkHurcV+Y/7anwnb4R/Gi4tNMheLQdVBvdGcEny0J+aHcecxtx1ztKE9a/UavOf2mPg7oPxn8E2+g6xdS2E9ldrcWl/BGHkh7OoB6hlyCPUKeduK7sBivYVfefuvciceZG18CfFQ8b/Bzw14r3hpNU0yGW4x2m27ZR+EgcfhXmX/AAUN+Gf/AAn/AMB7nU7C38zWPCpbULXaMtJCB+/jH1QBsdzGo71698OfCeieBvBGneE/DlqbbTNLh8uCNmLMckszMT1ZmZmJ9Sa2nVXUqyhlYYIIyCKwjV9nW9pDo9B2urM+Ff8Agkjr/wBn8feLfDDPxf6bDfIp9YZChx+FwPy9q+5Ib20munt4riNpY/vIG5GOv5V5B8Ff2cvCXwu8Ua/4k8PXE02o6tK62nnfIthas4c20e3nnAXzOoAGAOc+tWqWF/Yi1+ziL7OQDD917du2COnsR17GvfoZfh8zqVKkalnppb8X5dP6V/MxmOng+X3Lp9f66lyiqLS3Gn8XjedbDpc4AaP/AK6AcY/2hx6gYzV4EEZFeLjMDXwdTkqr0fR+h24bFUsRDmpsKKKq6lcPEqwW4DXU+ViU9B6sf9kZyfwHUisKNGdapGnBXbNalSNODnJ2SKssC3Gq3FpEzGOVBJMy/wDLCYbdjA/3iADj/ZB78vaa/niFl5MkNyx2yzhT5aL3dCeCSOg5IJ56VfsLaO0tVhjJbqWdvvOx5LH3Jqav0NZXRlRpQre86ez/AE9PLy9b/GyzKrGrUlS0Uv6v6kdrBFbW6wQIEjQYVRUlFFekecFFFV9VuGtbFpI1DSsQkSnoXY4XPtk8+2aG0ldjim2ktyroMaRwTLtHmLcSCR8cyHccEnuduKvVDYW/2aEqZGkdmLyOwxuY9TgdKmr8vx1WNXFVKkNm20ff4aEoUYRlukgooorlNgooooAKKKKAPO7fwPZaf8TNU8U2PjvxVYNq2ow3Wo2KJa/YZ5I444ljLvbFwpSNVwJQeTgg0y4+DmlLp2gw6X4n8Q6XdeG7m+u7G+tpYGlae7kZ5ZJFkiZHPzyKAVxiRuCcEdzcxyWs8lzDH58M3/HxABknjG5fU4ABXuBxzwzLZHt41m0xRc2UgysCsA0f+5njH+ycY5x6V9HHLlicLGtg53kkuaLtva3l8r7rrfQ8mWPlQruniI2i9mcDpHwe0d9E068ste1qx1qz1ObVbfW45IZLxp5VdJXl8yNo3MiOVZdgAAVVACCuqj8EQS6h4b1DVtd1bVrzwzPcXFvcXZhU3Es0bxFpVjjRflSRwoQKBnnNdBo8Elvp6Ry7RJlmYKchSzFsA98Zx+FWa+zp0owiopWsfLVq85zbbvucnP4QXT/iNqPj/TtQ1Z7q806O3u9Hha38i/8AIEph5kTcjAzPjEiqSQW6Vifs6fDo+CdF1HVdUhVNe8R3k19fRLN5senpJNLMtnE3/PONppORwzu7dxj0eiq5Ve5HtZcrj/WgV8H/APBV6G51L4s+GrXT7O8upLXRWabybcuib5m2jcM/N8pyMDjHXPH3hRU1qftIctzTC4j2FVVLXPxk/sTWvM8v+yL/AH4zt+zPnH0xX1Z/wSg0e7tfix4lur/SZoWTRVWKee3KlczLlVYjvgZx6Cvu/HOcUVz08IoTUrndiM1dak6fJa/mFFFFdh5IVj+ILn7TI2mQn5cD7U4PRT/B9WHX0B9xVrxFcy2mlPLEwRiyp5h6R7mA3fhn/Hisnda2NuoaRUUngs2Wdjz9WY/ma4sbiJUoqMF70tv67n1nC+TU8bVeJrtezhuu78/Lv327ljpwKg1F3W2McR/fTHy4R6ueB+XU+wNSw2+oXn+riNpEessw+fH+yn/xWMehrT0/TbSzfzI4y0xGDNIxZyPTJ6D2GB7VwYXLZuSnV0Xbr/wD6jOOL8LQhKlhXzza3Wy+fX5aeZYtokgt44IxhI0CqPYDArh/j9oqeJfCdto8Osvp97BqVrqNv5cCzb3glEqB0bjZvRSSf7uOeldTr2sW+mqIypmuXXMcK9x6sf4R7+xwDXJSPLNcS3M7Bppm3OQMD0AHsAAKzz7PKWX0nFWlUey7eb8vz+8+Z4X4arZpXVWd40Y7vu+y/V62POtQ+Fa6vY6y/iDxNe6pquuQQ2t1fSQRxhLZJvNaGONAAocl9xJJO7rwBXR+I/CVprfi2x1q9uZCljp13ZR2yjAP2jyw8m7rkLGVH+8a6GivyqpjK9WbnOV27/joz9spYLD0oKnCNoq34ar7jznwf8LptG1Xw3e6j4rvtWj8I2clppVo1tHDGkbRCFS2370gTKlieewXnPIfC/wV4gbxZ4RtZ4vEUPh3wb9omgg1i3toFjYxNFDGBE7meRRIx8w4UBBjljn3WirWOq2lfW+m22/+bM3l9G8bXVnfffbe/wDhX3HHfD3wXqfhJ0sLTxRJPoVvNNJb6fJYxiRRI7PtabqwVnJHAPAyT37GiiuapUlUlzS3OqnTjTjyx2Ciiq+q3cdhpdzfTf6u1heV/ooJP8qhK7saN2VyxRXknh7VNS8Ova6hqtvqSTp4fkvJoX1Bp11KYvEB8pYiLazgDjJ3/wCzg9LH4j8UxRiK7sLUTX11Ba6dK9s8C+YwkaXdGzlmVETIPybjxgda6p4WS2ehywxcZbqzO2oryq8Gt6vNdWxv9PabVvEKadIyWztDLBbReYw2+YCFLJKrLuOckZ5zW7oviLUI49Fnhg0yDRdSupLS2tIoGWWKFI5GEu7dtC4izs28Bh82aUsM0tH/AF/V/uCOKTeq0/4P/DfedxRXD6P4j8UX+n6QzJpdvc+IEM9qrQSMtpAqF2eT5x5jENEAo24LHJOKm+GepyvprXV3DNcT61qE85ntbd2twofykO7napSJSMnoRUyw8opt/wBf1ZlRxEZNJLf/AIH+aOyorzO8ur7QLTxB9qe4HiO2s57u2u3upJre7ieQhNsW8KjA7U2kfKcEbhnO3L4g1LQLa9tdVubW7Oi6GLy6uViaPzJCzrGuC7dRE2eckkYx0pvDvo7/ANf8EUcSvtK39f8AAZ2NFccfFOrpqTaLLbWn9qSTWawRqrbdkke6Z2G7OE8ufHPZR1PNN/Ht7HpX2n7DDNLZwXDahHGG+WVZ2t4Yl5OC8it1zgIfUUlh6j2G8VTW53tFcVJr/jC30W8vLjTImWKWERzrYSKUjOfNc2/mGRwmFxgqWyeBjmDXPGGrxaTfX2l3GlTw6Tp8NzNPJBJtvpJVLJHEA+Y8jZyS3LgY701h5t6f1/VweJgldp/1/wAMd5RXE6p4m8RQ6hd/Z4dN+y6fqFlYPujdnuZZjF5ioQwCbRMDkhuhGOM1oeArjWr3VNbvL6/t5rH+0Zbe0hS3ZTGItsZwxcjG5XyMdcnIHyiXRko8zZUa8ZS5UjpqKKKxNhnh9/I8bTRHn7fp4Zcfw+RJg5+v2hf++a6euPuJ5dK1RdajjM0KQmK8iVcv5Wc709SvJKj7wJ6kKK66GSOaFZYnWSORQyOpyGB5BBHUV+b8VYecMd7Xl92SWvdpJP8Ar5njYmLjVlpuOoqGG8tJrqa1huoZJ7fHnRJIC8WRkbgORntmqviDWLTSLdWmbzLibi2tUI824bjhAfqMnoo5JAGa+ep0alSoqcItyeyMLj9d1S10m0Wa53s0jbIIYhuknfGQqDucAnJwAASSACRzlwt/q1zHcax5aQwsHgsIiWRGByGkY/6xhgEcAKexIDUtrBdTXx1PVJEkvXTYqx58u2QkExx55OSBuY8sQOAAqrbr9HybIKWCiqtVXq/gvTz8/u8/Rw+ES96pv2CiiivojvOd8bafqGoXEdvpSQtePB5kCzPtSSWG5tp0Vj24jk/WpYfAl/H4i0pGmhl01bRDq8jN+8u50mecfLjo00hc+wI71o6g4g1TSb1j8lvqCB/fzUeBf/HpV/Kuwr4XibE1sPioqG0lf57fgkmjw8ZQi8Q5PrY4DS/C+vulrpl3Da28Nlq8+pyags2+S7kZpWjITAKn94u7J4CbRkHIpR+DvEt34Rs9KaG00ybR9GubW2mjuTIbm7lh8sykhQVXlmJOWLNnHHPplFfO/wBqVk7pLv8APW/Xrd/pY5fYRPOdQ8J65q8d+J9NsdPgn0u00q1torjeYrfzibgMwUf8s8YA44q1r/hbVX1a61Cys7WWFdTsXisvNEazWtvGcL0wpErswB4wgrvKKn+0qyeyt218vO/2VrvuHsI/18/8zzybwt4p/s3+0bYafBr0niGXUCRIWhiR4GthzgF9sZU4wNxXtmkbwJLba99mFpNfaPLptvYcaiYCI1LmUSgDL7y+44PzEkGvRKKf9qV+lv626306erD2EDiW8JXjzzzNBbrJfeJIb65YNyLa32+SoOP+mMfy9tze9dtRRXLWxE61ubp/X5JL5GkYKOwUUUVgUFFFFABRRRQAUUUUAFFFFABRRRQBxmr2OrXvj6yv9P0O702e2uQl3qZuovIvLNdx8sxq5Zyc8bkG0kkH1l+G9lqGj6YtrP4ca3uLrUrp7ycSQhQrPJKsg2sSy/MqAYDDuABXXUV2SxspUvZOKtp36X8/PbbyM1SSlzXOW8VaRrut+LLNoLmKw0/SQLiGSWETi5uGDLnZuGBGucE9S+QPlBrl4fC/iuLwjb2C2Sm50vw/fafZnzo1DTSyCOJvvcARRhvYPjrxXqNFaUsxq04qKSsvL1/O7v8AhYmVGMm3f+v6R5bdeEtRk0+aXTvDD6daRWtlYf2Z50Hn3sCXCyXG5lcp8yAqNzZbL5xmrEXhC/1K+unvvD1vY2mqa9bzXNqrxECzt4NyeYFOGZpgAVGevcDNelUVp/a1ezslf5+Xn3Sd3rcX1eB5nqnhrWY9MkOn6JMupHWLu/sTG1sbWEsTFGJ0duUaLBOwFhk4weD6VEqpGqKqqqgAKowAPQCnUVy4jFzrpKSWl/x/RdC4U1C9gooorlNAooooAo+Dzs8aeIIf762s/wD30jp/7Srpq5fwz/yUjWv+wTp//o28rqK/eeHpc2U4d/3UfGY5WxM/UKKKK9k5DzH4c6/qmqftBeNNL1LV5lt9LjgjsdLJAjKEDdKB1z93n/pp9Ki+Nfhrwb4U8NXPji38CaLfXNhPHJPFJH5ayKzhSQB8u7LA8g96tfGL4VHxRrkHinw3rM2g+JLVAq3cRIWdR0D7eQccZGeOCDxjitZ+HPxx8WwJ4e8W+MNNbRTIpuHhC7pApyOFjUueAQGIGQD2rshyNqSlZaXRGvY920m8h1DSrXULbPk3UKTR5H8LKCP0NWKg0uzg0/TLawtlKw2sKQxAnoqgAfoKnrjZYV5F4u/5Gi//AOvh/wCdeu15F4u/5Gi//wCvh/51w4/4EcmL+FHb/Cn/AJFdv+vhv5LXTVzPwp/5Fdv+vhv5LXTV0Yf+FE3o/wANBRRRWxoFFFFABRRRQAUUUUAFFFFADZpEihaWVgqIpZmJ4AHUmvl/w5428ZwfDbXtN1PX9SbUvH1lZ6x4XuHnbzrRNRu1tDDC3VBD5tu6gfd83jGK+l9e0+HVtDvdKuJJY4b62kt5Hhba6q6lSVPY4PBrmtb+GPhPVbzwjc3VpMJPBLq2keXLtChVRQrj+Jcxxtj+8intXRRqQhfmX9Ilps5Nfi7quo/ECTRfC/h5dSsLHXl0a4JW4a4k2yCO4uQ6xmGOOE7/APWPlzGwGCVyzTfjcJtb8LaXc6RFHJq+qajZ6vKJ/wB3pSW811DEzEjrLJaPjPZH9BXZ+FvAVl4e8RXGo6XretxWdze3F82kG5Q2azzszSuF2b8F3Z9u/aGOQBWJqXwP8CX+l6xYXMF80Wva4dZviLsqzylnYxBgMrCTLNlB/wA9X5+aq5sPs1/X9ah7xl6P8VPE/iK3s4/D3h/S4rm40uXXZn1W8khht9NaeRLQsVRm8ydI2fphArZ3cAr4V+J/jDxTdeFbHRPC2mx3Wu+G01+/a8vXWPToJJFEK/KhLu678DA5UnOAQeh8efCrw74q1S5vbm91fTxfaSNJvrfTbv7PFd2ql2RHAXPymWTG0jIYq25eK2fDfg3RtC1a41LThPHNcaZaaYMuCIre28zylQY45mcn1OPSk50baLX+v6+QWZ5r+zT40vvE+veIItJtftFq3iK/u9WvbqYr9nRnMdpDBH1ctBFDIW4QBsAs2QvYNqN/fftJrpMN7cLp+ieFjcXVskpEUk91chYmdRwzKlpNjPTecdaueBfhx4c8IX1hd6Gt1BJY6LFozAzZW6hibdG8wx88ikvh+P8AWOO4w28+HllL8Q7rxjbeIfEFheX32YXdvaXaLb3CwZ2IylCdvzPkAj7x9aJTpuba0Vg1seaeOfEOra5q1vb+HbKae+1P4jrZwwTapKLeWHTIi8khzkQxiaAh1Rfmx0ZjitSb42ahb2VtpF1pOnx+I5tZ1DTXZHnlskjs2USXA8uNpWBMkSBNud7EbgATXU3Xwk0BodI+w6vr2m3Ghy301ndWV4qSiS8l82d3yhVyTuA3AgBzxnBEjfCjw/b22jDRdR1jRLrRIriKC+sbpTcTJcOsk4maVXEhkkRXJYZ3DIIq/aUWkmv6/qwWZgWPxI8eapceGdE03wZZ2+u63p99fXqalcTQQ2EME8cUUrKY/MxMH3KhUMMgNjDEZ2h/ELx5Yw+KvFWtw6Td+H7XxdFpFtFDK4ktYRdW9lM6/INyqxmkO453AjhQK9P0vwtp9l4q/wCEiE13cX/9lQ6X5lxNv/cxu77umS7M+WbvtX0rjPGXwulPw21jwZ4avrr7L4m1J5bp766yukxzTtPPJbgKGL72YqGJ+ZlJOFxUxnSbtb+r6hqdT8P/ABPN4n1DxBJFaRx6XpmqPp1jdByTeNEqid8dAqzGSMYzkxtW5fWpldbiCTybmMfJJjII/usO6n/64wag8KaJpvhvw3ZaFpFuLex0+FYYI8kkKO5J5ZjySTySSTya0KinXnRqqpRdmtv6/MmpTjUg4TV0yHT7tblXjkTyriLiWEnO30IPdT2P8iCBVkX+yW3p/wAg9vvr/wA+x9R/seo/h69M4sX1qJ2SVHMNxFny5VHI9QR3U9x/IgEMjv2idYNSjWFmO1Zl5ikPpn+En0PrgE19phsdhc1oewraSfTz7x/q/qj5mthMRl9X2tHWP9aMnuriK3t2nlbCL6DJJPAAA6knAAHWo9Lgl8yS9uk2zTAAJnPlIOi/Xkk+5xyAKS20u2guVlRpCkWfJhZsxwk9So6jjjrwMgYyau1tleTwwTlOT5pPr2X+ff7vXHMMzeKShFWj+oUUUV7J5IUUUUAMnljghaWaRY40GWZjgAe5qjaq95eC+mjdI4+LWNxgjI5kI7E5wM8gemSKf4iBGlvMBkW7pOy/3gjBiPrgce+KtA5GRXzfEWMq0aUaUFZTvd+nT/M97JMNTqTdWW8en6hRRRXxJ9QFFFFABRRRQAUUUUAFUL1f7PkbUIDtjLA3UWflcdC4HZh146gYPOCL9UbxFm1y0iceYiRvI0ZPyggptYjoSDnGfqOletkntfr0FTla+/mlq1+H6nBmXs/qs3NX/wAzSooor9EPiAooooAKKKKACiiigAooooAGAZSrDIPUGq9rYWNtIZLayt4XPVo4lUn8QKsUU7sArnda8RsJmt9LET7Dh7hxuTPooBG4++cD35xD4y1GSa7bS4ZCsMaj7SVPLk8hM9hjBPrkDpkHjdC8U6Dqt5HZWFzIZJEZ4RJaSwrMqkBjGzqFcDI+6T1r47iDiOeFlLDYVXmt3uo/8H8F67fofCvCNPFwjjMc/cfwx2cvN+Xkt/TfsNUn0ybTbPUdRtEn1G4tkKW6yMquOoLrnG3kn5s9ccmseFNiY+UZYnCjCrkk4UdgM4A9KSGKKIERRIgPUKoFV7HUba71G9soSxk090jnyvAZkDgA9/lZT+Ir5LPM8lmbUYQ5YLXzb2u3+H9afd8PcOwyiLcqjlN6dbJb2Su/Ut0VnLr2lNpcWordZtp7kWsb+W3zymXygoGM/f4z075xzWjXz7i1uj6VST2YUVHeTxWtnLczttihjaR29FAyT+Qpmm3Ud9ptvexK6x3MSyoHGGAYAjI7HmiztcLq9ieiiikMKh1G0t7/AE+exu4hLb3MbRTRt0dGGCD9QTU1FGwbmPa+FfD0Fnc2yaXC0d5H5U/mZdpE7KWYk4GeBng06TwzokmljT5LRpIFmE6755GcSAYDBy24HHHXpxWtRV+0n3ZHs4fyowNP8L29lrlrc2xt7ew09ZjaWUEBXZJKQXdm3HP8QAAGNx68VYs/C+gWs00sGmxo06OjfMxCq5y4QE4QMeu3Ga16KbqzfUSpU10M3UvD+jahbWtvd2EckdkMW65I2Lt2leDypHBB4I61Pb6ZYQaMNJhtI1sVhMIgA+XYRgrj0wat0VPPK1rlckb3sY1v4U8PQ2N1aJpsZjvUCXG92d5FH3QXYlsA9BnjtSah4T8O30iPeaZHO0cCQDzGZtyKSVDc/NgkkE5Iyeea2qKftZ3vzMn2VO1uVfcZFhoUMXiy88RXLpPeXEK20DCLb9ngUltg5OSWLEnvwMDFSL4e0QWV9aDTLfydTlaa8Tb/AK52OSze+efbtWnRR7SXf+kP2cF0/pmPJ4Y0SSxWzktZGiV2f5rqUsSQAdzbtzAgAYJxxSXnhTw7dXi3M+k27SKsagYIXEf3PlBxlegOMgcdK2aKPaT/AJmL2VP+VFH+x9N/59I+bv7YevM39/69Pyp2laXYabJcPY24hN3M00wDEhnYkk4JwMkknGOSTVyilzSta5XLG97BRRRUlBVGG0vrKNoNI1WSzt5AQYDEsqxZ6mLd9w+gO5B/cq9RWVahSrR5asVJeauZ1KUKitJGfDppsmt5dJn+yTWyPGHZPNEiuQX3gnLEsobdnO4ZJOSDPZWYhuJbqaeS6u58ebczbd7AfdUbQAqjJwoAGSTySSbNFNUaSqOryrmta9tbdriVGmpcyWoUUUVoahRRRQBV1q1e90i5tY3EcksTLG5GQj4+VvwOD+Fbfh3WYtTEkLwva3tuqm4tpOSmc4ZW6OpwcMPTBAIIGdUFq4t/GemTP92eGe0X/fYJKPwxA/5ivA4iy+GKwcqn2oJtfrf5I4cbSTj7Tqjq6K5rUNT1nUvFV1oegz2lmmmwxveXlxbmY+ZJkpEiBl5CjcWJ6MoA5yKGl+OZ4vDdlearpFzcz3F/Np7PpyoY3ljneEFVeQNhthbA3YAOTgZr88WCquKatfTTrqm15apdzyfaxTO0ornbbxlp8+rW9pHZ332a7u3s7fUTGn2eWdA5ZFO7f/yzcbtu0leDVbSfiDol8EmaC+tLOaynvYb25iVYZYoSokIwxbjepyVAIPBNT9SxH8j/AKv+Oj030Ye1h3OrorD8K+KbPXdQubKKzvLWa2hjnK3AT5o5CwVvkZtpOxvlbaw7iuYm8b6kfFc1va6hpMkMeuLpy6b5RN00KhBNOXEnyhCZW5TGExnJqqeBrznKFrNK/wDX9WCVaKSfc9DorlLXx9pcrBn0/U4LeSxm1C3uZoUEdxbRAFpVwxYD5kwGCk7gcY5qjqXj2Nb3QpvIvdPtL4zzNFc26+deRLEoQRopZstJNFgcNlTxjq45fiZO3L3/AATdvXRidaCW53NFR2sjTWsczwyQtIgYxSY3ISPunBIyPYkVJXE9DUKKKKACiiigAooooAKKKKACiiigAooooAKKKKACiiq1/qFpZT2kNzN5cl9P5Fuu0kySbGfAx0+VGOTxxTjFydkgvYs0UUUgCiiqd/qdrZ6lZWMzN51+zrCAMj5ELsSewwPzIqoxcnZIG0i5RUVjc295Zw3dpNHNb3EayRSxtuV1IyGBHUEGpaTTTswM7RT5XxLuh/z96RF/5Cmk/wDj9dTXJxMB8U9LTPL6Nfkj1xNZ/wDxR/Ousr9w4UlzZLQfk/wlJHx+Zq2Ln8vyQUUUV9CcJz3xM8S3PhTwydXtdBvdZKzKj21mCZFU5y+ADwMfrXE6L+0L8P7mbyNUOqaNMpw6XtmTtP8A2z3H8wK7X4nXXi+y8M/aPBOm2eoams65t7t9qtHzuwdy89O9eHfF3X/HPinQ49L1b4O31vrkM0bWOqWqNMsLBwSBhCCCAQQXxzntXVQpwmrNfj+hMm0fSFvLHPbxzwuHjkUOjDoQRkGn1W0cXA0i1F3Gkdx5Ceckf3VfaMgewOas1ylBXkXi7/kaL/8A6+H/AJ167XkXi7/kaL//AK+H/nXDj/gRyYv4Udv8Kf8AkV2/6+G/ktdNXM/Cn/kV2/6+G/ktdNXRh/4UTej/AA0FFFFbGgUUUUAFFFFABRRRQAVxOtfEbTdG8ceINP1mS3sdF8N6TZXl9qcrn93NczTRpGQB0AiU5/2xXbV5Rr3w11vWdY1ye+awkt9e8ZadqFzG0hIOmWUUBjiIK8s00BJXphzz2rWkoNvn/rX/ACE7mj4r+NXg7S/Aer+JLBr/AFJtInitZLJNNuYpmmlAMK7Xi3BJNw2yY2HIwSSAdTW/ip4H0iGGXUtUurdZLZbuQNpV0WtIGYqstyojzbISrfNMEHB54Ncr4y+H3iu8l8QaraRabeXWpeMdN1ZLOa7aGOaxskt/LhZ/Lba3mQs+NpHOKjm+GmqXHxY17Vta8PWOt6X4iv7W5keXxJdQxQQx28MRhkslQw3G1o3ZSw+bfg7a2UKFt/xXlp+YryO11H4leCrHxPqHh641k/2hpMTS6jFHaTSLZosH2jdLIqFIwYuQWI3HgZbimeHfih4E1z7c2n6+hj0+wGozzXFvLbxfZef36SSKqyRgqwLoSARgkVzOq/DnXbv4Z+P9IWSxTVvHGrXLyzCVtos5GSBQzbc7haoOMYDEjPeq/wAVvhjrniC48TTaUumxx3GjaVpujWjyNHG0Vtdvc3EMmFOxZVKRcA8DkVKhRel/60/r5Bdm5cfGjwCuh6vqMGoX0p0XTW1K5tn0m7imFuCAsoR4g2xiRh8bSAzZ2qxEPhP4saT4i1LSobeT+yy+ky6rq9tq9heWsltAiJlo5JYkidUeRQzbsY5HXjnfFXw+8f8AinS/iDf6smiwal4o0iz0rTLKG8keK3tYmleWF5jGDukM0mWCY5HBC5Nv4mfDrxV41/4SC9mXS7C4v/C1ppdjafanliWUXLz3McjiMHy3CwR7gvIDHbwAbUKHf8fT/P8AALs6zSPip4F1K11K4g1mWOPStObU7lrvT7i2zZqCTcRiWNTLFwfnj3DpzyKfofxP8CavDqU1nr8aw6TZLf3c1zby28YtW3YnR5FVZIjscb0LLlSM1xXjb4e+M/HMet6nrVvpOlXWpaTDoNrp9vfPOkNk91HJeSSS+WuXdFwqBcDYMn5jtn+KPw18Qa9qHifUNOXTW+1QaJbaXZyzNHHLbWV211NBIQh8sSF2TgNwBnjip9nR7/j6f18guzV8QfGTwqPA3ifVNAvJrjUvD+iy6kbK8065tpPuN5O5JURtsjABf7w5HrXXalrcfh3wHJr/AIpnhtxp1h9o1F4lO0MqZfYuSTzkAZJOQOTXmmpfDzxx4kvPEmo+If7Ht5vEeoaLEba2uXlW10uznE0sW9o13uxeYfdAO/sMV1nxf8G6r46vtG0Z9SfT/DtrP9v1GS1lAurieIq1tEoZWXyw+ZGJzzGgxyTSlGldJPTr9y/4IamT4P8Aidqmp/CXxB4j1zS7Hw7q+i3stjJaXcsksUExWNoFlMalyT58QYKDyTit28+J/gqw1TVNKvtbAvdAgebWBDZzvFZLHAJ3MkioVUeWcrk/NgqMspA4xfhP4jt9U1iwXWP7R0bWPFWka1PNqFxuuZEtliMyuFjCkl7W3A9Vzk8c0fiX4W1jSPgd4h0MxWU2vfEDxa0bgO3ktHdXyoqyOF3bVs0UMQDjacZq+SjKW+/bzt+WoXZ6JovxP8CarHqUtr4gjSLSbNb66muoJbaMWx3YnR5VVZIiUYb0LLkYzUdl8VPAtzpOrakdYltYNDt0udQF/p9zaSQwvnZL5c0auyNtbDKCDg4NcR4u+HPjTxYuqeItQs9EsNTK6Xb6bokd88lqbWzvVu5Ipp/KU5mYbeIyFVU65ap/E3w48VeMrzUtY8RwaVaz61caTZT6dDdNPHb6VaXZuZUMhjXzJZWZwRtChSoyeSZ9nR6v8fT/AIIXZu3Hxn8KHxd4e0Owg1i9/wCEgEzx3EejXgSOOMhfMGYfnQuyDcPlAdWJ2lSfQ5ESSNo5FVlYYZWGQR6EVxupaDr/APwvrTfFMFrY3GkR6DLpsjPdNHNaO8yysyx7CJA/lQr95cbSeeldpWU+VcvIP1KKx3Gnc2qtPa97fPzx/wC4T1H+yfwPAFXLO6gu4fMt5A6g4PYqfQg8g+x5p1Z+uRi3tptTgJjuLeIvkdJFUE7WHcdfcZ4r6XK8+mpRo4jVPRPr8+/5+p4WPyiEk6lHR9un/ANSiiivsD5cKKKr6leRWcO5vmkfiKIH5pW9AP8AOOp4o2V2NJt2RVvCdRuGs0/49Y2xcv8A89D/AM8x7f3j+Hri9VfTIGtrJY5GDSEs8hXoXYlmx7ZJqxX5xmuPljMQ3f3VovTv8z7jAYSOGoqNtXv6hRRRXmHaFFFFAFU6jaC6Nu0pVw4TLIwQscfKGI2k8jjOaYmqW7LvWK6ZG+46Wsjq49QVB4pl7bSQ+dLCguIZjm4tHUMHGACVz3wOh4OOxOamj1bStoAv7aPAxseQIy+xU4IPsRX1mXZPl+Mpc8ZybsrrS6fXpt2/Pt4ONzLF4afK4K3R66r/ADJbO5iuYy8Rb5WKurKVZGHYg9P/AK4NU9YnvoLhJIeIFX5j5W8Fs9GA+YDHQqDjJJ4HNi6tpGuBe2EkYkZQHVvuTL2yR0Izwwzweh4w2O+VZlgvImtZWOFDnKSH/ZfofocH2rlxOVVcBXdWNP2lPz1087du+3XyNsPmFPF0lBz5J/1t/kQw315dKn2OzX7u92kk/dsOwR1BDZ657AcgE1F4fmK6pc28lvN50hMrSSD5lGeEY9MDcdu0kEA9CDVqSzkhma4091idiTJEwPlyn1IH3W/2h+IPFSW+ooZlguo2tZmOFVyCsh/2GHB+nB9q9nJpZc9cN7s+qb1/4KXS3Tc83M1jUmqqvHo1/X5/IuUUUV754YUUUUAFFFFABRRRQAUUUUAFFFFAHnHjxrvTbfXHtoZJ7qKKa4t441LPKWUsgUDk8/L/AMBrzK48O+INC0+aztZdQvpLPQoIdOufKBNlukCXKRiMKGbYqsP4zjGTXv8A4l0caigngYR3ca4Rj91x12t7eh6jP1B5Nt6TNBNG0U0f34n+8Pf3HuODX5nxHltfB4meJhG9Obu32b3T7a3t0adj9o4TzjDZhg6eFlLlq048tu6Wia76Wv2auea/2ULTTbeWKPU5tNv9SQanBbaXcQYijhkK4gbMuHk8sOxzuHXjNbfw9tZ9H8FapfJpVxbTXF3dXcdi4LSqqkpGmOc5SNMAZGCAOMV2FFfKzxDlGzR9nDDKMrp/1/X5nnOleFNU0+DwjZm+1S6S3b7ReQTbPIikSBiOQgIJmZcZY9D1qjptnrj6dbajpOnalHr9tpdzLqdxdwvF9ou2hIWEb8CQCU5XblFCAAjNeqUVX1qXVf1r/mT9Uj0f9af5Hlt5pFxPp1//AMI/p2qwwXOkDTrh7qCVJbu4mljUysj4ZjGnmEuRj5zgkA47D4a2lzbaTOdShmXU/tDRXcsgO2bYcI0XYRbSNoHTJBy24noqKmpiHOPLYunh1CfNf/IKKKK5zoCiijOOTQAUVBa3dvcsVhctgZGVIDD1Un7w9xxU9BFOpCrHmhJNd1qFFFFBYUUUUAFFFFABRRRQAUUUUAFFFFABRRRQAUUUUAFFFFABRRRQAUUUUAFZ/igtHoc11GpaSy23cagffaJhIF/Epj8a0KQsu7YWG4gkDPJH+SKTipJprQmcVKLi+ol54bvpNcvtW0TxE+npq6Rm6VbZJiSqbFkiYn5TtwOQw4BxUWn+DG07XtOu9P1MJZaXbC3t7Oa38zYCcyOH3D94/diCfzOdL4fOD4OsYQc/ZENoT7xMYuff5K2a/Iq9fEUKk6Ll8N47Lpp27aeS0PnfZx3scfpngeW2t7W1l1yWa10sTHTIvs6qYHdXUSO2f3jKsjAfdHJJBOCH6h4CsbvSY9Oa8lSCHQ/7IgCoP3aEoS/PBJ8qPjp8tdbRWf1/E83Nza+i/rq/vD2MLWsZnhXS5dJ09reaWzcs+4fZLIW0YGAPuAnnjrmq2keGLOy8M3WkNIZGvvtJuLkIFkczO7sc/Vzj6CtyisXiKrbd92n81sVyROJHw/lnsbiDUtfluWm0gaShW2WNYoMjftUE8sFAJz29MAaPizwfBrmrpqbXslvdWtuiWEiRgm0kWQSeYPXO1VK91BHeulorb6/ieZS5tV5Lrv08v6uT7GFrWD60UUVxmgUVh/ETXW8O+GW1CI2wme4gt4jcttiDSSqm5jkYVQxY89FNZPh3xuJLW4bU1huWW+NrYS6VG8q6jiNXZol5OFyysclQVPNdVPB1qlL2sVdXt+X+f9WZm6kVLlZ2VFc9/wAJpor2NrcWwvbp7wSsltb2cjzqIm2SFkAyu1/lOe/Ayao2Pje2PjTUdKuhMLeG9t7K2kS1fasskSviR8YBJcKB1BHPWiOCxDUvcen6Oz/EHVgranX0VyOqeNreXWNO0zR1mke71P7M1zJav9nZIw7T7JDhSVEbDOeucZwami8eaFMshh+2YFlNfQyS2jxx3EEQBaRHYYK8rz/tA9CDT+o4myfI9f6/R/cw9rDudRRXKaX4ztbfSdOj1tpDfvBajUHt7ZzDbTTBQqswyFyzDAySAQTgHNamtatNY+KNF04RI0GqNPGznO5XSPzFA+oV/wAqiWFqxlytd/nZXdvlr9w1Ui1e5r0Vx9r4yee4+1E20OnPJdSWxaNmkubW3jxJKCDhQZCMEggrg/xDFfw/4xu0VZNeMarDpNhJOlvAzSSXtwX/AHUajJOAq8f7Wela/wBn17N22/zt+ej8yfbQO4ornIvG2iyWbTIl80q3hshafY5PtDzhBIyCPGThTknpweaF8b6HJpcF7b/bZ/tPneVBHZyGYrC2yVihGVVWGCWxyQOpArP6niP5H939dn9xXtIdzo6Kg0u8ttR0231Czk8y3u4VmhfBG5GAZTg8jIIqeudpp2e5e4VyHje7+y+PvD9xc2WpS2VlBdTtLaafNcgTMEjRT5Stg7HmPPpXX0VrQqqnPmaurNfemv1JnHmVjy3XLS+1XxPPFcaZrL6hJ4ggSO5WOZILTT0KMdrjCEOquGAycuc9BVnS59XuNUs7KXTNYXZ4hvb/AFGV7aRY0ijM3kRqxGHDAQkbcjj1OK9JorueZXgocmy0120t93VLuk+98vYa3ueTzaJqtj4R8PyTLfLNqkn2jX5HtLi8YEo8iwPFEwcRh3wQuBlRuyCczaxoN9DotzDZ22oaglh4YvXtDJbyIXnupNwjRD8w2CIAR8sqsoPWvUqKr+1ql07dW/z+eztvtbTQX1ePf+v61PK77TLO2X+zItD1m50uPRYxottDaXCLJdMZA7S8DynAWHBk27QWI70ureHdbu7HUHvv7Sub+1i0zS7ORHkCmQeWZbtQMbsNO5Lnpsb3r1Os/wAWai2j+F9R1VIvNeztZJkiz/rGVSVX8SAPxqqWZVp1IxhG8m1163X52173YpUYpNt6EfhAC/8AHes6ovzQWMEOmwt6SgtLPt9R88Cn/ajYdq6ys3wjpKaH4as9KWTzWt4gJZiPmnlPzSSN/tO5Zj7sa0q/bsvwccFhKeGi78qt6vq/m9T5DEVnWqyqPqFFFFdhieX/ALW9/PYfDC3Npe3djdXGqwQwXVvcmEQsQ53Ow52YDdMc49K43xnb/GX4a6RDrEPj+DWtGEkaXE95Bv8AIDkKrvkM5TJAyrE89K9S+NV14aXwrb6T4p0241C11y/h06GC3UGQzOSUYEsNuNpOc14r4l8DeAdK8YxeBdQ+LWtQWrSJu0qVWeJCSCqtIP3anocleODXdh2uRJr8L3IlufS1m7yWcLyNGztGpZozlScdR7VJUdnBFa2kVtAu2OFAiLnooGAPyFSVwlhXkXi7/kaL/wD6+H/nXrteReLv+Rov/wDr4f8AnXDj/gRyYv4Udv8ACn/kV2/6+G/ktdNXM/Cn/kV2/wCvhv5LXTV0Yf8AhRN6P8NBRRRWxoFFFFABRRRQAUUUUAFFFFABRRRQAUUUUAFFFFABRRRQAUUUUAFFFFABRRRQAUUUUAFUbj/T74Wa/wCogYPct/eYcrH/ACJ9sD+KptSuWgjVIVElxMdsKHoT6n0UdSf6kCptOtltLNIFYsV5Zz1dicsx9yST+NfTcP5d7Sf1movdjt5vv8vz9Dw84x3s4exg9Xv5L/gk1FFIzBeWIHOOTX2h8qUdSL3F9HYJI6JsMs7RsVbGcKuRyMndyOflNSWtlaWzM8FvHG7DDOF+ZvqepqKz+bWL9vvFWjTd6AJnb+BYn/gVXK+Dz7F1Z4uVLmfKrK3Ta59jlOHhDDRnbV63CiiivBPVCiiigDPtby+u1aS0trRo1kZPnuirDBI5AQ4PHTNSG7u4/wDX6ZPx95oXSRfwGQx/75qS6sLS4l814cS4x5sZKSY9Ny4OPxqETz6cwF1K01oTjz2xuh/38dV/2u3fuR9Pg45Pi2qTpuE35vV+Tvv8keJipZjh71IyUo+n9fmTWt9aXMnlxTqZAMmJvlkX6qeR+IqwQD1GaS6tra6jCXNvFMoOQJEDAH15qq1jPbfNp85297ediyH6Nyy/qPatMTwzJJvDzv5P/P8A4CMqGewk0q0bea/yE/s2FGLWks1oxOf3L/Lnv8hyv44pslw8MbQatCktuwwZ0jzGR/trzt+vI9cdKd9tlj4urC5j/wBqNPNU/TZlvzAqazu7a63fZ50kK/fUH5kPow6g/Wualjc0y9/votx89vlL/g28jpqYXA4xe41zeW/zRAlnJHGJdLux5bDKxSkyRkf7LdV7dCQPSljuILvdZXkAjmYfPbzAEOO5Unhx05H44PFEliYpGm0+QW0jHLJtzFIfVl7H3GD65xigTW1//oWoQCK4HzCJm6kfxRsME49RgjuBXoqnl+bLmpe5V38/+D6rXucTqYzL3ap79P8Ar7vyD7C8HNhdPb/9MmHmRf8AfJ5A9lIqSwvJJLhrS5h8u4RN52ncjLnGQe30OD9etR+VqFp/qnF5CP4JDtlUezdG/HHuTUmkwSIJLm4XFxcNlhnOxR91M+w69slvWuzLaOZUarp4iXNBLR7/AHdfvOXH1cDVpKdFWn9339PuLlFFFe2eOFFFFABRRRQAUUUUAFFFFAGD4wvLuz1LS3guGjiefZMgxhwWQc+23f8AmK09Y0611K38q5TleY5F4eM+qnt/I96w/iXFJ9ntp0BOBJEMf3mUMP8A0D9a211XTWsPtovYfI/v7xwfT6+3WueMuarUpy1Wn3PT7tH+J6VSDhhqFeno7yV1vdO6172a/A4ySOW3uJrWcqZbd9jlRw3AII9Mgg+2aayTNaz3MZRYrZo0csCdzOwAUY6YBBJ7ZHBzxNO82q65KbVMSXkuYg6n5EVQu9h1AwM49SB1re1bQpToVtYaa0Y8mYSSGZiPM4bJJAPO4g/h2r4XBcP0q+JxNeEeakuZQV9JS8nfZPS9/wAmfpmYcUVcLhcJhqs+WtLkdR21jHS91b4multPuOcqO3eR9xkj8v7rJznKsoZSfTIPStnVrPS9Gs4YpbGHUb64yVe5QMvGNx5ztUZGFHJz9TVDVbw6hfR3P2NbZkh8t9r7vMOcj04HOOM/MelefjsiwmX4Soq9dOtZNLtrr639Fa3meplvEWMzPGU3h8O1h7yTk7a6aPyt8738iGiiivkz7IKKKKACqd0Ptl19jHMKYa5PY+kf49T7cH71TX8zQw/u1DSyMEiU92Pr7Dkn2Bp1lAttB5YYsxO53PV2PUn/ADx0qZSsj5HirN/q9H6rSfvzWvlH/g7el/Ii1QGLy71Bk2+d4x1jON35YDf8Bx3rK8daq2nWNiIb5bP7beJCbjarbE2s7EAgjouOneugrHGnQrr9sXZ8WiSSWaAjaN2FcEf7ORjpw+O1TB9DweHcxq8ssApW537r7arm7dL21WvmzK0bxDqSrBZy2dxqFxdyztaSbFgL28ZQCSQHAXO/jjnjjmrtr4nSa6tSNPnFlfTPDa3W5T5rKrtnYOQpEbYPfjgZrU+wQ/21/ahZzMLfyFUkbVXduJHfJOO/YVl6f4Wgs0hSPUr5ls43jsQxj/0QMMZT5OSBwC+7j6nOh9kqOY0nGMZ8yv5bLl766+91vfl13ZFb+LFm0S31OPTpJEvJ44bWOKZHeRmzw3OFZQDkE8evWmXHjO0t4FS5gW3vGuZbfyJrlEQGMAsxkJxtwy++WxjrTbnwtN/adrJb6jcoftUl7c3f7sSGbyxEmF2bMbSwPy/qc1cj8MQQNby2eoXttcwLKGuF8tnm81g7l96kEllB4AxjA44oMY/2u01ezVltHXa7W2tm9L8qta8txtl4kkvvJWw0i5mla3S4uI2dYzArkhQdx5Y7WIHoMkjIqXwpquoancagbmySG3t7t4bd1kBLBMKwPvuDc/QdqlGihNcbUodRvImlWMXES7Nk5TO0tlcjrztIzU2g6YmlW8sEVzNNHJPJMqy7f3Zdy7AEAEjcxPOT70HZRp432sXVk7K9/hs/5fPVavX4ttC9RRRQeoFFFFABRRRQAUUUUAcDa239peNNc1u+0u0utOsroQx3Et24lgEMSltkQQq37wt/EP05do/iLxPdalYIkunTyalo82qCwWIqbcYQQxmTdzuaQAnA5RscV1Nv4c0G31V9Tg0eyjvJHd3nWBQ7M2dxJ9Tk59c1HbeFfDVvayW8GhafHFMmyREt1AZcggHjsQMemB6V1+2pvdf19/8AkcaoVFs+t/x9Pzucl/aviDWI9Ds7fWza3k2qyJeq1gY2g8mEu0bASEMu8KOCQwccnHOl8WLa+1X+ytD066kgu5XmvEkjYr80MTbM47ebJCSPaugXw/oawWsK6TZrHYy+dbKIR+6kzksvoSeSe9XWtrdr1LxoUNxHG0aSlfmVGKllB9CVUn6Cl7eKkpRW1+xSoScHGT3t3PN9O8X3l/cTaxo9vJLPrFza6dbRlQ3kCO2a4mO1mUFlMjrjI+Zeelad14l8S6S1lbarbW5utQt7tbSIqA8kwmhS3D7WZRlZSW2kgAE54rqJ/D2hTWBspNIs2tzObjy/JUL5pJJcejHJ5681Mmk6WjWZXT7ZTp+fsmIh/o+Rg7P7uRxxTlWpN/Dp/wADTUmNCsk/e1/4N3oYHw28R3/iWKO6dYhbw6db/aWRfvXjoHkVTnogK/i2O1c94jm1Cx1nxBCGEul6ddQ6iIjKQZp5gixwMe0YlUyN/vKOma9E02xs9Os1tbC1htoFYsI4UCqCSSTgepJP40240zTp47uOaxt5Fv8AH2pXjBE+FCjeD14AHPpUxrQjUbUdCpUJyppOWv8AwDjdW8Q+JdLutQ0sXNjqF4i2K28otjEiT3EzRmNhuOQFXf1yAec8VVutR1eH4qQaabm3kuzYpZjUXgKQxu7PNIixhj85jji2gnBwSTxg9tY6Ho9nbR29rplrDHHN56KkQGJMY3/72O/WpZtL06WV5ZbG3d5J0uGZowSZEACPn1AUYPtTVamr+7/Wn9WE6FR297+tf6uMutH064mklmgLeacyIJGEcjYwHZAdpYAABiMjAweBW74JuZLvwnYSTyNJcJCIblmOSZo/kkye/wA6tz3qhUngJsNq8Cn93FqP7tR0UNDE7fm7Ofxr4zizDqeCVVLWL/B6f5GONpxSUkv6/pHQUUUV+dHAFFFFABRQTjk0UAFFAOeRRQBleJtGGsXWlNLKqwafffapYmTd5+I5FVfbDOG7/drAtfBeo6ZdWlzo2rWkT2M9/wDZ4rizZ4o4bqVZNgVXUgoVABzjBIwK7SiumnjK1OKjF6drLz/zZnKnFu7OP0fwbf6Jqttd6Rq8P/Hp9nvTd2hkaUmZ5nlQq6hWZ5XyCCPu+mDZt/CTIbUyXyv5euzatcYix5xbzfLTrxs3Rc858vtnjp6KqWOrybber8l5/wCYKlBdDg9N+H+oJaWdhf69HLZ6bYXVnaJBaGN8yrsEzsXO5wpYcAD5jSt4D1S8sbiHU9ct3MmjDSIlt7Ixxwwlh5hALkkuqqOuBgenPd0Vp/aeKvfm19F3v277k+wp9jk9P8Gi08aXes7NJuI7q7F1uuNP33ULeWqbUl34AGwEHbkAke9XPiH4bm8S6fZwW+pPp8trd+cJ403PsMckTqvI2kpKwB7HBxXQUVl9crupGpzaxVlttsV7ONmraM5XxL4MTUo5re1uks7Y6I+kW8SRZEEcjLvI5HVURQO2Kj1Pwddyak+p2OpW8d4NYTUIRNbF4lRbX7MIiodScAswII+Y111FOOOxEVZS016Lra/32B0oPoecap4f1jw82nXtld3Ooamk+oSzTx6Z5yyNcOrcqJFCMAqKpJ24DZxT9K+Hdymn6LNdHSri7ttLW2vYtTsftSeaXMjyJh15Ls+fXjpivRKK3/tTEcqSevey8/w1ZP1eFxEVUQIihVUYAAwAKWiivNNgooooAKKKKACiiigArD+JSO3gHV2jAZorN5gpON+wb9ue2duM9s1uVg/FI4+G+vbjiP8As2fzSOoj2HeR77c114Dm+uUuV680fzRnWt7OV+zOzt5Vmt0mTO2RQy5GOCM0+gAAYAwBRX9DnwoUUUUAcP8AHzTNF1XwhZ2uq662iXH9pwNpN8iM7R3gz5eFXk5G709c8V5x4h+GdjpvgfW/DsutaT4g8eeJJ45hJe3EUM6jzAcxh2LdA5465x0Fej/Hjw/e694b06TSNQs7PVtJ1WG/043jhYppo92Izn1BJ/D0ya8p8WfCzxD/AMILr3jHxJZ3GpeONQvoZNPXS2eT7HiRRwF4xtz1yFCrg5rtoStFe9bX+vl3IlvsfRGnxPBp8EEkhkeKJUZz/EQME/jU1R2YmFnELggzbF8wjpuxzj8akriLCvIvF3/I0X//AF8P/OvXa8i8Xf8AI0X/AP18P/OuHH/Ajkxfwo7f4U/8iu3/AF8N/Ja6auZ+FP8AyK7f9fDfyWumrow/8KJvR/hoKKKK2NAooooAKKKKACiiigAooooAKKKKACiiigAooooAKKKKACiiigAooooAKKhvbmO2jUuGZnbbHGgy0jegH4H2AGTgVXtdKt5YTNqFrFJdSks7kZaPPRVbqNowMjHTPevYyzJ6mOTk3yxXW17vt0POx2Y08LZWu30L1FUwmo2nyoBewjpuYLMo9Mn5W+pK/j1pswvb6M2/2WSzifiWSR137e4QITyemSRjtmqeQY5VlT5dO99PXv8AqSs2wjp8/Nr26jtFX7RnVJOWuF/c/wCxF1UD3P3j9QOwrQpI1VEVEUKqjAAHAFLX3tOnClBU4KyWiPkKtSVWbnLdhWW0EV/qlybqNZY7VhDHG6hlBKBmbB7kOB9B7mtRiFUsxwB1JrP0X95by3ZH/H3M0o914VD+KKpryM/rulgnyuzk0v1/Q9LJqSqYm7V0kWLW3gtofKt4UiTJO1BgZqSiivgJScm23dn16SSsgooopDCiiigAoYBlKsMg9QaKKAKS6aEXyory6it+0COAoHoGxuA9gwx2xSaTEsOrXMVtuWCONAyliR5hyTjPQ7dpPrkVeqppzeVq15bv96ZlnT3XaqH8inP+8K+pyHGV6+L5atRtKLsr77fp+R4Wb4enSwzdOCV2r6F+q97ZW11taaP51+5IpKun0YcirFFfY76Hy6bTujPI1C0PIN9D6qFWZfqOFb8MH2NR315p0+mzSzgyRwYMkbIVkjPYkHBU98nGOucc1qVWvrKO5ZZQzQzx8JNHjcB3BzwQfQ8fjg14eKyLD1JKpR9yS7aL/geq27M9fD5xVguSr7y/H/g/1qVPD9yZbieBJZpYI0RkMykOhJbKEnk4Cqeefm6nitSquj2j2Vn5DyrJ85ZQkexUB52gZOB179+wwKtV7NOLjBRbb9d/meXWkpVG0rLy2CiiirMwooooAKKKKACiiigAooooAhvrWC9tWtrmPzI36jJHQ5BBHIIPcVit4R08zeaLm6Vux/dkgemShP61salf2lhCsl5OsSs21c55P0FZHjq7T+zYYob+OIzNuKeZt86PByN/RRkrySAemea58RRozi3UpqbS2aTfor9z0MBXxdOcYUasqak905Jert2/AoSahbaXNJb6FBFI+cT3c5L7iP4RyCcc9CADnAPOH6xrqXujARXM2n30LCTbkhGI6jzMbSD23Y5AyKx7dke3jeIYRlBUYxxjin1+eLjDF0q8k6aVPZR2cbea6/L0SP1h8C4GrRhL2jdXdzevM/NPS39NsuXmuxar4eMd1as1wU3208A+Qvj5W5OV68g5GMjJ6VToorw81zitmTg6sUnG+q3d+/8AwElvofRZNkeHylVFQk7Tadm9E/Jf5tvbXQKKKK8g9oKKKjuozNayRB2QyIVDr1XIxkUCd0nZEFnm7uBetjyk3Lbr684Ln644x2Oc/NgXaqWNyg2Wk0a28yjCxj7rAD+A9x7dR3FW6wle+p+K5hWxFXFTniVabeq7eQVU1T5Xtp/+ec4B9wwKY/NlP4VbqDUoWnsZI48CTbmMns45U/gQKFozLC1vYYiFX+Vp/cyr4p1E6T4cvdSVFd7aBnjRujvj5QfqcCsix8TSwX93Z6mbe4aDyVik09GbzZZN58oKSfmATceehycVp61ZR6/ocMJkC280kM0ism7zEV1coR77cH6modV0MtJYS6Q9rYvYSu6IbbdGd6FD8qsvPPBz/Otz9axSxsqyq0H7iS001ve+l1smnq+lluxn/CV6X9nikVLxnnnkt44Vtm81pEGXXbjPHIJ6cUmh6+t5rV5Yu251u3jgjjQkpGiKGaQ9h5m8DPXGBnBpPD/hw6dc2c0t8blrSK5BZo9pkkmlEjSHnrxjHuaPDHhw6LqEl1Feb/tSubxfLx50pkZxIOeCN7KeuRt9KDOm80lOm6iSV9bW00V+uurfolfV2T3qKKKD2gooooA848VeJdYTxRqEdjqV/bxWmoWllbqLJGsiz+WZDNK0ZK/6wLgODkD1rdk8ZSCS9dNFme2tr06fBIJ1DXdzvVAiLjgbi2WJAG09e1iPwdYfbpZpr7UJ7ea++3NZSSr5Jm3BgSAoYgEKQCxHyj0qabwtYPoMelpPdQ+TeNexXEbr5qTGRpC4JUqfmduCCMGuyU6DSVv6/r8zjjTxCcnf+v6/IpQ+MTFqH2HVNOFnNHqAtLhluRJFEGtnnV920ZGEwQQME1Ws/iFZXGix6iunzovkXtzPG7bWghtyRuYY4LHZgf7R/umr974K0e80c6fePdTiW8F5czvKPNuZANp3kDG0p8hAAG3gYpx8GaMY9XXFxnW33XTeZyFzu8tePlUksSP9o/hN8P2/r+vyDlxPf+v6/PyKMnjee2s9Qm1HQZrV7Oyt7wR+eGOyZ2QeZgfuyChLdcKCexFT3HjFLS1mkvrOPdHphvo/st0JkuP3hRUjbaNxYmPBx/GBWleaCkt9d3ttqN9ZXV4YvMmgMZIWNWCqA6MNvzseQeTmqkPgvQ4p9HkWObGiRsluhk+V9zK2ZB/EQ6Bh2B59MLmodV/Vv8yuXEdH+Xf/ACMu+1m9u9YjtLea5t3k1y2smj8xSiiKEXMwQhQcEAo2Sc44xVDTfHxstDg3p/aF9dwy6mIpLkRt5Ek0hhjiGGLuUACqB0HJGRnqF8K6cJhKJbkSCW6mDbxkPcfebp1UHC+g9abaeFLWyvILjTtQv7IRWsFrJFC0ZSeOHIQNuQkYDEZUqSDV+0oWs0R7Ove6ZuQuZIVcoyblB2sOV9j706iiuM7QooooAKimy0ix5wDyalpkkYZg2SrDuKAI8CO4+XgbSSKVZZCUJC4anCIBWGSS3UmnbAGU5+4OKYipeXYtLOa6mJKqQoVFLMzE4VVHckkADuSKv+CbW+tpLu7v7b7K14y7IC6s6Ii4BfaSu4kt0J4298gc/q11bX+nT2mkSyX12GVoPskbTJFOrBo97qCqfOqk7iBgHtXoBjBfcf7uMV8dxbjZQpxw0bWlv30tb0/4B5eMqc0lFPRfmRxyuzDAGCemOgpDOwQHAznn6VJGhX+NiB0FJ5K4YZPzV8HoceojSnLYAPO1fc0eY6sytt4XPFOMS+WFBI2nINJ5QKsCxJbqaNA1GSF2hG7A3kAYokkcq5XbtXjmn5jkk2q6loT8yg/dOMjPpxikMCnI3NgnOKd0AgZ1wiBflTJJoWWQ7CQuGp/lgljk/OMGjyxuU5+4OKV0AxpX2l1C7c4Ge9K0j7mChflHJNN2RCZYjL82C6x7hnAPJx6cj86VYixYsWXceg7inoLUkjbMYc8cc0xZHK+YQuz070/YN3U4xjHamrEApUsxGMYpaDEWSQMm4Lh+w7U3zpNu4Ku3dge9PWIA5LE4GBntSiIBVGT8pzRoGokbuZGVgOPSpKaqhWZv71OpMYUUUUgCiiigAooooAKKKKACiiigAooooAKo+KJrG38M6jcamoaxitJXugRnMQQlx+WavVm+MNOm1XwzeWNs8azyR5hMmdnmKQyh8dULABh3BIrbDqDrQU3aN1d9lfVkzvyuy1NjwZDfW/g/SbfVGLX0VhCl0xOcyiNQ5z/vZrSrN8K6zb67o6XsKPDIGMdzbSY8y2mXh43A7g9xwRggkEE6Vf0ZzKXvLZnwdmtGFFFFAHkX7ZiwS/DnS7a9h22c2twLcXm1mNkm18yAA8nBI5yOfXFcF468Kp4C0Gz8TeBvirqX9iNcRxzxx3qzMiMcb0VGVZMd0IHHeu+8feLvHVpe6ppOvfCVte8PyTSRxSWcvmmaDd8rNGA5zgA/w4PpXmmix/s/P4jibWNF8SaDKJATZagHMGc9Dt3Pt+pFejR5owS6eVncze59SxMHjV1bcrAEMO/vTqFAC4AwB0AorzjQK8i8Xf8AI0X/AP18P/OvXa8i8Xf8jRf/APXw/wDOuHH/AAI5MX8KO3+FP/Irt/18N/Ja6auZ+FP/ACK7f9fDfyWumrow/wDCib0f4aCiiitjQKKKKACiiigAooooAKKKKACiiigAooooAKKKKACiiigAooooAKbPJHDC80rBY41LMx6ADqahvrpoZIoYY1lnnYhEL7RgDJYnBIA4GcdSB3qP7HeXO37dcRCIMHMEKHkg5AZyfmGR2C5+nFetgMnxGLtNK0O/52/qx5+LzGjhrxbvLsO06KWe5/tC4QxnYUgiI5RCQSW/2jgcdsY9avUUV+gUaMKNNU6atFHxtatOtNzm9WFFFFaGYU2aSOGFpZXWONBlmY4AHqTTqz74fatWjtWP7q3RZ5F/vMWOzPsCrH6hawxOIjh6Mq09l/X5m2HoSr1Y047sYwl1T/WK8Vj/AM82G17j/eHVU9up74HBv0UV+c47H1sZU56j06Loj7fC4WnhocsF8+4UUUVxHSFFFFABRRRQAUUUUAFV9QtjOivE/l3EJ3QyYzg+hHdT0I/rg1YqO6nitrdppm2quOgJJJOAABySTgADrW2HnVhVjKl8V9LdyKkYSg1PbqN0+8FwzQyxmG4jA8yInP4qf4lPr+eDkVaqjYwzy3gv7pfKYRlIoepRSQTuI4JO1eBwMd+tXq/TsPKrKjF1laXVI+CxEaUaslSd49AooorYxCiiigAooooAKKKKACiiigAooooAKr6peQ2FjJdXBwiDoOrHoAPUk8VYrjfFF3Ld65LDIdsdk4WOP/aKglz74bA9vqa8/NMwhl+FliJK9tl3b2PYyPKZ5rjo4aLst2+yW/z7FS7uLm9uvtd42ZCMKg+7Ev8AdX9MnqcfQCGKKKPPlxqueuBT6K/G8TjcRiak6lWbblv+nyXTsf0DhMBhsJShSowSjHb9fm+vcKKKK5TrCiiigAooooAKKKKAI7mGK4hMUqblP5g9iD2I9R0pulyO9uUlbdJC7RuT1ODwT7lcH8amqtany9UuIj/y2CzKfU4CsPw2r/31UTWh8fxhhIzwkcQl70Xa/k/+DYt0VFc3Vtb4+0XEUW77u9wM/TPWoftrScWtpNIf7zqYlH13c/kDWdmz8+oYaviJctGDk/JXE0/93Pc23ZJd6Dvtf5s/99bx+FWqr2kMqzSXE7q0sqqpCDCqBkgDufvHnv6DpVitlsfsGUUq9LAUqddWklb7tvwsFFFFM9EKKKKACiiigAooooAKKKKACiiigAooooAKKKKACiiigAooooAKz9dtBP8AZ55LVb6G2cvLYSY2XK4x0PBYdVDfLnrg4ZdCipqQU4OD2ehFSCnFxezNKXVrCHwrNrNu6tZ29q8w2jaAqKSQQfukbSCDyCCD0rznS28RWOi+DdI1qzsY7ff/AGhcS295JJPJ5MLztujMagZkKdGOCQOetdPOq2LXEr2y3Wm3ildSsnQMrqRgyBTwTjhl/iX3AB6iOOzuLpZ2tk+0WoaNTJDiSENgsoyMgHC9ODgV+e4zK8RlcZz9k50r/HZ2Ts1FN7KV299+h87iYKFZUpSSlbRd1fXQ4D/hJfFP2Kzu0vrOabV9CutSWzjtwRY7Y1aI7s5YbnVTu4Y5IxjFQwfEDWNS1KS101bcDVLeCLQ2KbjJLvK3EpHdE+c49Iv9qu+0nQdE0pZl0zR7CzW5/wBcLe2SMSdfvYHPU9fWpLTSdKtXt3tdMs4Ws4TDbNHAqmGM4yiYHyqcDgccCvLeNwmv7q/bZeeq+5el+rI9lU/mOJt/FGt3mtaRNBqdpHb6xq9xaxaebcFxa25k3yl85DHyeeMDzAMZGabo+v8Aii+0vRZ5NStYZPFE7taf6KNtlaqkkwfk/O7RhBzgDOcHBz2Vt4f0G3vpb2DRdPiuZ2Z5ZktUDuzAhiWAyScnPrk+tO1DRdFvdNgsL7SrG4tLYr5EE1ujRxEDau1SMDAOBjtxQ8Zhm0o09PRX629d477213sHs57uX9af8E5f4b3/ANn8E654rvbuO8W4vbu7N0ibFmigHkq4GTgFIAeuOc1xegTXvg+S11C80uzj1C38My3biyui5v5neEA3RKps+dvl+91f5vl59j/s7Txpbab9htvsUiNG9t5K+UytncpTGCDk5GOc1W0/w74fsLGeysdC021trpdtxDBZxokwxjDKBhhgnrVU8xpRlUcoXUnt/d2S08n2+4UqMmo2e35nJ/2v41so0t9Q8uGXVby3srKS5hiDwSMsjzOUikZSgRBsBbO7rxUGh+Jte1G6TSIdYtZWu9VuoLfUltVx9mt403sFztZzIxXPTAJx2rrpPDnhmHQ5NPfQtMXTt/nSW/2RPKLAffK4wSABz14ok0Lw1qOmpZTaHp01rbys6201ku2KQ5JOxl+VjuJPGTu96uNSnKjKt7H3U7OSiuVNp2766X5b2dnvfSWmpqHPr2vr5/8ADnC+JrzxBa+INW1mx1W1kk0XTLSzWQ2oP2ueWQvsA3YVWDw5xzyMYr1Gqp0zTSkiHT7XbLKk0g8lcPIm3Y545ZdiYPUbVx0FWq4MViY1oxSjZr07Lt5pv5m9ODi3qFFFFcZoFFFFABRRRQAUUUUAFFfKn7W/7V6+GNQufB/wzkt7rVICY73V2USQ2jjgpEp+V3B6scqOmGOcZH/BOj4i/E/xt8TNet/EviC/1nRYdN86Zrxt4guDIojCH+HK+b8o4+XpwK+v/wBS8yjlE80rWhBK6TvzNeltL9L6s87+06DxCoR1b7bH2FRRRXyB6Iy4lSGB5pWCxxqWZj2AGSa47wv48lvZ7b+2dMtdMt7vSDqqTLqHneRCCn+vBjTyyRICOWHytzxXQ+NLG81TwjqemWE0cNze2kkEUshO1C6ldxxzxnNcpqHw9Nq2oxeG4dNs7K7XT5Vsypjjkntpy7Bwq8LIgRSQCcjOD39LBwwkqbVZ+83pvptrv531T26GNR1FJcu39f18zo4PF3h2axnu01EeXbSJHKrQusgZ/uARld5Lfw4Bz2zS6j4s8P2FvDPeagIVmiMw3RPuSMHBd125RQerMAB3rA1XwtreoR6he3drpk1/qkkOY1v5oVsVhB8poplj3s4ZnYnamd2OMcsXwVqbeIftWqG11qG6s7S3vJLi+ngJ8pSHJgRTHMGLMwDEAFiOlaLD4Hdzfpddlonto76ve2l7k89XsavjTxppmjxy2dtcRXGq+ZFBDbEMVMsrKqIzAYBIYNtznHOMVeXxX4ebXBo66nG140xgWMK2GkAyyBsbSygHIByO+K5+Dwnr/wDa0cM0+nDS18QyatK6u5nuASzxoVK7V2N5Y6nIQdMYMOh+EvE9qulwzXOlrDoiXb2zRvIz3NxKrqk0mVG3iSTIG7licnOBTw+B9nbn1V+u+mnTutt/e1egc9W+2n9f18jW0vxvpf8Awj8OpaxcxWn2l7iSFEV3P2dJWVZWCglV2hSWOFG7rXUKysoZSGVhkEHgivPrH4f3FnqFrG8FpqNgNKs9PmSbUJ4AiwhgwMSKUnVtxOHxyT616EoCqABgDoBXLjYYaMk6Dve/a3ku+m2vqXSc2vfMvw8VtPifqMJ+QappcE8SjpI8MkiSuR/eCzWy59Ao7V1lcb4lb7L4g8O6kv8Ayx1P7PJt++8c0Tx7R6jzDE59o89q7Kv1/hHFfWMnpX3jeP3bfg0fLZpT5MVLz1CiiivpTzz5m+LXxW8df8LE1Lw1NrEfhHS7a7khjuxYyNJLGrEBwwVmORhvl2jB61pfDvwR8I9c1GLUdc+I7eKtSZgdl9em33nOceW58w89t34V9BXltbXdu0F3bxTxN96OVAyn6g1yGu/CX4c6tJ5lz4TsI5M5D2im3OfX92Vz+NdixEOWyTj6W/r8SeVnaUUUVxlBXkXi7/kaL/8A6+H/AJ167XkXi7/kaL//AK+H/nXDj/gRyYv4Udv8Kf8AkV2/6+G/ktdNXM/Cn/kV2/6+G/ktdNXRh/4UTej/AA0FFFFbGgUUUUAFFFFABRRRQAUUUUAFFFFABRRRQAUUUUAFFMuJooIWlnlSONeruwUD6k1W/tDzf+PK0nufRwoSP67mxke65row+ExGIdqUG/67mNXEUqSvUkkXKr312tuViRTLcSf6uFT8ze59FHcn/wCtTEsryRd8+pTRyHnZAqbE9huUk/U9euB0qexs4rUMVLSSSHMkshy7n3P9BgDsK+jwvDM+dSxEly9le/pt+V/1PGxGeU+Vqinfz2G6baGDdNO4kupsebJjj2VfRRnj8SeSatUUV9bGMYRUYqyR81KUpycpO7YUUUVRIUUUUAVtSuXt0jSFFead9kQY4XOCST7AAn9O9Msrd4pJJp5RNPNje4XaoA6KoycAZJ5J5JqO3P2rVprnOY7bMEXoW4Ln35AX2KtVzOOTXxXEGYznWeGg/dW/m/8AgfmfV5PgowpKtJe89vQKKihubaVtsVxE5BwQrg1LXzcouO6PbTTCiiikAVm3QvTruLacf6gMsLn5GwxDZIGVJyuDz908VLI095eSW1tP5MUIAllRQWLnnaueBgYJJB+8KtWNnbWisIIgpbG9ySzPj+8x5P419Xk2TSdq9dLla27p9fLura+h4GZ5pGF6VJ+8nv2/zKzS6m6+VHYrFIf+Wryho19xj5m+mBn1FNmtp7HbcwzXN0BxcI7Fi4/vKvQEeigZGeCcVpUV7tPKcFCnKCp6S36v5N7HkSzTFSnGblt93zM/+1tMH376GI/3ZX8tvybBqSC+splzDeW8g9UlB/lVyop7W2nbdNbxSH1dAf515cuGKD+Go18k/wDI9COf1OsF95Vl1TTo2KG8haQf8s423ufYKMk/gKS1iku70XdzC8ccP/HvE+M55y5A6HBwB1HPrxcZre1gyxjhjX1wqio7eSfUfk0wAx5w14wzGvrs/vn6cep4xW1LL8BlMXiq89ur2+S7/e+xlUx2KzB+wpQ37fq+xYoqePQdP63HnXTfxGeZmVj6lM7PyUUraDpmf3cU0I/uwXMka/8AfKsB+leO+PssU7ck7d7L8uY6/wDVfF8t+eN/n/kV6KmfQbPb+4nvoX7OLt3x/wABcsp/EVSuPtWnyql9tkhkYLHdIu0ZPRXXPyk9AehPoSAfUyzirLcwqqlBuM3spK1/Sza+V7nDjMjxeFhztKUV26E9FFFfSHjhRRRQAUUUUAFFFFABRRWb4m1Q6bZqIVVrmY7YVYZUerH2GfxJA71FSpClBzm7RWrZtQoVMRVjSpK8pOyXmXrqaK2tZLiZtscKF3b0AGSa47XtRt9Tlhli0+eCdGw0rlPmjwflOGJJyQfbnnrnk/iBrmqtrkS699t/sS7t0s4ZdMvntVgupJCoadVJZlYNGo+8oOcr82ags/FM8y2Ki3iLX+sz2EXzHmKHzd8v/kFvbkV8Zn+fRnhVDBuM4zUlK97rTTtZ7vXsj9H4W4XnQxcqmOjKE6bi42as9ddr3Wy+djqKK4rQfGGtXzWM76NbtBqen3N7ZwwzEzMkRTYTkbRvEi4HbI9cBkfji7Ok2RWCCe+1Cd0EcFtcP9kEagyCWMIZNyllXGBncDwK/Pvq1S9rf1/SP0/61Ste/wDWn+Z3FFcZp2s+KtQ8VaNatb21jG1jLdahbyBixHmiNccZXK5YA8g5B6VH4+vZ5fGlvpUY1qSKDTJLh4dKkdHeV5FWLeykBRiOX7xxzz0oVB8yi2DxEeVySO3orgLXxP4nsdDjWW3sbubT5rTTLyWaVle6vJBGr+WFGMK0q59cN0xTfGfiPVrnwn4hlSCO20+Od9Lt54ndrmWRpFhLIqjjDM44ycr045aw03JITxUFFs9BorL8IahcarosWpSQRwQXQEloiyb28kgFS5HG4jnAyBnGTWpWEouLszeMlJJoKKKKRQVBeW3ntG6zSQvGTh48ZKnqvPY4H5Cp6KDOtRp1qbp1I3i+jIrW2gt8mGMKzfec8s31Y8n8aloooKhThTiowVkuiCiiigoKKKKACiiigAooooAKKKKACiiigAooooAKKKKACiiigAooooAKKKKACiiigBHVXQowyrDBB7it7TYLq+0G11FBuvIlaM7jj7TGrEDJ9cAMD6k9ATWD5ck0kdvCcSzuI0P90nv+AyfwrvbOCO2tY7aFdscKBEHoAMCvuuFsrhjcDiaeKjzUalotPrbd+TV1Zrr5o/MOP8xVDEYaNHSrG8r9k9LfOzv6eZz14dQWwnukgFukEZYfaFy0rY4VVVuMnjJP0B61Zp2uO0+rLaMSIYI0nK/32LMFz/u7M/Ug9qbX4v4hYDJ8qxtPK8uptSpL35N3cnJJq/ouyS1t0O3hzEY3F4eWLxMrqb91LZJXT+9/kFU9chjuLEQzDMbzRB/ZfMXJ/LNXKraxu/su4KglliZlA9QMj9RXyuQ4j6vm+FrXty1IP7pJnr4+n7TCVYd4tfgx+nyO9mhm/wBauUl/31O1v1BqlbymO8urxZmms/MCyMJCyQ/KuD6AAhs46blJ7muhbS9KnkNw9jbzGU79zoGznuM1dVVVQqqAoGAAOK/fsD4U4KhXxUqtbmp1VKKiopciclKLu29Y2XRfc7H51iOMq06dJQp2lBpt330s1bs79zCO11KnDKw5HqKqwny4bedid0JFjdE9yOYnJ9wR+Lgdq2ZtF01wClpHbuDkSW48th+K9R7Hils9Kt4be4hkeS4W64l83HIxjHAHb8anJ/DStl8MXgqmIVTDV4WfutSU07xkl7yfLq/iT2HjeK6eIdGvGm41acr73Ti91fR6+hRoqJFktbprGdizIN0UjdZY/X6jofwPGRUtfz/m+VYnKcdUwWJVpwdvJ9mvJrVH6Lg8XSxdCNek7xl/VvkFFFFeadRi/EbxNY+DfAuqeKdShuJrXSbZriWO2j3yOB2Ue5xyeB1OAK+NNP8A25PGcesTyXvgvQ7jT2lJggimlimRM8K0hLBjjvsH0HSvuU88GvFvjZ+zB8MviD517Bp//CO6xJk/btLQIjt6yQ/cb3I2sf71fXcL47h+g5083w7mpbSu/dXorP5pt+R52OpYydpYedrdO5wvhP8Abg8CXe1PEPhTXNLdurWzx3Ua/Uko2Potem+E/wBpP4Ka/tW38dWVnI3VNRjktNv1aRQv5Gvi742fsxfE34e+dex6d/wkOjx5P2/S0Lsi+skP3046kZUf3q8Yr9Lp8A8L5tS9tl9VqP8AdldL1Uk2vRtM8R5tjsPLlrR181/kfr/oOuaJrlt9o0TWLDUocZ8yzukmX81JFfJv7cX7S/2f7Z8Ovh1qH775odX1eB/9X2aCFh/F2Zx06DnJHxvZ3NxaXCz2s8sEq/dkicqw+hFbHw18Jaz478dad4T8PxRyahqcpjhEjhUUBSzMx7BVVmPU4HAJ4q8q8OcvyrFPG4ut7SEFdJqyVtby1d0t+i7ixGdVsRT9lTjZv+tCX4WeCPEXxD8aWvhjwxYtc3tycsx4jgQfekkb+FBnk/QDJIB/TH9nf4XaJ8Jfh3B4b0o+fcOfO1G+ZcPdzkYLEdlHRV7AdySTW/Zv+D/h34Q+C10vSlW51K5CtqepumJLqQdh/dQZO1e3U5JJPolfBca8ZTzqr9Ww2mHi/nJ935dl83rt62WZasNHnn8b/AKKKK+APXCiiigAooooAKGIC5JwB1Jqj4i1JNJ0trxoJLhvMjhhhixullkdY40BJAGXdRkkAZyTgVDZ+E59V23HjG5jvQcFdKt8ixj74cHm4I9XwpwCI1PNfQZHw5is2blB8tNOzk+/ZLq/uXmcOMx1PDaPWXYrr4s0idm/s5b7VEUkGbTtPmuYcjqBKilCR3AYkelH/CSpN+707QvEF5cH7sLaRPag/WS4WOMfi30zXZxqqIqIoVVGAAMAD0FLX3tPgPLIpc05trfVWf8A5Lf8fmeNLOsQ72S/H/M5rw94evX1SHXPEk8U19BuNpZ25JtrDcpUlSQDJIVJUyMBwSFVQzbuloor67DYajhqSo0YqMVskeXUqTqScpu7CiiityAooooAKKKKACvIvF3/ACNF/wD9fD/zr12vIvF3/I0X/wD18P8Azrhx/wACOTF/Cjt/hT/yK7f9fDfyWumrmfhT/wAiu3/Xw38lrpq6MP8Awom9H+GgooorY0CiiigAooooAKKKKACiiigAooooAKKKKACob66jtYwz7mZztjjUZaRvRR/nHU8UX1zHaw+Y4Zix2oijLSMeiqPX/wDWeBVXR7O/vryW5jkhWRQUeeSMyRoc/wCqjAIzjHzN3IA7YX0MLhqXI8TipclGO77vsu79NjkxFeaapUY81R7L9WCx+XPHPep9pv5Cfs9vH83l+yA+ndzj8BgVpJZa1Jwy2NsP73mPMR/wHC/z/OrXhuwmtYZJryOL7ZPIxkZGLfLn5V3EDgDtgfmSTpVyZtxlWpVXh8tSjTjona9/NX0t23b3fYWDyCnOCq4y8pvW21vI5jULmTSZpItQmjkXyvMgdU2GU85jAJOWGB067hxxzPNbatZ2q3Nw0V0uAZo4IWDx+pXk7wPTAOPU8HoKK5f9ecx5KKSV4/E9Pf7aW935G3+rmD5qje0tv7v46/MwreaKeFZYJEkjboyNkH8afTm0SY3UzR6k8MM0plIjhXzNx6jc2QR/wHOMDNH9j3x+U6uwVfuFbddx/wB8nII/3Qv4V9nT40yeUU5Tadk7Wb16rbp32PnZ8OY5SfKk1fuvvKywzXurG1iu5LdYYPMcxqpJLNhc7gePlfpihftMGpvY3EsM22JZfMjQpgEkAFST/dPIPboKhuo9SsdQhkYwpcPmOKeMnyp8AtskQ8rwGIwTjB55wZ7WOUSTXFwytPcPucqPlUYwFHsAB9Tk967MHUxeKzB4qjWUsJKOiX821tVda3f4MxxMMPQwaoVKdq6f4b37PsTUUUV9AeOZOnx6pBZR2y2kG6MYeaSfh27uAAScnJwcdasJpcMjeZqBF7J281BsT/dToPryfc1eqvdX1rBJ5TSq0zfdgT5pHPso5NcdLBYbDzlWjFKTu2/z1ex2VMZia8VTb07IJrGylULLZ27gDADRA1F/ZGmDmOxhhb+9Cvlt+a4NXbfTNRuIxJc3n2TdyIoEVmT2Z2yCfoPxPWnNpF+n+p1RW/6+LYN/6CVrxp8YZMpunKtp3tJr8jvjkGY8qmo2+auZ/wDZiLxHeXqD088t+rZNH9lwH/WXF5J9bp1/RSBUsl1JasY9Rt3t2X+NVZ4mHqHAwPocH27lBqNo3KNJIPWOF3H5gYr16UsBUgqtPkafVW/M4an12EnTlzXXTUmtYIbeERQRrGi5wqj15J/Ooo7prpvL0yL7W2cGQNiFP95+n4Lk+1Lb276tceS8VxHZIMzeZE0ZmPZAGAO3uT34Hc10KKqKFVQqqMAAYAFfLcQ8YQwM/q+FSnPq+i+7d/Oy89UvZyrIJYmPtcQ2o9ur/wAjKt9ChcB9Sla9k7o3ywj2EfQj/e3H3qVtB0n/AJZ2S2/r9mZoc/XYRmtGivzWtnWZVqrqzry5vJtfdbRfI+vp4HC04ckaat6GaNB0z+KOaT/rpdSv/NjXK2V5HfeLNUsbPSIW0/Q7gQX7TatP9oGYlk3pbhWDLhgBlgWw2Bxz3lcRJ4Z8R6j4yt9f1BtH0+4sLW4giuNP8xpbvzF2qJdwG1FPzbMv8wBBHe6WbY583PiJ7fzy/wAwlg8NpanH7kX/AIb6j4b8TaIut6RpC26mR1VprIxuQGIDBmUbgwAbIJ6461P4k8RXdvr0egaFpsWoak1v9pn+0XPkW9pCWKq0jhWOWYMFUKSdrZwBmm/D/TNc0Tw9oujXUemJbadpwtpvs8kjszoEWMoSq8FQxbIzkgDPJNDxL4Z1hvFWoapplvoupWms2UFtf2GrbgmYWkKMpVXDAiQ5Qr1AIIrnqVPa1pOpLm7Xd+vc2jFQilFW9DSk8TppWmQyeKY4bG8mZwlvYvJe+aqcl0CRhyoBBJKDbnnsaNQ8b+FrLyDPq8e24gjuFkjjeREik+5JIyqRGjdmcgH1rj7L4Y3umrpCW66fqENppP2C4hku57ONWaVpZHVYgQ6sWwY2wPlXmtHVPA+qz3GuaTbPpsOh+IJ4GuJBuFxBAkMUTW8cYXZtKxHDbht3n5TS9nhr/F/V/m9h3n2OjuvGPhq21S+0+fVY0n0xC96CjbbYBFky742rlWBGTzyBkg4rr4x8JajpeoF9QHkWqIl5HPbyxunmkqiFGUNufBwoGTkYHIzg+LPDlxYeBdWeSWOS6vPEKapJst5pkmVLqN44pBGjPjyoo0YhSByeQKybHwt4h8UWFxr96ka3k3iNb+K1me4sUmtorYwRpuA82PDM0gYrkkAlRuwKp0qKXPzNWe/npt+NuwpOW1jqPCOr2mrWtwtrctcGxnNvI8kTRSZAB+dHAZWwRkEDkHtitasrQdMj0i8ktEs7W0draKWeO2dnUyM8u5t7AM5OBlm5OK0bh2G1E+856+lfuuV4p4rA0q0t2lf16n5hmFGNHF1KcdkySioDujnjAkZg2cg0q3Gdp8s7S2M5r0DjJqKhWVzM+V+VffpTbWRgqqyn5yfmzQBYoqH7QN3C5XOM5/pQ1wFRmK/dbbjNAEWt38em6e9zINzDiOPODI56KP8APAye1cprGp3OqfZ1nt4YVt2L5RyxdsEdwMDBPHPOPTlfFt3JL4imjlz5dmqiJe3zKCW+pJx/wH61QWQ7trJt4yOa/PeJs/rxrTwVHSNrSfV37fLT7/I/WuDuF8N9Xp5hiNZt80ddFba/d31+7zM248NaTPrA1KeO5llWZZ1jkvJWgWQdHEJbYGGBg7eDz1qCz8H+H7a++2RWcnmgzbC11Kwi83JkEalsIGJJ+UDrWu8paFjtK5HBzSmQqNqru2Dk5r4f2lS3xM/RvZ0735V9xnt4d0jyoY0gki+z2YsoWhuJI2ihBUhVZWBHKLyOeOtQN4R0MwwosN1G8EryrcR3syTl3ADlpQ29twAzknoPQY1o3Koi7SzMM9aFnyFOw4JxnNHtKi6sPZ03vFFVNF09NYt9UVZxdW9uLZX+0yfPGM4Djdh8ZJy2Tk561PDYWkOqXGoxxYurqOOOaTcTuVNxUY6DG9unrUrS43YXIXqc0GU7goTJK561PNJ9SlGK6GTL4T0GXWP7TktJGn+1LdgG5k8tZlAAkEe7YGwAM45qzHoWlJYwWi2v7m2ujdxL5jcTF2csTnJ+ZieeM1fjbfGGx1pqyEnIX5QfvZp+0m+pKp010RDo+nWelWIs7CHyYFd3WMMSFLMWIGTwMk4A4HQYFWqiE3Q7DtY4BzQ02N2EyFOCc1Lu3dlKyVkS0VHHIWk2lSOMipKRQUUUUAFFFFABRRRQAUUVFdXNvbIr3M8UKswVTI4UEnsM96AJaKKitbm3uYy9tPFMqsVLRuGAI6jjvQBLRRRQAUUUUAFFFFABRWJrOu3EWtf2NpGm/wBoXywiecNOIYreMkhd74J3MVbAAP3STgUsnijR7SSG11W9t7C+kRC9rJMGaNm6KSOMk5x644rT2c7bGftYXeptUVlr4i0NtYGlLqlsb1pDGIA/zbwCSvscAnHsfSktvE2gXGptp0OrWsl0rOvlK/JKglseu3BzjoRg80vZz7D9pDujVorETxf4Ze0W6j1m1eF22q6MW3HAY4x1wCMnt3xUs2v2VtcX3224toLezljh8zztzNKyBthTHDYZSACSc9qPZz7C9rDua1FQaZe2mo2Md7Y3EdxbyglJEOQcHB/Igj2Iqeod0aJpq6CrOk6ct/aMtrdFNQhyZYJzlJVzwynGV7dMgHjHQ1WoR5oZ47m2bbPCcoT0PqD7Hof8cV7GTYzDUK7hiqalTno7rVea6rztqeHnuCxmJw6ngqrhVhqrPR+TWzv0v1L66DrTf8sbRP8AfuD/AEU0688OXlpFA1nCLhmjxcLG4X58k7huIBznB78D1NdPpN5Hf6fFdxDCyrkqeqnoVPuCCPwqxX6XT4eyyFGdKFP3Z2vq3tqra/kfj9Xi7OZYiFWpU96DdlZLfR3XX5nLeG9IvxrEV1eWjW8duGZQ7oxZyCo4UnjBbr7V1NFFehgcDRwVBUaKtFHj5pmeIzLEvEYh+87LTbQztYsJp50urRo/ORSjJISFkXOeoBIIPfB6njuKi2mrMcfZ7WPHdrgn8gF6flW5RXg5twXkObYv63jcPzVLWb5pK9tr8rV7f8DY6MHn2Y4Oj7GhUtH0Tt6XRimx1YcgWbe3mMv67T/KlXTNSfl7y1iB6qsDOR9GLD+VbNFctPw94Wpy5o4NX83Nr7nJr8DaXE2byVnWf3JfkiKxgS1sYbWMsywxrGpbqQBjn8qloor7M8EKKKKAK+pWUF7CElDKynMciHDRn1B/yD0ORWPdLc6f/wAfoDwjpcxjCj/fH8P15HuOldBRXzPEfCeV8QUeTFw99fDNaSXz6ryd189T1srzrF5bO9F+694vZ/5PzRhqQVyDkHoRRU95o/l5l0xlhbOTAx/dP9P7h9xx6g1SE+yYQXMT28zfdSTHz/7rDhvwOR3Ar+c+J/D/ADbI3Kpy+1or7cVsv7y3j+K8z9OyniPB5glG/LP+V/o+v5+RNRWL8RtU1jRPAuq6t4f0R9a1S0tWktNPRtpuJAOFz+uBycYHOK/P2z/aj+O3h7xVeNqWsrJJ9oYz6XqWnIEhbP3AuFkQDpgMK83h/hPHZ7TqTwsork6Sdm/RJP73ZfieljMwpYWUVNPXsfo5XwD/AMFCvF3wv1jxr/Y3g3w9p0muWc5/tfXrX5FdxkGEBCFlYH7zsCRjAPXDfil+2H438XfDiTw3ZaPaaDe3mUvdSsbhyzxEcpErDMZPdtxOOmOteJ/CzwR4j+IfjS18MeGLFrm9uTlmPEcEY+9JI38KDPJ+gGSQD+kcG8GV8nqzzLM5+z5L2SlpbrKTTtbsvv7Hi5lmUMTFUaCvfy/BHO1237N2u/8ACNfHvwjrLPsjg1iBZmz0idxG/wD447V9LftB/su6F4U/Zb+0eG4jeeIvDrHUNRvyuJL6PbiZQP4UQAOq9gh6liT8axu8ciyRsVZCCrDqCO9fd5bm+B4iwNb6u/d96Dv6b27NO6PJrYerg6seffRn7GUVj/D3Wl8SeAdE8QoQV1bTbe8GP+mkav8A1rYr+V6lOVObhLdO33H3sZKSTQUUUVAwooooAKKKj86L7T9n8xfN2b9meducZx6ZqowlK/Kr21+QnJLdmR46XzbXTLUfen1uwKn/AK53KTH9IjXZ1xvjAfaLvQtNHyte61AQ/wDc8gNdH8xblf8AgVdlX69wLG2Ut23m/wAor9D5jOXfEr0X6hRRRX2R5IUUUUAFFFFABRRRQAUUUUAFeReLv+Rov/8Ar4f+deu15F4u/wCRov8A/r4f+dcOP+BHJi/hR2/wp/5Fdv8Ar4b+S101cz8Kf+RXb/r4b+S101dGH/hRN6P8NBRRRWxoFFFFABRRRQAUUUUAFFFFABRRRQAVFe3CWtq88gYqv8KjJYngADuSSAPc0l3d21rt+0TLGXztBPJx1wKoTXL32oW8drA0yoxeJT8vnsBjPPSNd2Sx7gYyevfgsDKvNSmrU1q5PRJLfXY5cTiVSi1HWfRdW+mhNp9hdXupbZZvLnEQaeVOfs6MTiOLPGTtOWPp05UBnirxZ/wjN1Ppmn6DJew6TpI1G8MdykfkQZcDG77zHypDgkfd610mi2P2G2YPJ5s8z+ZNJjAZsAcDsAAAB6DucmuafwNZ6r411rWvEMP2mG6a3itLcXcoieCKMHE0QIR/3rykBgwx9SK+dzvOKePxTjH+BDSEduyv01er11t8zvy7Ayw9Lmn/ABJfE/0+Rr23i7w3NqFtp/8AbFpHe3aI0VrJKFl+dd6qV7MV529ao+IviJ4P0a0uJrjW7WZrWdbeWGCVXkWQyGPYRnghg2QegUmsXTPCXiAzRaZewWK2Nv4hl1mW/S4LTXh855YU8vYNhGY1JLEbY8DOeHReENYsfh74e021t7Ke+s9Th1LVIjOY0uJdzSyEPtOSJmVgSOQv0rxPZ0E1d/iejzSOo8ReIbXTNBtdUiT7ZHe3NrBbLEwHmmeVI1IPp8+76A1Yj1zR3htpU1O1Md4HNu3mjEoQEuQe4UA59MVS8X6Rdatq2gGMxi00/U/tl2Gb5mCwyCMKO/7x0b/gNcVJ8Odcn0DWba4nspHV7iDRYDIwjFrLeG4kWVtvDSLsiOAQFQdckVNOnRlFc0rP+l+G/oNuSex3Fj4v8L3thc3trr+ny29ns+0SrcLtiDHClj2Ddj0Pan2finw5daZcajba3ZS2lrGJJ5lmBWNCSAxPYEq2PXFcnq/g7WfEWozahq9rY26X0+nwTWKTGVUs7WZ5yGbaAzPI2CuMBcDJ5pNY0WfXvjLcxQMv9jQ2lk2s/Kf3s8EkssEIPQ581Hf/AGVUH71V7Gi7+95/l/wfwFzS7HdapYx30CxvJJG0bh45IyNyNgjIyCOhI5HeqcmgwooNndXUEo6s0rSh/wDeVyR+WD71rUVphc2x+Eio0K0opO9k9L+mz+ZjWwWGrNupBNvTYxf7L1b/AKCVkfb7E/8A8drl/izJLonh2ykudfks5tQ1S3tBcx/uo7dGbdIyrzk+Ukn3iwzzivQqztW0a21DWdL1KeSXzNJlkmgRSNhd42jJYYycK7YwR1r1ZcWZxVtGpXdvJRi/vSTOSGS4Cm+aNJX87v8ANnnXhHU7x/N002uq6/cy3M0unO9y1p59igjHny7iAMyM6LgfOFBxjJre8OeNbO+m02y8MeGLib7dpsWpSBTFAlrFI7KPMOcFso/Aznae3Na/ibwomra0NVg1nUtLuGszZTtZNH++hLbtp3oxUgk4ZcEZPPTE2h+FdK0iS7NgssUd1ZwWQiDDbDDCjKiJxkY3seSeTXFis0q4qH7+pKXZNtr87fcddHC0qL/dwS9EkU/hb4i1PxF4Lj13WdPisVuC80BSUMrwFmMbdTj5NufU5IABxXE/D3x9rGoTRapcapcXVnFpU+qaza3GnC3FhEQWt/KYqrSbgrDPzqQpORxn0DSfDEVh8Px4TGp301utibKO4fy1mji2bFxtQLlVxglT05zVTWPAej6hbyQNNdwRS6KdGdIXUBrfIPdT8wAI9MM3HpyRqUFKd1o3p5I2tKyIPC/ifULprXTbfTL7VJLWK2Gq3sskMRgklRX2lRtDMqOrMFAABGMk4rG+H/j65ltFl1qxuxb6j/aV/Z3rum028MxKgIDuCiJowGPUg9iCeng8JrbeINQ1Gz1vU7WHU5fPuLKIxeSZvJWHzATGXHyohwGxlQcdqq3Xw/0afRYdL+0XscFvoMmhRbHUFLdxGHIO375ESDPTjpS58Pqmt7fk/wBfwC0jI/4Wfci1klPg3U0ZdHGsBZLiJcW2G3M5LfIfl4XknPQYbF/W/iFDZQ3l3a6LeXljpUcUmp3CuifZvMVXCBScu6o6sQOgYcknFaWueDtM1QawJ5rpBrenRadOI2UeXAnmYVPl4z5r5znr2qte+BbC51e8uH1LUFsdQu47y80tTH9nnmjVFUsdnmbcRR5UMFO3kYJBObDN7W+/y/4IWn3IZ/Hqp4jk0+PQ7yS0g1iPSZL8SIE850RhtUncwBfDccYzzyBn3njLUdZ1rQbTR9PurbT9U1dki1Eyx4uYYFkeT5M7lV/LwpxyD2yM9Bb+ENNi+x/v7p/sesT6sNzL+9ml83h/l5VfOO0DGNiZJwc0vCngCw0PU9Ou01bVLxdIt5bbT7e5ePyraOQrkAKikkBcBmJOCck0KWHSbS1+fn+tvILTOtooorjNAooooAKKKKACiiigDBugU8SXinnfDDID6A71x+aE/wDAqJoyzKythl6ZqTXlC69ZyL1kglR/cAoQfwyf++jRX7twvX9tk9CXZW/8BbX6H5pndP2eYVF31+9ESxMWLu2WxgYHAoWEhY1zwhyfepaK948oh8p8SDcMPntTvK+ZDnhFxUlFAEMMTR4GUwO+3mkaDmRmYYOcZ7VPWD421Bo4BpkJxJcoTKw/gj6fm3IH0J7VhicRSw1GVaq7RjqzqwWDrY3Eww9FXlJ2X9eW7OYkZrxprtm+a6k8wH/Z6KP++QtL5bHcWYbiMDHapOnAor8QxeJnia860t5Ns/pDB4WnhcPChDaKS+4jaPMarnhSM+9NaJjuAYAMc9KmornudViMRkPuB/hwKBFhUGfunJqSigLELQsVZd42k56UbXaVyp29uRU1FO4rDEQrtAb5QOlNjjYKULDbg9qlopDIlib5QzAhegAo8o+XtJ6tk1LRRcVhqpiZnJ6jAp1FFAwriP2idZm0T4S6ncWs7w3E+y3hdGKsCzgHBHI+XdXb15L+1gbi40rQNMSxvLq1l1Az3X2aBpCEQAY47kSHGfSurBxU8RBPv+WpyY6bhhptb2/PQ4fa9vJ4Xj8DeNdY1PxJfGNr62W9M0EXygvuGMBQ2chieAc16p45+KNn4d8Zt4Zi0S+1O++yrLFHaDc0sjHiMKAT935ifTtXCX2mxeN/iB4fm8GeCbrw9aaXcia91CWwW0DAMpwAvDEbTjvluwya6f4WWE+o/HTxn4mvLOWNYJFsrSSWMqGA+UlM+0S8j+9716NdU5LmqK9k3brdvS9jzMO6sXy03bmaV+lktWrmprfxOWyk03TLXw3qF94gv7RLmTSYT81orLnErEfKfbH1xxVnwJ8SdL16x1eTULSfRbnQsnULe6OfKUZ5BHX7pGMZz9RXDQaw3gT45eKNW8Q6PqdwuqIosLi1tjIHTghAeB0Cj2K1nzeEfFeo/DPxp4lm0yeDUvElzHNFp4U+ctuku8jb1yQenUhOnNZ/VaHKrq1+Wzv1e/ySNPrdfmdndrmurdEtPm2dVcfGlYrNdZ/4Q3WP+Efebyl1NiqhucZCemQf4vbrVX48XtrrXjLwLpCTobK4uv7QndjhfJXadxz0GwSdawtY1e78c/DvRfh54X0DUoZVS3j1Ge5tjHDarGBnLd/mGfU46ZOKf468F3fi34qX+h28VzHb6D4cS3sZypVHlVVKru6HPmEH2B9K1p0aNOopNcrXN1vpsn+JlUrVqlNxT5k+XpbXdpfcdzb/ABIi1jw94k1XS9MuU0vSLSYwanKQqXMqqcKi9evf6ZxmuV+CfiK38F+CfCOkXWnyvJ4svJnWdXAWNjIsa5HfIKfnVG+1jVLv9lZtKGj3cF/DNHpjwpaMpIVg+4KB3UYJ9SfWr/x90xvDfwv8H3kKAzeHbu2QDOMkR5PPu0a/nUxo01+5tZSk1v2Wj+9lyrVH++vdxint3eq+5HeXPjuzj+JFx4SSylkaysTeXl2HGy3ULuwR16Ff++hXHt8dbV/D41i08JapcW0T7byUMBFbEthQXxgseDjjqOaoaTpOr6X8GPFXjLVLeWTXvFELMY0jJeKKQ7EUAcjhy3sNvpVbxtot/pn7NXh7w1YafM13qtxAbiNIiWBfMp34HBDbBz6e1RTw+G5kmr6pb+XvMqpicVyuSdtHLbz91f5ntmj3sOpaTa6jbbvJvIEmi3DB2soYZH0NWKg0u1jsdNt7KEfu7aFYk+igAfyqevJdru2x7Mb2V9wooopDOZm07xBp/i/UtT0mDTrqDVo4d/2q5eJrd41K8BUbepBBxlec+uaz5vDWvy6pNbv/AGf/AGfca9Hqc85lYzTIhRkj2bcDaY0Gdx4UV21FbKvJdDB4eL66f57nH2PhS/jh04PLbJJHqd5qV5IhJLTSrKseOBnaJR1x9wVmWfhPxQdHt7SUaXbNpvh+fTrIRTu+64kVF89iUGAQhOME8nk549DoqvrE/wCvn/mL6rT/AK+X+RyfiHw5fN/ZFtoUFvaLpSJHbXwu2je3TKiRPKCFZFZEXgkc+mAaoal4R1aS+h1ACG4kXVLy7khTUJbUkSARxMJUXduWNQCOnzNzxz3dFKOInEJYaEipoVlDp2kwWcFtHbrGvMUbl1Vjy3zHBbLEnceTnJ61bopGYKpZiAAMkntWOsn5m+kV5C0U7SrV9Sv2ht7naxtjLD0MZKsAQ3GcEOOR0x36G/pugX91dBL6FrW3U5c+YpaT/ZUqTgepOD6eo97C8N47ExpVKaTjO+v8tnZ3+7pc+cxnFWW4OdanWk1OnbT+a6TXL338rddC78PzLtvVH/HuJF2/9dMfPj2xs/En3roqjtIIbW3WC3iWKNBhUQYAqSv1fB4f6vh4Uea/Kkr+h+GZljFjMZVxKjy87bt2v/WoUUVneJNT/syzUxosk8zbYlbp6lj7Afrgd61qVIUoOc3aK1b8jnoUKlerGlSV5SdkvNmiTgZNYknijTVmKolxLEDgzxoCn1HO4j3AOe2awdQv9Q1CPy7y5BiPWKFNiN9eST9Cce1QV8VmPGdKnJRwcebu3dL5LR/N/cz9Hynw9qVIOWYT5X0UWm/m7NfJfed5azw3Nus9vKskbjKuhyD+NSVhfD9JF0ueUjEU1wWh9xtUEj2LBvr171u19lh6rq0YVHGzkk7drrb5H57jcPHDYqpRjLmUW1fvZ7lPXbqWz01p4VUvvRAXBKruYLkgdcZpuk6j9qdreeMQ3MYyUDZDr/eU9x69wfwJt3EUc9u8EyB45FKup6EHgiudaCRLh7VpmE9m4aCf+LaR8rH17qfXB9a+W4nzvFZFUo46S5sLflqK3vRu/dmu/Zr0tq7npZTl9DMITw60rbxfR23i/wA0zd1WWSDS7meEAyRQu6A9yFJFQ6DePeWbedt86F/LkK/dY4BDD0BBBx25HOKz7y81G60+Sze3t4/OQxvMsp4BGCVXb1x2J496m8PkLq12nTMMTAevLj+g/SowvGGX4/OaGCwFZVIyhNyt0a5HHVre3PdfeVWyPE4bAVK+Ig4tSil6a3/TU2KKKK+yPBCo7mCG4hMVxDHLG3VHUMD+BqSigDJudHMQ36dM0ZH/ACxlctG30JyV/Dj2NeafGz4PeA/ifb/ZfGOgG21PZtttTt8R3C4H8MoyHA5+R89ztHWvYaivbaG7tmguE3I3bOCCOQQRyCD3FfFZ1wPl2PqPFYW9DEracNNf7yWjXfZvufQZdxFi8KlSq/vKfVS1+59PyPyi/af+EepfB74hDQrm7a/0+7hFxp195Xl+cmcMpGSA6ngjPdTxnFfVH/BLZtAl+EOsGz0+CHWoNUMd/cAZlniKK0RJPRRmQADjKk9Sa9B/ba+EN58Q/g3dW9hbm/1XRt17pUiqPP3AfPCQOGDqMcY+YJwcZrxT/glhoHiyy1DxLrs9jJb+HL63S3WWXKme6ic42KeoVWkBPYkDrnHxXF2HzBcJ1KeaNRrQa1T92pZrVbbp3tZNNbLQ+vyjFYatjlPC6xfTrH1/z/E+xbiKKe3kgnjWSKVSjo4yrKRggjuCK/LT9p/4eS/DL40av4ZCMLHzPtOmO38drISU57leUJ9UNfqdXzb/AMFKPhsfE/wrh8a6db79S8LsTPsX5pLNyA/12Ntb2G+vzvw7zz+zs2VCo7U63uv/ABfZf36fM9/OML7bD8y3jr8up2H7BOu/27+y54cLvum00TWMvPTy5W2D/v2Y69ir53/4JreHfFHh/wCBt2+v2TWdnq2pG+0xJeJHjaJFLlf4VbYCueoyehBP0RXz/FFOlTzvFRpSTjzyem2rvb5XsdeBlKWFpuS1sgooorwTrCiiigArHvry10+WTV7+ZYbZVn/eMDwqGJMYHJJffgDkkjHJrTkaaa4FnaAGdhlmIysK/wB5v1wO59gSJ9b06xbTbHS/s6TSJLGbYyKGaJkIbzc+q4zn+9j1r9g8PuDquMy7F4zEv2dOpBwi32bTlJLt7tk/N9j43iHOoUcVQoUvelGV2vlZL8bnI+INQvtRSztxoepaPfPP5+jXN/5PlS3EamQRMI5HdA8ayBgyqdm8cNgV2vhnVYNb0G21S3R41uEy0UgG+FwSrxuB0ZWDKR2Kms7xpo2p6hqWm6lpdxa+bpplItrtW8qRnULvDLyrqu8A4YYkYY5BFrwVpE2iaCLK4ukuZ5Lie5mkji8tC8srysFUk4UFyBkk9zya9bKcslltWdCiv3DSau7vm2fyat89h4rELEQjOXx/p0NaiiivcOIKKKKACiiigAooooAKKKKACvIvF3/I0X//AF8P/OvXa8i8Xf8AI0X/AP18P/OuHH/Ajkxfwo7f4U/8iu3/AF8N/Ja6auZ+FP8AyK7f9fDfyWumrow/8KJvR/hoKKKK2NAooooAKKKKACiiigAooooAKKKKAKepYXULB0/1vnlB7oUYsD7cA/VRWp4TiDWsmosPnvHLKf8ApkCQgHsR831c1i+aon1DU/vLaRGKMnnBUFnx+OAfdPaun0e3+yaRa2v/ADwgSP8AJQP6V2cSzqYXJMPh2/4jbfotbfe0/U4srUK+ZVaqXwJL59/wsWaKKK/OT6cKKKKACiiigAooooAKKKKACiiigAooooAKKKKACiiigAooooAKKKKACs3xNrVtolrFNPFLM00vlxxRbdzHBJPzEDAAPf09a0q8417zNe8dTWtldLNudYYZkYMsEQRGkYdRwxb6ttU9Bi4Ru9TkxleVKmuRe83ZHoOn3UN7p8F5bktDcRLLGSMEqwBHH0NTVxnh3xXNL4ZutWh0uxtdB0+CdYJpdRbzVMBKbZYxGfLB2nozEDqMnFaOi+Jhc+KrzRb1YLeS3eKCII5bzZzB58qAkDIVGQjgHrScWVDFU5KOu/8AX420OiorCvvGXhi0tY7mfV4VikEjBlVmwsblHc4B2oGBBc4X3q1B4h0abxBJocN/HJqEOPNgQFjHlA43EDC5VgRk89ulKzNfbUm7cy+/vsadFZWl60t74j1fS1g2JpPkq85fh3dN5XGONqlDnPO7tjnOm8e+GW07ULix1SG6ksNPmvzGoYb4Yxy6kjBQkgBhkHsTg0WZLxFJK7l3/DcveIwU1TT5j91vNhH+8VDj9I2ptYus+K9N+waU+oXcMd5DcxreQwq0nlztbSMYlABLMM/dGSBgkVpaXe2mpafFfWM6T2867o5E6MK/ZuC6qeUwg3qnLTra/wDwT4DiCUZY5yi90ixRRRX1p4gUUVWtNR0+6uJLe1vraaWLPmRxzKzJg45AORzQBZrhNSuDeatdXRPytIUj/wBxflGPYnLf8CrtdRlaDT550GWiiZwD6gE1wNqvl2saA52oBk9+K+N40xMqeDp0V9t/hH/gtfcfonh1hI1MbVxD+xFJesv+AmvmSUVXt76yuLiSC3vLeWWLPmRpKGZMHHIHI5pyXdq9l9sS4ia32l/OVwU2jqd3THFfmlmfr90TUU23ljngSaF1kjkUMjqchgRkEGnUhhRTWliEgjMihz0UsM/lTqAumFFMhmimDGKVJNjFG2sDtYdQcdxT6BJpq6CiiigYUUUUAFFFFABRRRQAUUUUAFFFFABRRRQAVynjTwNa+KfFGmalq1/NJY6Wd8emBB5Ukn95z1Pbj0GO5z1dFXCpKDvF2ZFSnGouWSugoooqCwooooAKKKKACiiigAooooAKKKKACrWg2R1LVkjK7re3YPcE9D3VPxOCR6A56iobK2nvr1bO2wHYbmdhlY1/vH19h3P4kdnpNjBp1ittADtXlmb7zserH3Nfa8K5HKtUjjay9yPw+bXX0X5/M/PuNeJIYWjLAUH+8kve/up/q19y+Q61s7S2klkt7aKJ5m3SMigFz6n8z+Zqeiiv0k/HLthRWJeeJ7OG6eGO2urgRsVaSIJtyOCBuYE4Nathcw3lnHc27bo5BlSRg/QjsQaxp4ijUlKEJpuO6TTa9ex1VsFiaFONSrTcYy2bTSfoTVxOuX51PUvtCjbBCpjgH94E8ufrgY9gPUiu0mkSGF5ZWCpGpZmPQAck1xfmeHZJGb7Jqluh5UBsqT7AMSv0OBXk8QUp18L7CNaNPmevM7XS6L8Ln0HCVWGHxjxU8POryLTkV7N6Xf42KtWtD086pqPkNuFvCA1wwOM+iA+/f2HbINOU+GfJcy2uqeYv3EaV8yfQo20fiRWt4HuDNFcxx2EVrbROoTY5cs5zu3MeWIG3n3x2r5zJuHMPTxcKlWtGpZXSjqnbq/JP73ofX8QcVYqeAqQo4edK7UXKXu2v0XW7XbZal/VNTsNJiSKQ/Nt/dQRLliBxwOgHucCsDUPEGpXLYtttlH2IAeQ/UkbR9MH61H4pjeLxLcGT/luiSRn/AGQNpH4EE/8AAh61X02xn1O8NrA3lqoBmm/55qc4x6scHHpjJ9D05pm2aVcxeXYOPK+/W1r3vsl8r+fQ4slyHJcPlUc1x8udWvbone1rdXfvp5HUeFLy4vtGWa5wZA7pvAx5m1iM47dOfcGs6zf7QZb0ncbmQsp/2AcJj22gH6knvWjrSJZeGZoLVfKRIfKTaf8AVqfl3Z9gc/hVRFVFCqAqqMADsK+L8YcyqUcBhcvTb525Se1+VJL72726WRx8G4enVxdfFxjZLRLtd3/BKwtNtm8rXbOTtKHgP4jfn/yHj8adUGpFktfPQFmt3WYADk7SGIH1AI/GvyHg/MFl+f4TEN2Smk35S91/g2fY51hvrOXVqSWrTt6rVfijo845NV7W/sbmYxW15bzSKMlI5VZgPXANUvE0iS6SgV1aGaaNZCDkFSRgfQnaPcGqVwRDNa3KjBgnT8FY7G/DDE/hX9LZ5xjSynOcJlk6Tftre9eyjeXKtLO+u+qsu5+WZdkc8bga2LjO3JfS29lfvp+J0Vcd8SvGs/hzxl4M8OWNhHd3XivVntWDyFfIt4oHmllGByQFUY6fNXXzSJFC0srqiIpZmY4CgdSTXieleJNA+Iv7Vema14e1ez1fQPBPha5nk1GzmEtvFeXkiJ5ZccbhDC5I6jPPevr5ytZdTx6UOZttaJP/AIH4mpb+PviZ4m8b+KNN8B+GPC1xpXhnVBpb3mr6tcQSTziGOSQKscDjCmTb17Vc174u2fhz4hatofiZLOz03w/4attT1S/jlZyt3NKyJbRpjLlgjFf4mJUAVxX7KHgOfXfAlr8R5/GPi3T5/E+s3evz6ZZ6gsVnJ5l07IHj2EkNGse75uQccVxPiexupPiR4u/aDhtn1K18HeOVtL3TGHmRzWFnbJbS3CIePNheSWRG7Yk55rHnmop9/wAjqVGk5uHbT57fjqfSvws1nxJ4h8Mf2z4l8OjQHu5mey095t9xHbcbDcDGElPJKDO3IBOc151+1N8UU+G09kuh6Quoao6i+1UCTZHZ6cJUha4lA6kvIqr0Jw3OFxXqWqeJ9CsPA83jC41GEaLDYHUGvFOUMGzeHHrlcEeuRXzRq3hn4u+KvhJ8QPGd74d8LbfiBpb3KrfancLf2FgkJNtbrEsBQMq/PjeNzudxHbLHYajisPLD14KcZLVNXX3f13DAzlSrqtF8tn3se3+PNZ1fSBplnZf2Lb6jqGpQ26pql4Yop4ySZPIIGZJQisQnB4yeOtiXxj4RTW4tFk8T6ONRuLl7SOzN9H5zzKoZowmc7gGUkYyNw9RXlp1uLx54u+D0ss58ux8HXPim9Ofuyvbw28R/3hJNJj3FZPwROiaB8BPEvxp1G0tP7b8QS6pry3E6qZEQPMYYoyeQu0AgDu5r+f8AjTgTA5XKNXCN8lR8sYLWXM9bXf2Ur20b0s3rc/SMjzyvi4ONdLmirt7K12vv/wAz2GPx/wCBX1ay0uPxloLXupEiyt11KIyXJDFcIobLfMrDjuCO1TeMPGfhHwmYR4o8T6Roxuf9SL++jgMmOu0MRkD1r5l8KWPgPUPgN4B+Hngi507VfFet6lp19qstsRJd2DRSJNdTzn78YjCmNQ2DggAV2HhXxh4D0Xxf8Utf+Id3pz+I49dmsLfTbzY93Np8caC2ht4W+Zll3McIMMWyema+Sr8N0qc5cinLlbXLa0pWkoqSXSLu90/h89PajjZNK9lfr0Wl7eb/AMz3TUPEWgWGm2uoX2uabbWd7/x63E12iRz/ACNJ8jE4b5FZuOyk9BXFeJfjl8NtI1jw9Zf8JZotzH4gkk2XceqQCG1iRHJmkctgKWjKD1bgcivJvCPgqSb/AIUz8NPFti1x/Yml3viDVNMkG75i6pbwMp4IV7gqQeMIQeM13Os2XhNf2yND0XxYug2sNn4SeTTLG4SJI7i6urwRiOMNjzXCxNwB1fgdTX0XD3h9DMqyfM3R95OeiW8oxst5N2U2tEk1d6o8zMs/WEht79k+Xr0bv2XT19D11NQspAvkXC3BYBlW3/esQRkEBcnHvVu3sL67+aYtZQ/3RhpW/HlV/U/Sti3hht4VhgiSKNRhURQqj6AUs0kcMLSyuqRoMszHAA9Sa/Tcj8K8ky6oquIvXmv5rcv/AID1/wC3m15HxmYcYY/ExcKS9mvLf7/8kiOxtLezh8q2iCKTlj1LH1Ynkn3NVtfji+zpcmWGGaB1aKWV9gxuBZd3YMBg9fpxTVmvb35rfNpb9pHTMsnuFPCj65PsOtMt7K6/tj7XdSwzqsPlofLwwOc5A6A4zkjr8vAxz9pic2wNGEqaak0rcq2fS17W2PJw+W4uc41Hpd79fWxPpN39ts/PCqPmZco+9WwcZVuMjjrirNFFfAVJRlNuCsui3t5XProKSilJ3YUUUVBQUUUUAFFFFABRRRQAUUUUAFeReLv+Rov/APr4f+deu15F4u/5Gi//AOvh/wCdcOP+BHJi/hR2/wAKf+RXb/r4b+S101cz8Kf+RXb/AK+G/ktdNXRh/wCFE3o/w0FFFFbGgUUUUAFFFFABRRRQAUUUUAFVNWmdVitoZNk11IEUj7yr1Zh9Fz7ZxVuquoQStJHdWrKLiEMFD/dkU4yp9M7RyOhA6jIPZl7oLFQdf4L6/wDB8r7+Rz4r2vsJey+K2g+6it7TQ5ogu2CKBsjOTjBzyep9639NWRNOt0m/1ixKH+uBmsBjHqeiNtDBLqAjafvDcMEH3Ga3dHna60m1uW+9NAkhx7qD/WunxCv7LDvpeX/tv/BPP4V+OtffT9SxRRRX5gfZBRRRQAUUUUAFFFFABRRRQAUUUUAFFFFAGHH4v8OyWei3S6kvl+IXCaZmNw1wxUuPlIyvAP3gMcDqRWhp+qWN9fXtpaTeZLp0whugEbEblFfbuIwTtZScE4yM141aaF4ltvCdvrUvh6+nu/C+oQWmk6eI/wB7LClzumlUdg4KDP8AdhB6Grut+E9TTVrbRNXkupbKbTfMkuINIlvEn1GeWRrmXKHbE6/u9jSAhVPGMGvQlhaV3af6/wBaW/HsZc8ux7JUGm3trqFkl5ZXEdxBJnZJGcq2CQcH6g15pdaXcL441GS00e91mNNLmiL6nYyLJavFB5SJDO+FlSb5iVXPLFiecDDg8OG10Tw1pUOl3ttoq6OftETeH7i5M9/8kbPNCpUo4VCVaQFfmJ9DURwsGvi/D1+Y+d9j26qPhrVrTXdBtdXsfM+zXkfmQl1wWU9Dj0PUexrz268MXdmfEWpLaanqNxoOjwafoAnZneeSK2ZxMB0dy820vjqrAd6z18JXcvixdA1R76Gx06KxtNHkt9KllEcMUMZaSO5B8uBjIJFYsu/aq4OMUo4em0/f/D+u6/EOZ9j1i1vI7i8urdI51a1dUdpIWRGJUN8jEYcYIyVyAcjqDUOoata2etafpcvmG41IyeSFXIAjXcxY9hyB9SK8v1OG7imivPE2i6pd6PdXmrX9zaRwO4aRZEjtFmHRU8hXYF8IGwSRgGsy10Iv4HsdT1ywuJrXSfB815FFNI5Sa8vHaUxFif3jL5aDBJ5ZT1xVLCwtdy0/4fz7/gxOpY9d8ZXtpZ+HboXU5j8+F4owgy7sVOAoHJPf8M9K4/wE8kWtSRwC3W7k0+RbbzciPeCh28c4PBIHOFPpWOt5Pc6fpUFwZJDYWSWcBO55bghVDyEYyS2wHGMgDJ6kBsl1BHIrfa1t5omDIwcK8bdiM9D7HryDwcVmqdk1c8LEY1SxEZpaR/p/8A3LvwVrep3up311FpOmNq32SK7tbGeSSOdI7gSSyuxjTdI0YZB8vQ8se02seC9dmszPp+pWlrqjeIZ9RF0QzCOKSKS3GBjl1hZODxuXGcc113hu5urzQbW5vYfKnkjBddpXJ9cHkZ64PIzir1c/M0epHB0ZR5tdf+Hv5PU8/b4ffZvEp+z2FreaNJZWtkYJ9UuITDFFuBVoUUpcA7i2HI5LZ6103g3RZdJfVbi5MLXGp6lLdM0WfucJEpJA5EaID2BzjPWtqihybNqeFpU5XijhZPDXimSz8WaZnS4ofET3TxXyXchmiLwiKLMflgfKqJnD9uKrX3gvxFq8V/8A2k2k2q3Om2umW9raSyOkEAm3XA3lFJLIFC8DoAcY3H0OijmZm8FTe7b/AKf+b/qx5R4g8Da1p1nojRS21zZ6Hc3cUcQv57N5Ybhk8uSSWJS3mKcq3BDAlick12mj2cOn6XBZ29vFbxwxhRFF9xfXHrznk9a6C5hiuLeSCZA8cqlHU9GBGCKwIhLZXf8AZ907OwBa3mb/AJbIPX/aGQD68HvgfpfAmY0XGeEnpPVrbVdV3ut/T0Z8nxDlbpSWIpr3dE/K2i+VtP8AhyxRRRX6OfLlXXL6LTNFvNSn/wBVZ28k7/7qKWP6CvDfDd9LoVlZavDJouqXWj+Fru8MunLg21xJ5ZP2tgzbtxZsYK/cc4PBHvbqrqVZQysMEEZBFMht7eKIxRQRpG3VVQAH8KmUbs1p1FFNWPIPEetavHofi9tK8ZXOr2uh6LBPPcskDIZmdnmCFEA2+VERjnbvIzkcO8OarcTaJqXiO9lYWMjvPZRlQuy1RAA3r8+1n57MB2rv/iNo9lfeBr3TnVobaRFWWODCCVAw/dtgcqehHcZHQmufKIY/LKLsxjbjjHpivgeNpWdCL/vfofqXh3Hmp4ia01j+TPINAS70SG31HVo7OK603w5Pq1q1tCRJPJIP3iyseWKs64A4JbPYVZ8V394+j6j4el197K5t1tNItrG3WJWu5J44xJKy7Sdp84gbdoGw45r1V4on+/GjcbeVB49P0H5UjQQtN5rQxmTAG8qM4ByOfrXxv1tOXM46/wDB/wCH+8+/+ptR5VLT/gW/y+486k127n1+3tbPX5La4bX/AOzoNKhWMqlrC37xnBUsCyxuQ2Rwygd83Ph9quu6/rUGpS6vbR27NO82ni5R2EYJVEEQTcjKdpZi55yMYIx0tv4ctI/EH9ry3N3cTJI8kKTOuyFmBUlQFBPysyjcTgEgYrSZLW0Wa68qOPgvK6oASBzknvSnWp8toxKjRqJ80paL+v68jhdYOi3lr4kuruG1udQuLt7XT4sK0++ONY0Ef8QPmBjkdOvatG11XVo9afw/JebrmGeGaSbYv7u1EKNITx/FIGUE8/P7cX/DWrabe6gNmiy6fcXNp9sSSaKIGWIkfMWRmwckZDYPNWdNOiRLf6tHqVvcLcSf6TcvOjIgAwI9w4Crnp7knJNch4tDDczVWnVSu25WvG695u+zu3Jf4VqjjNB13VYPD0ksbrbzSzxtHbsq5f7XJ5gnZm4wN7Kq5AypBJ6Dajn8RNJY6f8A2sFe+vZCJtsUskdskXzAlUCbvMIxgcZGc81v3FxoR09riebTjalRE0junl7eoUk8Y5BxVe11TSIdc/suMWduIYIzbvvRQ5lLfJGO/CA8dcigdLBSoqEJ4l20Ss2urfR9Ypq91t3NeFWSFEaRpGVQC7AZY+pxgZ+gp1FFB9KtEFFFFABRRRQAUU2aRIoWllcIkalmYnAAHUmqVrrWk3Hh/wDtyG/gbTvLaT7Vu+TaucnPtg/lT5W+gnJLqX6Kp6bq2n3/AJP2O5WYXFstzEyqdrxHowOMc/nT7e/tZ9SubCKTdcWio0y7ThQ+dvPQ/dP6etPla6C5ovqWaKKKkoKKKrWV/a3d3d21vJvksZRFcDaQEcorgZ6H5XU8etFmK6RZooooGFFFFABRRRQAUUUUAFFFFABRRUljbXN7efZbUQ+Z5ZkPmyFRgEDjAOfvCujCYSti6yo0I3k9lotteuhy4zGUMFQliMRLlhHd69XbpruR1Lp9pcX98LW2MatsLs8mcKAQOg6nnpx0PNTSaRrKNt/s15Md45o9p+m5gf0rU8J6Xf22oPd3UawqYjGI94Zicg5OOBjHqetfS5Pw3iXjorGUX7NXvrps7bPvbb8j5PPuLMHDLZywGITqu1ravdX0a7X3NDw/pKaXHIfOM00xHmSFdowOgA7AZPc9TzWjRTLqaK3t5J5nCRxKXdj2AGSa/TqdOFOChBWS2SPxatWq16sqlWXNKW7fUfXO+ItfcSSWWmMu9crLcEZEZ9F9WHr0B9eQKesa/dXymG0WS0tz95ycSv8ATH3B+v0rMjVUQIihVUYAHavjs84qp0IujgpXn1lul6dG/wAEfoXDXBNStJYjMY2h0js369l5bv03b+7t7f8AuxxL+QArpbe4fQPCdt5kO+4kY7Yi2MO5ZyCfYZ/KudBjWaFpgDEs8ZkB6bd4zn2xnNdvqlhbajbiC6RmVW3LtcqQeRkEc9zWPB+HbwtfERl+8k7K/RpXTfq3r6HVx7i4RxeFwtWL9lH3nbqr2aXol+JzGra5eahp5smt44FkGJnWQtvX+6AQMZ7+31yM+n3kH2TUrqzDs6wS7VZupBVWGfpux+FMr5XPMZja2KdLFyTcNNNvX5n2vDuBy/DYJVcDFqNS0tdX5J+gVJY3l/YGM29zI0cLFhA2AjAsSynA75PJyRx7gw7wZPLQPJIOSkaF2/IZNTfZr3Zv/s+82+v2ds/ljP6UZZHN6D9rg4Ts7bRbTt8tR5tLJa69hj5w66Skk1dW010fmbmuqmuaHFqGnqzy27k+WVw5HR0I9eh9yo9aseCrOW20t5Z42jkupTJsYYZVwFAIPThc47Zpvgi0uLawne4jaL7RP5iIwwQu1VyR2J29PTFbVfquGw8ZzhjakOWq4JPyvZtfJ/PofiOOxk6VOpltKpzUIzbT72ulr2a17X1GzRpLC0UqK6OpVlYZBB6g1gzwJZat9lgeRomhEhV5GcxHOOrEnDc4H+ya09cvfsdn+7aP7RKQkCN3YkDOOpAzk+wNZlvCItxLNJJId0kjnLOfU/4Dgdq/NfFjOMvoZYsBVp89aprH+4k1eV91e1lbfW+i19vg3BYmpiniIytTjv8A3nbb5bklFFFfzYfqBFotrZx6xNa/ZYRFcWo/drGNrBW+bcO/31x+NVryJ103ULFdzPD5saZOTgjcgz3wrKPwq94eu9Nto3W4uoIr2SVllEsgV2+Y7QAf4cEYx6+uadrSeTrkco+7dQlW/wB5DkfiQzf98iv6MzzJasOBsNU51Uq4flqqS663evblldvryp+R+a4DHxlxBVjyuMKl42fkrL8V8rmxDIk0KSxnckihlPqCKpeXpGi2LRxWtvaQyuf3UEAHmMeuEUfMSB6dqTwu+dFigP3rUmAjvhDhSfqu0/jWarG5v7i8k+ZlleGMH/lmqsVwPqVyfqPQV9nxPxZh8lyeOZRjz89lBd3JNq77WTf4dTwMpyapjsc8K3y8t+b5O333Cb/TI1g+zi2sIgFjtQAN4H94DgD0X8T6CBdI0tInjhsIIVkzu8lBGTnryuDzV2mWsBvp5hJK0NrbNtk2ttaRtobqPuqAw6ck+gHP4Fg8ZxLxlnn7ms4TtfSTjGEVbazvu13bb17n6NWo5ZkmA9+F47apNyf9fIS3nS1sxYajFFcadtCBmiXES9g64wVHqBx3HU1t3EtvFZtNM6LAqZZm+7trA0tnfT4XkLMWQHLfewemffGM0LZW6MuxWVFbeIg58sN/e2dM/h79a+vyfxWq5fTq4PNYOtOndRnG3vW0XNe2n95K9t4t6vxcdwfTxM41sJLkjKzcX0v2/wAvxILsQSFLo2McMUSrFaWyRhWYZ+UN+OML0XqeelL4jfDm38W/CrUvBzXy6c2rRxQ3N1DAG2RLIjvEi5XClVZB6bs8nrv6HCLnUpbp+VtT5cQ/2yoLN+TBR6fN61s1+hcH4LE4qj/bWZPmr11eK6QpvWMY9rp3fV3V9bt/N53iqdCosDhNKdN6/wB6XVvvbZGPceHNNW4kvtOtLexvpFAeeGEL5wHQSY+8PryOxFZsdnY3N8t9cabbDULYmMyPErSRH0D4zjnI9QR611VYWomNfEUwVl+a2jZgD0O5xk/UAf8AfNeD4qcP4WvlM80hHlrU+W7WjlFtRs+9rpr0t1O/hDM60MYsJJ3hK+nZpXuvuDRrSC48QSXzQoXs4hFHJtG4M3LDPspX/vo1rXFlZz3cN1PaQST2+fJleIM8Weu0nkZ9qpeG0c6TJcIQr3btKpI4x91Dj/dVTUWlSahLZJdQ3n2h8lJYbjYF3A4ba6LxyDzgg+g7fX8O4ejkmRYTD1Vy+6r6bSa5nf53PJzF1cyzGvUpu+rt6LRW+RrTyxwwtNM6xxoMszHAA9TVCGOTUJFurpWWFW3QW7DHTo7j17gHpx36LDaedP599IJ5kbKoM+XEe21e5/2jz9OlXa5c2z1VYujhnp1ffyXl/Xr25dlPsmqlbV9F2Ciiivlz3QooooAKKRWDLlTkUKwJIB6daAFooooAKKKKACiiigAooooAK8i8Xf8AI0X/AP18P/OvXa8i8Xf8jRf/APXw/wDOuHH/AAI5MX8KO3+FP/Irt/18N/Ja6auZ+FP/ACK7f9fDfyWumrow/wDCib0f4aCiiitjQKKKKACiiigAooooAKKKKACiimzMUhdwM7VJx60JXdgKekmQeF43hGZGty6D1JBI/nXRaGIhotmIDui+zp5Z9V2jH6Vi6Coj0OzQHIW3jGfX5RT7J9Tsrf7LayWvkRsTF5sbMwUnITggADoD6YGOMn63i7JMVmVClHDauDel7aNb69rfifM5FmVDCVajraKX9fqdDRVPRb431u5kjEU0MhjmjDbgDgEEHjIIIP41cr8exGHq4atKjVVpRdmj7ylVhVgpwd0wooorE0CiiigAooooAKKKKACiiigAooooAKKKKACiiigAooooAzde8PaFrckMmsaPZX7QAiI3MCybQcZHI6HAyOnArB8d6Dql/rlvd2UEdxCsAijRpAot33NluegIKglcn5ehrsKKtVJK2pjXoQrQ5JGL4R8PRaPG08zrcX0oxJNtwFX+4g7D17k8nsBtUUVLbbuy6dONOKjBWQUUUUiwooooAKKKKACszxan/Eo+1AfNZyLPu/uqDh//ABwuPxrTpGVWUqwDKwwQRwRXVgsVLCYmniI7xaf3P9THEUVWpSpvZpoxqKq6Spit3tWJJtZXhGTk7VPyZPc7Np/GrVf0PSqRq041I7NJr0Z+UVKcqc3CW6dgoooqyCh4phefw7eRxgl/KLKB/ERzj8cYrjVYMoZTkEZBr0GvPvJ+yyy2mMfZpGiA/wBkH5fzXB/Gvh+NsO5UKVddG196v+h+meHGLSrV8M+qUl8tH+aFooor85P1gKzPGUF5d+FNQtNPTfc3Fs8UY3BfvDbnJ44BNadVdUHmeRbH7txMFf8A3QCxH0O3B+tDOLMqsKWCqzntyvbfbp5nG3XhnUZLPUGsLGWxhuIbeA2j3YllmRJdz4ZiyrlCVAyQcnOKuS6NdJJY38WlXNwwvPOu7e4ni8xysTJEx2ny8KSDgdODyRXSPE9i3mWyPJb/AMcC8lPdB6f7I/Dng2YJY5oVlidXRujKeDUppnz+U0sux9PnpSakrXj7ujUm7pWt1a0Vmm01ucbpOjatp89hdTaRFdMDeSy28MqKkM80oZW+bAICZXIyQCeOasXXhyaaa9l+xQq95qlsQQV/d2kJjIA9MmNuB/erraKo9eOTYdQ5G218v5eXtfVf8CwUUUUHrBRRRQAUUUUAYfxK+0t4F1O3s0dp7uD7LHsUkgykR7uPTfn8K4fVLDVItI8QeH7bTrhdN0eee7twEO28klUSwRJ6qsrsze6qO5r1SiuilXdNWt5/1/XU56uHVSV726f1/XQ831KO+03zrJZNQh0m2uNP0qSS3En7u3jhMjum3kbmdIyy8+/HFOzXU9Lsl1zSLDVGa68RypDa3BlLvD9mkgiEm7LBPNVW+b7oPtXqlFUsVpsQ8Lrfm9PI8ss/+Etg8O36m41SR/D/ANqt1uWRjJeSSXB/fKv8YjgII4Iy2B92p7prm3a9n0WfWk0GZ7K3nuHe4kl/1jmeaPflwNhjUuvckjlc16ZRR9av9n+v6/MX1Wy+L+v6372PM2a4hkCb9Zh8M32r4U5uHm8pLbOAeZUSSYceuOOH56T4R2j2/hWW4khuoWvr+4uPLu2ZpkTzCkYcsSSfLROprqKKmpX5o8tjSnh+SfNf+v8ALsvMKKKK5zoCiiigAqpqGqafYXVrbXl5DBNfSeVbI7YMrYzhfU1brz/4qWt1d63JfQ200n/CPaal7BsQndKblJCF9W22pGPR/etaNNTnZvQyrVHThdLX+v0O1utU0621W10ye8hjvL0MbaBm+eUKMsQPYVSuPFGhw2zTve/u1tDeEiJz+6Dbd2MdzwB1PYVxOoQ6qNbl8U3Nlcf2gmi3d7HEEJaAkKltbjH8QUylv9p27Yqa6029l1CSymS4nzc6TpTTOGYyRwD7TK5Y9Q24qW7njrW6w8NLv+r6nO8TU1svT7tDvNa1bTtIt459Su47eOWTy0L5+ZsE4AHU4Un8DUml31nqVhHe2FzFc28oJSWJgytg4PI9CCPqK5H4lzsPF2hIb26sY7WK5uvtMFkbjEm1YkUKFYZKyS9u1c2kl9p3h+2tNYttXh+z6PNewwWQnjku7x5pGLOYzkOAFcqThTKePlGFDDqUE76v/g/1uOeJcajVtF/wP62PWqi02/V5vtmnTBpLWZ48kEAsp2uh9RwR+o6VwGnm7s/E2i213dahqTW9jDDdxeZcRtaSxxNI9wxHySq52qd3fAGeRVIxazdeH/tGoT6x/oHhpr2SCG4ljaa6uGeRYyVIZinlgBR03AdOK1w6qYerGrTnaSs0/wCvu/4BjiXTxNGVGrC8ZJpr+v607n0Po99DqNilzDkZ4dD95GHVT7j/AOvVqvPvB91eaJbWrXDvcMLeOO9HVpWCgFx/tZz9Rx6Y763miuLdJ4XWSORQyMp4IPev1rKc0pZjh1Uh8S0a7P8AyfT/ADufhOf5HWynFulLWD1i+6/zXX/Jj6zPGIJ8M3ZH8KBm+gIJ/QGtOqmvW0l5ol3axY8yaB0TJ4yQcZ/GvSnHmi0eRQnyVYy7NHFUVeTRNZdsCzjT3knAH/juT+lXLPwvO8itf3iCPOWigUgn23k5x9AD71+TYfhXNKskpQ5V3bX5K7P3TFcaZLQg3GrzvtFP87W/ExFge9nWwhG6S4+UgfwoeGY+gAz+OB3rs/EGof2bpxnEfmSMwSNScAsfU9h1P4etT2FlaWUZS0tooVb72xANx9Se5+tPu7eC6t2guIlkjf7ysMg1+hZTlCy3CypU53k9btdbaaX2XrqflWe8Qf2xjYVqtO1OOnKnra93rbd+mhwka3V5fFFBuby5be+PlHYZP91QAB+AHJ67Nl4YuJGzf3Sxp/zztuSfq7Dp9Bn3rc0+wstOjk+ywiMNy7ZLM2PUnJOKqeHdet9WkaNYZIZNnmIrkHenHIx6ZGR2z3rkwmQYKjUU8W1UrSbd5dXu7R209H8kehjuKcyxNKUMBF0sPBJWjulsry3V/K3zL+n2ltZW4gtYVijHZe59SepPueamrN1LXdOsbr7PPI5kUAuI4y/lg9N2P5da0I3SSNZI2DI4BVgcgg9xX0UZwbcU9Vv5f5HyFSlVilUnFpS2b697PqOoorN8SXN3a28csDJHFuxPKybvLHY4yMDPU9vpkjPEV44ejOtNNqKbdk29OyWr9EKjTlVqRpx3emun4mbZxlbi4M43XSSlJpDyW7rg9htYEDoM1YqO3jKtJI8rSyTPvdyAMnAAwBwBgAfhRb3FvOWEE8chU4bY4bH1xX8bcRYmGPzbFYvDuUqbk2nK97N6Xvsuiv0P3HLaUsPg6VGokpJJWXckooorwjvIbhZLiVbGFUMk6tuLrlUQdWI79QMd8/WrniC3Fvotu6lmFg6NuY5OwDYzE+ysx/Co9HZR4gYOcFrb91nv83zY/wDHK2ZFV0ZHUMrDBBHBFf074d5Dgnwpa2uJUud+V5RSXay/Fs/KeJsyrrOF2pNcv4P8X+Bk+HSV1S+iH3WWKU/7x3Kf0jWqsKGC8u7U9Y52cH1VzvB/NiP+A1b0LTbmx1CZnkRoPLWOI7iXZQzFd2RwQGIzk560zXE8rWoZu1xCY2z6odygfgz/AJVxcU8P4hcCRw1fWrhkn6qDcb+jg20vROzOjKcypPiF1KfwVdPvSf382hBcSOrRRRRh5Z32Rhm2rnBPJ7DAPY0X0EltYrp7urTahK0tyV+7sUKGUeoxsX3yTx0puUlui0sgjtbF1lnlP94EMqD36E+xA/i4cryXV3JezIULgLFGesaDpn3Ocn8B2zXx+TSocM8JVMynDkxmIThTd/ecHb3kuiWsr21tHXVHt41VM0ziOFi70aVnLTTmV9L9e1vXsSUUUV+Pn2Za8Kkf2bIn8aXM28fVyw/8dK1pVz8c7adeG7HNvLgXK/3ccCQfTv7D2wegr+wOCs6w2bZJQqUXrCKhJdpRST+T3Xk+9z8Vz/AVcHj6kZ7SbafdN/0mRXjFYcA43HGaxfFtnYp5VxIJWkkxELeMgfacZIVsjOBlieQME5yOK3ZFV12sMisDVl8rXmllguWWOELCyQvIOSSxyoIBOFGD/d967uJsZUweU1q9Oh7aatyw5XK8rrlbS6RdpfLSzMMooxrY2FOVTkTvd3tpbVX81p8zndeWSHWtCknddt3qphv3x8sqm2nKox/ueaIgFPGdorsriWG2kVpp4reKNQAXIVR7DNYOraVPrlrBZwRT26R3tvdNcTQlVUwzJMBtYqzbjGF4/vda1vLEOpmTZJf6gq4LD93FAD25ztz7bm/DFfB8I5bm+KwEq+cOVP35P37p2dnez2u2108kfV5rjsFQrKlgkpuyXu7aea8ia0uo542ntbmKVWkx+7YNn8RU7ySNIwj3fKcDA6n3qjdWE9ztabTdOZlPyt5rb0PqH2g/lirmn2jwWqpPM0sgJ3Nk88nA55OBgZPJxk16WOwuFopOhW5/K236GeGrV6l1Vp8vzuOaV1dlP3sDaPehZmIU5+6uX96m8tTJ5mPmFIkSIpUDhutedodhEHlBjYvnzD93HQUK8hV5C/yqTgY61JHEiNkA57ZPSl8pPK8vHy0ARRlwFiVtuE3McU2NnEa7T80jk5xUzwozbiO2OtKsaDaQPu9KLgQM8wSQ+Z9w4zjrT2d2YgNt2LljjvUnlJtK44JyeaR4UdixHUc80aARrJKyxgN8z5J47U+2Zm3Bm3bWwDjrSNDulyfuquFwaf5SbVAH3TkUAMzJJIwR9oU46Zyaa0khjaUPtVTgDHWpfKTzN+DnOetJ5Me7OD1zjPFAEcjyFn2ttCrk8d6I3l3x7mHzjpipTGp3cff60uxdwbHKjAoAdXkXi7/kaL//AK+H/nXrteReLv8AkaL/AP6+H/nXBj/gRyYv4Udv8Kf+RXb/AK+G/ktdNXM/Cn/kV2/6+G/ktdNXRh/4UTej/DQUUUVsaBRRRQAUUUUAFFFFABRRRQAVDqU/2bT57kjPkxM+PXAJqaqevc6eFP3XuIUYeqmVQR+RNdGFpqriKdN9Wl97M60+SlKfZNjre1KQ6XpTSusbkQyMjFWYLEzYBHIzs6jnGelWNa0/T7KazFhZw29xJN9+JApKAEvux94Hgc9yDSTHbqmmsOq3fA9cxyD+RJ/Cl8RXIXxBEFRpGgt9ixp1d5XG1R/36PXoDk8V9Bmkq8+JcND2jVNQc3rZaOV2/WyTv00PBwKprJ60lFObfLtrrb/Ms+F0Mkl3qB+7NIIo/dIyRn/vov8Ahiteua8SapL4N+Fd1qkyQyTaTp5KRs+EZwuEUtxwW2gn8a5yPx9q82i621tJo1/JZz2VpY6hpztJaz3FzII/KwScsm5CcMeHHTBr81zWpUx+OrYlapysvTRL8LH2GCpRw+Gp0uy/4c9IornoPGugza5HpiSXP765e0iujauLaSdAxeJZcbSwCP3xlSM5GKisPHvhy7mKxzXSRNbS3UFzLaSJDdRRY8x4nIw4AIPHUHIyOa8v2NT+VnXzLudNRXFt8U/CYt5Zt2plY7Jb/A0yfLWp3ZnUbeYxtbLdOmM5Gc7xp8QbjT/Fl5ZWYmhsNJsI7i5uTpUtwkksu7ylLKRtQBck4JJOBjBrSOFrN25bC549z0WiudbxjpEGsQ6RcSzSXJuEs5biG1kNstyy7hF5mCAxHbJxkAkGsrR/iDZpoovdX86SS4mvJ4YrGzkmaKyineNJpAgOAVVTnuScA4NSqFRq9g5l3O3orH+H2oX2r+B9J1bUo0jur+zjuZERcBN6hguPYED8K2KzlFxk0+hS1QUUUVIBRRRQAUUUUAFFFFABRRRQAUUUUAFFFQ6hLNBYTT29q91LHGzRwRsqtKwHCgsQoJ6ckCgDm18e6a+h6jrUenamdM0+znu1vmgVYbpIs7hGd2cnBxuA3dRkV0NlfW9xY/aRLGqoP3w8wHyWAyVYjgEd68wm8Ma3f6brGk6bouo6V4e1eazj/s68uYy0O653XckQR28uMxZG0Ny2SFA6y6n4RvLTUrua38NeZosniKCWfSrMRL9otIbIIjbCyqw+0bWKk5IQcGu6VCi9FK39Lz33+4z5pdj0wX1kbRboXcHkOCVl80bDgEnB6dAfyNKLu1NwluLmHzpE3pH5g3MvqB1I96810XwPc3etacdX0KGHSpNVvdal09jG0VrIY44YImVSVLFWkkO3Kht3J4Jd4H8H3A8Yy3mv6dqgurfVri9hnC2gtMbnSDa6/vyohZVCE4GCCOlQ6FJJvn2/ruHNLsdr488T6X4Q8Nza3q7TfZ4jjZDHvkc4JIVe+FDMfQKT2rTmu7WKON5bmGNZiBGXcKHJ6AZ6muI8a+GfEnirxNdyC6tNP0+xs5LKyju7Q3H2lpo8SzgLKuzCny1zk/6zjDDOd4a0bVpdY01vF3g+TU1k0Cws0Lm3lhsJBu+1bw78EnyzlQ24KAOlCo0nTT5tev6f8EOZ32PSPtVr5zRfaYfMVSzJvG4AdSR6DIpn9oWAsheG+tvs7HAm81dhOcfezjrXmGqeCdRPglrkaRJ/aera895rQtxA9y9q07usKmQ7GUAQZjJ2kK3BJwV1rwlcQ6PYf2H4e1WTUjeSXw/tCOye2aWQCJ1uY1YKimNQQYlyB/tFgWsPSf2+oc8ux3N8ptNdlLj91qBV437eYEClP++UBHr83pUlaGqWMd3pb2S4iG0eUyj/AFTDlWA9iAfwrI0+c3FqruuyVflmj7xuOqn6H/Gv1jg3N/ruB+rz+OlZesej+Wz+Xc+E4hwHsMR7aPwz1+fX/Mnooor7A+eCuW8bWXkXqajGP3dwRHMPR8fK34gbfwWupqvq1nHqGnyWkrMqyAYZeqkEEEfQgGuPMMHDG4WdCf2l9z6P5M9LJ8xqZdjqeJh9l6+a6r7jh6KWWOa3uHtbpNs8X3h2YdmX2OP5jqDSV+J4jD1cPVlSqq0luf0XhsTSxNGNajK8ZK6YVWX95rRz/wAu9uMe+9j/AC8sfnVmqbM9ndzTuhkgmILOoy0WAByO68ZyOmTxjmueWx43E8K88tlGlFu7V7dlr+iL1UbECW9ku4U8uGRcf9dj/fx244B6kewFWmnhW3+0GVPJ27vM3Dbj1zVbSkYLLII2iilfdFE3VR3OP4cnJx29iSKiG58fwlRU8w53FvlT1Wy9fUt0UUVqfqAUUUUAFFFFABRRRQAUUUUAFFFFABRRRQAUUUUAFFFFABRRRQAUUUUAFFFFABRRRQAUUUUAFbngO7CST6a7Y586Eex++B9G5/4HWHUmlwXV9eQtpysWjkDC5A/dx+p3dDxkbRnOcHjmvpOFq+Io5gvZQcoy0lbon17af5nynGWFwuIyqarVFBx96LfddO7utNDvKKKK/Wj8GCqesanaaZGj3bsPMOFCIWJx1OB2FXKxfG1m0+mreRAmSzy5UfxIfvD68A/8Bx3rHESqwoylSjeSTsu77HVgadCriacMRLlg2k2ui7mxDJHNCssTq8cihlZTkMD0INOrC8HXscfhmVpnxHYM6s3ogG8fkrAfhVvwvqcuq2cs01t5BjmKABs5GAw/EbsH3FFHEU6sISi/iXMvTT/NfeVicFWoVKsZLSEuVvz1t99maLsqIXdgqqMkk4AFcBpty9pfLfWSJhZJPLjOQrRMxIX1Axtxxxgcdq6/xZDNceH7mKBGdiFJRRkuoYFlA75UEY75rjo3V1ypzzg+x9D6GvlOLcdiMKqDoq1pX5vNK1vmmz7jgPLcNjI4lV3dSXLy36Xvf70rPoLdTO8lxeThQ8rNI4U5A9BnvgAD8K2dce6sfDOk2cc0kOVSOR42KsSseduRyOmfwrHjtZNRm/s6AZedSHP/ADzQ8Fj/AE9TgVs+Op1e9tLJWz5KtM6j+En5U/QyflXn5TUxEMsxuPqtqU9ntrrqvnKyt8tj2M8pYapnGXZZRipRp7x3stN/lG+vz3Gab4kureHy763e72/dliKq5/3lJA/EH8KsaL4gubnVktruCFI7klYhGSShAJwxP3sgHnA5xwc1g1Po8bTa9ZRIORL5hx/Cqgkn6ZwP+BCsMp4lzLEYuhh5tNN2emrXn6b6W21Ns74QyfDYHE4qEWmotrXRPyXm9Nb+R1MmiaY3S2ManqkUrxqfqqkA/lUmoabb3UcYG6B4RiKSEAMg/ujIIx7EY6dwKh8S6odLtYnjhWWWaTYis+0dCSScHjj8yKXR9TbUdJluYrfbPEWRod+RvABADehBHbvX3UqWBqTqYaUYtzV5RsveW2q6rpqflip42NCGLV+ROylfZ72XYparpi2Vn9uFzPNLDIrM0jDGzow2qAOhJ6ZyBzwKV3VFy7BRkDJOOT0o0e6fUrWTT76XzReWxeORVC7kYAMMDpjcMezDrgmqmpWN4+nTHUUSOO1hkJkBB89yjKCqjoPmzzznAGetfkfE3B2H4jq5fiMojGFBpwk0klCKd9Y6ap8yfW+jPr8qzqplkcTSx0m6is0m73b7PXyfoSap5Ys2kkj3+V8y/MVKnpncOV6nkds1peHbG4sxM1xsXzCNsaStIBgdcsByc+nYVTZRJCUlQEOuHU8g56irnhOPZocUm9m88mUbnLbQxyBz6DA+ua4/BucJvE02pc0LNPmfLaWluW9r+7fms9OptxupRjSkmrS8lfTz3trtc0qrarZJfWwjaRo2Rw8ciY3Iw7jPHQkfQmrNUrXVbS51NrKBmkZUZjIo+TggEA9yNw/XuDX7jWjSnB0qqTUrqz2d07qz30vddrn5/TdSMueF7x1uunn95na1BDYrY2+GW1Rnd5G5Bl42lz0ySzHnuB7U6r+oalp9vMbW7k27k3OGjYoFOR8zYwAcHqe1Z+o2Y06P7VanNl/y0izkQj+8p/ujuOgHIxjB/IPEbgnEZrJ5hgKnNKlFRdPslr7tutnfle/R7I+24Yz6nhIrDYiNlN3Uu7emv+f39xaKKZZw3WoZa3dYLbOPOI3NJjrsHQD/AGjnp0I5r8SyHh3Mc9xP1fAwu1q29FFd2/01b6Jn3mYZlhsBS9riJWXTu/QZevCtuwnG5ZPk2AZL5/hA7k+lbOjrcppVul3/AK5YwHycnI9SO/rjvTLDS7W1m88eZNNjHmytuYeuB0XPsBVO61Se4kKacEWNSQ1xIu4MR2RcjP8AvHj0B61/QfDWSYPgXLauIzLFK82r78t1eyirc0nq+m3RJXPzbNMfW4hxMKWEpaRvbvru29kjXYkKSoyccDPWuas7i9uo/ObU7iOfpLGgQCJu6bSpxj3yferP2nVIvnS6S4xyY5Ywu72BXGPrzT9aNpdaINVij2XG1RC+NrhiwARsdRuOCOlb43NqXFWXzlkWPdKpR1ejV9HZSvZ203V13T0tGGwc8nxMY5hh1OM9F1t6efl9zISdR6rq9zntuiiI/HCD+dOhvoWYXCX9vZ3koH2i0uGwruAASM4PYAMMggdDTqRgGXDAEHqDX5JkfiZmWD9pDMY/WacraSdmrdnZ7+nRWaPtMdwvhqvLLCv2Ul1S39VdFxdQdF/0myuI/wDaiQzI30KZOPqBS/2tpg4e+gibukriNh9VbBFZYsLRW3xQLC/9+AmNv++lwae0dwy7JNRvGj7J5gXH/AlAY/ia+npcfcM1YOVSlVpy7Llkvk20/vOCWS5rCSUZQku+qf6/gTar4m0XT41e4upG8w4jW3tpZ3kP+ysasW/AVX0/xp4cu76OzN9LZ3EzbYItRs5rJp29IxOibz7Lk063treBi0UKKzfecD5m+p6mk1KztNQsZrK+torm2nQpLDKgZHU9QQeCK+dxPiBR+sf7Ph37L+9Jc34Ky9NfU9Olkc/Z/vJrm8lob1FYHwtuZbr4e6Q1xPJNcw2q2108jZczRfupNxP8W9GB981v1+hRkpJNbHhtWdgooopgFFFFABRRRQAUUUUAFFFFABXkXi7/AJGi/wD+vh/5167XkXi7/kaL/wD6+H/nXDj/AIEcmL+FHb/Cn/kV2/6+G/ktdNXM/Cn/AJFdv+vhv5LXTV0Yf+FE3o/w0FFFFbGgUUUUAFFFFABRRRQAUUUUAFUtc+ezW2X711KsSn05yT+ABP1Aq7UN9brdW5iZmXkMrr95GByCM+hArowdSFLEU5z+FNN/eZV4ynSlGO7THPNDba3aXN42y2jST9433UkO0KWPb5fMGTxzjuKi1Zv7P8VLeyDfCxFxnGcLsETkY/ujY30dsU2G7mgnW21AIfMO2KdAQjn+6wOdrenOD9eKjVkiW3sANrW2onyB6RvC74/3fvqB/sj0r6bHYGniMXDG05c0Kq9lJf3ZX1T6WdrpngYXEVKFCWGqR5ZQ99Pu1087ov8AxC0W58SeGVsLG9t7dvtdtc75oTLHIsUqS7CFZSQxQA4PTNY9r4EuW1YarqGqW8l1PqtvfXi21mYYXWCJ1ijRS7EEOysWJJO3GBxjofCJK2M9uv8Aqbe4aOA/7OAcD2Viyj024rVr8oxtOrgcTUwvNflbV+/9WXofbYepHEUYVrfEkzgdN+Hl9/Ztlo+qa3FNpmk/aDYpb2pjmaSVJEEkrlyCyrK+MAZY7j0xUc3w91bUPD/9natrtozWuiyaPYG0smiSKORUSSVgXYlyiADBAXnrmvQqK5vrVW97/gjbkich4m8F/wBpR+IiLxYV1rTYNNRVgz9nt4/MLoADzu81+mO3XFUNP8OXniK01q8u4ptNj1fW7S4SK4hxIbO28jEZXOV3mKQ88gSdK76iksRNL+vL/JByo4nw34Fl0fxBf38f9izNcXd1dwXcmmk3sbzuz4Mu/GFLkcDlQBx1rNuPhrq0Giy6Xo3iOC0iu/DlvotzNJZGSUCES/vIzvAXf5zbsg9Mg55HpFFP61Vve/8ASDkiR2sMdtax28K7Y4UCIo7KBgCpKKK5ygooooAKKKKACiiigAooooAKK8v1q9vtM8ba1M3iLXrmz0wWCW9hHNCPtN7cyuBDkx8JgwD2DE54rYbx1qdvfXOi3mg239uLeW9ra29vqBkt52mjeQEymJWUIkUjN8h4UYzkCul4Wdrx1/pf5ojnR3FFeUW/ifxtJrDtZWtibrU/E/8AZqWs2pO0EMVtbb5fLbyjw7xzAttBGV4J6dT8Tdd1DSb7w5a2MN3NLe6lm5gskEkjwRwyO4AbHG4Rg9ODSlhpqSjdahzqx11Feb2Hiu/1bWrwNHqVrBd+IbXSbO2Z1hlhMcH2idjgNkEBgRnkLjK034dapqWr+JdHd9QunguINT1aRDMxUxSXQjtExn7oiLkDplcim8LJJtv+rX/4Ac6PSqKKgvJ/LG1fvH9K5iyZmC8kgfWkV0PAZT9DVKKCWf5yePU96S4tniXdncPaqsBoUVW0+VnyjHJHINWSQOpqQCikZlXliB9TQpBGQQfpQAtZ2raX5832u0cQXYABYj5JQP4XHf2PUfTIN26k8uFiD83aorGV33GR+nSurB4zEYOsq9CXLJf1815GNehTr03TqK6ZjfaHinFvfQNbTHO3J3JJgZOxu/Q8HBwM4qSGZJG2rnOPSn+NpUa1t7JcGWadZB6oqEMzfTgL/wADqtpw+8x+lftvDuZ18ywEcRWhyu7Wmzt1XzuvVH5zm+CpYPEunTldWv6eRaopFZW+6wP0NLXunlmfr2kwanCu5jFPHnyplGSuexHdTxkfyODXJX9vdafJ5d/D5WThZBzG/wBG/ocH2rvGYLySB9aawimjZGCSKwwynBBHuK8fNcjwuZRTqK01tJb/AD7r+k0fR5FxNjcofLT96m94vb5dn/TRwVFdTN4b0djuWCSH0EU7qo+i52j8q5C2v9Hutch0+KLXreG61CfT7W+cW7281xF5m9RhjJj91JyVA+XrXxtXgrFxfuVYv1uv0f5n6DQ8Q8vmv3lKa9LP9V+RGbC3+0CVVZQH3mNT8jN2Yr0z3+uCegxapdTWCyNwV1bT7xLXd9oEU6rJDgZO5Cx6Drzn2rnIfGmhTxaVc2t5DJaaoruLhpQiwoqBiXz0OWRcHBBYV87jsnxuCly1ob9Vqn8/03PpsqzXK8XCU8HJau7VrO70u1+u3mdFRVHXNVtNK0G61e4Yvb2sDTt5WGZ1AzheeSe31qroniK3v7m+trmyutMuNOSOS4jvfLG1HDFW3I7Lj5G78Y5rz1CTjzW0PXdSKly31NiiqbavpI09b46nZi1Y4Wc3C+WTnGA2cdadcanpsEEc02oWsccr7I3eZQrtnG0Enk5B4o5Zdh80e5aorJ03xBY3euX2lmWOKazuBAgeVQ07eUkjFF6kKHAPuDWrkAZJGPWiUXHcIyUtmLUccyO20Z/KnSsBCzA9qr2QzIT6ClbQdy1RR061y3jDWb608ZaJZafa3t8vl3F1dW9m0YZkVVjXdvdRjdKD16r7VUIObsiak1BXZ0rTIr7TnP0qSvO/DXiXVtQ1CVLW0Z7vVNRuntob2UKlnb2+yF9xTdn94Oi5yXJzgVcHjnUrixt3stJtfO+wXV3dtNdFYoBDL5fBC5YOVcjgcAH1rWWGmnb+v60ZjHFU2r/1/WqO4orh/wDhPLy0tZbvVtFWCM6ZFfQQxTmSXMkgjjicbQAzMRjGcc9cVNZ+LtXmVbY6NH9ru7tbexYtLFDL+7aSRj5kYcKgU8hcMcAdThfV6nYf1mk9LnZUVyt14l1a11ptPubCwRbGxW91S5F0xjhjLyABBsyzFY2YA4AweemaeneNdZutNutRTwzNJBHY/aoVRZgwbcAsTboxubaSx8vdjaRzxlfV6jQ/rFNO1/wO2orjI/EGvahrmgQaZLpMtveRXF1cvDMzJJFGVTAJTKndKpx1ypB4zXZBlJwGH51M6bha5dOpGd7f11FooyM4zRnHWszQjuplgt2mcEhR0Xqx7Ae5PFQx213Iu+a9kidudkIXansCykn6n8hU11Ek9u0bMVDdGU8qRyCPcHB/Cobe8ZHWC8AVyQqyoP3ch7f7pPoe5wCamV+h8dxXUzGnGEsO2qa3cbp387a2/Dv0FtZ5Fm+y3WBNjKMBhZR6j0PqKs1He263MOwsVZTujdeqN2I/zyMg8GmWM7Sq0cyhJ4sCVB09mHqp7fiOoNEZXN+HM9eNh7Cu/wB4v/Jl/muv39yeiik3qDjcPzqj6oWptOtLnULz7La7VKrukkcErGOg4HUnnA46HmoaFZ4pDJHPNCzABjHMyZxnGQDz1Nd2W1MHTxMZYyLlBdF17dVp8zz81p46phJQwMlGo9m9l36PX5HUaf4b06Fd10v22TuZwCo+idB+OT71sAADAGAK4D7RcP8A8xC9P0vJP6NTluLxVwuoXuPe5c/qTX39Hi/KaUVCnTlGK6KMV+HMfl+I4EzvETdStXhKT6uUn/7ad7RXI6DrV3bahFBdXLXFvM4j/eYLRsThSD1IyQDn1znjnrWZV4LAfU19JgMwoY+gq1B6beafZnx2bZTisrxH1fELW11bZruhaKKbvXdjcufTNdp5hl+HdEXTbW7tpHSaG4kO1NnAjxgKQepxwfWr+n2lvY2q21rH5cSkkLknknJ5PJ5NT1X1K9trC1NxdSbEBwOMlj6AdSalKMI6aJG0qlWvN3bcpfi/8yxXC+IXYeJr2JUHnzTIIYjwZP3aKCPUZHXtz6Vrv4qYtmLTH2f9NZgrfkMj9as2fifT5Plulms2z1lXKfXcuQB/vYrxMZUy3NILDe3T1TsmtbdPn5H02W0M5ySo8Z9Wl8LV2npfr8vMd9ifRvDc/wDZyebdCPc8hXc0jd2x3wM4X8K5WNvN3TmUzNMdzysclz68fQfTFegqwZQykMrDII71y/iTRrsaqZ9OtvMS65dQwURyd2PoCOTjuD1Jrl4lyvEYvCRjhn8L+FaJ9Pw+61zr4OzzDYPHVJYy153997p7tfP87GRXQeC7eOHSZdUZGeaUyDjqERiAq/XGfcn2FMi8KZ2/aNSlb++IowmfoTkgfr71v2sEVtbpbwIEjjUKijsBWHDfD9bL6s62Is21ZW1t36HTxdxVhszw8MPhOblveV9L9l59/uOAm1Fr9xf3l1GzFOAHGyJTztX9MnqcfTG54Pivjp+oTW6+WtwgNqz8BpNrDd9Puc98V0JtLQy+YbWHeDkN5Yz+dTV6WByV4fHTxtSs5zemqsrfj8tkeTmfEscXl0Mvo4dU4Rs977fJb9d2zmtHw2oafDbwzJ9mJEqvGQYl8tlwx6ddv16jIqzqrtd6s8TE+TZlcJ2aQgNk+uAVx7knsK25GVI2d2CqoyxJwAPU1z0Ehubme+2lVuGBjUjB2AAAkep5P0IHavz3jDD0uF+EqmCwteV6s9Lv3mpO8krW0tu/PX4jtyStPN85jiKtNWhHpsraJ+t9v+AOuplghMjAt0AVRyxPAA9ycCtfRoHtdHtbaTG+GBEbHTIUA1l2Kefr1up+7bo0x/3j8q/oz/kKS4ur+XUrowXrRJDLsjj8tWQ4VSd2RuPJPQjpXn+H8sDwzw7LOcfJpYiSWivZRcktFrvzN+VrLv08SRxGa5ksDh0r00383a/6BrsF5cak6SWdxdW+0eVHG6iM/wB7cCwBOexzxjHem2cy6cJI40W41CTaJFjyIoAOiF8dADnHUk5wAeNLR783avDMgiuYsb1ByCD0ZT3BwfoQRWfb6TqdtCtvE1pIqjHnMzKx9WK4OT3Pzcmvss0oYuzzbIaf1itVVoylNclOLW8Itpa2V0tb3v1T8TCVaP8AuWYy9lCG6UXeT/vNX/rYq6kupTyeehtftATasibohjqFYHfuGT7EZOCMmi4j8jT5IPtskNrINjQgArhuCq5G4ZzgAHvwK0l0acrufVJg/pHEgT8iCf8Ax6rFhpUNvOLiSSS4mX7ry4+T/dAAA+vX3r53C8L8Z4jHQxGMxkKTtac6atOS6JpRjFtfZb+G7tfY9OtnGRUsO6VCjKfaMvhT7q7bV+qW5Rt7G7vlzMGtLZuqn/XSD/2QH8+f4TW1EiRxrHGqqiAKqqMAAdAKdXPatqt5Orvp03lxghLdlVWa4kPA+8CAmT1xzyc46/aYXB5Jwng40qMeVTlGK6znN6Lzb/Ba7I8CrWx+dV3KbvypvtGKW/p+bLviG6bjTrdmWWZcyOpx5UecE57E4IH4ntVWNFjjWNFCqoAVQOAPSkmYSa1dyIwZVCRsw/vqDuA9hkfjmn1+DeKOdV8dns8I3+7o6RS7tJyb876eVrdz9D4TwFPD5fGql709X+ny/wAyK+mMFlNOq7mjQsF/vEDgVPq1r9j0CzhDb1tZYVc/38nbn82BqOxh/tDUFGCbW1fdI3aSQHhR6gHk+4A9RVvxQSbS3h7TXKAn025f+aAfjX3XAuQyy3hTHYzFx5fbQk7dfZxhKz8r3bXlZng8QZgsTnGHoUXfkkvTmbX5afiVqKKK/nw/RgooooAKKKKAMG4nbwlrMusJk6JfyBtUj7WcmAPtS+iEACQdBgScYfd21Yd1DFcW0lvPGskUyFJEYZDKRggj0IqL4XXEsvg2C1uJWkn02WbT5Hc5dxDI0au3+06Kjn/er9Z4JzepisPLCVXd07Wf93t8vya7HzWb4WNOaqx2lv6/8E6GiiivuTxgooooAKKKKACiiigAooooAK8i8Xf8jRf/APXw/wDOvXa8i8Xf8jRf/wDXw/8AOuHH/Ajkxfwo7f4U/wDIrt/18N/Ja6auZ+FP/Irt/wBfDfyWumrow/8ACib0f4aCiiitjQKKKKACiio7likDMOtAD9y7sbhn0zS1WmjRLXoNxxg9yaVnl3OA2BGoycd8U7AWKTcN23PPpVdt8kkQ3YO3d0pGZw0sqtjaQOnWiwFqiq8kkhcquRtHOFzzVGx1gy+SbiFrf7RFuh3kEO393I6MO6n3xnBranha1WEpwjdR38jOVanCSjJ2b2NSaKOaFopo1kjYYZWGQR7iseNUtxf3UWZzYRlbeR2JwwVj5Z5+bbnAY8jewz1zNqksj/Y4GkdY5bjbcFG2nbtbAyORltvSpWTzJLKwgVUieUO0SKAFiQ5/IsFXH+0a+jyVfVMJVxs5+4k9PTW/r29Txc0l7evTw0Y+82tfX+tTptMtY7LT4rSIkrEuNx6se7H3JyT7mplYNnac4ODUKvI0zkMAiH060yFn2IiHa0mWJx0r8fqSlUk5zd29WfbxiopJLRFkMCxUHkdRS1UV3VXcEFmcKDjrTi8waRfMHyDJO39KiwyzRVcSSPsQMFOzczYpqyymJSCNzPgcdqLAWqKht2cyyIzbtuMHGKGaR5jGjbQo5OM0gJqKrs8rCQq4UR8dOpo8yV2RVIXKbmOOlOwFiiqqSzFI2LD5mxjHX3q1SAKKKKACiiigAooooAwdS8IaPfQ6kkwuFk1O+ivpZo5iskc8SxrGyMPu7fJTA6dc5yarSeBNGe1jXz9QW7jvvt39ordH7U83lmIsX9PLYptxgDoBiunorRVqiVlIXKuxzVj4F0Oxt9LhsmvLf+yLua6t3S5YuzSszSB2OS4Yuc55x3rXutJs7jxBZ6zKrtdWME0MHzfKqylCxx3P7tRnsM+tXqKTqTbu3/TCyMKHwjpEV1Hcos4livLm8VvNORNOGV2/BWIHoKl8N+GdJ0OaOTT4nUxadb6dGGfcEgg37FHv+8bJ78elbFFDqTas2HKgrN5muf8AeatCT/Vtj0NULIgXS5/zxSQzRUALgDgVHeHFs+fSpKq6lINojB9zSW4Eemj98T/s02+bN0f9nAqxpybYy5/i6fSq0Y82856M2afUB5gllQyu3bIBo05iJ9vYjmrV0223c+2Kr6Yv7xm9BijoAy+jKyby2dx4ohtmkjD7gAaXUmzMB6CqF9dz3UjWFpI0MMOFuJ0PzM2MlEPbry3boOckelleV4nMsQqFBa7t9Eu7OXGYylhKTq1Xp+bKV44m1K7nB3KJRBEf9mMYI/77MlOt45JV2g4UHn6024SOHZBCipHGoCqo4FXYF2QqvtX7tg8LDC4enQhtFJfct/nufmOJryr1pVXvJ3KOGimxnlTV24k8uPd37VUX95efVqk1I/Oq+1dJgNhiacl3Y49aZMvkzYVunOfSpIoJDGCJMAjOKkjtVVsu272oAZqBb7KrhdzYztHc46V5R4H8H+JYrXTbuLS7nSdTsbS8a7uLzUVmjmuJ424hjWR1Qea4cvhDhcYO4163qAzb/Q1Akm20ZR1ZqUopsuFRxTSPJofC2uT2M72/heHTZLLwnNptgk00LST3UgXcXZGIxmNSCTzvYnBJrW1nwOmpRx3/APwiyRjSvDLwaXbyvEsn2t8jaxRiuQIoxkkr+8PPWvQpI9lujHqxpZpM28cYPbmo9nFpp7GkcRUjJSi7NHk3jTwLrFp8NLPRtLtp9Wgt1s4bqGF1SfyY2QybSWUNlUI4wRnvXI3vhzWJrOeSys7yKyu9XguZLFbyK4umjjiK5MkxZGPmCNtjMQAnBycV9H26eVbk/wARGTXPajoEV7dG5tCsF1yTx8kp/wBsev8AtDn64xXzWacOQqRdTBpRn2+y/wDJ/h6as+0yTjCdOSpZg3KG3MviXr3Wvr67HkEvhnULK9sLyz0Ca/QwXUslvdTwZjvJCmJZcNtxsVl/dg4yQBzUfgvw9f6RfadaX2gJqNv/AGPb2mQ8PlWkpZ2udysc4Ysn3A2dgFekz+ZBJJDcRNDNGPmRv0IPcH1FVbQZmB9K/Oq069GUqNWNpLdO9/61+4/WKEMPXjGtRneL1TVrfl5HF2/he6S+068nsI0uZtdudS1CbcpdUxMsCZzkjDR8D0PrXZxxvKvBwq9M0t4czY9BVmNdqBfQVzVKkp2bOqnSjC6RDMPLtQnfNLYjEbN6mkvj8yr+NOX5bP8ACs+hp1IZXaWTavTPAqu+kwR6sdXC5uvIEG/ceE3bsAdOp/QVash+8J9BUl4wEe3u1O7TshWT1Zz8PhHRpEto41urf7GsqxSW93JFJtlYNIpZSCQzAHnuBjFS3/hnRDBPaJZ+XDcacunukbsoEC78IuDx/rG5HJz7VtWI+Vm96im+e4I9Tir9rO+5HsqdvhRmah4Z03VPtL3UDZuoYYWKyMpVYXZ49hB+UqzEgjviq83hyxntbeGWfUGktZjNDcfbpfORypU4fdkAqSMdOeldLIdsZI7Diq1muZs+gpKrO24OlC+xnL4e0+GG7LRNIL6BLe4EsrSGSNVKBSWJJ4J9zkk1HpPhy0h0t7GO+1VYwU2N/aM26MKCAFO7gYPI78ZzgVtXpxGB6mktBthZqPaTtuP2cL7GJF4d0m0vrKWyimhawjeKPZcP86u25g/Pz5b5stnnmthrdwu7Iz6U21GZxmrFwwWI+p4FKUpN6scYRS0Vivb5e4Uk+9SXx4VfxrH8T64nh7R21FrV7ohgqxI2GbgscfRVY/hUfi7xFBpt5YwRQtdTX0saIiMBsRmVfMJ9Muv1/A1PU5qmOw9LnU5WcbN79dvvsbMSPKuM4UVFcRKd0UihlPBB7im2+t6OdQXTE1C3a63FBEH+YsASwHqRg59O9UF17T766hXTbq3u/PuFh4lwOVZiQcHcQqscex6UJ3HLE4Zq3OnfS10/VW+exq+ZNYLmVzNa/wDPRj88Q/2v7yj16jvnk1JfxOWS6t13TRfw5x5iHqufyI9wO2arafr2jX0jR2mpW0zLF5p2uMbO7Z9BkZ9M81X0nU9OeTOl3sc9qrossSnPk7+EZf8AZJ49O4xg5yceqPic2ymlh5rG5dNK2tk101bj3S6rt5aF1rtJ4wYWO3ocjBBHUEdiKetsxXJbB9KpACLXI3HCXeQ49ZFGQfxUNk/7K1rVonofW5PmCzDCRrtWezXmv6uQpmG3O7rngVDGrzMST+NSXx+6KfZjEIPrT6XPT62IJojFg7s5qxbuXiBPXpUd83KrTo/ktCfUE0dA6lS58x1k8o4kIOw+jdj+eK763P2jTob1T8s8ayAHrhhkfzriLNcyZ9BXSeFb3dp7aY5+a1OY/eM5x+RyPoB6191wXjIqdXDSers18tH+n3H5r4h4Cc6NHFxWkbxfz2/G/wB5sQmWRfJQ8dzWb4wMtnodw0UhV2UKrqcFdzBcj0IzWzp64h3f3jVTWIorrzLeZA8brtZT3FfoEk3F2ep+WUpRjUi5K6T2G+DbyW98PQSTvvmTdHIx6sVJAJ9yAD+Nc74iE58R3H2v5nXBh/urEem305Bz3yPTFaXgGC9tJr60uIZo44ym0yKQGb5lJBPDfKqdP61oeJtJGpQrJCyx3UIPls33WB6q3scDnsfxB8bMsHiMflbo3tUsvK7W6fk+nyZ9LlWYYTKs89s0pUru3WylqmvNbP5o5Oig70keKaNo5YziSNuqn+v171Y0vT7/AFJQ9pEqwn/lvKcKf90Dlv0HvX5Zh8qxuIryoU6b5479LereiP2fFZxl+Fw0cTVqpQls97+ltX8jQ8D3bxXjaYxzCyGWEH/lmQQGUex3AgdsGuorL0HRIdOkNw8rT3LLtMhG1VHBIVew4HUk8da1K/X8so4ihg6dPES5ppav8vuVkfgmeYnCYrMatbCR5acnovzdul3qFFR3M0NvC008qxxr953OAPxqnBrVnJMsbLPEJGCxvLEVVyeBz/Dk8fNjNdFXFYejOEKlRRlJ2im0m32Se79DzoUatSMpQi2lvZbevY0Kgvr21s0DXM6R7vuqT8zH0UDkn2FZ/iO5kF3b2SzNAkyszOrbWfGMIrdupJxzxVGNbG1mwDDHLJwSzDe/1J5NfB8WeIWHyHE/U4UJVa1r9opPz1b87K3nfb6LJuGamYUlXlUUYXt3f9f1Yn1TVrO4tWtryG6tbe4yombYMkAsBtyTyF6Ec9Mc0yxMxs4zOMSFfmzjP444z64qWobiM3c6afH1m5mI/gi/iJ9M/dHuc9jX47mXEOYccV8Ll7oRjV5n70b/AAv12UVrLV3stra/b4XLcNkNOtiFUbhZaPuv1eyLnhlDI0+oY+SfakP+0i5+b8SzY9QAe9Q6tH9k1jzc/ur49T/DKFAx+Kj/AMdPrW2oCqFUAADAA7Uy6ghubdoJ41kjcfMrCv3zHcJ4LE8P/wBip2gopRe7TW0umt9Xte7XU/OcPnVelmX196tvVd0+n3bGPpwJ8RQ7f4baXd9N0eB+f8jWrqV3FZW3nS7jyFRFGWdj0UD1/wD1nio7Kxs9PWSWPcu5R5kksrOdoz3YnAGTWRql/a3V5b3cbP5NuGRy6FQpfGyTn+E7WG73x3rhy/C1+FOF/YR/e1qUZySX2ndy0W9lfW2v3nTiKtPOc39o/chJxTfbS2vS7toXk1uAf8fFpeQ/9svM/wDRe6n/ANt6fjObr/wDl/8AiaqUV+W0fGbNFG1XDQb8uZfhd/mfWz4Hwbfu1ZJfJ/ohuoXE2pHymjkgs/4kYgNP7HHRfbqe+BwaNxI76lGlu23yz5auozsYqSzD3VQF/wC2oq3fPLHYzSQrukWNii46kDgVBpaQvmaGTzIYy0Vu2eq5+dj6lnBJP0rzafE2Nx31niPHVPfpL2dGEdozqRlaSTbtyxUpXd22l2sdksqoYf2WW4ePuz96be7jFrR+raXkr9y1BGkMKxRrtVRgCuN+JHih9L1ew07+3tI0KC4aYz3epKXG2ONGKqBJHyTKgGGyecdK7SsiTQLeXxqviKZleSKx+yRRmMfJmTezbu+cJxjjb718jw5mmAwWYSxeZUfbpJtJved003e9+t733vq0ezmOFr18OqWGnyea7eXb+kYDeMo9LjgN0Ly6lsZreCeTTLVhZwvIU2whd7ZZlde74Lj5hxXTf8JNYeIrfUINKt7yaPTJCXu/JxA0kTqTGrZyzEeg6Z78VgN4KuW1gyNrh/s7+2Rq32MWoDvKMHa8m7lQwDDCjGBnOBjX8K+H4dE0n7JHcTNI080800TtD5ryStIxIVvVz1zX6Pk3iZQo0q9LNearGq7+7q0pKzilKyUVbRJ2V+urPmsfws6kqdTCWhKHfrZ3Tdr6+Zyi+PNQuvGkunaZeaPdRx6wliNNjidrwwBU825LiTCqpZ+qYIUDOTW/Z+ONFuLqNSt1Ba3EcsltfzRbbe4WIbnKNnOAoLAkAEAkEiq9j4HgtrXS0F+7TaffXl1LN5eGuPtPnGRTz8vzSg55+4OPSn/wr2S68PLo+r659pgtNJk0yw8i0EPkI8YjMj5Zt8m0AZ+VcFvl5r8yxH9lSqNU5PlWidrNrVJ2StfSLab6tXelvq6f1hRTktfw/rcm8QeNNvh2O9tre601Zry0jiudQgEcbQySAvIMngCJZDhsEcZAq1eePNJt7Yzmy1SREtmvJglod0FsCQJnUkFVbaxAxuIUnbxTNa8Hz+IdPtLPxPqkN9FbzSSslvZ+Qj7oHiXA3sVK+YzZyfmxjGBVLVPAep31teW83ihtmq2EFpqT/Yh5tx5QYZVt+EDhyGGD1OCM1lBZc0lKVtfPyW9rvRX6a6dXan7a+iNS68caFa27S3Lzw7bq2tdjx/MZJ0V0AGeyvk+m1vSn3XjHTI7l7W3t729uVu5LZILaEM8rRqrSMuSBtTeFJJHzccnGc7xR4Ah1jWtS1L+03ha9s1igjEIZbaZcAT4z8zYCgDjA3c81JJ4JntWsH0TW3sZbWwns5ppLYTSSiV0keUHcAspddxYhgSTx0qFDLuWPvO/W97LTyV99P6uO9a70LNp460G40ubUA1zHBDpzaiTLCVLQh3TIB53ZTp1+ZfWtX4XyCWHWmYMkv9sSGWNxho8xxMoYeuwofxrko/BJfxFoFiBKuk+HtLS3ndsAaiwaNo0I5OFaEO2epYDn5q6nQAIfihfpEfLW40qGWZO0rrI6hgPULwT1IKD+EY+r4RqYajmnJRu+eMvlZpr70rv1Xmebmkak8NeXRr+vxOsooor9SPmwooooAKKKKACiiigAooooAK8i8Xf8jRf/APXw/wDOvXa8i8Xf8jRf/wDXw/8AOuHH/Ajkxfwo7f4U/wDIrt/18N/Ja6auZ+FP/Irt/wBfDfyWumrow/8ACib0f4aCiiitjQKKKKACkZQylWGQaWigCNIUVgeTjpk9KXylKsOfnPNPooAYYlLq3OVGBg0eUmzbg4JyeafRQBG0Ss27LAnrg4zWfqNnDDMshQPa3EqpPA3K7nYAOvodxGfqT166lU2DXesLEcCGz2yN/tuQQo+gHP1x6c+xkXt/r0fZOy6+nX/geZ52aeyWFk6i9PXoRS2EFkv2qa7u5ooTvWFirZbooBxuY5PAJOSR1rb8O6ULOE3FwN13PhpTnIT0RfZcn6nJ71X0eD7dqjXUgzBZvshHZpf4n99udo993oK3K8vjPOIyn/Z2G0hF3lbS8u2nbr5+htkGBmofW6zvJrS/Rf8AB/L1GLGoVlHRs5pGgjbbwflGBg9qkor4E+lI1hQBQB905H1pTEhDDn5+tPooAjeGNmBIPAxwe1Z3iDVNF0WOGXWdWsdNtzkI93dJCGPsWIzWrXzH8VJNK0X9p681T4saLdah4bvLZYdJnZGe3g+VOdo64Ikyo5Bbdg5BrrweH9vNxb2V9N35IzqT5UfSOnTWGoaelzYXUN1bS/Mk0EodH9ww4NTtCjSbznPfB6188/tJMfCPwf0nQvhzb2dv4d8RXQImt7l2meR2EqCI7vuHbyeeCBxXQ6t4+8c+BfBeg+F7/Q9LvfGOqTiz0q0tpnaEQIqKJJmLZLFie4HfIwa1+oSlCMoP4m7J6Oy6v9Re1SbTPZWgjLFjnk5Izwad5a7mbHLDBrxrwn8SPiT/AMLj0z4eeJ9A0OG6lhluby5tJHZWhEbMhQbjsO5Sp3ZzkcDqeS+EOr/E/X/2hPEOuC30hhYTRabrET3Mn2a0jDhXMA3cviBjk8ZJ9aFl9S0nKSSSvvvd2Qe1WlkfSPlINnH3OlPrwPXvjd4n1Ky1rX/CCeFrXQNEkaNJNauX+06myjJ8mNWHXIwD1yOc5A1PGnxr1fS/BPgbWLDw6kt94rlzLp7hmcopUERYI5Yuu0nIwRwan+zsRdK2r8/K+vyD20D2imzSJFE0srqkaKWZmOAoHUk9hXkfw7+I/ju4+NjeBPGmhaVZtPYG8hFjIztAMZAdixDcZBwBz7V0n7TGr/2L8C/El0G2tNZm1T1JmYRcfg5P4Vm8JONaFJ/ata2u5XOnFvsdlpl9ZalZrd6deW93buSFmt5VkQ4ODhlOKbrepWOkaPc6pqVwtvZ2cTSzytnCIBknjmvB9H8Y6l8NvhT8PfB+h2+lx6p4htftH2vV5GjtbYSN5mXK4JOZMdeMd8itH9obW/F1h+zTqsXjFdIj1TUb6KygfSXcwzREq+4b+QSEkGPStvqEvaxjf3ZOy7tXtcn2q5X3PZPDmr6dr2h2+saTci5srtN8EwUqHXOM4YA9u4q7Xi2qeL/EXhWTwz8JfAGj2V/4gt9Iha8kvWIgtVWMAltpBycEnnuvBLcWfhd8U/FureNPEWjeK9F0zT4vC2mPNqD2rs5adW/hYsQEKBjjkjHXtUywNTlc47b762vZO3mNVFezPYKK+cV+OPxRu/hbJ42s/CmiQ6bYTiO8upzJtmLSBFWGPfuONyhmyeScDg123j/4satbWPhTSfCWiQ3nifxbZxXcFpcufKtI3QMWfBBP8XccIxPTBcsurxklp1W60tq79tBKtFnoOv8AijQdE1jTNJ1TUY7e91iUxWEJVi07AgEDAOPvLycda16+c/Dt14v8V/tZ6HYeNdOsbW98K6fLNMli5aGTcpKyDJJGTLFwT/D74r6MrLFYdUORXu2rvtu7W+RUJc1woorz/wASSS6b8UI7vxJPqi6XeSRLo1xZ6hJHb28scbSSQzwow3F9jncwcEfL8vfGnT521cpux6BVG4tnV90YyvbHUVxMfj7WLa30/V9UsbCPTNX0u61K3gjZ/tFrFFEJVaVidrZUqCABtZgMt1o8XeNtbs/Dt6tvBZxajZ+Fl1O4yGYRXMhCxxqM9CVlAz3C++dVhal0u/8Aw35k86O13XeNv7z/AL5p8FqzNul4Hp3NeaeKNU8XaPrUc8tzpt1c+FfCtxe6jPIJFgdncbDsByXZbWQZyANzHHQHpvixqOop8OoVso7qHUdWubS1jitp/LmUySJ5ipJldrCPzMHI6dRTeHleKutf6/LUOfc6+TIiYKOccAVVsYnWbc6kYHGa8v8AD/izUNCk1PTo4NUa8uddFlaaffyz6lJpyLapK8juhkeQEEMFViAXUEr8xG3/AMJj4oa2S1k07TrC/trCfUr+S+DrElskrJEQgO5GkVGbDE7ADnceKJYWa22BVEd3fK7Q7UUnnnFJYRskJ3DBJrjvCvinxN4kNtHYWWm2slvp9pdal9pMjDzJ08zyI9vQqmCXOeWA29a5/wAK+KPENnq0cy2lpcWnirXtQForO5mEcSuscxP3Vj2woCvJ+YEHJxWuHy+vXqKjTV5NpJev/A1IqV4U4OcnZI7jxTc3AvBZWB/fyKGkkA3eQnTOP7xwcA8cE84wYdKheCFYgGEaDjd1JJyST1JJyST1Jqazg8iNtzmSWRi8srDmRj1J/QAdgAO1TV+1ZFktLKsKqcdZv4n3f+S6ffuz84zTMp46tzbRWy/rqU5IpHuiShwW6+1W5M+W2Bzjilor2zzCpZROs25lIwO9SXkLSAMvUdqnooApRvcou0I2O2Vqa288ybpSQMcCp6KAI7pS8DKBk1VhgdpAGQhe+avUUAQ3yM8ICjOD2qG1gYyZdcKPXvVyigAIyMGqLQyxSbkBOOhFXqKAOU8b2V/dta3MNtJMYy0bKi84bBB/NQPbP1rGgjMTPFIjJLG22RW6qfTjjvXolef3EMMOqXEdtJO8UTsjGZgWeQMdx4Hr+J5JzkV8TxfltB0Hjb2not999lbf57I/S+Ac4xPtv7P5bws3tqtt3fb5N3ZV8t2uMlTjdVqiivzi5+sJWKtyjtNwpx2qwy5j2e2KdRRcLFNVljb5VbPsKWSKQruYEsat0U+YXKR26lIQCOahgjfzgzKR35q1RSuOxHchjCQozmm2aMoYsMZqaii+gW1K94rsy7VJAFSwrthCn05p9FFwtqU2jkjk+UH2IFOaOVl3vknsKtUU+YXKYuqaRJqN9YmXZ9ltzM8qMfmZmjMa4H0d/wBKwND8MajH/ZbahcwXF1BOjXUik4KRROkSJkdAzBjnHJY13DEhSR6VnXVzFp1jcajd7lgtIXlkOOdqjJx70LuefiMvw0qnt6nTXfTp+kfub7nK6boHiaG1sbeX7Go0u0uFhZJGYzXDjaJWO0bQdzk9evetJPDV3a2emQ2BgQaXYTRwgkj9+Y1RG4HTmTJ689DWvpeuWt5PcQSRXFnNbRpLJHdIEIRshWzkjGVYde1XmubcR+YZ4gn94uMdM9fpzSuc+Hy/BOn7km1prfVctvu+FJ+hx2ueELqXTlsbMwrDBo62MA3FdzF1MgbA4DBEGeTyeK1tN002Ph3UJZ7NYLmaFg5+2Pcsyqp2gu4BGCWwBwM+5rT0/UoLu6u4UBX7Jc/Z9zEYkbYrnb9N2PqDVm8jSazlilbakkbKxz0BGDSKjl2FalUo72celtLrtdW206dyhrUTxLFMgOY7iPYR23MFP6MasgTycNkDvkYqOSR57HT2mG1pnjaQYxg7S38wKvVMHoeNwYm8FUd9Ob9ERXMZdRt6ioVM6DaA35Vboq7n2FitHC7tuk//AF1LdAmHaozz2qSii4WIbNCqksMZNTafK1v4gtJsHY58hz7ORj/x4J+tFMuFZ4HVDtcj5T6HsfzrvyvF/VMbSr9E9fTZ/hc87NsCsbgKuG/mTt67r8bHoMK7IVX0HNU5RslaaYiONCWd3OFUDuTU+mXSXunQXaDCzxq4B7ZGcH6Vh+P5JD9jtsnyJC7OOzMu3aD+bHH+yPSv2XGYiOGw868ldRTeh/PeXYGeNxlPCp2cna76GvY6tpl5N5VtfQySHpGHwx+gPJq5XnsiK64bPByCDgqexB7EetdJ4X1uW4nWwvgDMVJjmHAlx2I7Njnjg4J46V4eTcS0Mxn7KceSfRXvf0dlr5fd5fTcQ8G4jK6ft6UvaU+rtZr1V9vP7zUv9N0++kV7uzhmZeAXQE49D6j26VaUBVCqMAdAKKK+lPjHJtJXCiiigRga4zDWGe8SYwxgG3IjZo145YkDAbORz0HTqcopt7u2O1o5oZAQcEMrDoRXQVh6xGLPVjcEBYLwKC3ZZRxz/vDaB7rjqRX4z4kcE1MRCrneHqzlUjZ8r1Sit+TZq3xderPu+F8+jCUMBUhFRd9e78+99vuCxuY1jXTdVVZoWIWGWVQyv6K+f4vQnrx3rTh0+wihaKKxtkjf7yLCoB+oxWReGEWcpudvk7D5m4cbcc1raKJ10e1F0W84QJ5u487sDOT6173htxXjM9wVSGLj79Ky5/5r33/vK2tt7p6HncU5RRy+vGVF+7O75e1v010KzaJbA/6PNcW690jcFfoAwO0fTFW9PsrayjKW8e3ccuzMWZj6ljyaSHULGa6+zRXkEkwByiSAkY+lWa+8oZfgqFWVWjRjGct2opN+rSu/mfO1cViKkFCpNuK2Tba+QUVV1HULWyUCaTMjfchTmR/ov9eg74rKupby/wAi4c28B/5YRNhiP9txz+C4HbJryeIOKsqyGkp42p7z2itZP0Xbzdl5nZluT4zMZ2oR06t7L+uy1F1O5TU7kQxNvs4eXIHyzPngZ7quM+hJHoajmEkUwuoEDuqlJIm6TIeqnPGfQ+vsTUqqqqFVQqqMAAcAUtfzTmnHGZ4zPY5vTlySh8Ed1GPbz5tebvfppb9VwmQ4Shl7wUlzKXxPq33+XTsVtNI/fRxLKsEcmIfNQqwXAO3nrgkgH0A5NWaKK+azTHfX8bVxXs1Dnd+WOyb3t8z08LQ+r0I0uZy5Va73CmwxRwxiOKNY0GcKowBnnpTqK4uaVuW+hvZXuFFFV5L+xjk2SXturf3WlUH+daUcPWrS5aUHJ+Sb/IU6kIK8nZFiioYZZbjiytZZ/wDbxsj+u5uCP93NWY9N1OTmW4tbf/ZRGlP13Hb/ACr67K/D3iPMYqcMO4R7z938H7z+SPFxfEeWYV2lVTfZa/lp+Iyipv7HuD11OT/gMK/1zTTpWoDhdRt8dt1oSf0cV7U/CTiOKuvZv/t5/qkcEeMsrb3kvl/wSOipP7K1L/oIWv8A4Bt/8cp0ejzv/wAfGpP9LeIRg/XduP5EUUfCXiOpPlmoRXdy0/BN/gOpxjlcY3Tk32S/zsVJ7iOOQRYaSVhlYo13O34Dt7nj3qQ2eoeQZrie1sY1GW3gyFR7nKgH8x9au/6DpEfk20O6eblY1O6SUjjLMecD+8TgUQ2kk063OoFJJFOY4lOY4fcZ6t/tEfTHOf0DL/D3h/I6KnmP+0Vn0ei+UU9vOV79F0PAq8Q5nmVS2F/d0++7+/8Ay+8zAlkfmbXrnb/z1jiQRf8AfZQj9amtNCtJtRi1i21i6kmjgeBJkaJl2Mysw4TB5Rfpj3NbNVbiwtpZjMFaKY9ZYWKMfqR976HIr2sDPIcPVU45fTg1s4xi2vwX5nNiMPmNSFlipPybdvzD7Bcf9Bi9/wC+If8A43R9guT97V7z8EiH/slN+x3P/QXvfpth/wDjdHlajAd0N79q9Y7lVXP0ZFGPxBr6GnmOSyklyRXrBf5HlyweaRi3zt/9vMd9jvk/1Wps/wD18QK3/oG2j7PqnX7fbZ9Pshx/6Hn9aBf3CcTaZcrjq0bI6/hhtx/KlXVtP3bZLjyGJwBcI0RP03gZ/CvQp4XLKz/dxg/S36HHPEZjSXvOS9bjfL1ZOfNsp/8AZ8tov/HtzfypPP1GP/W6bv8A+vedW/8AQ9laAORkU2R0jjaSRlVVGWZjgAepNKpkmAn/AMu7PybX62CGbYyP27+qRR/tSzXid3tz3+0RtGPzIwfwNC6rpZGRqVmfpOv+NWLW/sbp9lteW8zYyVSUMfyFPmmtkYebLEpzgbmA5/GvPnwxh2/dnJfc/wBEdkc+qr4oIqf2vpX/AEE7P/wIX/GnQalp80myG/tZG/upMpP5A1eBBGQcimXEMU8eyaJJF/uuoI/I1D4Yo20qP7kUs/nf+GvvGSyRxJvkdUX1Y4FeR+KnSTxJfPGysrXDEMpyCM+tesQ6XpsT74tOtUb1WBQf5V5T4uAHijUAB/y8P/OvmeI8njgaEJKfNd22t09WbU8y+tvl5bW87/odt8Kf+RXb/r4b+S101cz8Kf8AkV2/6+G/ktdNXmYf+FE9yj/DQUUUVsaBRRRQAUUUUAFFFFABRRRQAVV0EGS3lvG63cpkA9FACr/46oP1Jqa5mit4GmmcIi9SaZoMckWh2cUqFXjgRSp6jCgc+9fWcL0lzVajXZfq/wAkfP59UahCF97s0vCJ/wCJQyd0upwR/wBtXI/Qg/jWnWT4Vzu1Ff4VvPl/GKMn9Sa1q/MeIKfs82xCX88n97v+p9ZlsubBUn/dX5BRRRXjncFFFFAEd0ZhbSG3VWlCHy1Y4UtjgE+ma8H+IFx8ZvHfg2bwRqXwysLSe7ZFn1RtQRrdArA70XJIPHZmIyeK98orow+I9i+blTfS99PuaJlHm6ngnxa+HXivTPC/w4svDelnxFD4RuBLfW6zLEbhw0bA/MeFJWQd8BhVn4qaJ8Qm+Kngz4k6Z4RTUrix07yb3SUvUH2aZhJkGQ8HHm/eAIyn0r3Kit45hUVrxTtfvrzb9SPZLv8A0jxn4N+EfHX/AAvrXvHPjrT4bd7jT0gtPJmV4l3bDsTBJ+QJtJI5JJ5zWf8AAXwv4/0W58XeHNc8Nraw63Lcztrhu1ILspVAqLksMsWzxjnIzXu1FKWPnJSTirNJeltrajVJK2p8z/DHwZ4l8LaYmiaj8CtM1zVbed/L1i5vYPJZS2Qzbg2QvbHOAOAa9E8ZeEde1v8AaY8Lay2mf8U7oFg7m48xNvnnzMKFzu4Pldu1eqVzWreNdNtLho7eGW7SJv300ZAjUD720n7xHtx1Gc8VU8dVqTc1FXaa69fV6GVR0qMVzysjkfAXhTxAP2lPFnjbWdOa3sZbSOy0uRpEbzUAQFlAJI/1WeQPv0v7WXhrxP4v8B2Hh/w1p7XTXGqRveMJUURRKrcncRkbip49K7jxtq9zpNtp62aRPcahqlvZoJQSoVnzIcAjkRrIR7gVW8XeNNL8PzXMdxbX919gtRdXz2kHmLaRHdhpDkddrcDJwCcY5rOOKqe2hVSV42S+SsE6lKClGTsuvz/r7jz747abrmrWU3hCH4Tr4g0+K0WPRtTTUI4mtpDGFyQfmXaQO4DBRmsHVvhf41fwJ8NfBlzAdQt9N1M3WtzLOpS1j8wFUG4gttR5F4B6ccYr07xVrHii28X2NhYapotrZ31pPeP9t0uWSSzihWPczstwobLSDsuB645ntviBpK2E1xfW+oW6w6XJqaSzWvlrdwR7d8kS7iRy6YVsN8w+taU8dUhCMYpaa9d7NX3/AC6mTrUueSm7W728n/lv6bnnPiHQviN4Z/aS1rxh4Z8Kw67b69p6W0Est2sSWpCxAl8nOAYs4HUEYOazvB/gH4g6Z8LfiTPqOmNceJvFE5hjVJo/9JjJIaRTuwqkTSEAkHC9OleyeIPGOkaN9s+3C6H2C3tp5wkO8qJ5WijUAcliynge3rVXUvH2l2Ee670/U42iRJLxDCm6yV3KoZPm6tgkKu5sc4prH1eVLlX2V115dupUqlCLd59/1/4P3PseZ/EL4eeK5P2ZfC/gHQ9LMl551udUVZowIAQ8kmSWAbErDpnpU3xI8L+NPD/x60Xxr4R8Lrr9lbaSNPS2+1JD5BCugyzdBhgc4x94cda7DXfiNfWjaxHaeFr+b7BqcOm2suEMc0zmMYPzgjmUYx7ZxzjauPHGlwalDZyWl+Ge4gtZ5PLUpa3E23ZC53ZL/OudgYLkEkClHHVVvFNPmv582/Un2+Hba5rWt+v+TOD+APg/xpZfFjxb4y8c2kMV7qSRQ28kMitG6nllTBJCqEiUbsE4r2KuU+IniO60jV9I0yz1LSdNbUBPLNd6nGZIoookBOFEkfJZ0H3umeKzdL+JdvH4Ti1LV9NvGmhsvteoGwty0dtEWYRyEMQQHC7goywByeOa569WdefO12WnloV9ao05Om3a3/Af6/1Zne1h2vg/w9BrR1UWMklzvkdfPupZo4mkzvaON2KRlgzAlQMgkd6zfE3juzsIdehtbO+kuNDs3muZfJHkwv5HmojMTyWBUYGTk84yDWp4I1kaxpKsGkuGt0SKa8EYWG4lC/vDEf4gGyMgbc8AnBxknOK0drmscRSnU5E7sr6b4G8LWFnc2kGl7obq0aykSe5lmC27DBhTex8uP/ZTA4HHAotvAvhaDT7+yTTGaPVIo4r15LqaSWdYySm6RmL5XccHORxzwMdFRT9tV/mf3m3KuxjyeFtCls7u2msmmjv7aK2ujLPI7TRxghFZixY43NznJyc5zU3ibQdL8QWsFvqkMsi204uITFcyQvHIFZQwaNlYcMw6960qKXtJ3vcLI5+TwT4abToLJLCSFba4a5ilt7uaGcSsCrP5yMJCzAkEluRwaTXPA/hjWFjXUtPkuBHafYzm7mHmw9dkmH/eAHkb8kHkc810NVdWvY7C0851MjswSKJfvSOeij9T7AE9q1o/WK1WNOk25N2Vu7IqShCDlLRIzbrw14dt9X/4SCS3NvPBGm+RbqSOJljB2F4wwRyo6FgSO1ZGj6JpsdxZXsVibddNtmtdLhZmzbQNt3ZBPLvsUknkYA9c6LRXF3Is2pTeaykMkCcQxntgdWI45buMgCrFfrnDXDMsu/f4qXNU2S3UV/n08tlufC5xnSxS9lRVodfP/gBRRRX2B86FFFFABRRRQAUUUUAFFFFABRRRQAUUUUAR3TyR2skkMPnSKhKRhgu8gcDJ4Ga4S4lnudQmubxQtyxCSIE27MdFx369STnPpiu41Nbh9NuEtHCXDRMIWPQPg4P54rg/9RMbedHhnyS0cx+dj3OT976gnPrXyXGMqv1GMIKVm9bbWX83Xfbpo79D9A8PadB4+c6jjzJe7f4rv+Xptv128x9FOtYri7maKzt3nZfvkYCp/vMeB9OvtUVvIJbdJQMb1DYz6ivzipg8RSoxrzg1CWzfX0/zP1qljsNVryoU5pzjul09f8h9FFFcp1BRRRQAUUZx1ooAKKKKACikyTIsaJJI7ZwkaF2OOpwATip0sdSk/wBXpl031UJ/6ERXdh8sxuJjz0aUpR7pO337Hn4rNsBhZcletGMuzkk/u3IaKmew1RP9ZpV0v02v/wCgsab9nvP+gfef+Az/AOFbSyTM0/8Ad5/KLf5GEeIMokrrEw/8CX+ZHWR44srnUvDsmnWysTdTRRyspAKRGRfMbn0TdW4tpfuu5NNuyvqYiv6Ng0v2HUz00u6/JR/M0LI8zf8AzDy/8BZjiM6yerSnSlioWkmnaS6nG65oLW95Z3K2t3rCvch78SOjSShY3EQIbauxXbOBjk5qt4e8MyvNpq6ppUMdvE95eTQfK0SzSSjy029CFjLdscCu7aw1VRltKugPUFG/QMTUbQ3Q62F9+FpIf/ZaUskzOO+Hn/4C3+RwRq5BUquaxMPTmjbeL666uN3r1fc4/wAG6NqFn4hlvtStfMF1508TMyn7E7StlAAf4kKfMOflIJxgV1siq8bIwyrDBHqKuWmk6tc8x2flL/euX8vP0ABb8wKqXEU0NxLaXC+VPHwwByORwynuP8CO1GIybH4aiq9ak4w7vp6rdfNHXlWY5TzvBYSspy1fe/fW1n97t6LTOKXZtYLadF2xPHumD5Mm0gjaoGcsQOPfjNdHpeg394rSTt9iTjYrxhnb3IDcDpweevStDwfYaXJZ2+oxW5Fyi7H3yu+xxw2AxIB689SD71tXU8FtC01xNHDGv3nkYKo+pNfd5TwlhKC9pWftG9v5benX8vLqfl2M4mq4aMsLl0HSV9bu8r7W8kvv8zA/4RUmBt2pyedj5CsSiMHtlTkn3+b8qwEL8rIu2RGKOuc4YEgj8wa9AglimhWWGRZI3GVdGBBHsRXJ+LrP7JrH2hB+6veT/syADI/EDP4NUcTZHh1gfa4amoyhq7K1119bb69Lnq8HcSYqeZPD4yq5Kptd3tLpbtfVadbGbRRRX5ofroUUUUAdB4Bnza3VkTzBLvQeiOM/+hB6ueLrGW+0nFum+eGRZY1yBnHBHPGSpb8cVi+DPMPiQ+WDtFs3m8cDLLtz78Nj8a6LX7qWy0a4uoUVniTI3dB7n2HU/Sv2TJ6n1vKKftlo42fmleP4o/A8/pPA8QVPqz1U1JeTdpW+TZxd/bXlsIxMFglkYFYGwz7AfmZiDhR2HUkntg1NpJ269YMO1x/NWH9ah+dpHllkaWWQ5eR/vMf89ugq/wCE4PtHiKNsfLaxtKT6MRsUH6gv/wB818Nl8sPic6oRwVPlhF/N21bfr+B+lZosThMgxM8fU5qk09tk3olHyX3vc7Giiiv1M/DQooooAKbKiSxtHIiujDDKwyCPQinVHcTw28fmTzRxIOrOwUfmaAKsOjadFMsq25yhyiNIzIh7EITtGO2BxVTX7TULy+EaxJLabBiN5tiFsnO8AEsMYwMEf081+JHjDUZ/GWqWOg6hqyyQrZ2Gly2ZQWKXsm9y1w7AgjDwjAyTjAGWFad14x1i8u4bq4s4X0WbVhpStFdNG7yeYYmkCBfnQSKw5cZCk7R3+K4hz/IsvwtTDVpay3hTfLJ91dONr2195Nq9rn0mWZXmWIqwrRW3WeqXyd726aWTOvtHs9Put8s4vLuNSiW9onyw56jrgHgcsR04AycyT3Oo3XDyraR/3ITuc/VyOPwGfeuA13xPqs3wx1LWrLT7ew026sHXSp47hjcbpCI4XMYQAbi4YAMSOO54uaZ4t1G8h0+20bSoZm1C3a5snvL4rmzjCDzpSqMVZ2ddq8nBycEFa/IMx45zV4VYXKKUcLRi2rRacu7vJ7Pq7Lmve8mfZ4bh3Ce29tjJOrUdnrt93+enkdhb28MG7yowCxy7HlnPqxPJPuakrz9viVJH4cTU5tFxJdaQt/Z26XG4zs8pRIwdo4wUYt2DE4wKsL8QHvrpbXQdI/tGa5kt7azKzbY5Lh4mnkVn2lVWOIKxOcknGARXwlPJc5zLEPkpyqVG9X8Tvort3ffd/oz6CeLwmGprmkoxXyO4qG4ura3IE9xDEW6B3C5/OuT0nxVeTTwt4jtrfTLL7XfWs0lreGRQ1rHuZvMKKdp2TcAAjy+p5FafijVbjTvgxJrNrp7aPqOoQQpHFBGZZ4ZJ3WNOAu55BvBxgnI71+jZL4Q42vD2mZVlS/ux96Xzd+VfLm+R8xjuMaFKahhoc/m9F/m/wNdb61b/AFchl9okL/8AoINPSSeT/UafeSeuYvKx/wB/Nv6VzOg65r9jrU1hZRajqEOqTpHo665ut5FEcbNcSvmPzBGMxhQy7ixPQHNXNL8c65qi6Vbaf4ftGvtSa9LK+oN5EEVtKsRkLiPJVmYbcLk5HuR9bhfCHIoO9arUl5Xil+Eb/c0ePW4yzGStThFff/mb62mrNz9ntYwf71wxYfgEx+tSx6RdP/x8ajt9reEL+Zbdn8MVzPwq8S3Wt69rUFvHJcQR6tctc3E85At0B8uGOJCCWDLEHJGFG48liQO9r6rA8A8MYVqVPCRb/vNz/CTa/A8bFcRZtUvGVZr0svy1M+PRNOBzNAbk/wDTwxkA+itwPwFXoYooY9kUaxqOiqoA/SnUV9bQoUsPTVOjBRiuiSS+5aHiVKtSrLmqSbfd6hRRRWpmFFFFABVPVppk8iCBhHJcyFBIRnYApYkDucLx+fOMG5UV5bQ3UXlzpuAOQQxUqfUEcg+4qKik4NRdnbR9mXTlGM05K6IbK0htQxjDM8n+skc7nc+5P8ug7VLvUttDLuHUZ5qv/ZNofvNdMO4a8lIP1BbBp39k6WUCHTbPaOgMC4/lXy/+rdSrJzrVtX5X/No+h/tynBKNOnp62LFV7u9tbZgk0yiRvuxj5nb6KOT+ApP7I0/p5B29o/MbYPoucD8BU9pa2tqpW2tooQxyRGgXP1xRT4Xjze/V08l/wX+Qp5/p7kNfNlX+0N3+qsr2QevkFP0fBo/tKAcNBeqe4+xSn9QuK0KK7Hw3gWt5fev8jmWe4m+y/H/Mz/7Ush955E/34HX+Yp0eo6dPIIUvbd2fgJ5gy34d6vUyeKKeIxTRpIjdVdQQfwNZS4Zw1vdnJfc/0RpHPqvWCKX9l2SnMMbW/r9nkaIE+pCkA/jQNOhZlaeSe42kFVmlJUEdDt6HHuKd/ZNmv+p8639BDO6KPooO39KPsV4nMWqSsfSeJGX/AMdCn9ayqZPmcYOFPEXj2bkv8/zNoZngZS5p0rP0TJbq2t7lNlzbxTKOgkQMP1qOPT7CPiOxtk4x8sSjj8qZ5upQ8S2SXA/vW8oBPuVfAH/fRo/tALxNZ3sZ9Ps7P+qbhXiTyvMqS5eSVvLX8j1IY7B1NedfPT8wOk6bnctjBG39+NAjf99Lg0f2ZbjpLeD/ALfZv/iqP7TtRy4uIx/ektZUH5lcULq2lE4GpWmfTz1z+Wai+aUf54/+BIq2Dq/yv7mH9ngcJeXqr6faC36tk15Z4qQR+JL5AWbbOwyzEk89yetevqQVyDkHoRXkXi7/AJGi/wD+vh/5142a4zEV6cY1ZuST6u5lXw9Gmk6cUvRHb/Cn/kV2/wCvhv5LXTVzPwp/5Fdv+vhv5LXTUYf+FE7aP8NBRRRWxoFFFFABRRRQAUUUUAFFFFAFPUQDqWnFhuBuGGD2PluQfqMH86tX0skNnJLFC00iqSsY/iPpVXBudcVf+Wdkm/6yOCo/Jd3/AH2PSrF0slzdQafE7RtcEmR1OGSJcbiD2Jyq57bs9q++yupHB5Uq1d2ik5fLc+RzGLxGYezp6t2XzE03WtL0qxjt5nufMdi0kj2zJ5jsckgH3PA5wMCta21fTZ4963kafNtKyny2B9CrYIP4U610vTrZGWCxt03DDkRjL/7x6n8a5pbSFtUmt7KGGFbm7aCLMYZYY0TL4XoAWVhgcZYGvzrD4TKs4rV5p1IOKc5Tk4yur63SUbPtZs+rrV8ZgYU42jK7UUkmvTVt6fI7CiuSaO40VuT9hKH5ZEz9jlH+0ucR5/A56Fu+3oWrx6g7wsixzRqHISQSI6njcrDGRkdwD+lebmPDtbDUPrdCaq0f5o9PVbr9OtmdWFzSFap7GpFwqdn19H1NKiiivnj0wooooAKKKKACiimXU0dvbyXEzhI4kLux7ADJNAbHIfEbWJHuf7EtJWVFXN6yHBOR8seR0yOT7FezGsfwnpS6vrK2pOy1tVWW4Cj7wz8sfsG2tn2UjvkZ8Ukkwa5nBE1wxmlB6hmO4j8M4/CrGm3t9p1xNNYXPktcIqS5jDZCkkEZ6Ebm/PpXXy2jZbny8sRGriFUq6x7eXT/AIJ13xC02S6k0vU01600k6RdNOj3cAkiZ2ieIZBdOQJGxz1NcrrWn6dql1frN41jgtdY+ynUgNPZFmaEKpCys21I3C8rz1+9gkG1peiaz4kX+059RUqrtHDLcqXJwdrFUXaqDII4wWxz2J07fwNOWxda1le/2e0EbfgWZh+lZe7Hd6ndP2td80KXuvXV+VtrroXvEXha11+81C6nvX8nUtEfS1EQH7tJCxeRW7kgp2/g75rN1DwJd6pp92NX15J72WwFhbTQ2XlRW8QdXP7su24uyJu+YAhQAFrr9NtYbHT4LK3UrDbRLFGCckKowOe/Aqas+Zo9GWFpT1lHV76v+vTt0OQt/BE0l9NfanrbXlzc6na305FsI0It1/dxKu47VD/MMkn1yeal/wCEOCePrnxJDNpzfbJYpZludMEtxGUjVMRTbxsUhF42nnJGM11VFHMx/VaOmnW+731/zZx0/gq/ME8cGuxLnXP7XtzJY79jFmYpJ+8G8AsMEbcbV61PoXg4aX4wvNZhl06SO8upLlvM0wG7VnXBUXG/7gPIG3PbNdVRRzMFhKKadtV5sx7zw7a3njCPXbzy7jyLI2sEEkIYRkyB2cE9ztQdP4fesXxH4GudU1TU3TXmt7DWLi2nvLUWoZ3MOxSgk3cIyxgEbc5JOcEqeyopczQ54alNNSXn+FvyOZvPB8VzoOq6ZLekjWNTF7cv5Q+ZPMjJixnoY4xHn8cdq0fBuijw/o50qK6aa0hmc2aMuDbwk5WHOfmC5IB/u4HbJ1aKLscaFOMudLXYKKKKRsFFFNkdI42kkZVRQSzMcAAdyaNwI9Qu4LK1a4uG2ouBgDJYngADuSeMViL9ou7wX14oRlUrBCDnyVPXJ7scDOOBjA7kosj6ldLqE6lY1z9kiYfcU/xkf3mH5A47tmxX7FwvwzHL4LE4hfvn/wCSp9PXu/kut/gc7zh4mTo0n+7X4/8AACiiivsj50KgvDM89rawS+U11Ns8zbu2AIznAPX7mPxqeobyOVvKmtyvnW8okj3/AHT1BBI6ZUsM9s9658Wqzw9RUHafK+X1tp+Jth3TVaDq/DdX9L6iabM89mskm3fllYr91iCRkexxkexqeoNMgNrptvbMwYwxKhYDGcADP6VPW6ulq9TKVru2wUUUUxBRRRQAUVDqN3bWGnz315MkNvbRtLNK5wqIoySfYAGsbQfE8mo/6RcaBqWm6e0Bnivr0wpGyDHLKJC8eQcjco4Bzg8UrjUW1c36Kz7XX9CudL/tK31rT5rLeU+0x3SNFuHUbwcZ9s1Q8T+JtItPBM2uQ6zYC0kAjhvRdJ5O5m2Ah87Tgk9+xpSlGKbb0LhTnOahFat2JLzxPZRTNHBBcXWwlS8YUJkdeWIz9QDWbdeItUmf9ysFqnYYMjfmcAfTH41gw3+mJZs6X1qILeJXdxMu2NCMqxOeARyDTNW1SDT7zT7aSOR5NSuvs8QQDgiN5Cxz2Cxn9K/McXxdmNaTjRSgummtvO919yR+0YHgXKMPFSrXqS63el/JK343N+HxBrCfea0lUesLKx/ENj9Klk8RG5i8q/0WCaI/eQTCTP8AwFlA/WuP1LxNpkVgLjT7m21JjewWZS2uFbbJJIqYYjOMBixHopq7DrGky6g9hFqlk93G217dbhTIrYJwVzkHAJ+gNY0uKc4pq8pKXrFfpZnRW4MyGq/dp8r8pP8AVtHVrquiXOkS6dHIdJWWNkAaMRqmfRh8n5HNZ8uh6rFGGhjgu48fK0EgUsPXa2AP++jWLY6vpN7JJHZ6pZ3DQoHkWG4VyikZDEA8AjkGqGi+INOvvED6bot2s0a2v2ia5sLz5AS5QKfLOCTtfv8Aw12VeIMJmEFHMcO3y9Yt6X8m1+LZw4fhjGZVNzyrFJKW6mk7280unkkbJW4jvJYZxGPL2ghDnY3JKk9CQNvToSRziuc+K01yPCgsrIMbnUby3tY1WUxlg0ilxuHT5FfmujjVUXaihVHYVV1zSdN1i3jg1O0juY4pBKiv/C4BAYe+GP518vXrUJYp1KUOWF9Fvt/V2fY0KNeOEVOrPmnbV7ave3ZdjgPD+o6vp9xeadpcMdve3fiBbFLS5ne5gs0FqJXdW3AtlRuI+XDHbx1OjFrOqHxFcWNr9i/tC6vk04XrQv5e2G2E0shj39mdlVQRyeScV0cNp4a0q4s7SOPT7OWEs1rFlUYF+GZR1JbnJ781W8UeFrfU7SOC1SwgC3L3D/aLLzwzuCGYAOpBOT3IIOCCKPawctVZP+v8hexqRjo7tf1+r1+45ZNU1zxJceH40udO81dRvrpblYG8kw24a3Euzfk5eUMBuxyOTjmSx8Sa7e3GlaxNfQW9na+Hm1XULeO2Y+cCw24/eDG5FcrnO05+9njr9A8OaZpWl2tlFCJDa2htRK4G9kJBbOOPmYZOKLzSvD1n5N9dWlpCLaBbOORwAqxMdix+hBLYAP8Ae96HWpt2UfT8f8wVColdy9dfT/I5i+8V+INKt2uNQ/s+dp9DuNSS3ghZTaunliONmLneGMm3OFyVOPQbfhHUddm8RahpmstYyG1tLaYm1iZBFJIZN0WWY78BFO7j73Srlj4Z0Czs5bW20m2jim2eYoXO4IcoCTzhT0HQVoQWttDdT3MUKrNclTM4HLkDAz9AKznUpuLSia06VRSTlImUukwlilkikUEB43KnBxkcdRwOPartvrWsw9L1Z/aeEH8tm3+tUqK6sJnGPwkVGhVaS6br7ndHHjsjy3HScsRRUpPrs/vVmbUPim4C/v8ATkb1MU/X8CBj86l/4SuLHGmXm73aPH57v6VgUV7MeMsyirNRfyf6NHz1TgHJpSulJekv80zam8U3R/1Omxgeslxz+QU/zrU8N6qdUt5DJCIZoX2ugfcMEZBBwOD9OoNcjW18P1Zrq+nXmJlijDdiylywH03Cvb4ez/HY/GunWS5bN6LbY+e4q4XyzLcs9tQup3S1d736W/H5HTUUUV9wfmQVn67o9vqYV2doZ4xhJUxnHoQeo/yMVoUVFSnCpBwmrp7pmtGtVoVFUpScZLZrcp6Jp8em2It0dpCWLO7dWY+3b0/Cm+INNXVLJYTK0Txv5kbgZAbBHI7jBP8AiKvUUvZQdP2dvdta3S21vSw1iayr+3Unz3vfre97+tzibO4vfDureVPEQsp+eJT8kw/vxk8bh3HHv2NT+JNWj1TyIbeGRYoZPMMkg2ljtK4A6/xHk/8A166u6t4LqBobmGOaNuqSKGB/A1yeraFeWM3+iRyXVqfu7eZIvYjqw9COfX1Pzma4TMMPgZ0cD70HpZ6yUXuou+q6JNXS2b6faZHmGVYzMqeJzFclWNnzJ2hKS2clbR+js3vbrn0VLDZ6hM2yHTrot/txGMD6l8Vo2/hnUX5nuraD1CK0ufxO3H5GvhcNw3mlfak4r+97v4PX8D9IxnFmTYX4q6k/7vvfldfezJoUSSTrbwRmWeT7kY6n3PoB3NdHb+FrNebm6up/Vd4jX/x0A/rWpp2n2VgrC0t0i3/eYcs31J5NfQYLgqampYqordo31+btb7mfK5j4iUFTlHBUm5dHKyS87K9/wIvD+mpplh5W7fLId80mMbmx29AAAB7CrV1DHcW0kEq7o5UKOPUEYNSUV9/CMYRUYqyWx+V1as6tSVSbvJu7fdnnhDwboJd0ksUhh+UcyMG2jA9Tjp712PhjTTp2n4lwbiY75yOx7KPYdPzPerC6bYrqZ1AWyfaWHMn4YzjpnHGeuOKlvbmC0tzPcSBEGBnGSSegAHJJ9BXi5ZkmHy6rVrResm/+3Y72/wA35I+kzvibE5tQo4dqyilf+9K1r/5LzJaqX2pWVpJ5c02ZcZ8qNS749dq5OPfpWZc3N3fsSzS2tv8Awxo22R/dmHK/QHPqecBtvDDAmyGJY1JyQoxk+p9TXwfEXixl2AqSoYCHtprTmvaHyerl8rLtI68s4NxOIiqmJlyRfT7X/A/rQsTapfS8W1okC9nuG3MP+ALx/wCPCq7i7lOZ9QuG/wBmMiNR9NoB/MmpKK/Jcz8SOJMfJ/7R7OPan7v4/F/5MfZYThjK8Mv4fM+8tfw2/AheGSRdkt7dyR/3DKQPxIwT+JNNhsbKGTzIrSBH/vLGAfzqxRXzeNz7NccrYrEzmvOTf4XPUoYDCYf+FSjH0SMi48NaTPb3cMkMhF7fx6hMRIdxnjMZRge2PJj49BUFj4R0Wz1QXyLcMI55bmG3kuXaCCWQsXdIycAku/03NjGTWxFO1yxSwha5YHBdTiNT7v0/AZPtV210ZXYSak63LDkRbcRL/wABP3j7n6gCvsOG+As/zi0pt0aL+1K+q292OjenXRW6njZpxHl+Bul78+y/V9Pz8jj9L8M+HbWxj020lvryC3mhkgtVu5LhYPJcPGqrkhVDBevoATgCnt8N7K9VVWGfTYVE6bUvH3GOZw8kRVGACFhkDcQOmMZFegqAqhVAAHQAdKWv2LKPDXKcFL2mInOtPf3naN+/Krfi2fEY3izG11y0oqC8ld/e/wBEjlIPh14XW40ye4tJLx9ItGtLP7RJuRIyoT7gwpIUYBxkZNTQ+BPD1v4e03R7OK6tIdJlM1pLb3TpMjsrKxMgO4lldwc+vsMdLRX31HDUKEFTowUYrokkvuR85UxFapLmnNt+bucbqHw/02eHQ9Higjj0LR7yS/MLSO0s07F8KSeqEyyFsk54HTNdNrGmWmqLbLeIzraXUd1EAxA8xDlSfXB5x6gVcorXlSM3OT6mT4l8O6frk9pPdtdRzWRfypbW5eFwrjDqWUg4YAZ+gximeHfC+jaG1q2m27R/Y7L7FAC5ISLdvI57k4JPsK2aKLK9w5na1zF8PeFtH0S6huNOhkikhshZZ8wnzIwxZd/95gS2Cefnb1raoop7Cbb3CiiigQUUUUAFFFFABRRRQAUUUUAFFFFABRRRQAUUUUAFFFFABRRRQAUMAVwRkHqDRRQBTOkaUWydMs8nv5C5/lXlPiqNIvEl9HGiqi3DBVUYAGa9irx/xh/yNOof9fL/AM6+L421wtL/ABfoenljfPL0O2+FP/Irt/18N/Ja6auZ+FP/ACK7f9fDfyWumr5PD/won19H+GgooorY0CiiigAooooAKKKKACiiorydLWzluJAdkSF2x1wBVRi5SUUtWJtJXZAny+Iv3f8Ay0tT53ttYbPpndJ9ce1WbK7trLW7ia9LRh4I1hfYWXgsWAIHB5XjuAPQ4i0mKUSXF3cRGOS4cbUYgsiKMBSQSOu5uP71WNLspdUh+2y3M0NvIM28cRCl07OxxnnqAD0xnk4H1marCYbI1h8fNpOy934r35rLppt2svQ+cwcq1fNJVcLFO3fba1/mWrjxBpyQs0LyXDgfLHHE2SfqRgfUkCqPguFprhr5mWRUjZVlT7kkkj75Sp7rkKAfqK0I9C08SBpxNdbTkLcSs6A+u0/KT7kVpV+d18xy/DYWrhsvjJ+0tzSna9k72SXfq7/I+qp4XE1a0KuJa929lG+76tsKjht4IWdoYI42kOXKIAW+uOtSUV84pNJpM9SyCiiikAUUUUAFFV9WvrTTNLuNRv51t7W0iaaeV+iIoySfoBWZp/i7w9fWV3dWmoeatiyC5QQSebEXOFzHt389uOcH0NUoSauloK6NumXSebbyR7UbehXDjKnI7juKZqV3BYadcX11J5cFrE0sr4+6igkn8gaNPuY7yxhu4d3l3EayJuUqdrDIyD0PNKztcfkeU+Hre5vmh0yzj827jQLMkj48nHDGQ84weOmSe1dZY+B5Gwb/AFZvXZaxBPwLNuyPoBXYYA5A69aK0lVk9jzaOV0YL3/eZDp9rBZWUVpaxiOGFQqKDnA+p5J9z1qaiqcup2cevQaM0h+2XFtJcogUkeXGyKxJ6DmRcevPoazs2ejolYuUVzuoeOfDFlrLaTc6hKt4u7MIs5mJCkAkYQggFgMjjkV0VOUJRtdWuF0woooqRhRRRQAUUUUAFFFFABRRRQAVz+oXI1iURxc6fG2S3/P0wPGP9gH/AL6PsPmXU7oavN9nhJNhGT5rg8XLdNg9UHfsTx0zmVQAoAGAOgFfqHCfC/suXHYte9vGL6dm/Psum++3xueZ1fmw1B6dX+i/UKKKK/RD5EKKKKACiiigAooooAKKKKACiiigDB+J2j3ev+A9S0iwaIXFxEPLEpIRyrBtjEdA23afY1j+Ko/EviHQYVn8MeRHa6hbXE1hJfRO97GjFnTj5AAwQjc3zYIIXv21FS43LjNpbHnsPg/UdS8RQ6lq+n28dtea5/al3Z+YriFYrXyYFbHDMXw5xkAgDJxk5d74J11m0+a5s7uaNm1Ka4g0+6gjkhnubjerZk+XAjJXcp3Dt1NerUUuRFqtJNWPn+/8LSWXxAbw5bpFHodtZWK6jIrlk3QvI8UBY9HcOhYE52r33A1v+KNOvbzxJY3qWn2m1sbK6PliUI0s0mxFUE9Pk83n3FevsilWUqpDfeBHX61nTeHtGkz/AKCkeevksYv/AEEivksfwnCtV9ph6nL5NXWvne/5n3uWceSo0VSxdLm295NJ6eVrfkeMaH4e15bXSrOdDHZ6dqDzWy3DxtNDAluyQxyFOGIkckYzwq5JOaz9N8N+JV0uyX+xre2uNJ0G6ghc3CNJcX0ioDIWHRWIdsk5JY5Ar2G78M30bH7HcwzJ/Cs5KMPqygg/kKpyaRrCcf2c0nvHNHj/AMeYH9K+ar5Dm9GTtSUl3TXn0vfr1R9hhuJsixEE/b8r7S0fTyt06M801vwXdxWNxZ6RZw/ZrfSLWxgiV1Q3KiffcIT23IqjJ6lznvW54K02+h17WtY1DT4bFr94I4IY3ViIY4/l3FeN253GO2MAkYJ6iS0v4v8AW6beKfRYjJ/6BmpLfTtUn5i06bb/AHpcR/oxz+lcX9lZtUvT9hL1aa7dXp0PRedZLSSq/WYW8pJ9+i16leir39h611+ywfT7Rz/Knx+H9Zc/MlpGP9qdiR+AXH61UeGM2bt7H8Y/5mcuL8jir/WF90v8jxHx9NFqfiHxGgutLnMlzaaYtg67r2dFCuwgOfkOZ5OdpxtJ4xkbmnazrmqeKrmZNVt7eGx1KeL7ALlDJJBDuUr5GzcWcru3FxgEYHr6n/wid5HIZo57F5G6nyTGf++snNT6f4RT7U1xfzR7mGGW3TYx9mk+8R9MV6tPhnMptQlBJd3JPoui16dvmeNU4xyanF1IVXJ/yqLTer6uy69zw+38X6ilrDrFvr7alKugXOr6hZp5Zt4XCL5UIKruXBkOQTnCZPXnU1GGfWbXSdJ0rxTca5PqWqwedPCIZUgaBWuHZNqhVyUjwrEgfLx1z7jYaBolkwa20q0jcZ+fyQX56/Mef1q9DbwQqqRQRxqmdoVAAueuMdK9ulwhQjJSnUv6JL8dT5qvx/WcXGlS36tt/grfmeX/AAzs/EN94bknuIri6T7ddR2808kQdokndF3bSM/d646Yrprfw9q0v+sNrbr6s5kYf8BAA/8AHq61FVF2ooVR0AGKWu+HC+VRlzOnd+r/AEZ5dTjjOpR5Y1FFeSV/xucuPC19nnVLf/wEb/45U0PhUbs3GpSsPSGNUz9c7q6KiuynkeWU3dUI/NX/ADPPq8UZ1UVpYmXy0/Kxkf8ACM6PtwYZ/r9rl/8AiqZ/wi+l9vtQ/wC3l/8AGtqiux4PCvelH7l/kees0x62rz/8Cf8AmZMPhvR0OWtmm9RNM7qfqpOP0rUhjjiiWOJFREGFVRgAegFOoranThTXLBJLy0OetiK1aXNVm5Pzbf5hRRRVmIUUUUAFFFFABRRRQAUUUUAFFFI7KiF3YKqjJJOABQAtR3Vxb2sPm3M8cKf3pGCj9ayrrVZrrKadhIf+fphnd/1zXv8A7x49ARVaO1iWbzmBlm7zSnc/5noPYcV+c8SeJeUZPOVCl++qrdRdkn2ctdfJJ262PqMr4UxmNiqlT3IPq936L/Oxdm1reMWNnLMe0ko8pP1+b8lxVRlnnuFuLyYSyJny1VdsceepUc847knvjGTUlFfi3EPiNnWdU5YdyVOk94x6rzbu35pWT6o+7y3hnAYCSqJc011fT0W36+YUUVHcTRQJulcKCcDPUn0A7n2r4WnTnVmoU4tyeyWrfoj35SjFOUnZIkps0scMZklkWNF6s7YA/E0W9vqF3zFEtrF2kuFO4/SPgj8SD7VoWOk2lvIszBridek0x3MP90dF/ACv1Dh/wpzfH2qY5+wp+es3/wBu9P8At5prsz5TMuMMFhrxofvJeW339fl95m24u704s4tsfe4mUhP+ArwW/Qe9XodFtj81673jf3ZceWP+ADg/jk+9aVFftmQ8EZJkkU6FLmqL7crOXy6R/wC3Uj4LMeIMfj21Odo/yrRf8H5iKoVQqgBQMAAdKWiivrTxQooooAKKKKACiiigAooooAKKKKACiiigAooooAKKKKACiiigAooooAKKKKACiiigAooooAKKKKACiiigAooooAK8f8Yf8jTqH/Xy/wDOvYK8f8Yf8jTqH/Xy/wDOvi+Nv91pf4v0PSyz+JL0O2+FP/Irt/18N/Ja6auZ+FP/ACK7f9fDfyWumr5PD/won2FH+GgooorY0CiiigAooooAKKKKACodSh+06dcW+QvnRMmT0GQRU1U9bJa1W0Q4e8cQjB5AP3iPcKGP1ArowtOdWvCEN20Z1pxhTlKWyQSTveaDbmHdHJqCRonPzJ5gGT/wEEt+FdRCiRRLFGoVEUKqjsB0FYdjGJvEFvEgwljGZmx2LAxoPoQZP++RW9WPH2N9pjoYaL0gr/OX/AS+8w4Yw/JhpVWtZP8ABf8ABuFFFFfBn0oUUUUAFFFFABRRRQByvxktLvU/BX9i2azb9WvrW0kkij3+VE0yGVyMYwIw/XjpXLaZp2urrM9vePqFzqV14rt4LvUvJMQmsbeL7VEfkAVU6xnHDMzA9cV6nRXRTxDhDkt/Wn+RLjd3PHFt5tb+GWoCSDXv+Eo1aMWOp+dFdKkBuZ1idFVsRFY0Y42ghVXP8WTdu9E1OPUNS0PS5dbt7C91/T7VZhcTM6xxQrcTzLIxJUPt8ssOCwx14r1aitPrj1stP+G/K2hPszyfSPD9/Dqllc27a2nmeL5UtY5bqdo7SyhEm8kM2Nsphbls581cdqr+HbjVXk0vXFttebXLNbu98R+elwsW0QyhbREbCP8AvGi2CMHiPd3yfYKKPrbd7r+tf69dQ9meNnSvE/hzR/N0+fW7jUofCBN9cPJLOZLqWSMBkQ5XfEscxVVGfmGc556H4U6ZaDx9rWqadaatDp0Nja2lnLqTTlrhiZHmkUTfMAf3QPTJUnvk+h0VM8VKUWrb/wBf8N6jULM858fDXf8AhIPE2r6TbXazafoNvZ2UsUBd90srvO8Qx87KixEAZ5GPasfUILu1stZ1jwxF4gOkWQ0ySKOQ3LzXs8V2JJ2jSX52Bi2oxxhznrivXqKI4rlSVu34W/y/Fg4X6nknhtfGS+INQg1mPUjBa3n/AAkF0679rZtU8uxhI++qyh8gf88xn79aXwx0LVdM8SaE95carLN/wjby6vNczyvHLcySQlEwx2rs2TYAAIDc9ST6TRRLFOSata/9f18uwKFgooorlLCiiigAooooAKx/Elz5zLpULtulw1yUODHFzxnsWI2+uNx7Va16+e0gSO3VWurg7YVYfKPVm9gPz4Hes2zt1t4yNzSO7bpZH+9Ix6sf84AAA4Ffc8H8PPF1Vja6/dxei/ma/Rfi9O585n2arDweHp/HJa+S/wAyWNVRFRFCqowABgAegpaKK/Wz4IKKKKACiiigAooooAKKKKACiiigAooooAKKKKACiiigAooooAKKKKACiiigAooooAKKKKACiiigAooooAKKKKACiiigAooooAKKKKACihiApJOAOpNZk2tQE7bGJ7w/30IEY/4GeD/wHNcuMx2FwVF1sVUUILrJpL8TbD4etiJ8lGDk+yVzTorKh1kI22/tmg9HiJlT8SFBH4jHvU51rScfLqVs57LHKHY/RRkmssFmmBx1H2+FrRnDumnb17fM0r4LE4ep7OrTal6F6ob66hs7dp532oMDgZJJ6AAckn0qo+uaYsZP2jMn8MBQrK59AjYJ/lWefOurkXd5jev+qiBysIPp6tjqfwGB18DinjLL8gwSrSkp1JL3Ip/F5+UV1fyV2ellGRYnMa/Jblivib6eXqWG1TUZOYrOGFT0MspZvxVRgfgxpP7S1QcfZ7N/fzGX9MGm0V+D1PFTieVRyVWKXZQjZfem/wAT9CjwjlKik4NvvzP/AIYk/tTUtv8AyD7UH/r7Y/8AtOq06T3bBr+bzlBysKrtiB7HbyWP1J9QBUtFcOaeInEeY0HQqV+WL35Uot+rWvyTSfU6MJw1lmFqe0hTu+l3e36BRRnHJqGG4Ny22wia6Pd0OI1+rnj8Bk+1fL5dlWOzKt7HB0pVJeSvb1eyXm9D1sTi8PhYc9eaivMmpkc0UjsiSozIfmCsCV+vpVm30dpjv1KVZF/5948iP/gR6v8Ajge1XJdN06SNEksLV1jGEVoVIUe3HFfrOWeDeLrYfnx2JVKb+yo89vV80Vf0uvM+NxfHFCnV5aFJzj3bt92j/H7jIgNxeSMlhGjqpw87nEanuBjliPQcdiQa09M0yK1k8+RjPckYMrD7o9FH8I/U9yauRoscYRFVVUYCqMACnV+rcNcF5TkEFKhDmq2s5v4n3t0ivJfNs+PzXPsZmLam7Q/lW3z7/MKKKK+tPFCiiigAooooAKKKKACiiigAooooAKKKKACiiigAooooAKKKKACiiigAooooAKKKKACiiigAooooAKKKKACiiigAooooAKKKKACvH/GH/I06h/18v/OvYK8f8Yf8jTqH/Xy/86+L42/3Wl/i/Q9LLP4kvQ7b4U/8iu3/AF8N/Ja6auZ+FP8AyK7f9fDfyWumr5PD/wAKJ9hR/hoKKKK2NAooqO5uILeIyzzRxIDgs7ADPpzTjFydkrsTaSuySquoXq2kkSGCaVpt20RgHoMnqRk4ycDJODxxTRfSy82un3Uq9ndREv8A4+Q35A1DfTGSBoL20uoZQQ0b28bSgEchlYLgEH+8B36ivWw+U4lTjOtRk4dbb/dv+Bw1cdQacadRc3S+xJDNqohSWbT4m3KCyRTfvFz2wwAOPXcKcmp2vmLHMz28jHAWdCmT6Ang/gTVrTmuHsYmu0CTlR5ijsfwJ/mfqaklRJI2jkRXRhhlYZBHoRX0+I4ewVT4E4vyf+d/0PAo51iYP37S/ryG1T0VBOzalJ80krMsRPRIgxA2/wC8AGJ75HYDB/ZYC+Ut/eLB08kOuAPQNjeB/wACq3I0FlZFm2xQQJ2HCqB2FLKcnlgqkpzabeit2/zf9MeZZnHEwjCmml1JvD/OuX5H3RDApP8AtZkJH5FfzrZrP8N20lvpxknTbPdOZpVPVScAKfdVCr+FaFfkXEWLp4vNa1an8Ldl52SV/na59vldCVDBU6ct0vz1M7xPrVroenpdXMc0zTTpbwQQKGknlc4VFBIGTzySAACSRRa6xbnS473Uo30jzHKeTqDxxurAkYyGKnOMjBORWd8RoReaXHYTeGb7WoJm3E2VxFDJbSKQUcM8iFTnOGU5GPeuQbQfFoVf7c0RfEV5J4fjsrad5oTDaXBaXzTLvIPIMGXRSW8s8dj46SaKrV6sKrUYtq3Z/wCX3W+dj0yS5t4/M8yeJfKj8yTc4GxOfmPoODz7GsfVvF+hWK6whvo5LjRLI3l3AjfMqBXbjsThDx2yM9RXEaj4X8SwW2peHrbSpb2DULPTNMOpNcRLGLOIBJsqW3l/nmOMYIPUng29a8LajqH/AAltqdBKSa5qlsovVeFVaxIgjl2kNvBCJMxBAyW4zT5V3M54rENe7Cz16P8Avf5Ly1O/0e/g1GzWeF4ywAEsayBjC+ASjY6EZ6VarmvA+hHSdf8AEFymnw2NtdXMMdnFCFCtDHAi7sL0y5kHPOFFdLUvc7qMpSheas9fz/XcKKKKRoFFFFABRRRQAUUUUAFFFFABRRRQAUUUUAFFeX6xrHiG/wDhvrXxAt/ElzpsdpHdT6TYwwwtC8cLMqedvQs7SlOgYYDgDkZOxeePb+O4DW3h0XFnHqdvpU87Xojf7VIyKwSPadyIXwzbgcq2AQCa6HhZ9Nenz+ZHOjuKK818M+OruW88XTWtpPqq6XfXcsu6fy47WOCPy0hTIOWkeB2wBgbixOSAb1x8T7AXWpW1pps1xJZWdrJb4kAF3cTsFWBDjqDJEC3ONx4+U0PC1U7Jf1/TDnid5UOoXUFlatcXD7Y09sknsAO5J4AHWuN1D4hS20kV6mhGbRZtVOlR3i3YE0s4ZoyUiK4MfmIy7i4PBbG3msC38fzXFxYa5rulrbaPqMNxPptwt1vMUUcTSmRotgwGjViH3E4IG1dxFe9kXDVfMqvNP3aSer6+i8/Xbr2fm5lmlPCQ0V5vZfr6fmdtF59zdm/vF2SMuyKIHIhTOcZ7scAk9OAO2TPXD6Lr2v6z8QtJtbvTW0q1XS5tRaJbzzGlVmjSJZVCjaw3SErlhkDDHBx3Ffs+FoUsPRjRoxtGOiR+d4ipUqVHUqO8mFFFFbmAUUUUAFFFFABRRRQAUUUUAFFFFABRRRQAUUUUAFFFFABRRRQAUUUUAFFFFABRRRQAUUUUAFFFFABRRRQAUUUUAFFFQ39ylpZyXMgYrGM4UcsewHuTgfjSbSV29BpNuyJqhvbu2s4991PHEp4G5sFj6Adz7CuB+L17q/8AwgN80V5PDeXnl2dpFZzGIpJNIsS4cYYsN/XOOM4Fclo+oaloera1Fp9g8Wozajp9jbWGoXz3SRhwWeTzSxYZTeSo6eWDg55/M8d4oZZCM/qNN1WnZO6jF6xV7u8re9vy9PQ+uw3B+KnyvETUE+m76/K+nc9am1e5l4s7Pap6S3J2/iEHJ+hKmoWn1ST79+sf/XCAL/6HurhT4l8Wza9Npem2VreNplzDbXky2MixXDsEeQq5lxCERx18wk546Zf4f8V+INZ1Rby3soINDaW4V5ri2ZPJhjDhZjKXCvuZV+RU4VuWGK/Mcy4+4qxTc4Vo0ob2il11WrTldrbXy0eh9ZheGsoopJ03N93f9LL8DsZLSOY5unkuj1/fuWXPqF+6D9BU9cFpvi7XbWxsdW119NGkX2otClylrJbt9m8iV1nKtI+0M6LjJ+6QcAnAt+Itc1f/AIUvfa3NB9l1C7s5PskUYKvE0rFbcHJyHw8eenzZ6V8Tj5Zlja8ZYys6km0k5Sb1b212tbVdND3cPDDUINUYKK7JJfkdlRXmuktrmia5FBptpe2ceseVZWUGs3jXOJUSWWa6ZRI20bFChA4LHGcdatR+Kbq4urW11aO1lNhqV61xcW/mRRvFaxZMiLvOMSSIpViwyG74xzSy6d/cldWv57Pzt0a3NlWXVHoFFeaXHjHxdB4cubnUE0u3uW8MtqqRwW8jG2lyoWNiZPn35bGMbSuPm6ntfDbXlholpY6zqEV9qMUSrI1vCweTAxnZudifU9CecDpQspxUpKFKPPNuyjFOTfe1l/XTQmWJpxTlN2S6vRGtRTY4dTn/ANVZCFf71xKF/EBdx/A4qdNIu2/1+pbR/wBO8AU/mxb+VfYZf4YcS4xKUqSpp/zyS/BXkvmjw8TxXlVB2U+Z/wB1X/HRfiRVDDLLdnbp8BuOcGXdtiH1bv8A8BB960o9E04HM0TXLetw5kGfUKflB+gFaCgBcAYA6AV+gZL4O4WjNVMzr+0/uxul85bteii/M+bx/G9ScXHCU+Xzer+7b8zLtdFhPz6gwu5P7rLiJfonQ/U5P06VqAADAGAOgoor9gweBw2BoRoYWmoQWySsv+H892fE4jEVsRUdStJyk+rCiiiuoxCiiigAooooAKKKKACiiigAooooAKKKKACiiigAooooAKKKKACiiigAooooAKKKKACiiigAooooAKKKKACiiigAooooAKKKKACiiigAooooAK8f8Yf8jTqH/Xy/869grx/xh/yNOof9fL/zr4vjb/daX+L9D0ss/iS9DtvhT/yK7f8AXw38lrpq5n4U/wDIrt/18N/Ja6avk8P/AAon2FH+GgqtcahZwzGKSdfMXqigsw/Ac0anNLFFHHBt864kEcZYZAPJJI74UMcd8Yqexto7S2WGPce7M3LOx6sT6k19JlOTfXIOrUdo7K27f+R5uY5n9VahFXkU44X1KRpLhZY7ReI4Wyhl9WccHHYKfckHIxZt9O0+3mWWCwtopFGA6QqpA9iBVmivtsNh6eGpKlSVl+fqfLYjEVK83Ob1CobycwqqxxmWaVtkMQOC7ensOpJ7AE1n+L/EFn4f0tru4WSZ9yIkMKF3ZndY14AJALMozjvgZPFXPAN/pepR3l1HJM1/aS/Z71bq2eCS2barhAjjKqVZWBH3sg5Pbxs+z6llVBu3NUey/V9l+L6d135XlVTG1LvSC3f6L+tC7DojNGGu7+4aY8kwvsRfZV9P97JpToj9tYvwPTbCf/adapZRjJAyeOetG4bsZGR1Ga/Jv9Zc453L6xLX7vktl8j7n+ycBypeyX3GS2jXK8w6vOzek8MbL+ShT+tSWWjIs63F9N9rmQgxgrtjjI7qmTz7kkjtird/di18nMFxN50yxAQxl9mf4mx0UY5NY/h3xfputX1na2cN1uvbe5uY2dFCiOGZYSxwx++WyvqAc46U6uf5xXoOlOs3F77fmle3lcdPK8DTqKcaaUjZ1K8tbCza6vJlhhTGWb1JwAB3JPAA5NcnrHjOeXMek23lJ/z8XA+Y/wC6nb6seO610Xiiz/tPw7dWsW1pHjzDzx5incmf+BAV5tC6ywrImdrqGGR2NeRSinuY5lia1JqMHZM674c6rdXF9d2V9dSXEjKLiJ5Dkn+FwAOAB8hwAPvGtjxF4h0nQ2hTUbl1kuAxiiigkmkcLjcwSNWbaMjJxgZGetcHo95/Z2tWt+ThIZMSn/pm3ytn2AO7/gIrT+J08ya9b3egQ6sviWxQRWgj0+R7S8ikZC8csm3ywnygltyspH4EnD3icNi5LCt3vJPr/Wr3sjr9O1exvtTubG2kZ5bSKKSU7SFAkDFcH1wucdsj1q9XmM2g31z4ml177PqSXl94tiWIgyKsFrbqFZio42yCBxuIwwkXHUZr6ENSm1HTdTax1z+3LW8urvXJZYp0jEISYLbR7vkkBJiCKmeF3deTHKbxxs07Sj1/C/52adu19T1aivIrjQtV0rwz4ahuJtQ3ahH5/iC4ktrq93zCPckLxxOHWPdI/AIGUUNnPPpHgfT/AOyvCllY/a7i6CRlhLcIyPhiW27W+ZQN20KeQAAelJxt1NqGInVlyuFtO/o/1373Rq0UUVJ1hXN+LvG2leHb6e2vLXUJvslkL67ktbfzFtYMsPMfBzj92/QE/Ka6SvI/iF4Z13XPFHiYQaPrH2i/Fra6bdpepHY+VGgbdcRmT94gkkmyhjbI4x81dGGp05z992X/AAUTNtLQ9WF5any/9JiHmpvQFwCy+oB7ciniWIhSJE+Ziq/MOSM5A9+D+VeVaz4Y1TVfFU8V94UNxNP4nguX1iYxFYbCEoyJEd28ZCFSoAHzyE/e5vfDLTLrUPF99cSKv9i+H9Y1B9MdWytxcTyM0jj2iEksY/2ncfw1csPBQ5ub+v8Ah/8AMnmd7WOn8U+MLbQtZtdMn0bWLmW9fy7ZrW2DpK+xpCoJYchUYn6VtWN9Bc24kz5LiNZJYZWAkgyM4cAnaa57xdpur33jjTbuxhAi0zTL2SGZyNv2uQRxxAjrwplycd64PSPA16/gK8jGmazHrdxpY0uZ7tLWPcLmRBcvuiO6VhgsXkJ/2eSacaNKcE+az/4LByknsewG7tAMm6h4baf3g65Ax9ckD8RTluLdpmhWeMyKQGQONwOM4I+gJrh/+EG08eOlng0CyTTtH0gJpivEpiN1JIxkcr3ZRDD8x5+brmuQ03wn4lk021uNP8LSaXrGneGb1W1Gd4RcXuqyoilt6sSRkzEMx6t0A6qOHpy+3+X+f9XBykuh7MtzbMsjC4iKwkiUhxiMjru9Pxp8MkcsSyROrowyrKcgj1BryrXvDfn6Lo66L4MvtJ0+G8QajbxWto11cpHC/ks6FmWRVlcnDEnd82O9aPn2mheE4/C+iC6iaRnlvmmaMSW5lYyOh8r5Fclz8qYCg8Y+XMyoRSTUrv8ArzM62IjSg5S/4c1tS8bSrfSJpunw3FvG5XzZLgp5pBwSuFOFz0POfTGDU1j43tiwW/0+4t/WSIiZB+WH/JTXIKqqoVQFVRgADgClp+yjY8FZliVK/N8rHT6N4H8OyQwva6lfXmjrcm7t9N+1h7JJN5fIAGWUPyEZioI6cCrC+AtGGvpqZudQYRak2pxWjXH+jx3DAhnC4yclieScHpjJB5jQ7+fR9SF7aqWVj/pMAbaJ1/luHGD7YyAa7bS/FOjX00cIuGgmkIVYriMplj0UMflY/QmlOdZPc9bC4yjWVpWUu3+RW0fwRommSb7QXCl7GSynzJ/x8o8jSZk45YM8mDxje3rVbQvh14a0m60W4t4rh30KKSO182bcGZySZJB/E+SxBPTccDpjf169NlYFogrXEp8u3Rv4nPTPsOSfYGsj7CrHfLc3kkx+9L9qdGP/AHyQAPYYHtX0eR8PY3NqU6qqcsdru+r/AMtd/M5syzehgZxhKN2+3RGFaeEdKXxI0qXF7cafp1zNLZ2U0wa3guZS5ldFAyceY6jcTtLOBiorL4e6FDprafcTX99arp8mm20V1cbltLZ1CtHHgDGVAG45bAAzXU28UcEKxRLtRRgCn1+t4DA08HhoUIa8q37vq36s+DxeMqYivKq3v+C6Iw/DHhay0XVLjU1vL+9vbq3it5Z7yYO2yMuVAAAC/fOcAA4B65J3KKK7djlbbd2FFFFAgooooAKKKKACiiigAooooAKKKKACiiigAooooAKKKKACiiigAooooAKKKKACiiigAooooAKKKKACiiigAooooAKy/FBJhtIj9yW6Xd/wFWcf+PKtalZ3ilf+JO83/Ps6zE+iqwLf+O7q8zOqNWvleJo0vjlTml6uLS/E7MvqQp4ylOeylFv0ujH17SdP1mxFnqdsJ4VkWQKWK4ZTlSCCCCDUGn+HNDsY4EtdNhj+zXBuYyAc+cUZDIT1ZtrEZOeDWpUU9xFE6xklpH+5Gilnb6KOfx6Cv4xwsMXiJxw+HUpN7Rjd3+SP3OrKlTi6lRpJdX/mUf8AhH9IGuNrC2e28kYO7rIyq7BdoZkB2swUAZIzgD0qt/wh/hzyLuD+zF8m+V0nh81/LZXbcwCbsLk8naBmtuO31WXlLGOIelxcbW/JAw/Wp4dHnk5vL5x/0ztwEX8WOWP1BFff5b4bcV4uS54+yjprKfbZWjzS06XSPncVxTlFFO0ud9kv1dl+JyureDtMvLOx04hV0q1uxdz2kgaX7Q6/cBd2OFB5IxzgDgZB1NSbSdQhFrcmO7VJY5RCmZG3o4dDtXJ4ZQfwrei0bS05NlFK39+Yea3/AH02T+tXUVUUKihVHQAYAr7jC+D8XyvGY2UrdIxSs+vvNu787X27HgVuOHqqNBL1f6JL8zlNY0A+IbaOG90pBHFJ5kUlxMY5I2wRvTyzuBwSOqnBIp0fgHRWs0tbmNTAlpLZ+RboIY/IlIMicZYbiqkkNk4611VFffZXwPkGWxSpUFJrrO8te9non6JHzmL4izLFN81Sy7R0/LX72YN54L8K3a3C3Wh2s32q2W2mLqSWiUsVXPUYLMeOefYVq6Tp9lpdjHZWFukEEShVRfQepPJPueas0V9TCnCHwqx48qk5fE7hRRRVkBRRRQAUUUUAFFFFABRRRQAUUUUAFFFFABRRRQAUUUUAFFFFABRRmigAooooAKKKKACijPOKM0AFFFFABRRRQAUUUUAFFFFABRRRQAUUUUAFFFFABRRRQAUUUUAFFFFABXj/AIw/5GnUP+vl/wCdewV4/wCMP+Rp1D/r5f8AnXxfG3+60v8AF+h6WWfxJeh23wp/5Fdv+vhv5LXTVzPwp/5Fdv8Ar4b+S101fJ4f+FE+wo/w0U4x9o11ieUs4xt9PMfOfxCgfg5rQqhB+516SMfduofNx6MhCk/iGT/vmrsrpHG0kjBUQFmYngAdSa/T8oUPqNLk2t+PX8bnxmac/wBcnzf0ug26uIbdVaZ9u47VABJY9cADkng9PSobaWTVJDDpcsZjUAy3Wdyx57KOjPjnB4GQT1AN7w7aM7f2pdIVmlXEEbDmGP6dmbgn8B2rVVVUYVQOc8DvXxedcb+yqVMPg43a0U79etlbXsnfz1R9Bl3DalGFXEPz5fy1/M43x94akv4dF0iwW6SGbWIrnUL2N/3sawo8iOWOefNSIDjAzwABXKWWgX9i1hF4h8O6hrVhHf6lJqA8sXD6jcCREtJ5kY4YGAMB/CrBeFAGPXqh1K7hsdPnvbhisVvG0jkDJwBk496/PXjq05N1HzN7t7t+v9bI+rVKnCNoqyX3Hk9j4W1K1/4Ra0m0Bru5sZGE1ndWiXFhbW89z5rBJCcRywJhVIznaFAIOQ258Palc2fiy7sPD07PMq6hZ3F7ZJFqDXIuBObYOGJkjBij2k4A+VQWA46LXvFV9qVi1pb2psUkYbpluj5oUHO0AKNpPQkMcDOPWl8BarNZ61HYT3Mj2t4CsYlkLeXKBkYJ6AgMMdM7cDk5v6xVtzNa/wDBucKx1B1VTjs+pnNoviGLUrTxBNpksmoSG/1u4iUhvKnFsLe1tc9CwjkYccFlc96y9Q8J+IrTw/JZ2trdiOz0vSNKdoFDSSwI7SXbIuRu3b1DDOSFYDmvYqKyWMmraL+nf/gHoezRzHwr0Ky0TRLiSzgubf8AtC5NxJDNapahCFWMbIUAWNSEBx1JJJ5Ncxr1p9g1+9tAMKsxkj/3H+YYHoCSv/Aa9OrjfihabL6z1BRxKptpD6kZdP08z8xWcajlUbfU4cyo81C6+ycvMYxC3mlfLwd27pjvmvRfBNzPd+F7OW4WQSKnls0ikGTaSofnruADZ96xPhvpum3Nm99PAJ7yC5ZC0vzLH0Zdi9AdrLzjOc812FKrJPQzy3DSgvauWjWwUUUViesFFFFABRRRQAUUUUAFR2sEFrbpb20McMMYwkcaBVUegA4FSUUAFFFFABRRXNfFR7lfDS+Xu+ytOBfFe0O1vvf7O7Zn2JzxmqjFykkjOtU9lTlO17FDxV4ra53WWiS7Y+VlvV7+0X/xfT+7nqOZiRI4wiLtUdq0tE0S4v1E07SWltj5AFAkk98EfKPqMn272tQ8MyxqZNPumkI/5Y3GOfowGR+Ofwr7ShwbmcsN7VJJ/wArdpflZeja8z4jEZtCrV99/wCSMWikUncysjI6NtdHGGQ+hH+fWl6cmvm6lOdKbpzVpLRo2TTV0FR3HlsvkuC5l+VY1BLP7ADkn6Vp6Bo8mpqLmdmisz9zacPOPUH+Fffqe2BgnptP0+xsR/olpFESOWVRub6nqfxr7PKuDK1eEauLlyJ/Zt71vPt+Pmjzq+YRg3GCuyt4fi1JoY7nWZBJdJH5UY7omc/MRwXPG4jg7R6VpUUV+kYbDUsNRjRpK0Y6JHk1as6s3Obu2FFFFbmYUUUUAFFFFABRRRQAUUUUAFFFFABRRRQAUUUUAFFFFABRRRQAUUUUAFFFFABRRRQAUUUUAFFFFABRRRQAUUUUAFFFFABRRRQAUjKrKVZQysMEEcEUtFAGZ/YdoDtSa6SH/nisxC/gfvD6A4q5Y2VrZqVtoEj3feYD5mPqxPJP1qeiuTD4DB4aUp0KUYOW7jFJv1stfmb1cVXrJRqTcktrtuwUUUV1mAUUUUAFFFFABRRRQAUUUUAFFFFABRRRQAUUUUAFFFFABRRRQAUUUUAFFFFAATgZqvGgljMshPOcc9BViofs+F2+Y2z+7QAyGWQRxqBuZs9aJJZGg4wG37cj+lTCMCQMP4VwBTfIHlqoY/Kc596QDJPMM8a/KWUEn0o+0HylOAGb16VL5fzM245ZcU3yQAu1ipUYBpgNWZ9qkqPmfbn1FJ9oJVyB0I2+9SSRb4wjMeDnNHkqJA/90cCgBrSyHdtC/IPmJ9fajznYoEUZZc89qVoQWb52CseQKcsYWTePTAHpQBFvKySSYyeFA96Nz/aMybf3aE8U8wAoV3HO7dn3o8gYf52JfqTSGMWaUlPkX5xwM0omfy+VBbftGOlSCMCRWz91cAU3yBsUBiCpzmmIb5zr5gYL8g7etLHJJ5iq6qAwzxTZISIyqlm3sMk1IsOCSXYtjAPpQATOVZVUZZjxmkLybhGAu/GSewFK0WdpDsGXvQ0WWDCRg2ME+tADPPbywdoLb9uPWkM0o3/KnydT2qRYVGzH8GT9aDCCjruPznJNAD0O5ASOopaKKACiiigAooooAKKKKACiiigAooooAK8f8Yf8jTqH/Xy/869grx/xh/yNOof9fL/zr4vjb/daX+L9D0ss/iS9DtvhT/yK7f8AXw38lrpq5n4U/wDIrt/18N/Ja6K8WZrWVbdxHMyERuRkK2ODj618rhlenFXPr6WlJEH3vEUWP+WVrJu/4E6Y/wDQDU+qQvcadNDHt3sh2hvuk9gfY9/aq2hbFkmSUSi8wvnGVgxYc7SpAA2/exgDvkA1o1+o5fh40cHCldSSW62d3f8AU+Lx1aVTFSnaz8/I0tLvIr6zW4i3AHhkb7yMOqkeoNWKx/DZ2arqEA6N5U/4sCn/ALSFbFfhmdYCOAzCrhovSL09Grr8Gfo+X4l4nCwrPdr/AIBDqN1DY2E15cNtht4zI5xngDJwO9ef614j1bVrN7aWK0t7eVlYxhGaRQGDAb92M8f3a7/VLSG/02eyuAfKuI2jfBwQCMZB7GvNtY06/wBHdl1CFvKTpdopMLj1J/g7cNjngE9a4aXL13OXNJV4pcvw9f8AglepLOxutUuGsrO1Fw+0NJuYKkYJwCx7cg4wCeDgcGo66H4YyrHrGoI5Ch7aJwxPQKz5z/32K2k2otnkYanGrWjCT0Z1eg211Z6Pb217dm6njXDzEHLc8deTgYGTycZPWrlcrZeNGu7NtWg0C+Oh+VJKmpvJEqvGiM3mCMtv2Nt4OMnIOMHNXLLxdoq2Onf2xqWn6Xf39nHcGxnvUEib1B2jOC2DkZwM4NcrTPpadejZJS08/wDN7/qb1VdY0601SyNpexGSIsrYV2Qgg5GGUgj8D0yKE1PTXWJl1C1YT3D20REy/vJVLBo155YbHyByNrehrD8X+L/7E1Oazh0a61BrTTzqF2YJY08mEMwz87DJOx8D/ZpJO+hVSpSUG5vT7ze02wstPt/JsbWK3QnLCNcbj6k9z7nmrFctqXj7QNNt/teo3dvbWjvaxwyPcxh3efBwyEgptVkclsfKSegrp4ZI5oUlidZI5FDI6nIYHkEHuKHfqOnUpS92DWg6iiikahRRRQAUVzMPj7w1Npd5qUE99JaWNpLdy3B0y4SFo4xlikjoEfpxhjntWtNrWnxWd3O0rubGIS3MMUbSzRAruAMaAsWI6ADJrR0preLFzLuaFFAORmisxhRVfVLyHT9PlvLgTGOFcsIYXlc/REBY/gKzV8VaS2rLpytM07am2mKBHwZlt/tDYP8AdCA5PqMVUYSkrpCukbVFFFSMK524lOq3hlk/487eQrBEekjKSDI3ryPlH/AupGOirm9FG3T1i/54u8X/AHw5X+lfecB4ShVxdStUV5QS5fK99fXsfM8TYirTw8YQdlJ6/wCRaooqnrmow6bZ+dIC7sdsUYPMjeg/qewr9WlKMIuUnZI+GSbdkYXjZIk1q3dMCSWB/Nx3Csu0n/vpv8iovDelDU5jcXK5s4WwEP8Ay3cdQf8AZB6+p46Ag0JmvL+/yziS8uyEXA+VB7D+6uSfz7mu30+2is7KO1gBEcS7RnqfcnuT1NfIZdhcPmmaVMz5bwjZRv1aWsvl0/zR6Nac6FCNG+r3/wAji7zxNe3UM2qf2/Z6Fpf2qW2sWlszO1yY3KNI53AKpcEADBwAd3OBpXfjWzsrjU47qyuzBopVL+/REEAkMaOqIC25mJdVwAcEjPUExt4IHlvp6a5ero0l59rOneXGQG83zSgkK7ghfnHXBIzirV/4RtLrw/faY11MpvtR/tAzbVJWUSrInykYZV2IMHqBXtxhjkm1vbq73dnotbJN2tonbfXU8vUq2fjyyuYJBHpl414t2lpDaRyQyNPIyGTCurlOEDFssNoB9s17rxzdytpsel+HL6Wa71OaymhleFWj8lGaTB8zaTlSAc4+U+q50rzwxcXFvpz/ANtzQ3mmzvLDcQ20SqA6MjKI8bcYY4PJz69Ki0vwbFp39jm11S63aTLcSF5FV2ufPffJvJHUnPzDnk+tNxx7dr6aa+73Xrrbm8tFbcNRnxM8VN4ZuNGVEMn269MciKoLOgjYBQTgKWlaFdxIA3c1T17xBrGj6bcHULpP7Qt9Ju9RkgtoA0K42rFEHY7iQx4OPmIJ+XgVueJPDOn67f8An6iXki+wT2Xk8bQspQs4PUN+7XB7VTufB0V3G/27U7m5lltrK2llZV3OlvKZTn3kLEN+lOtTxjqVOV6P4ddtP1a0+dw1M618UXmmapd2+pPNfFLi00q2jjEUfmXf2czSsXYqoyGHU4yoAGTg6vxC16bRPA8mqK0djcSNBEhuyu2B5ZETLkNt+XcSecfKecVDq/gxL7Sr7Tf7UlS21S4nmvUa3jk83zCMYLA7SiqAp/HBOMa2raLBfppsbyyLHpt0lwqZz5hRWChifQsG+qinCni/Z1IX32d9rt/PT1XZLqGpy/h3xlefaLi1bPiDzbrytKnsIki+2KsYeVss+wohIG8HBJAGTWhZeOba+/s2Ox0XVJ7jVEuJI4AsStEkMojZpCX2qCWyOTnGOuBWh4k8PvqerWepW2qXOn3FpDNb74FRi0UpQsBuB2nMaYYdOai8L+FLXQmt2trmaQ2ulRadEXA4CMzGQ+rMSCe3yilCnjYz5Ob3e+nk+t33WvlvqGpR+HPihtcmu4gZrvbe3OZkRRFaRrKyRRs3GXZVDYGSAwJxkZ62uf8ABfhOz8MtjT7mYxvaQwTxtjbNJGu0Tn0dlwDjg4HpXQV1YONaNFKt8X9f1/wBq4UUUV1DCiiigAooooAKKKKACiiigAooooAKKKKACiiigAooooAKKKKACiiigAooooAKKKKACiiigAooooAKKKKACiiigAooooAKKKKACiiigAooooAKKKKACiiigAooooAKKKKACiiigAooooAKKKKACiiigAooooAKKKKACiiigAooooAKKKKACiiigAooooAKKKKACiiigAooooAKKKKACiiigAooooAKKKKACiiigAooooAK8f8AGH/I06h/18v/ADr2CvH/ABh/yNOof9fL/wA6+L42/wB1pf4v0PSyz+JL0O2+FP8AyK7f9fDfyWumrmfhT/yK7f8AXw38lrpq+Tw/8KJ9hR/hoqH/AJGKHH/PrJn/AL7TH9av1nzZGvWmz7xil356bPk/XcV/AmtCv0vJHfLqXz/9KZ8fmytjJ/L8kQ293Hp2qzXN0ri3nhRfNVCwjKFz8wHIHz5z04OSOK31YMoZSCCMgjvWNVjwif8AiQxx/wAMMksSD0VJGVR+SivheOsopUmswg3zTai1020a+S1/Q+j4ax86kXhZLSKuvv8A+CaVR3UkMNrJLcMqwxoWkZugUDkn2xWb4r12LRbeL9yZ7i4JEUQbaCB1YnnAGQOh5I4rk9c8T6lqumzWD2dtaxTjbIUlaRimeV+6vUZGfQnivz2NOUj38RjqNG8W/e7GPEIhv8iNo4PNcwI3VY9x2AjthcVqeF9Ok1ddasI5vIM2lPbCXH3DNuAYfTYTWbXXfCqLFjqFww+Z7sIG/wBhY0IH/fTP+db1HaJ4eBpqpiEntr+Rmzab4s1L4bz+FbnRbKx3aelg00V/vEgO2Nyi7BhfL3nkg5wMd6rX3hbxDc6teWTWFibC+8RW+o3F60+Xe2i8pkiVMZBUxBeuMZxnccdT4o8WaToN4trereyS/Z2uXW1s5J/KiUgF22A4GT+hrXs7mC7tIbq2lWSG4jEkTqeHUjII9sEVhzNdD2fq1GpLl57tadNtfLzOC+G2lTX3izUdad0bR7LU7t9G25/fSTEedN9A3mIpHXc56EGtK48F2+r+NNZ1XXo5pba5S3traBL2VI5oY0LESxowVx5kknysCMfWuwyM4zVHUtWtrLVNO0+RZHm1OZ4oggBC7Y2kLNk8DC44zyy/WlzO5awtKEFGeut/m9P1svkcjceGtbS+hvltIJ9/il9RuYROEJgWBoISCRj5dsLEe3Fd5QCD0NFJu5tSoxpX5eoUUUUjYKzfGV1d2XhHVLzT7ea4u7exmkt4YULPJIEJVVUckk4GK0qKcXZpgeUaVpUjfCWDwxp83iO9WR9O0+aLUdLe3W2h8xBMUDQxkp5YfJJbouTzzWm8MRXuraxMuhX8WqXnjCBnuTbTII7RXjJdJMbWVkhfJBIBlwcEgV7BRXWsZJN2W+v5f5Gfs0eWaboWrSa3pOvGz1L+0bzxDf3crTNIq2toqXCwwkHhFfEGQRySfQYxvB+nPrmuabp8lrrNrqreG7u51u5vVmgae8mVYtux8ZCGSfawG0AAIcA17VIiSRtHIisjghlYZBB6gis/w/4f0TQvN/sjS7azM20SNEmGcLnaCeuBk4HQZOKpYzR6a9Px/wAw9mec6JaeKdb0rR9V1Sw1Kzm1C602za1kV1e2t7bM80ko/g8yWNl56r5Y6tiqsmn+KhpZ1LT9LvY9SjsNZ1WLdbkMt3cTBYEAP8aw7/lPPT1r2Kip+uO/wq39L8g9n5nD/B3RIrJrvUo7y+kaaKK3dJtMubFWKbiZWS4ZneRt/wA0mecAdjXbuyopZmCqoySTwBSTyxwwvNNIsccalndjgKB1JNc9OTq9x9ouom+yqf8AR7eQdf8Apo6nuewPQehJx6mT5LiM6xLUXywW8t7eXS78tDhzDMaWApc0tW9l3/4BZutYlulZNJjVlPAvJD+7+qDq+PwB9TVOeez0fTY/PlZIkwikgszn6Dkk4J/M1crB8fRsbK0mA+WK5G89gGVlB/76Kj8a/VsLlmGyTA1ZYWF5KLbvvJpP+rI+DxWPrZhWj7V2V9F2uMuvFHaz0+R/9qdxGv4AZP5gViajd3FzcG7vH8yTGyNI1OFBI+VV7knHuTj2AjkdUXc30GBkk9gB3PtXQ+F9FeKRdQv0xMB+5h6+TnufVsfl096+VwuKzXiObpTfJQ+1yq3yu7tv526tbG84UMIuZay6FnwvpP2GH7TcgG8mX5+ciNeuxf6nufYADWoor9Eo0adCnGlTVorRI8iUnKTk3qFFFFaEhRRRQAUUUUAFFFFABRRRQAUUUUAFFFFABRRRQAUUUUAFFFFABRRRQAUUUUAFFFFABRRRQAUUUUAFFFFABRRRQAUUUUAFFFFABRRRQAUUUUAFFFFABRRRQAUUUUAFFFFABRRRQAUUUUAFFFFABRRRQAUUUUAFFFFABRRRQAUUUUAFFFFABRRRQAUUUUAFFFFABRRRQAUUUUAFFFFABRRRQAUUUUAFFFFABRRRQAUUUUAFFFFABRRRQAUUUUAFFFFABRRRQAUUUUAFeP8AjD/kadQ/6+X/AJ17BXj/AIw/5GnUP+vl/wCdfF8bf7rS/wAX6HpZZ/El6HbfCn/kV2/6+G/ktdNXM/Cn/kV2/wCvhv5LXTV8nh/4UT7Cj/DRTuj5Ws2UzfddZIPoWCsP/RePxrQqjrUcklj+6jMjRyxS7BjLBJFYgZ74Bq3azR3FvHPE26OVQ6HGMgjIr9C4drKeC5OsW18nr+r+4+Wzuk44nn6Nf8AS6lWC2kmb7saFj9AM1e01JNP8MRYiaaaG23sifelk27jj3LZ/OsnXgW0e4hUEvOhhjA7u/wAqj8yK6YAAYAr5fxCrWhh6Se7k38rJfmz1uFad/az9F+f/AADyvUNTvNZun1C5RpPIj2kW9u7R2y5yQxwcHpknH3RwMVWtriK5mWGzYXU0n3IoDvZvoB29+g7167TVRFZmVFDN94gdfrX5uq1lsezLKnOXNKpd9dP+Ceaa9pEmj6dZXV87R3VzK/mqZP3UUYQkJ6F84bPs4BwK7H4cQPB4Rt/MQq0sksvIwSrSMVP/AHyVrYuIYZ0CTxRyqGDAOoYAg5B57g1JUyqOSsdVDAxo1XOL0tb+vuOI1Lwvf6/491u6u9Q1DT9Pext9OVbYRr9ri+eST52VmUZl25QqeDzwMYVr4auJ9bS3PhyaLU7fxAs6as8a+Xa6fDKDFHDJnOGhRY/LXu7lh1J9UoqeZjlgacndvq397v8AL5Hlek+FNUt5NI1u10kx65M2p6ldXEoG9JJVk8q3Zj0XdODs6ZjJ681T0Hw2DMt23hjWNPSHw5JaXd7FCq315dzsiyS9SzOgEh3Hn5mwCMZ9gop87M/7Np6a/l2X+V33OZ+Etjcaf4RWC50m105/tEmFt7Rbbz0B2pK8SkhHZFXIz+XQdNRRUt3Z20qapwUF0CiiikaBRRRQAUUUUAFFFR3U8VtbSXE8gjjjUs7HsBTjFyaSV2xNpK7JKr6hfWljGHu7hI93Cgn5nPoqjlj7DmsWR7vUv3t3JLbwtzHaxuUIHbzGHJPqM4HTnGaW1srO2Ytb2sMTN95kjCk/UjrX6Fl/ANWpCM8XV5f7qV36X2T+TPlsVxRThJxoQ5vN6L+vuEmabU5lnu0aO3Rg0FsT3HR39W9B0H16WKKK/R8Hg6GDoRoUI2iv6u+7PkMTiauJqOpVd2wplxDFcW7wTRrJHIpV1YZBB7U+iuowM7T9C0yzuhcRQM0i/cMkrSbPpuJwevPXmtGiiphCEI8sFZeQ3Jt3bCiiiqEFFFFABRRRQAUUUUAFFFFABRRRQAUUUUAFFFFABRRRQAUUUUAFFFFABRRRQAUUUUAFFFFABRRRQAUUUUAFFFFABRRRQAUVmeMdcsvDfhm91zUGxb2URdgDy56Ko9ySAPrXJfBX4oQfEG81C2GjvpslikcgDXHm+YrEjP3VxjA/OtI0Zyg6iWiHyu1z0CiufuvGWi2/xBtvBjPO2qXUJmVViyiqFZvmbscIf09awPiT441XRfiZ4Y8KaRb2cp1eUG8adGZki3gZTDDBwJDznoKcaM5NK3S/yHytnf0UUVkSFFFZfjPxBpvhfw3ca5qzulpbbd5jXcxLMFAA78kU4xcmktwNSisK+8QTTfD1vEugadPqEk1kLmztSu15twBUEfjmn/D7Uda1Xwla3/iDShpmoTbjLagn5AGIXOeQSADj3qnTkotv0HY2qKKpeIdW0/Q9FuNV1W5S2tLVN8sjdh6AdyTgADqTUpNuyEXaK8hk+NWr3lrNqegfDjV9Q0iEnN60hQEDqcKjDjvycd67j4WeNtL8deHDqmmpJC0UnlXFvLjdE+AcZHUEHg//AFxW1TDVaceaS0KcWjpqKKKwJCiiigAooooAKKKKACiiigAooooAKKKKACiiigAooooAKKKKACiiigAooooAKKKKACiiigAooooAKKKKACiiigAooooAKKKKACiiigAooooAKKKKACiiigAooooAKKKKACiiigAooooAK8f8Yf8AI06h/wBfL/zr2CvH/GH/ACNOof8AXy/86+L42/3Wl/i/Q9LLP4kvQ7b4U/8AIrt/18N/Ja6auZ+FP/Irt/18N/Ja6O5ljgt5J5TtjiQu5x0AGTXymGTdOKW59fSdqaH1U0QtE09gfmW2YbHH91skKfcfywe9JHHqs6eYZre1D8iIwl3Qe7bsZ/DA9+tWbC1S1hZVd5Gdt8kj43O3TJxx0AHHYCvvMkyzFYScp1WkmtvP/ganzma4/D4imoQ1ae5HrhZdMkdP9bGVeH/roGBT/wAeArpawbyFLi1kgkztkUqSDgjPcHsa0vD9zLd6LbXM2DJJGCzKMB/9oex6j2NfNeIOHk40Ky2V1562a/J/0z0uFaq/e0+ujLlFclY+PbS4163sTo2pR2t5qc+mWuoN5RhmuIfM3qAJDIB+5kwxXHy9q1LfxPpC6fa3OpX1lppvpXjtUuL6H9/hyqlGViG3AA4BJG4A88V+byozjuj67mTNmisDw94t0rVNe1DSPtNrBeWl5Jbw27XK+dcqiKXkWPrgMXXv9wnPYWZPFPhiMziTxHpKG1jEs4a+jHlITgM3zfKMkDJ45pOnNO1h8yNais7Utf0LT7e2nv8AWtOtYrzH2aSe7SNZ8gEbCT83UdPWnX2t6LZX0dneavYW9zM6pFDNcojuzfdVVJySewHWlyS7BdF+iuf8XeL9I0M/Zftdrcam01vFHpy3SLOxmmSJW2csBlwc46Cr15rNvbeKrHQpIpfO1C2nuIZABsxEYgynnOT5oI46Kafs52Tt/SC6NKiufsfGnh6fzWuNRtrGIXktpbSXlxHELxo8B2iy2WUNuXPqp7YJq6541gsdUu7OCyN19mOnIkiTACWS7naJUHB+6AHJ9GqlRqN2sLmR1VFZr+IdAS+ubJ9c01bmzjMlzCbtA8Cf3nXOVHI5PrV5bi3a8e1WeNriNFd4g43qrEhWK9QCVbB77T6VDjJboq5JRTZZEiiaSR1REBLMxwFA6kntWOdau5v3llpyPCfuvcXBiZx6hQrcfXB9q78vynG5jJrC0+a2+yX3tpHLisbh8Kk60rX/AK6G1TZpEiiaWV1REBZmY4CgdSTWX/b8Hk4Fne/aO8HkHr6bz8n47sVTnW4v5hLqO3YpzHaxsTGp9WPG8/UYHYZ5PsZZwjmWLrctWDpwW7kvyXX8vM4MZnmEw9O8Zc0nsl+vb8y8dfsCv7pLyVj90LZyDd9GZQv4k4qncyXOpTI91H5FtEwaO3LAszDkNIRxweijIzzknGJqK/Rct4Ty3L6yrQTlJbOTTt6JJL77nyWMz7F4qm6btFPe3UKKKK+mPFCiiigAooooAKKKKACiiigAooooAKKKKACiiigAooooAKKKKACiiigAooooAKKKKACiiigAooooAKKKKACiiigAooooAKKKKACiiigAooooAKKKh1H7V/Z8/wBh8r7V5TeR5xIj34O3djnGcZxQB4f+0J4m0vXviNpfgS91SOy0aymW41i4ZiAWxkR5HcLx9XH92mfCHVNI/wCGoNcTQrmGbTdSsT9naEYQkLE5AHttcV1/wt+E9jpVjfXXjO10zXtY1G6aaaeWATIoPOF3rnJJYk4HUelN/wCFYSaf8b9N8X+H00vT9KtoClxZxIY2LFJEJVVXbyGXuOler7agoSpJ7Ra8m9zbmjax5x4H8A2nir41eJ7F9c1kWujsyC8S4X7Q0m/bgvtxjiToOwrp7d4L/wDaxubh2JtPCekH52O7AWIA5PcgzN+Va3w7+HnjTwp8StS1C21vTTomqXhuLpdha4lUF2VcFcKcuckNWl8Pvh5f6Z4m8X6trt3azHxI7rELZmJiiZnJB3KOcMo4z92nVxEW5PmuuWy+drg5LXU4HwXol98WIta8ceJPEepabZ2szpp8VrLtW2CKGJweMKCvTBJyc1H8K9Y1W1+A/jfxfqOpXU9zdsbaKaWUlg+0KGX0O6YdPT2rU0P4SfESx8L6j4STxXp8Gh3DSSKsKt5k7FcBXJTKISF3AE9+ua2L/wCFmuf8KDtPAtjfaet99r869md3ETjezYUhckj92OQPu1pOtS+HmXLdW8khuS7nnWseGdXj/Z7t/F+t+JtS8+Mx/wBlWKTERojy/ebuWILMDngAD2Gn8era+vfhX4FuL3UL2XVb+3hhNu0v7uXKBi7jGS+TGM59a9G+LXw91TxJ8OdF8J6NeWltDp0kPnPOWG5I4yg2hVOTznBx0FR/G74ea14mk8PXfhi+s7Wfw+5MUd3u2dUKkYVuQYxwRg1MMVBzg5Pq36dhKaujzv46eA7TwB4Ls7zTPE3iCa6nukto4ZLseWF2MSQqqDxtAHPeuh+IV3ruoeKPC/wi0rVbiyH2CI6reRufNcLGcjdnP3UJ68lhmt/xx4A8U+K28If2xq2nTf2PcGfVWAZPPJdDiNQuMBVKjOOuaZ8TPh74puviZa+OfBerWNrfxwiKWO9B29CuRhWyCpwQRxjIPpMa8ZKKnJOS5tel+gKS0uzoPhr8PbTwVqV3Pp+tapdW11EqfZryYOqOCSXGABk8Dp6888cN+13dXF5c+F/CkUrRxapelpsdyGRE/Lex/AV6Z8PdO8R6dosg8U6zHqeo3E5ld4k2xQrhQI0GBwNuc4HJNYHx0+Hb+OtPsZrC/Wx1TTHZ7WZwdhDYyGI5HKqQRnGOnNc1GqlilOpK/n8iYy967OtYab4b8LttRLbT9LtCdo4VI0X/AAFfOPwu8Q33gr4IeIvElmoiuNV1KOysCRkI4RmZwD1wpOO2QK7vUPAXxa8U2SaN4u8ZadHpOR54sY8yTgevyJnp3OM84NdB8SPhbZaz8KrTwhoUsdj/AGbKs1o0uSrMAwbeRz829iSB17VrSlSpLknK/M1ftZDVlo2Y3gf4VNbW2k+LNW8Wa3/bMbR3t6xuMxsvDtER97GOCc888dq4CLxNb+Ptb1TVvFI8VXVqHMekaZo0TFEHONxHG7G38Se2BXrfw/8ADnxEE4Txt4jsriwitGt0tLFMeaWG3fI5Vc4GeOeTmub8G+A/ir4KtrnRvDGu+H5NLmuGmjlvI5PNQkAZ2hSAcKOMkcVpCsry5ppy6dNPJ2Gpb3Zhrr/jb4f/ALO7DWJbqHVdSvzb6aLli01rCUBJOeQRtbAPI3D6VlfFjwbe/D/wBZawnizWG1rVpFt9QhNxlJtyFmx/F8pAGSTnPavT/i/8PtZ8Z/DvTdMfV4JNa091la5lTy4532kPwo+XJORgdveud1j4V+O/E2taJqni3xNp949jcqZ7eNWSOOEMpIjAQbnbBySB0HJ7VSxFPSTklq2/Pt8gUlvco/GhtettS+HvgnRL+WHUo4o2dzIeXGxFd/UApITnPeq1rol94T/aY8P6Tp/iPVNSmvbbz9Skupt3mZEu8EemEyAc445r0G98Dane/Hu18cXV1aNp9hZ+TbQBmMu7YwyRt24zIx6+lGmeBtTX49X3jq/urR7NrQQWUKMxljOxFywK4AwH6E/erOOIgoct/sv730+QuZW+R31FFFeWZBRRRQAUUUUAFFFFABRRRQAUUUUAFFFFABRRRQAUUUUAFFFFABRRRQAUUUUAFFFFABRRRQAUUUUAFFFVoZdTu9QuLTSvD+oakbUJ50kEtuiqWBIH72VCTgdhiplJRV2y6dOdR8sFdlmim/Y/Ff8A0JGr/wDgVY//ACRR9j8V/wDQkav/AOBVj/8AJFR7el/Mb/U8R/Ix1FN+x+K/+hI1f/wKsf8A5Io+x+K/+hI1f/wKsf8A5Io9vS/mD6niP5GOopv2PxX/ANCRq/8A4FWP/wAkUfY/Ff8A0JGr/wDgVY//ACRR7el/MH1PEfyM80i+IGtvqWt2ZitVL38MGhMIz+8Q3pspS/PzFXXfkY+VxWzo/wAQ7W5Fxd31iLPTl0x9TguBceY7W6uUBkjCjYzdVUFs8jgjFTf8Ky1DzdAmHhDxIJvDplNtIL7T8zGTljKPOw3zhXHA+ZQenFNt/hhqYtXtLvwhrl5bTXqXd1A40aJLtk3ELKIWTzF3EP8ANnJUc4yDiqyX2kdTwjf/AC7f3f16mVpfjTxJ/Yuowaja2cWutrFvY2NvtJjhW4iikTzMHLGMPJuwRu8o4xmm3/ifxTZtf6Ybg3L2Gsx2kup2miy3HlQtZi4JaCIsSQzImRx865HBrXn+F14lzPcaT4I1vRpJJ7e5jGnzaZGkE0IkAdUMpUllkZWyDkAdDzViPwH4tt7A2un6d4wsjNJJLezRXWlGW8kcjdI7M52tgADZtAGAAMDB7WP8wfVZ9Kb+7/hyjrmv61D4Z8O3mi6npuoLq19bQvetbsPPjlkXmOMNhcReY2STjZjHOVs+ONT1/TvFGjQaZf2ci397FD/ZptC0rw5/fzGTf8oROQduM4ByWFPvPh54gdtEjstA8U6fZ+HyjWNlbXOlGJWWN4wWMjszHY7Dlvfg81JpXgXxXYeMbvxEuleLZpb2TMtvNcaQ0eznbErbvMWNc5Chxzyckkl+2h/N+JP1Srvyd+hVl8Qa9b+NPEFtJBbXFjo+jpeRW1qjGaSR2l2KXPViIT8oXjcOTXM6d8RdXa4+yQalpOsXV9Z2pgFvbskVndTzeWI2O4lkUbmIJDfum6ZwOv0vwN4xsNS1TUI7LxhJdaqiLJJLNo58soAEZAGAyACMHI+YkjPNR3Hw61+e2kefw94ok1OS6huv7Ua70zz1eLPlgL5vlhAGcbdmPnY9STSdaP8AMVHCzW9N9Ohk6h4m8S6X4f8AGBe7067uPDYEiXcls0alTbCYqY1Y7nGQAAy5DD050/Geq+JtL8N6G1q1gL68u7O1vGljZsvJJGj+WgIAwDI2STgLjBzkGpfDfxDeeGptG/sXxbCl7O1xqE8d1pRlvpCVOZC7sBjYoAQKNoAxjirXiDwT4v1e60uefTfF0R0mRJo1in0jbLMqunmPuY5JDtkDC9CACKfto2fvE/Val17n4eRi+KvFOvRvrGpaVNaR6foV/b2PkS25d7+V2i8wBtw2AecqLgE7gScjiud8Yf8AI06h/wBfL/zruB8Ptc/tyS9fwx4me1k1AakdNa8037P9pAGJM+bvOCqsFLbdwzjpjh/F6zp4o1Bbm2ktphcP5kMjKWjOeQSpKk/QkV8fxjUUsNTs7+9+jOvCUZU5axtp29DtvhT/AMiu3/Xw38lrb1mWNbJoHjMz3CmNIQeZCR09hjqewrE+FP8AyK7f9fDfyWtvSVWW8u7wjcTKYomPZFABA/4GH/yBXn8P4FYupFSdoxV3/kerjMX9WwikldvQt2iSR2sSTSeZIqAO+Mbjjk1Xur1vKmFlbXFzJGCoMURZfMxwpI9+vp3xUlwJrq4XTrViski7pZR/yxj6Fh/tHovvk9jW9awRW1ulvBGscUahURRwAK93iTimOVTjSpRUqj1aeyXnbq+n39jzMoyV42LqVG1Hp5mdD4fsBbolx9ouG2gSGS5kKyHuSu7bz6YxWmw8uHEcedq/Kg46dAPSnUV+RYnG4rFNOvUcrd23919j7ulh6VFWpxS9FY8t8LeBNZ8PNpGrWlotxqY0S8F+kt2XSK/k2SK0QckJlzMpKYBDAmr3grwxqvh7XYbWbRItSszo9hp0d206bbVIlYSqyt8x3Md3yghjjJGM16JRRLF1JXv1/wA7lqmkebaL4P1iwh0W9TTrf7fBeajrF+RIuXvJklWNC3cYnZc9AEHtTdF8A3Gkx6M0Gl2k0vh/w3PFbFiv77UZthkc57kx/ePH7w16XRSeLqP+vX/Nh7NHlI8F+ILDTbvQ7XSre9W+8N2mi2t/LOnl2CJEyS70PzEZbfhAdxABxgGr1x4EvJF1Qm0ieW/1jTo1md1Lrp1r9nPX1YxSnHXLj0r0iin9cqXv/XT/ACD2aPMtK8K+IZNe06DUNFtVt7XxNdavfak06M91nzjb7FHI2hoVOcEBABkc1u/FbRfEGp3Wi3nhp44ry2uZYJp3cKbeCaF0eVc/eZG8tgvcgV2FFS8TNzUrLT9R8itY8p8UeBtYWPW9C0XQraaw1PTbTTLS7muEAs7VMrKm0/MXyzuCOCSCTlQDrt4U1ibxQbx4Io4JfEf25zvB2W8Fl5NuoH/XUK+O3Nd/RVfW6jVv66f5IXIjx6x8IjTPhfqEfi62vIZ7PRLm2a8ubyKWFpp02yvCkXzEyPgguN5LADk12/ww07UrPRZ9e8TBIdY1YJNepuytqiIFSLP+yoJJ/vO/auqYA8EZ+tY/iicTBdJjOWuBuuP9iHPIP+990e249q7cDSr5niYYWC1k9fJdfl1Zz4mtTwtGVaWyRUZ5dVZbm63LbZ3QWpGBj+FnHduhweBxxkZqzRRX7pg8HQwdGNGhHliv6u+78z8xxGJq4io6lV3bCiiiukwCiiigAooooAKKKKACiiigAooooAKKKKACiiigAooooAKKKKACiiigAooooAKKKCQOp69KACiiigAooooAKKKMjdjPPpQAUUZA4J69KKACiiigAooooAKKKKACiiigAooooAKKKKACiiigAooooAKKKKACiiigAooooAKKKKACiiigAooooAKKKKACiiigAooooAKKKKACiiigAooooAKKKKACiiigAooooAKKKKACiiigAooooAKKKKACiiigAooooAKKKKACiiigAooooAK2fg//AMhzxD/10t//AEWaxq2fg/8A8hzxD/10t/8A0Wa5cZ/CPTyn/efkzu6KKK8k+nCiiigAooooAKjtriC4Rnt5o5VVihaNwwDA4IOO4NZ/jbWrfw34N1fxFd4+z6Rp897Nk4+SKNnP6Ka+VfguNa8GaHqfwVtrm6sdU8Safp3iXVNTQFf7Lsp7CNNTulb+FzPbSqncSXAbkI1AH1k2raWqRudSswsocxsZ1w4T7+OeduDn0xzU2m3lpqGn29/YXUN1aXUSzW9xBIHjmjYAq6sOGUgggjgg18e+HZLrQP2e7Tw5o1la2Kw/DN7yC3FrGz2eo+Ib4x2qrIQXQqfOXarANkZB2rjv/CnibxvqfxIn0rQfEen+HvDfhHxAujpYXN5ZrHLp9ki/afMiaJrhpnVZGQq8SImxvmw24A+iaK8m/Zv8Ta9rniXxVpvibxDdajqmkzxmWK3ezl0kQzvK9u9pJDGJf9WgDJMxcYB6MGb1mgAooooAKKKKACvlj4qf8lI1z/r/AJf/AEI19T18sfFT/kpGuf8AX/L/AOhGvmOKP4FP1/QxrbI6H4Zx30vhto4JIoIjO2ZfvSdBkBSMD6kn6V11pBHbW6QQrhEGBk5P1J7n3rnPhL/yKrf9fD/yWt/WJZINJup4jiSOB2QkdCFJFfW8P0KVPLqUoRs5JNvufMY2tUqVXCTulsW/CqhpNQuMZ33WxH9VRFGB7B/M/HNa9Q2NtFZ2cdrAu2OJQq56/UnufeuV0/xxcTa5e2F54ZvNPi0vyzf3dzeWohtldSwZiJP7oycdMivxjMsTLMMbWxMVo3ffpsv0P0nB0VhsPCk3sjsKK53WPHnhDTtFttXm8Raa9ld3SWsM8V3GyM7MFPzbsYXOWOflAJNN0Hx74S1mbVUsNe0+SPR2AuZhdxGPaUR/MDBvuDeFLHA3Bh2rg9jUtfldjo5l3OkorKbxP4aXSU1RvEOlCxkLBLo3sflMV+9h84OMHPPFTx61o0lnJdx6tYtbw2y3Usq3KFEhYMVlY5wEIViGPB2n0qeSXYd0XqK53UvFSW+qwWUNmtx9o1WLTonS6Rss0BmdiFyV2IpO1gCeD0INJofjXRLrw7Yarqd9Y6SuqM/2OO6vEUzKHKqV3YzuXa2B03Y561Xsalr2DmR0dFFFZjIdQu4bK1a4uGIRcAADJYngADuSeMVkvf6vccotvZIezAyyY9+Qqn/voe9Nvpft2tMc5gsCUT/alI+Zv+Ag7fqXFSV+qcM8K4X6pHE4yHNOWqT2S6adW99fzPis5zyuq7o4eVlHRvq3/wAAhKX7HLazefgsQx+Sfzp8N5qVm4MjtqEP8QKqsy+4IwrD2wD7noX0V9TiMhyuvSdOWHil5RSf3pJniUs2x1OfOqrfq7r7mSTa9C0JWztrqW4PCJJbSRrn1Z2XAA9sn0BqrZwtErvLJ5s8zb5pMY3N04HYAAAD0A69amorPKOH8FlXM8Om5S6ys3btolp/T6FY/NsRjklUskui/PqFFFFe2eaFFFFABRRRQAUUUUAFFFFABRRRQAUUUUAFFFFABRRRQAUUUUAFFFFABRRRQBXhRZUMsvOc456CmwySCONV5LE9fSpPs69A7bT/AA54qTy1EgYfwjAFAyCSSQwNyM79uRSyeYZo0ypZQTntT/IXywmW4bOfeneWNxbJyVxQIiE7eUpONzE844pRLIFUkDlwM4xkU/yV2qAzAp0IoeIPHsZmPOc96AI/tB/eEAcfc96cZJDuC7RsHzE9zTvJTzFfn5RgChoVLMdzAN1APWgBnmyNsCBcsuTntTd5WSSQ8kYUfWp1jVZN4/u4A9qaYVKsuT8zbs+9AEZL/aMyFT5aluKFlm+Thfn6D+tP8hfm+ZssMEk07ywHVuflGAKAIxM/lnIBbftHpR5sitIG2nYuePWneQuwLubhs596bJDiNlTJLkZJNIYqSSeZGHC4cdB2p0zlSqqBuY8ZoWEAk7mJxgEnpQ0IKqNzAr0OeaYhpeUMI/l3Hkntim+c/l9AW37frUjQgkEOwYDGc9aBCg24z8pz9aAIzLMPMHyfJyT/AEqaMlo1YjkimmFSrjJ+c5NSDjigAooooAKKKKACiiigAooooAKKKKACiiigAooooAKKKKACiiigAooooAKKKKACiiigAooooAKKKKACiiigAooooAKKKKACiiigAooooAKKKKACiiigAooooAKKKKACiiigAooooAKKKKACiiigAooooAK2fg//AMhzxD/10t//AEWaxq2fg/8A8hzxD/10t/8A0Wa5cZ/CPTyn/efkzu64f4geMNetvHGn+CPBml6ffa5eWEupXMupXLw2tjao6xhm2KzM8kj7VUAcJIxPy4buK8n+KvhnxVF8Wm8R+FfEek6XN4n0BPD8suoWzyNYeRJcTrcQbWAZ8TyfI2ASiHPUV5J9Odl8GfFx8efCzQ/F7WH2F9Xs1nktRL5gifkMqvgblyDhsDIwcCumrC8CaZoHhHwTpHhbR7iGPT9FsYbK1VplLeXGgRdx7nA5Pc5rV+3WX/P5b/8Af1aALFFV/t1l/wA/lv8A9/Vo+3WX/P5b/wDf1aAJLy3gurWW1uoY54JkKSxSoGSRSMFWB4IIPQ1HJY2Uk0kslnbtJNCIJXaIEvGM4Rj3X5m4PHJ9aPt1l/z+W/8A39Wj7dZf8/lv/wB/VoA82+OXifWvArWWqWXgrw7qWiS3+mWEokvWj1C5lkuliiS3gELKxiLiRdzjo2AuNx9B/sLRP7ak1j+xtP8A7Rlj8uS8+yp57pjG0yY3EY4xmvKY9I8YX37Rza3r+qeFdT03TSJdEtXnmU6VbPujaVExse6cBgZGPyqdqbQW3evfbrL/AJ/Lf/v6tAEeiaTpWjWZtNH0yz0+3LlzDaW6xJuPU7VAGT61cqv9usv+fy3/AO/q0fbrL/n8t/8Av6tAFiiq/wBusv8An8t/+/q0fbrL/n8t/wDv6tAFivNPFXxXe0+OHh34eaDoq6ouoX8lprGom48uPTXW0luhGoCnzJNkYLDI2CWLP+sGPQ/t1l/z+W//AH9WvGfBvwe0vQ/jjoeo6V4z166sdDsdQvRY3N8s3mXd3PGXlZggyGAl3ZO5i4OeDkA9ur5Y+Kn/ACUjXP8Ar/l/9CNfU9fLHxU/5KRrn/X/AC/+hGvmOKP4FP1/QxrbI6z4S/8AIqt/18P/ACWt3W43l0W7iiUtI8DhFHc7TisL4S/8iq3/AF8P/Ja6evssj/5FlD/Cj5PFO1eXqa1rPFc2sdxA4eOVQyMO4PIrz/WPC2uSfbNQ+wxXklx4qTU57Lz1X7TaxRLFEuT8uQY4pMHAyvrXU6C5tdYksV/1NzG1xGv9xgVD49jvU/Xce9bdfjGa4GplOOnh73S2fdPVf8HzR+lYHFRxuHjWWl/zPOV8MeIBqlnrM2nwSSXfiY6rfWUVwoFugtDbxDcQAxXbG7Y75xnHNXU/Cvia40YwPYPui8VzapcLbXkavewFpTCULgqCmbc4fHMZ9q9Qorh+tTVtEdfIjg9P8ISxeINL1NdKATT7W9u/LuboTSPqEzRgOznqQiOMjgb8DgCsjTvh5rMTaHpbm3XS5NEtLPX38z5pWt5Gl8tVHUSPK4J7JuHcV6TqOo2djtFzMFZ/uRqCzv67VGSfwFZs2oand/6hFsYj0ZwHmI+n3V/Hd9BXsZXleaZjrQh7v8z0XXq97N9Ls4MZj8JhF+9lr2W/3HJjwr4ljmF/HDD9rjl1nUEHnD/j6mPl2i59oSQT2xVS0+H13b61/Z99Y3N/o82l2Om/uL5IY0t4k2yRyqcOQWLNhDht2DiuzVL9OU1i79w6RsCf++P5Ypwn1peFv7Vh/wBNbQk/+Oute7U4OziHwyg/RvvfqlsebHiLAS3Ul8v+Cb1ZWvX8nmf2dYybbhxmWUDP2dPX/ePYfj0GDVkfVZxtn1JY19LWARk/UsWP5YNLawRW8ZSJSNzFmLMWZie5J5J9zXZkvA9SlXjWx7TivsrW789LW8tbnJmHEkJUnDDJ3fXa3p5hawx28CwxLtRRwM5/EnuffvUlFFfpJ8cFFFFABRRRQAUUUUAFFFFABRRRQAUUUUAFFFFABRRRQAUUUUAFFFFABRRRQAUUUUAFFFFABRRRQAUUUUAFFFFABRRRQAUUUUAFFFFABRRRQAUUUUAFFFFABRRRQAUUUUAFFFFABRRRQAUUUUAFFFFABRRRQAUUUUAFFFFABRRRQAUUUUAFFFFABRRRQAUUUUAFFFFABRRRQAUUUUAFFFFABRRRQAUUUUAFFFFABRRRQAUUUUAFFFFABRRRQAUUUUAFFFFABRRRQAUUUUAFFFFABWz8H/8AkOeIf+ulv/6LNY1bPwf/AOQ54h/66W//AKLNcuM/hHp5T/vPyZ3deC/8FCPBXw08c/CfSNM+KPj/AP4QzS7fW0ntr47f304gmURfMCOVZ2/4DXvVeEftlW3wh8Xw6d4T+KKX99pehyjWtVjsLe7cadCY5Yo7i4lt1IiTJk++wyEdsEKSPJPpz4+/4Z5/ZA/6OiX8of8A4mj/AIZ5/ZA/6OiX8of/AImvqkfsLfs2EZHg+/x/2HLv/wCOUv8Awwr+zb/0J1//AODu7/8AjlAHyr/wzz+yB/0dEv5Q/wDxNTad+zd+yVqGoQWFh+0xJdXV1KsMEEEUTyTSMQFRVC5ZiSAAOSTX1J/wwr+zb/0J1/8A+Du7/wDjlYfjf9lD9nn4e29n4h0fwf4jGs215HNph02TUdQlSaNhIH8uLzMABCcsNucDqQCAeY/8MCfC7/ofvH3/AIS03/xmj/hgT4Xf9D94+/8ACWm/+M19j+CY9H8XeEdO8T+HvF2uXml6tbJc2dwt0V8yNhkHaygqfUEAg8GtT/hGf+ph13/wM/8AsaAPnb9mf9nrwj8EbjWZfD2tarrJ1tYFmGveCLq4EXlFyPL2Km3PmHOc5wOler+RB/z56R/4bi+/+Lrsv+EZ/wCph13/AMDP/sag1LRbXT9Pnv77xVrFta2sTTTzzagESJFBLMzEYAABJJ9KAPHdW+L/AMGNK1W50zVPiV8MbK+spngurW58NvHLBIpKsjo04KsCCCCMgiq//C7vgT/0Vf4U/wDggb/5IrB+H37MP7OHxh0m++I02iapq02u61qU019Lf3ts07/bZlYmNihBBGD8o5Bre/4YV/Zt/wChOv8A/wAHd3/8coAP+F3fAn/oq/wp/wDBA3/yRR/wu74E/wDRV/hT/wCCBv8A5Io/4YV/Zt/6E6//APB3d/8Axyq2r/sS/sv6VpN1qep+Gbm0srKF57m4n1+6SOGNQWZ2YyYAABJJ9KAPUPBdhp/i7wvaeI/DOo+BdU0q+Vmtry38MFo5QGKkg/aOzKR+FdH4S8LPpGuz6pM+kiSW2W3Cabpf2RcBi2WzI+488dMc1zH7LEXhrR/hlb+EPCWl61ZaPorynT21HTLu3SW2muJpIjG9witJhSM9xxngqT6XQAV8sfFT/kpGuf8AX/L/AOhGvqevlj4qf8lI1z/r/l/9CNfMcUfwKfr+hjW2R1nwl/5FVv8Ar4f+S109cx8Jf+RVb/r4f+S10nnRef5Hmp5u3ds3Ddj1x6V9lkf/ACLKH+FHyeK/jy9SO6E0dxDeWyb5bdiTHnHmIRhlBPQ9CPcDPFaun6rYXnyw3KCQfehc7ZE9ip5FZ3nRfaPI81PN27tm4bseuPSo51srqRreZYJmQZaNwGKg+oPSvPz3hnDZtKNRycJrS61081p+aPSyzOquBi4cvNHe234mvd6nptrJsutQtYW/uyTKp/Imqtxr+nbMWU8d/M33YraRX/FiDhR7n8MniqNmtlC7W9qtvGy4LRxAAj6gVNNJHFGZJZFjRerMcAfjXjUOAMHCSdWrKSW+iV/zt956FTimu01Cml87/wCRFaRSCSS5uSrXM5zIy9FHZFz/AAgfmcnqTU9IpDKGUggjII70tfdUqcKUI06atFKyXZHzFSpKpNzm7thRRTZHSONpJHVEQEszHAAHUk1oQOopFIZQykEEZBHeo4rm2lupbaO4ieaDb50SuC0e4ZXcOozg4z1oAlooqnrWraXo9qLnVtSs7CEttEt1OsSk+mWIGaASb2LlFVtJ1HT9UslvNMvra9t3OFmtplkQ/RlJFS3E8MChp5o41JwC7BQT6c0Ds72JKKKKBBRUVrc21z5htriKbypDFJ5bhtjjqpx0I7ipaACiiigAooqGzurW7s47y1uYZ7eVN8c0ThkdfUMOCPegCaio7O4gu7WO6tZ454JkDxSxOGSRSMhlI4II7ipKACiiigAooooAKKKKACiiigAooooAKKKKACiiigAooooAKKKKACiiigAooooAKKKKACiiigAooooAKKKKACiiigAooooAKKKKACiiigAooooAKKKKACiiigAooooAKKKKACiiigAooooAKKKKACiiigAooooAKKKKACiiigAooooAKKKKACiiigAooooAKKKKACiiigAooooAKKKKACiiigAooooAKKKKACiiigAooooAKKKKACiiigArZ+D/APyHPEP/AF0t/wD0Waxq2fg//wAhzxD/ANdLf/0Wa5cZ/CPTyn/efkzu6+d/Gug+KtVuPip4CXwvq73/AMRNbigj1n7P/oEOjvZWtvJIZ84BjRLoCL75kYYGG3D6IoryT6cRFVECKMKowAOwpaKKACvK/wBonxX4rtLu08H+G9A8SJBq1uz6l4k0rTHuzp0JJUxwKuc3LYOC3yxjDnecIdb9pbx8fhr8JbrxTHNbRSpe2dsklzG0kcYmuY45JGVfmISNpHOOyGsvS/HHii8n8P3uqm30K38Y61HFoOmiyFxcrZR201zI93J5qrG0scJPyhvKyikOzEqAd54D0bSfD3gnSdC0HT20/TNOsYreztWUhoYlQBVYHncAOc85znmtavEfAvxyMXwvsta1jSNc8R382ky+JdRGj2kAGlaVNNNJavL5kkQP7hMKib5XETNtPU7XjD4++DtAvr5DpXiLUrLSU0+TU9S0+xWS3so70qLdm3OruT5iZSNHkwwO3HNAHqledftDeG/GHiXTdMh8PSaTPpdjO95q2lagsuNVMYDQQkx9U3gsyHhyqA/LuVoV+Nnh2PTdQe/0LX9P1Sw1mLRl0W6igF5dXMtulzGse2YxAGB/MJeRdiq2/Zg1lW3x0OseIvBtj4Y8Ea3qEPiO71GO+JktA1ilkzQzEH7Rsk2ztDlkZkKMdpZsLQB0H7Lmg+IfDXwH8O6V4rht4dZ+zG5vooN3yTTO00gbP8e+Rt2OM5xXoFeU2f7QXge4mu5FtdWXTYNGvtattUKQNBfWlnt86SNVlMqr8w2tLHGrg5UkEVc034yWV/faRYWngjxY2oa5BLe2djLDaQztZR+SDdlZLhcJmdAE/wBdw37vAzQB6VXm/wC1ho2qeIPgvdaTptnqF5FPqemtqcGmjddSWCXsD3QhX+JvJWT5eSRkAEnB9IooA83/AGebTxHD/wAJLd6i/iGPQbvU0bw9a+Irh5r6KBYI1kdzITIivMJCqOdygZwu7aPSKKKACvlj4qf8lI1z/r/l/wDQjX1PXyx8VP8AkpGuf9f8v/oRr5jij+BT9f0Ma2yOs+Ev/Iqt/wBfD/yWuW1Cx0XVvHkXiXw/pVtHbeHJ7i+1HWYYgJL+cROn2ZJOsijcS55UFVUcg7bvgvxHpOneHZNO1COZ/MkfcFQFSrADHX603w7N8OdBuluNH0H7HIqFAYoeinqMbsV7uVZtgKeAo051YppK+up8/UpVFVnJRephaHpdkLT4d6kIoH8SazeDV9Q1EKPOaI20kk+5+vlgyRxgZwAUHYU/V4tMi1DUviJ4U0m2s9P8N6TqEy38UIVtauXTJOeskSFSd7ZDMfl4GTs6bL8N9Ptru3svDqQx30DW9wq2w+eI5zH14Tk/KMD2p2h3Hw60dZl03Qfs63EBt5UEAKvEeqEFiMHA4ru/tjLv+f8AH7wcal78r/r+rFLQ/D2naR488EWumwRNqcdhdXmr3qqPOukaJULzP1bfNIrDPdDjpWnJZWHiz4vazZeIIIbyx8OWlqLSwuFDwmSYO7zsh4Y4CopI4w2OTTvDOr+BfDqyLoukNZ+cFEjRwDcwX7oJLZwMnA6DJxUXiK++HuvX8d7rGgreXEcfliSW2UsUznY3PzLnPynI5qv7Zy1L+NH7yHTrOV+V7Wv13v8A8Aoa7qt7pml+J08LX9noOkeDbf8AcQRWiSLdTtCLjaQ33Y/3kahUwSWODwBUXizxX4uNr4o1Kz1O20uDw3p1swtzaLM8180PmmEluinzIkwOckYI5zqXd78PbrWk1e40FZLyPZiU2y9U+4SM4JXjBIyMDGKztFj8DW+t3mtajYnUNSudSkvVuZLQAx8jy1xuOfLUKAT0OSMZqXnWX9K8fvKjSlu4P7vT/g/eXbzxdr3/AAk9/wCFIZIk1a41S0WxHlhvs9o8Eck7sP4gmycAn+JkHpWfea14l1PwTqOsXV9ZzWWr6o2k6Vpr2KOkkUl6LdZJS2d/ybzt+7t5Oa0dC1bw9Z+LtU8TXbz3WpagFgjlFoqfZ7VOUhX5iTySzNn5iRwAABdh1/wZFp1lYR6bIttp0iyWkQhG2F1ztYc9Rk0/7ay5714/eL2U42tT7dPv/r1MPVvFHiOVV1DStYtbC2m8SLoWm6b9jR/ORJ/JlkLH5gw2SuAOAqDIOc1Vsb/xBB4o1HxHY6jDHbax4zi0yO0+zhzcxRbbeUlzyoUQzMu3HIJJIOBHY23h9fHsfiO8e1It72W9iSz0fyJZJHVlBlkMzBsByTtVNzBWPSuqh1/wZDDaRR6ZIqWNy91bKIBiKV9+5xz94+ZJz/tGks6y9714/eVKlKKtGF/l+H5ajfhBFq1zqniLXb3XJ7y2u9YuYLeB4kCKsDCAMpAyOYnGBwcknk5rn/EV1Fc/EyebV7i8trOO/lspLi1MiyQRx2sEkcCvH88fmvNI5KkFhGi5IGK6PRfEPg7SJrqXTNOltWvpjNceXCB5jkkliN3cknjuSe9V9Y1TwLqt99tvtKme5KBGmVDG7qOisysCwGTwcjk1TznLeVL28fvIjTqqo5cjtYu/Dy3tk8Y69PpjzSWK29navJKzM0t1GJWkZy3LOEkgViecpg8qayNBs/D/AIiv/FfibxlbWN7DpupXFhEl/GskNhbQKAcK2QpY7nZupDL2Ara03xf4Y0+xjsrCzktbeEYjhht1REHsAcCsjUZvhvf602rXvh2Oe8kZWkke1U+Yy/dZ1zhiMDBIJGBR/bWW2X7+P3kqlV5m+V/qYHgXUfFEHhnRtEttT/sm1svDk2qXs09uJp4YXmb7KgD8AiNHB3Z4BGM4I0vDd34j8QeNvDd7f649l9i8LQ6lqNtFCnltLOygg56AiKT3XHHU1u3XiPwfcvfPcafLI2pWwtbwmEZmiAcBG56DzH/76NQXOr+BrjVI9Rl0l2uo7U2iS+SAwhII2cN0wzfTccdaSzjLlb9/H7y3Co237Pfy7nLfD3Wte0LTtD1W9vo3sfEEeqa3c2K2w3JAQ1wJN5+YvmWMY4XDAYyMnR0/XPiVdeF7vxC8TWkT6Fc3gjuIbfyoZ/LDwLBsdncDncZcA8YAzgb0fiLwdHJbummuDaWjWcH+jriOBtuYwM/dOxOP9kVW0LUfAWjQzQ6Zo728dxH5UiLFkFOfkALcLyeBxSWcZctPrEfvCUJu79nr6ebMKb4naxcatdf2dHC9vfaWItBTbk3d+JI4nbP9xZJwpHYROelWvEHibxWmg61rllrEMaaBfJptvaG0RjqlwpjR/MJ5XfI5VVTGMA85wNWx1XwHZvpj2uiCJtGjeLTitsv+iq4AcJzxkAZpn9ofD/8A4SI67/YY/tAyCUz/AGcZ8zG3fjON+ON2M470/wC2cv8A+giP3h7J30pP7in4i8Q+JGsfG2upqccOkaEZ7WwtI7dTJdTLbKDukPIAnbjHOQQeKxvEuo65pXw+1zTtI1iDTbLwlZ2+iW8P2ZZGv7preLgsTlR+9jVduDnJORxXXNr/AIMbTZtPbTZDa3Fw1zNEYRtklMnmFzzyS/NVNQu/h3fa0+r3mgLNeyPG7TvbAsWTGxuv3htAz1wMdOKHnOXP/l/H7whTmt6b+70/4P3mNrmreKdF0vWrfw9qNtb6d4TGn6XYwG1VzeXJSIeWzH7qHzol45yeCMHN6+8UeKtI1LW9Km1G11C787TLSxla0EcVvdXburgqDlo0XY4BO45xnmtZ9f8ABjRyRtpshWa8W+kBgHzTqyssh55YFFP/AAEVHqeseBtRt72C90lp01GVJroPAP3roFCMTuzlQi4I6YFH9s5d0xEfvD2c3vT/AA9P+D95iX3ijxXp58SWFrr1rqlxZX2m6Xps8tokY+1TyDzBJs4O1ZE6AYAIxkEnqPAOp6w3izxDo2rarFqUWmvbCK5FusOJZI2d4cLwdo8sjOTh+SetczrUHgO9t7Cwg00WumW+o/bryySyXbeOLdoV3fNwRlGzgklB9a1rPU/AVpY2tnb6L5cNnd/bIEFuPknwR5uc5L/MeTzRHOsvT/jx+8J0ZONlB3fl6f5fiEPiHWbq01vxadVW10fQ7q7iTTktUc3UdruWQs5+YMzRvt24AAGQ3NUo/E/iTRb/AEm81rVre9i1HR7vU76yitlRLBIolkDRuPmKgsEy5Oc5GOlW7e/+H0GsXOqRaEq3d5vM8n2ZTvLjDkgnGWHU4ye+aj024+HNhp95Y2mgCK3v4Ps9yggB82LBHlkls7ME/L0GTxT/ALay/wD5/wAfvF7GX/Pt/cv6+fUz9D1P4gz6no1hqPiSzgkv/D7ajqjLp6f6BtMQXy89Wbc4O7KjaSBxiu2+F+pajrHw60TVtW2/bL6winlKptDFlDA7e2QQcds1k3HiXwjPcz3EthK0tzai0lcwjLwgsdnXpl2/OrNp418O2trFbW8FxHDCgjjRYgAigYAAz0AFOOdZan/Hj95FSjVktKdvl/X9I6uiuY/4TzRP7t1/36H+NH/CeaJ/duv+/Q/xrT+3Ms/5/wAfvMfqtf8AlZ09Fcx/wnmif3br/v0P8aP+E80T+7df9+h/jR/bmWf8/wCP3h9Vr/ys6eiuY/4TzRP7t1/36H+NH/CeaJ/duv8Av0P8aP7cyz/n/H7w+q1/5WdPRXMf8J5on926/wC/Q/xo/wCE80T+7df9+h/jR/bmWf8AP+P3h9Vr/wArOnormP8AhPNE/u3X/fof40f8J5on926/79D/ABo/tzLP+f8AH7w+q1/5WdPRXMf8J5on926/79D/ABo/4TzRP7t1/wB+h/jR/bmWf8/4/eH1Wv8Ays6eiuY/4TzRP7t1/wB+h/jR/wAJ5on926/79D/Gj+3Ms/5/x+8Pqtf+VnT0VzH/AAnmif3br/v0P8aP+E80T+7df9+h/jR/bmWf8/4/eH1Wv/Kzp6K5j/hPNE/u3X/fof40f8J5on926/79D/Gj+3Ms/wCf8fvD6rX/AJWdPRXMf8J5on926/79D/Gj/hPNE/u3X/fof40f25ln/P8Aj94fVa/8rOnormP+E80T+7df9+h/jR/wnmif3br/AL9D/Gj+3Ms/5/x+8Pqtf+VnT0VzH/CeaJ/duv8Av0P8aP8AhPNE/u3X/fof40f25ln/AD/j94fVa/8AKzp6K5j/AITzRP7t1/36H+NH/CeaJ/duv+/Q/wAaP7cyz/n/AB+8Pqtf+VnT0VzH/CeaJ/duv+/Q/wAaP+E80T+7df8Afof40f25ln/P+P3h9Vr/AMrOnormP+E80T+7df8Afof40f8ACeaJ/duv+/Q/xo/tzLP+f8fvD6rX/lZ09Fcx/wAJ5on926/79D/Gj/hPNE/u3X/fof40f25ln/P+P3h9Vr/ys6eiuY/4TzRP7t1/36H+NH/CeaJ/duv+/Q/xo/tzLP8An/H7w+q1/wCVnT0VzH/CeaJ/duv+/Q/xo/4TzRP7t1/36H+NH9uZZ/z/AI/eH1Wv/Kzp6K5j/hPNE/u3X/fof40f8J5on926/wC/Q/xo/tzLP+f8fvD6rX/lZ09Fcx/wnmif3br/AL9D/Gj/AITzRP7t1/36H+NH9uZZ/wA/4/eH1Wv/ACs6eiuY/wCE80T+7df9+h/jR/wnmif3br/v0P8AGj+3Ms/5/wAfvD6rX/lZ09Fcx/wnmif3br/v0P8AGj/hPNE/u3X/AH6H+NH9uZZ/z/j94fVa/wDKzp6K5j/hPNE/u3X/AH6H+NH/AAnmif3br/v0P8aP7cyz/n/H7w+q1/5WdPRXMf8ACeaJ/duv+/Q/xo/4TzRP7t1/36H+NH9uZZ/z/j94fVa/8rOnormP+E80T+7df9+h/jR/wnmif3br/v0P8aP7cyz/AJ/x+8Pqtf8AlZ09Fcx/wnmif3br/v0P8aP+E80T+7df9+h/jR/bmWf8/wCP3h9Vr/ys6eiuY/4TzRP7t1/36H+NH/CeaJ/duv8Av0P8aP7cyz/n/H7w+q1/5WdPRXMf8J5on926/wC/Q/xo/wCE80T+7df9+h/jR/bmWf8AP+P3h9Vr/wArOnormP8AhPNE/u3X/fof40f8J5on926/79D/ABo/tzLP+f8AH7w+q1/5WdPRXMf8J5on926/79D/ABo/4TzRP7t1/wB+h/jR/bmWf8/4/eH1Wv8Ays6eiuY/4TzRP7t1/wB+h/jR/wAJ5on926/79D/Gj+3Ms/5/x+8Pqtf+VnT0VzH/AAnmif3br/v0P8aP+E80T+7df9+h/jR/bmWf8/4/eH1Wv/Kzp6K5j/hPNE/u3X/fof40f8J5on926/79D/Gj+3Ms/wCf8fvD6rX/AJWdPRXMf8J5on926/79D/Gj/hPNE/u3X/fof40f25ln/P8Aj94fVa/8rOnormP+E80T+7df9+h/jR/wnmif3br/AL9D/Gj+3Ms/5/x+8Pqtf+VnT0VzH/CeaJ/duv8Av0P8aP8AhPNE/u3X/fof40f25ln/AD/j94fVa/8AKzp6K5j/AITzRP7t1/36H+NH/CeaJ/duv+/Q/wAaP7cyz/n/AB+8Pqtf+VnT0VzH/CeaJ/duv+/Q/wAaP+E80T+7df8Afof40f25ln/P+P3h9Vr/AMrOnormP+E80T+7df8Afof40f8ACeaJ/duv+/Q/xo/tzLP+f8fvD6rX/lZ09Fcx/wAJ5on926/79D/Gj/hPNE/u3X/fof40f25ln/P+P3h9Vr/ys6eiuY/4TzRP7t1/36H+NH/CeaJ/duv+/Q/xo/tzLP8An/H7w+q1/wCVnT0VzH/CeaJ/duv+/Q/xo/4TzRP7t1/36H+NH9uZZ/z/AI/eH1Wv/Kzp6K5j/hPNE/u3X/fof40f8J5on926/wC/Q/xo/tzLP+f8fvD6rX/lZ09bPwf/AOQ54h/66W//AKLNef8A/CeaJ/duv+/Q/wAa0fAHxJ8PaNqWrT3iXpW9eExeXCCflQg5+bjmubFZ1l0qdlWj9535bRqU6/NNWVj2qivO/wDhdHg//nlqX/gOv/xVH/C6PB//ADy1L/wHX/4qvN/tXA/8/V959Dzx7nolFed/8Lo8H/8APLUv/Adf/iqP+F0eD/8AnlqX/gOv/wAVR/auB/5+r7w549zf+Ifg608X3nh5tQuCLXQtXGpyWpiDpelbeaJY3z0UNMH6HJjA71yFj8F0s9C0nSIPFd79m8O6Zq2naJvgDPZx3gRIctu+f7NErRJ03KwycjnQ/wCF0eD/APnlqX/gOv8A8VR/wujwf/zy1L/wHX/4qj+1cD/z9X3hzx7mNqHwMXy7/StI8XXWmeH9c0Wy0bWtPjs0aae3tomhCwzkgwb4mKN8rHHKlDzWxN8JNNkiv4f7SkWHUvFtj4iuI1gUKRZrbLBagZ4RfscHPseOaX/hdHg//nlqX/gOv/xVH/C6PB//ADy1L/wHX/4qj+1cD/z9X3hzx7mV4u+B9prF/Jq0es27am3iefXw2paSl7au0totp5MkDMu4LDHGFYMpBQHpkVt3Xw4uZ/GHh/Xm8Qqh0nQbrRLy3j09EjuoZ2hd2i2sPs53W8fTcNox15qH/hdHg/8A55al/wCA6/8AxVH/AAujwf8A88tS/wDAdf8A4qj+1cD/AM/V94c8e5h+GfgWumfB/UPhxLr9g2l3mnwaaJrLQIrS4kt4yA32h1Y+dI8YKFsKPmJ25NdH8TPhzN418WaLfahrcEWmaJqFtqNvbJpiG8ingkEn7m73bokk2qsgCksm5dwDGoP+F0eD/wDnlqX/AIDr/wDFUf8AC6PB/wDzy1L/AMB1/wDiqP7VwP8Az9X3hzx7nolFed/8Lo8H/wDPLUv/AAHX/wCKo/4XR4P/AOeWpf8AgOv/AMVR/auB/wCfq+8OePc9Eorzv/hdHg//AJ5al/4Dr/8AFUf8Lo8H/wDPLUv/AAHX/wCKo/tXA/8AP1feHPHueiV8sfFT/kpGuf8AX/L/AOhGvY/+F0eD/wDnlqX/AIDr/wDFV4j421CDVvF+panahxDd3Tyx7xhsE5GRXz/EOMw9ejBUpptPp6GNWSaVj//Z)"
      ],
      "metadata": {
        "id": "3NpDXaX4wKhN"
      }
    },
    {
      "cell_type": "markdown",
      "source": [
        "* I have attached a photo of this map because of some valuable insight. The neighborhoods near the airport in Queens would have a higher average number of reviews, as they are likely to attract a lot of tourists or visitors who are passing through the area. The proximity to the airport could make these neighborhoods a convenient and appealing place to stay for travelers.\n",
        "\n",
        "*   There could also be other factors contributing to the high average number of reviews in these neighborhoods. For example, they may have a higher concentration of high-quality listings or attractions that attract more visitors and result in more reviews and Airport is key factor i think this is make sense.\n"
      ],
      "metadata": {
        "id": "-eoeid4RwX29"
      }
    },
    {
      "cell_type": "markdown",
      "source": [
        "#### Chart - 18 - Correlation Heatmap"
      ],
      "metadata": {
        "id": "NC_X3p0fY2L0"
      }
    },
    {
      "cell_type": "code",
      "source": [
        "# Calculate pairwise correlations between columns\n",
        "corr = Airbnb_df.corr()\n",
        "\n",
        "# Display the correlation between columns\n",
        "corr\n"
      ],
      "metadata": {
        "id": "xyC9zolEZNRQ"
      },
      "execution_count": null,
      "outputs": []
    },
    {
      "cell_type": "code",
      "source": [
        "# Set the figure size\n",
        "plt.figure(figsize=(12,6))\n",
        "\n",
        "# Visualize correlations as a heatmap\n",
        "sns.heatmap(corr, cmap='Spectral',annot=True)\n",
        "\n",
        "# Display heatmap\n",
        "plt.show()"
      ],
      "metadata": {
        "id": "qBIfMjN1wwZ2"
      },
      "execution_count": null,
      "outputs": []
    },
    {
      "cell_type": "markdown",
      "source": [
        "##### 1. Why did you pick the specific chart?"
      ],
      "metadata": {
        "id": "UV0SzAkaZNRQ"
      }
    },
    {
      "cell_type": "markdown",
      "source": [
        "The heatmap style correlation matrix is a very effective tool when used properly. The user will be able to identify highly correlated variables and this will allow them to streamline the feature selection process. Understanding a dataset is very important when creating a model, and heatmaps are one of the many tools in a data scientists arsenal.\n",
        "\n",
        "One of the fastest ways to strengthen a model is to identify and reduce the features in the dataset that are highly correlated. Correlated features will add noise and inaccuracy to a model, which in turn will make it harder to achieve the desired outcome."
      ],
      "metadata": {
        "id": "DVPuT8LYZNRQ"
      }
    },
    {
      "cell_type": "markdown",
      "source": [
        "##### 2. What is/are the insight(s) found from the chart?"
      ],
      "metadata": {
        "id": "YPEH6qLeZNRQ"
      }
    },
    {
      "cell_type": "markdown",
      "source": [
        "\n",
        "*   There is a moderate positive correlation (0.58) between the host_id and id columns, which suggests that hosts with more listings are more likely to have unique host IDs.\n",
        "\n",
        "*   There is a weak positive correlation (0.17) between the price column and the calculated_host_listings_count column, which suggests that hosts with more listings tend to charge higher prices for their listings.\n",
        "\n",
        "*   There is a moderate positive correlation (0.23) between the calculated_host_listings_count column and the availability_365 column, which suggests that hosts with more listings tend to have more days of availability in the next 365 days.\n",
        "\n",
        "*   There is a strong positive correlation (0.58) between the number_of_reviews column and the reviews_per_month column, which suggests that listings with more total reviews tend to have more reviews per month."
      ],
      "metadata": {
        "id": "bfSqtnDqZNRR"
      }
    },
    {
      "cell_type": "markdown",
      "source": [
        "#### Chart - 19 - Pair Plot"
      ],
      "metadata": {
        "id": "q29F0dvdveiT"
      }
    },
    {
      "cell_type": "code",
      "source": [
        "# create a pairplot using the seaborn library to visualize the relationships between different variables in the Airbnb NYC dataset\n",
        "sns.pairplot(Airbnb_df)\n",
        "\n",
        "# show the plot\n",
        "plt.show()\n"
      ],
      "metadata": {
        "id": "o58-TEIhveiU"
      },
      "execution_count": null,
      "outputs": []
    },
    {
      "cell_type": "markdown",
      "source": [
        "##### 1. Why did you pick the specific chart?"
      ],
      "metadata": {
        "id": "EXh0U9oCveiU"
      }
    },
    {
      "cell_type": "markdown",
      "source": [
        "*   A pair plot consists of multiple scatterplots arranged in a grid, with each\n",
        "scatterplot showing the relationship between two variables.\n",
        "\n",
        "*   These visualizations plot pairwise relationships in a dataset so that each variable in a dataset will be plotted against each other variable in the dataset.\n",
        "\n",
        "*   It can be used to visualize relationships between multiple variables and to identify patterns in the data and also allows you to easily visualize the relationships between pairs of variables."
      ],
      "metadata": {
        "id": "eMmPjTByveiU"
      }
    },
    {
      "cell_type": "markdown",
      "source": [
        "##### 2. What is/are the insight(s) found from the chart?"
      ],
      "metadata": {
        "id": "22aHeOlLveiV"
      }
    },
    {
      "cell_type": "markdown",
      "source": [
        "\n"
      ],
      "metadata": {
        "id": "heVQuy000LFy"
      }
    },
    {
      "cell_type": "markdown",
      "source": [
        "Answer Here"
      ],
      "metadata": {
        "id": "uPQ8RGwHveiV"
      }
    },
    {
      "cell_type": "markdown",
      "source": [
        "## **5. Solution to Business Objective**"
      ],
      "metadata": {
        "id": "JcMwzZxoAimU"
      }
    },
    {
      "cell_type": "markdown",
      "source": [
        "#### What do you suggest the client to achieve Business Objective ?\n",
        "Explain Briefly."
      ],
      "metadata": {
        "id": "8G2x9gOozGDZ"
      }
    },
    {
      "cell_type": "markdown",
      "source": [
        "Answer Here."
      ],
      "metadata": {
        "id": "pASKb0qOza21"
      }
    },
    {
      "cell_type": "markdown",
      "source": [
        "# **Conclusion**"
      ],
      "metadata": {
        "id": "gCX9965dhzqZ"
      }
    },
    {
      "cell_type": "markdown",
      "source": [
        "*   Manhattan and Brooklyn have the highest demand for Airbnb rentals, as evidenced by the large number of listings in these neighborhoods. This could make them attractive areas for hosts to invest in property.\n",
        "\n",
        "*   Manhattan is world-famous for its parks, museums, buildings, town, liberty, gardens, markets, island and also its substantial number of tourists throughout the year ,it makes sense that demand and price both high.\n",
        "\n",
        "*   Brooklyn comes in second with significant number of listings and cheaper prices as compared to the Manhattan: With most listings located in Williamsburg and Bedford Stuyvesant two neighborhoods strategically close to Manhattan tourists get the chance to enjoy both boroughs equally while spending less.\n",
        "\n",
        "*   Williamsburg, Bedford-Stuyvesant, Harlem, Bushwick, and the Upper West Side are the top neighborhoods in terms of listing counts, indicating strong demand for Airbnb rentals in these areas.\n",
        "\n",
        "*   The average price of a listing in New York City is higher in the center of the city (Manhattan) compared to the outer boroughs. This could indicate that investing in property in Manhattan may be more lucrative for Airbnb rentals.\n",
        "But Manhattan and Brooklyn have the largest number of hosts, indicating a high level of competition in these boroughs.\n",
        "\n",
        "*   The data suggests that Airbnb rentals are primarily used for short-term stays, with relatively few listings requiring a minimum stay of 30 nights or more. Hosts may want to consider investing in property that can accommodate shorter stays in order to maximize their occupancy rate.\n",
        "\n",
        "*   The majority of listings on Airbnb are for entire homes or apartments and also Private Rooms with relatively fewer listings for shared rooms. This suggests that travelers using Airbnb have a wide range of accommodation options to choose from, and hosts may want to consider investing in property that can accommodate multiple guests.\n",
        "\n",
        "*   The data indicates that the availability of Airbnb rentals varies significantly across neighborhoods, with some neighborhoods having a high concentration of listings and others having relatively few.\n",
        "\n",
        "*   The data indicates that there is a high level of competition among Airbnb hosts, with a small number of hosts dominating a large portion of the market. Hosts may want to consider investing in property in areas with relatively fewer listings in order to differentiate themselves from the competition.\n",
        "\n",
        "*   The neighborhoods near the airport in Queens would have a higher average number of reviews, as they are likely to attract a lot of tourists or visitors who are passing through the area. The proximity to the airport could make these neighborhoods a convenient and appealing place to stay for travelers for short-term stay with spending less money because The price distribution is high in Manhattan and Brooklyn."
      ],
      "metadata": {
        "id": "Fjb1IsQkh3yE"
      }
    },
    {
      "cell_type": "markdown",
      "source": [
        "### ***Hurrah! You have successfully completed your EDA Capstone Project !!!***"
      ],
      "metadata": {
        "id": "gIfDvo9L0UH2"
      }
    },
    {
      "cell_type": "markdown",
      "source": [
        "## **Thank you**"
      ],
      "metadata": {
        "id": "CEkKVO9z1Zc7"
      }
    }
  ]
}